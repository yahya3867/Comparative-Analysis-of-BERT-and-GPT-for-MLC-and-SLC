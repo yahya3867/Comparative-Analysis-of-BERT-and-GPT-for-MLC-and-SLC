{
 "cells": [
  {
   "cell_type": "code",
   "execution_count": null,
   "metadata": {
    "vscode": {
     "languageId": "plaintext"
    }
   },
   "outputs": [],
   "source": [
    "import faiss\n",
    "d = 768 # dimensions of nomic embedding, the embedding model that we're going to use\n",
    "faiss_index = faiss.IndexFlatL2(d)"
   ]
  },
  {
   "cell_type": "code",
   "execution_count": null,
   "metadata": {
    "vscode": {
     "languageId": "plaintext"
    }
   },
   "outputs": [],
   "source": [
    "import os\n",
    "import openai\n",
    "os.environ['OPENAI_API_KEY'] = 'lm-studio'\n",
    "os.environ['OPENAI_API_BASE'] = 'http://localhost:1234/v1'\n",
    "\n",
    "openai.api_key = os.getenv('OPENAI_API_KEY')\n",
    "openai.api_base = os.getenv('OPENAI_API_BASE')"
   ]
  },
  {
   "cell_type": "code",
   "execution_count": null,
   "metadata": {
    "vscode": {
     "languageId": "plaintext"
    }
   },
   "outputs": [],
   "source": [
    "from llama_index import Document\n",
    "import pandas as pd\n",
    "from llama_index import VectorStoreIndex, StorageContext\n",
    "from llama_index.vector_stores.faiss import FaissVectorStore\n",
    "\n",
    "# Load CSV data\n",
    "with open(r'GPT\\data\\gpt_data.csv', 'r', encoding='utf-8', errors='replace') as file:\n",
    "    df = pd.read_csv(file)\n",
    "\n",
    "df['LLM Output']=None\n",
    "for i, row in df.iterrows(): \n",
    "    faiss_index = faiss.IndexFlatL2(d)\n",
    "    text = str(row['Incident Narrative'])\n",
    "    text_list=[text]\n",
    "    print(text_list)\n",
    "    documents = [Document(text=t) for t in text_list]\n",
    "    \n",
    "    vector_store = FaissVectorStore(faiss_index=faiss_index)\n",
    "    storage_context = StorageContext.from_defaults(vector_store=vector_store)\n",
    "    index = VectorStoreIndex.from_documents(documents, storage_context=storage_context, show_progress=True)\n",
    "    query = \"\"\"Your task is to classify each news article into one of the following categories. The output should only contain the category name, with no explanation and other output: \n",
    "    \n",
    "    Unlawful detention\n",
    "    Human trafficking\n",
    "    Enslavement\n",
    "    Willful killing of civilians\n",
    "    Mass execution\n",
    "    Kidnapping\n",
    "    Extrajudicial killing\n",
    "    Forced disappearance\n",
    "    Damage or destruction of civilian critical infrastructure\n",
    "    Damage or destruction, looting, or theft of cultural heritage\n",
    "    Military operations (battle, shelling)\n",
    "    Gender-based or other conflict-related sexual violence\n",
    "    Violent crackdowns on protesters/opponents/civil rights abuse\n",
    "    Indiscriminate use of weapons\n",
    "    Torture or indications of torture\n",
    "    Persecution based on political, racial, ethnic, gender, or sexual orientation\n",
    "    Movement of military, paramilitary, or other troops and equipment\n",
    "    \n",
    "    Classify each news article into one of the above categories. Note that a single article can be classified into only one category based on the most prominent theme. If an article fits into multiple categories, select the one that best describes the primary issue.\"\"\"\n",
    "    response = index.as_query_engine(similarity_top_k=1).query(query)\n",
    "\n",
    "    article_metadata_detected_str = response.response\n",
    "\n",
    "    print(str(i) + \" \"+ article_metadata_detected_str)\n",
    "    df.at[i,'LLM Output'] = article_metadata_detected_str\n",
    "    #if i%100==0 and i!=0:\n",
    "        #index=i/100\n",
    "df.to_csv('Sudan_Conflict_SLC_noDef.csv', index=False, encoding='utf-8')"
   ]
  }
 ],
 "metadata": {
  "language_info": {
   "name": "python"
  }
 },
 "nbformat": 4,
 "nbformat_minor": 2
}
