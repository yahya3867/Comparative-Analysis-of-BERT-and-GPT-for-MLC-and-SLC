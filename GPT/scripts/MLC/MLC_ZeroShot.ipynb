{
 "cells": [
  {
   "cell_type": "code",
   "execution_count": null,
   "metadata": {
    "vscode": {
     "languageId": "plaintext"
    }
   },
   "outputs": [],
   "source": [
    "from openai import OpenAI\n",
    "import pandas as pd\n",
    "\n",
    "# Point to the LM Studio local server\n",
    "client = OpenAI(base_url=\"http://localhost:1234/v1\", api_key=\"lm-studio\")\n",
    " \n",
    "\n",
    "with open(r'GPT\\data\\gpt_data.csv', 'r', encoding='utf-8', errors='replace') as file:\n",
    "    df = pd.read_csv(file)\n",
    "\n",
    "\n",
    "def clean_output(output):\n",
    "    \"\"\"Remove 'None' from the output string.\"\"\"\n",
    "    if isinstance(output, str):\n",
    "        return output.replace(\"None\", \"\").strip()  # Remove 'None' and trim whitespace\n",
    "    return output\n",
    "\n",
    "df['LLM Output']=None\n",
    "\n",
    "for i, row in df.iterrows(): \n",
    "    text = str(row['Incident Narrative'])\n",
    "    message = [\n",
    "        {\"role\": \"system\", \"content\": \"\"\"Your task is to classify each news article into one or more of the following categories listed below. The output must be a comma-separated list of category names, with no explanations or additional output. The categories are:\n",
    "    Unlawful detention\n",
    "    Human trafficking\n",
    "    Enslavement\n",
    "    Willful killing of civilians\n",
    "    Mass execution\n",
    "    Kidnapping\n",
    "    Extrajudicial killing\n",
    "    Forced disappearance\n",
    "    Damage or destruction of civilian critical infrastructure\n",
    "    Damage or destruction, looting, or theft of cultural heritage\n",
    "    Military operations (battle, shelling)\n",
    "    Gender-based or other conflict-related sexual violence\n",
    "    Violent crackdowns on protesters/opponents/civil rights abuse\n",
    "    Indiscriminate use of weapons\n",
    "    Torture or indications of torture\n",
    "    Persecution based on political, racial, ethnic, gender, or sexual orientation\n",
    "    Movement of military, paramilitary, or other troops and equipment\n",
    "\n",
    "    Ensure the output is strictly formatted as a comma-separated list of applicable categories.\n",
    "    \n",
    "    \"\"\"},\n",
    "        {\"role\": \"user\", \"content\": text},\n",
    "    ]\n",
    "    # Call API to generate responses\n",
    "    completion = client.chat.completions.create(\n",
    "        model=\"model-identifier\",\n",
    "        messages=message,\n",
    "        temperature=0,\n",
    "        stream=True,\n",
    "    )\n",
    "    output =''\n",
    "    for chunk in completion:\n",
    "        output += str(chunk.choices[0].delta.content)\n",
    "    df.at[i,'LLM Output'] = output\n",
    "    \n",
    "df['LLM Output'] = df['LLM Output'].apply(clean_output)\n",
    "\n",
    "df.to_csv('Sudan_Conflict_MLC_Zeroshot.csv', index=False, encoding='utf-8')\n"
   ]
  }
 ],
 "metadata": {
  "language_info": {
   "name": "python"
  }
 },
 "nbformat": 4,
 "nbformat_minor": 2
}
