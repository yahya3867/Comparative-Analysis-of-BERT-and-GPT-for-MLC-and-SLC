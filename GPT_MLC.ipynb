{
 "cells": [
  {
   "cell_type": "code",
   "execution_count": 5,
   "metadata": {},
   "outputs": [],
   "source": [
    "import faiss\n",
    "d = 768\n",
    "faiss_index = faiss.IndexFlatL2(d)"
   ]
  },
  {
   "cell_type": "code",
   "execution_count": 6,
   "metadata": {},
   "outputs": [],
   "source": [
    "import os\n",
    "import openai\n",
    "os.environ['OPENAI_API_KEY'] = 'lm-studio'\n",
    "os.environ['OPENAI_API_BASE'] = 'http://localhost:1234/v1'\n",
    "\n",
    "openai.api_key = os.getenv('OPENAI_API_KEY')\n",
    "openai.api_base = os.getenv('OPENAI_API_BASE')"
   ]
  },
  {
   "cell_type": "code",
   "execution_count": 7,
   "metadata": {},
   "outputs": [
    {
     "name": "stdout",
     "output_type": "stream",
     "text": [
      "['Today, the Rapid Support militia committed a new crime in the village of (Kafi) and the city of (Tabit), where they killed the citizen Hamad Nour Al-Daim in the village of Kafi, and also killed the citizen Ramadan Issa in Tabit, and there were two injuries to two citizens.']\n"
     ]
    },
    {
     "data": {
      "application/vnd.jupyter.widget-view+json": {
       "model_id": "f50ed66f316345d78980c6e3c4dc9fa0",
       "version_major": 2,
       "version_minor": 0
      },
      "text/plain": [
       "Parsing nodes:   0%|          | 0/1 [00:00<?, ?it/s]"
      ]
     },
     "metadata": {},
     "output_type": "display_data"
    },
    {
     "data": {
      "application/vnd.jupyter.widget-view+json": {
       "model_id": "20d48050113b4fa0b00d2d24bd37d864",
       "version_major": 2,
       "version_minor": 0
      },
      "text/plain": [
       "Generating embeddings:   0%|          | 0/1 [00:00<?, ?it/s]"
      ]
     },
     "metadata": {},
     "output_type": "display_data"
    },
    {
     "name": "stdout",
     "output_type": "stream",
     "text": [
      "0 Willful killing of civilians\n",
      "['On 21 January 2024, a pro-SAF journalist  posted a video to X showing large fuel tanks on fire at the Khartoum Oil Refinery (aka Al Jili Oil Refinery). Both pro-RSF and pro-SAF individuals have said that the fires are a result of attacks on the refinery and they accused each other of targeting the facility. However, none of the two warring parties have responded officially to the allegations.  The same refinery had  already been targeted several times in the past, including in December 2023.']\n"
     ]
    },
    {
     "data": {
      "application/vnd.jupyter.widget-view+json": {
       "model_id": "c4f3573fb84243e9a9c9a5238ac514b8",
       "version_major": 2,
       "version_minor": 0
      },
      "text/plain": [
       "Parsing nodes:   0%|          | 0/1 [00:00<?, ?it/s]"
      ]
     },
     "metadata": {},
     "output_type": "display_data"
    },
    {
     "data": {
      "application/vnd.jupyter.widget-view+json": {
       "model_id": "acf0d7da06654af7830888b64c044482",
       "version_major": 2,
       "version_minor": 0
      },
      "text/plain": [
       "Generating embeddings:   0%|          | 0/1 [00:00<?, ?it/s]"
      ]
     },
     "metadata": {},
     "output_type": "display_data"
    },
    {
     "name": "stdout",
     "output_type": "stream",
     "text": [
      "1 Damage or destruction of civilian critical infrastructure\n",
      "['Since January 22, dozens of civilians have been trapped in Babanusa (West Kordofan) because of fighting between the Army and RSF that resulted in heavy casualties and widespread destruction in the town, closure of hospitals and markets, disruption of water supplies and communication lines.']\n"
     ]
    },
    {
     "data": {
      "application/vnd.jupyter.widget-view+json": {
       "model_id": "a3328996e3e14dc89b830062a5d7b931",
       "version_major": 2,
       "version_minor": 0
      },
      "text/plain": [
       "Parsing nodes:   0%|          | 0/1 [00:00<?, ?it/s]"
      ]
     },
     "metadata": {},
     "output_type": "display_data"
    },
    {
     "data": {
      "application/vnd.jupyter.widget-view+json": {
       "model_id": "5e03eaae669f4eebb842275d913d6f72",
       "version_major": 2,
       "version_minor": 0
      },
      "text/plain": [
       "Generating embeddings:   0%|          | 0/1 [00:00<?, ?it/s]"
      ]
     },
     "metadata": {},
     "output_type": "display_data"
    },
    {
     "name": "stdout",
     "output_type": "stream",
     "text": [
      "2 Military operations (battle, shelling)\n",
      "['On Thursday, February 1st, in the capital of North Darfur, El Fasher, violent artillery clashes opposed the Sudanese army and the Rapid Support Forces (RSF)  leaving at least 3 dead and 8 injured. El Fasher hosts many displaced civilians who fled the Darfur conflicts. The medical director of El Fasher Hospital, South Abdo Musa, confirmed to Sudan Tribune that the hospital received 5 fatalities and 21 wounded from the clashes. Beyond human casualties, the clashes resulted in significant damage to civilian infrastructure.']\n"
     ]
    },
    {
     "data": {
      "application/vnd.jupyter.widget-view+json": {
       "model_id": "5128ab4019134824be9adaaa991b38e1",
       "version_major": 2,
       "version_minor": 0
      },
      "text/plain": [
       "Parsing nodes:   0%|          | 0/1 [00:00<?, ?it/s]"
      ]
     },
     "metadata": {},
     "output_type": "display_data"
    },
    {
     "data": {
      "application/vnd.jupyter.widget-view+json": {
       "model_id": "42675e067f1849f5b037361b02988935",
       "version_major": 2,
       "version_minor": 0
      },
      "text/plain": [
       "Generating embeddings:   0%|          | 0/1 [00:00<?, ?it/s]"
      ]
     },
     "metadata": {},
     "output_type": "display_data"
    },
    {
     "name": "stdout",
     "output_type": "stream",
     "text": [
      "3 Military operations (battle, shelling)\n",
      "['Gender-based violence incidents perpetrated in January 2024 by RSF militants and volunteers of the army reported by the Women‚Äôs Network of the Horn of Africa (SIHA), especially in in Al-Mafaza, a rural area in Gedaref State. About 180 cases of sexual violence were reported by SIHA whose Regional Director Hala Al-Karib declared:  ‚ÄúThe documented patterns indicate sexual violence is being used as a weapon of war against civilians, particularly women and girls.‚Äù ']\n"
     ]
    },
    {
     "data": {
      "application/vnd.jupyter.widget-view+json": {
       "model_id": "a8534239308b490c8e59d7dad524e8f1",
       "version_major": 2,
       "version_minor": 0
      },
      "text/plain": [
       "Parsing nodes:   0%|          | 0/1 [00:00<?, ?it/s]"
      ]
     },
     "metadata": {},
     "output_type": "display_data"
    },
    {
     "data": {
      "application/vnd.jupyter.widget-view+json": {
       "model_id": "012e923008c6487fb4d6c3eaf6cee311",
       "version_major": 2,
       "version_minor": 0
      },
      "text/plain": [
       "Generating embeddings:   0%|          | 0/1 [00:00<?, ?it/s]"
      ]
     },
     "metadata": {},
     "output_type": "display_data"
    },
    {
     "name": "stdout",
     "output_type": "stream",
     "text": [
      "4 Gender-based or other conflict-related sexual violence\n",
      "['On February 3rd, Boston-based Sudanese writer Mohamed Suliman reported mass-atrocities committed by militants of the RSF, including looting of homes, markets, and WFP warehouses, killings, kidnappings, targeted assassinations in Wad Madani, most of which were based on ethnicity.These massive attacks forced tens of thousands to flee the city.']\n"
     ]
    },
    {
     "data": {
      "application/vnd.jupyter.widget-view+json": {
       "model_id": "7f04efd98a7348de91c02aba717315ce",
       "version_major": 2,
       "version_minor": 0
      },
      "text/plain": [
       "Parsing nodes:   0%|          | 0/1 [00:00<?, ?it/s]"
      ]
     },
     "metadata": {},
     "output_type": "display_data"
    },
    {
     "data": {
      "application/vnd.jupyter.widget-view+json": {
       "model_id": "b781f894db084e6e9f9fc74d6e293c83",
       "version_major": 2,
       "version_minor": 0
      },
      "text/plain": [
       "Generating embeddings:   0%|          | 0/1 [00:00<?, ?it/s]"
      ]
     },
     "metadata": {},
     "output_type": "display_data"
    },
    {
     "name": "stdout",
     "output_type": "stream",
     "text": [
      "5 Persecution based on political, racial, ethnic, gender, or sexual orientation\n",
      "['Mohamed Suliman, a Boston-based Sudanese writer, reported on February 3rd the following: \"In Darfur, the Rapid Support Forces and the Arab militias they support launched an attack against the African tribes, specifically the Masalit; innocent civilians were raped and buried in mass graves in Ardamata and El Geneina. Reports have documented that the victims were labeled ‚Äúslaves‚Äù by the militia fighters.The excessive use of force was deliberate, forcing the tribes to leave their territories, and amounted to ethnic cleansing. The militias‚Äô campaign against the Masalit was led by six key commanders of the Arab-backed militias, who gave orders to carry out the attacks without mercy.\" The governor of West Darfur, a member of the Massalit tribe, was kidnapped and executed. ']\n"
     ]
    },
    {
     "data": {
      "application/vnd.jupyter.widget-view+json": {
       "model_id": "f3a8ecf84202440f9b0d3398079da4a7",
       "version_major": 2,
       "version_minor": 0
      },
      "text/plain": [
       "Parsing nodes:   0%|          | 0/1 [00:00<?, ?it/s]"
      ]
     },
     "metadata": {},
     "output_type": "display_data"
    },
    {
     "data": {
      "application/vnd.jupyter.widget-view+json": {
       "model_id": "ae354e10edde4e09ac1d988db4dcdad6",
       "version_major": 2,
       "version_minor": 0
      },
      "text/plain": [
       "Generating embeddings:   0%|          | 0/1 [00:00<?, ?it/s]"
      ]
     },
     "metadata": {},
     "output_type": "display_data"
    },
    {
     "name": "stdout",
     "output_type": "stream",
     "text": [
      "6 Gender-based or other conflict-related sexual violence\n",
      "['In downtown Omdurman, a clash on February 4 occurred where SAF caused extensive damage to RSF military equipment and caused at least ten fatalities to RSF militants']\n"
     ]
    },
    {
     "data": {
      "application/vnd.jupyter.widget-view+json": {
       "model_id": "bf83032f298c47c59cff4c8a8ad6ffd1",
       "version_major": 2,
       "version_minor": 0
      },
      "text/plain": [
       "Parsing nodes:   0%|          | 0/1 [00:00<?, ?it/s]"
      ]
     },
     "metadata": {},
     "output_type": "display_data"
    },
    {
     "data": {
      "application/vnd.jupyter.widget-view+json": {
       "model_id": "78dd6e0c933d45b19db02fbaaa620135",
       "version_major": 2,
       "version_minor": 0
      },
      "text/plain": [
       "Generating embeddings:   0%|          | 0/1 [00:00<?, ?it/s]"
      ]
     },
     "metadata": {},
     "output_type": "display_data"
    },
    {
     "name": "stdout",
     "output_type": "stream",
     "text": [
      "7 Military operations (battle, shelling)\n",
      "['On Feb. 4th, the Sudanese Air Force intensified raids, on Sunday, on the positions of the Rapid Support Forces in Al-Jazirah State, while the two warring parties continued to exchange artillery shelling in Khartoum State.No civilian casualties reported but possible destruction of critical infrastructure.']\n"
     ]
    },
    {
     "data": {
      "application/vnd.jupyter.widget-view+json": {
       "model_id": "894ca31e596d4e56a1c7d09e0fb3c908",
       "version_major": 2,
       "version_minor": 0
      },
      "text/plain": [
       "Parsing nodes:   0%|          | 0/1 [00:00<?, ?it/s]"
      ]
     },
     "metadata": {},
     "output_type": "display_data"
    },
    {
     "data": {
      "application/vnd.jupyter.widget-view+json": {
       "model_id": "b1abd0623c8542cb92d6c54ca57db1f9",
       "version_major": 2,
       "version_minor": 0
      },
      "text/plain": [
       "Generating embeddings:   0%|          | 0/1 [00:00<?, ?it/s]"
      ]
     },
     "metadata": {},
     "output_type": "display_data"
    },
    {
     "name": "stdout",
     "output_type": "stream",
     "text": [
      "8 Military operations (battle, shelling)\n",
      "['A drone targets a group breakfast for the Al-Baraa Bin Malik Brigade, which is affiliated with the Armed Forces, in the city of Atbara. There are no details yet about the number of casualties.']\n"
     ]
    },
    {
     "data": {
      "application/vnd.jupyter.widget-view+json": {
       "model_id": "d2f3b9c915774e72b3c83495a3852bab",
       "version_major": 2,
       "version_minor": 0
      },
      "text/plain": [
       "Parsing nodes:   0%|          | 0/1 [00:00<?, ?it/s]"
      ]
     },
     "metadata": {},
     "output_type": "display_data"
    },
    {
     "data": {
      "application/vnd.jupyter.widget-view+json": {
       "model_id": "bd060ba5410a4ce6960b68f49ab4ba94",
       "version_major": 2,
       "version_minor": 0
      },
      "text/plain": [
       "Generating embeddings:   0%|          | 0/1 [00:00<?, ?it/s]"
      ]
     },
     "metadata": {},
     "output_type": "display_data"
    },
    {
     "name": "stdout",
     "output_type": "stream",
     "text": [
      "9 Military operations (battle, shelling)\n",
      "['On February 5, according to eyewitnesses, explosions were also heard in the neighborhoods of Riyadh, Taif, Mamoura, and Al-Jarif located east of the capital, as a result of air strikes launched by warplanes, targeting some positions of the RSF who¬† responded by firing ground-based anti-missiles']\n"
     ]
    },
    {
     "data": {
      "application/vnd.jupyter.widget-view+json": {
       "model_id": "11e665ae124a47d59bb7d3bda30088e3",
       "version_major": 2,
       "version_minor": 0
      },
      "text/plain": [
       "Parsing nodes:   0%|          | 0/1 [00:00<?, ?it/s]"
      ]
     },
     "metadata": {},
     "output_type": "display_data"
    },
    {
     "data": {
      "application/vnd.jupyter.widget-view+json": {
       "model_id": "4dc140ab42714a4582efb3155ea4b4ba",
       "version_major": 2,
       "version_minor": 0
      },
      "text/plain": [
       "Generating embeddings:   0%|          | 0/1 [00:00<?, ?it/s]"
      ]
     },
     "metadata": {},
     "output_type": "display_data"
    },
    {
     "name": "stdout",
     "output_type": "stream",
     "text": [
      "10 Military operations (battle, shelling)\n",
      "['The RSF is reported to control more and more territory (almost half of the country), and perpetrating violence against civilians. In response, civilians have been arming themselves to form self-defense groups, or are being armed by the Sudanese Armed Forces to protect themselves and fight the RSF. Thousands of people in el-Gezira, River Nile, North and South Kordofan, Kassala, Darfur, and other states, have armed themselves or been armed by the SAF to ward off RSF attacks.\\nThe Army is also reported to be receiving support from rebel groups such as the Justice and Equality Movement (JEM) led by Gibril Ibrahim and the Sudanese Liberation Movement (SLM) faction headed by Minni Minnawi.\\nAccording to some leaders of the civilian political coalition, ‚Äúfigures connected to the Sudanese Islamic Movement (SIM) and the former administration of deposed autocrat Omar al-Bashir are using the situation as a way of returning to power.‚Äù \\n‚ÄúMultiple eyewitnesses in River Nile and Northern State said that groups connected to Sudan‚Äôs wider Islamic movement and associates of Bashir had been engaged in weapons distribution on behalf of the army.‚Äù\\nSome analysts fear that the Army‚Äôs mobilization of civilians might lead to ethnic-based polarization and a full-blown civil war. ']\n"
     ]
    },
    {
     "data": {
      "application/vnd.jupyter.widget-view+json": {
       "model_id": "c5e811faf6ce4c44b8b9f36731b91e8b",
       "version_major": 2,
       "version_minor": 0
      },
      "text/plain": [
       "Parsing nodes:   0%|          | 0/1 [00:00<?, ?it/s]"
      ]
     },
     "metadata": {},
     "output_type": "display_data"
    },
    {
     "data": {
      "application/vnd.jupyter.widget-view+json": {
       "model_id": "517644e5c4fd4666ac18d7c3c5911990",
       "version_major": 2,
       "version_minor": 0
      },
      "text/plain": [
       "Generating embeddings:   0%|          | 0/1 [00:00<?, ?it/s]"
      ]
     },
     "metadata": {},
     "output_type": "display_data"
    },
    {
     "name": "stdout",
     "output_type": "stream",
     "text": [
      "11 Movement of military, paramilitary, or other troops and equipment\n",
      "['Disruption of internet and communication networks reported since Feb 2nd  across most of Sudan with government army and RSF accusing each other for being responsible for the disruption. However, according to Sudan Tribune, \"The cause of the outage remains unclear, with accusations flying between the Sudanese government and the Rapid Support Forces (RSF). The RSF, controlling areas where major infrastructure for Sudani and MTN-Sudan network operations reside, reportedly disrupted the network to protest the companies‚Äô inaction on a communication issue affecting Darfur for months.\"']\n"
     ]
    },
    {
     "data": {
      "application/vnd.jupyter.widget-view+json": {
       "model_id": "fc17e4d1315e4a3f9247c6ddf2218658",
       "version_major": 2,
       "version_minor": 0
      },
      "text/plain": [
       "Parsing nodes:   0%|          | 0/1 [00:00<?, ?it/s]"
      ]
     },
     "metadata": {},
     "output_type": "display_data"
    },
    {
     "data": {
      "application/vnd.jupyter.widget-view+json": {
       "model_id": "849a874cb7d64ddc82ae9f012143e862",
       "version_major": 2,
       "version_minor": 0
      },
      "text/plain": [
       "Generating embeddings:   0%|          | 0/1 [00:00<?, ?it/s]"
      ]
     },
     "metadata": {},
     "output_type": "display_data"
    },
    {
     "name": "stdout",
     "output_type": "stream",
     "text": [
      "12 Damage or destruction of civilian critical infrastructure\n",
      "[\"Zain's telecommunications and Internet service returned for a short while to Port Sudan on February 5th after a day-long outage, while Sudani and MTN continued to be cut across the country for the third day.\\nOn February 6th, Radio Dabanga reported that the Sudanese Telecommunications and Postal Regulatory Authority (TPRA) accused the Rapid Support Forces (RSF) of shutting down work at the data centers of the El Sudani and MTN providers since February 3rd.But the RSF denied any responsibility. Several media have reported have reported that the interruption of internet connection since February has increased the suffering of the civilian population who cannot access banks and rely on online money transfers to get cash.\"]\n"
     ]
    },
    {
     "data": {
      "application/vnd.jupyter.widget-view+json": {
       "model_id": "c32ce07e8c3441a3a869ec94ddea66cb",
       "version_major": 2,
       "version_minor": 0
      },
      "text/plain": [
       "Parsing nodes:   0%|          | 0/1 [00:00<?, ?it/s]"
      ]
     },
     "metadata": {},
     "output_type": "display_data"
    },
    {
     "data": {
      "application/vnd.jupyter.widget-view+json": {
       "model_id": "e1434957b0ee4eb9bbde98ac8e1a96b4",
       "version_major": 2,
       "version_minor": 0
      },
      "text/plain": [
       "Generating embeddings:   0%|          | 0/1 [00:00<?, ?it/s]"
      ]
     },
     "metadata": {},
     "output_type": "display_data"
    },
    {
     "name": "stdout",
     "output_type": "stream",
     "text": [
      "13 Damage or destruction of civilian critical infrastructure\n",
      "['Armed men reportedly affiliated with the Sudan People‚Äôs Liberation Movement-North (SPLM-N) under the leadership of Abdelaziz El Hilu launched an attack on Habila in South Kordofan and allegedly took control of the town on Friday. Over 3,000 people fled north of Habila, to an area near Kartala. 12 people were killed in tribal clashes in El Teital village in Habila locality in South Kordofan between Friday and Saturday. ']\n"
     ]
    },
    {
     "data": {
      "application/vnd.jupyter.widget-view+json": {
       "model_id": "bfbea2480fbc4afba48421029165d482",
       "version_major": 2,
       "version_minor": 0
      },
      "text/plain": [
       "Parsing nodes:   0%|          | 0/1 [00:00<?, ?it/s]"
      ]
     },
     "metadata": {},
     "output_type": "display_data"
    },
    {
     "data": {
      "application/vnd.jupyter.widget-view+json": {
       "model_id": "f44bd432c1ad4827944113f0c89afb98",
       "version_major": 2,
       "version_minor": 0
      },
      "text/plain": [
       "Generating embeddings:   0%|          | 0/1 [00:00<?, ?it/s]"
      ]
     },
     "metadata": {},
     "output_type": "display_data"
    },
    {
     "name": "stdout",
     "output_type": "stream",
     "text": [
      "14 Military operations (battle, shelling)\n",
      "['The disruption of internet and telecommunication network since February 2 is reported to worsen the impact of the conflict on the populations who depend on online money transferts and on humanitarian organizations. The RSF has rejected accusations making them responsible for the outage and blames the Army. Because of this outage, UNHCR and other humanitarian organizations are unable to communicate with community network and register refugees and asylum seekers.']\n"
     ]
    },
    {
     "data": {
      "application/vnd.jupyter.widget-view+json": {
       "model_id": "4ed31d336e0645148b2845e42a72e9c0",
       "version_major": 2,
       "version_minor": 0
      },
      "text/plain": [
       "Parsing nodes:   0%|          | 0/1 [00:00<?, ?it/s]"
      ]
     },
     "metadata": {},
     "output_type": "display_data"
    },
    {
     "data": {
      "application/vnd.jupyter.widget-view+json": {
       "model_id": "458cadbd4c8b4272a066385aa8221538",
       "version_major": 2,
       "version_minor": 0
      },
      "text/plain": [
       "Generating embeddings:   0%|          | 0/1 [00:00<?, ?it/s]"
      ]
     },
     "metadata": {},
     "output_type": "display_data"
    },
    {
     "name": "stdout",
     "output_type": "stream",
     "text": [
      "15 Damage or destruction of civilian critical infrastructure\n",
      "['On 16 February 2024, clashes renewed between the Sudanese Armed Forces and Rapid Support Forces in Al Fasher Town‚Ä¶ reportedly, SAF conducted airstrikes targeting RSF positions across northern and eastern neighborhoods of Al Fasher Town. Field teams reported that the event led to widespread displacement. Affected households sought refuge in southern neighborhoods within Al Fasher Town.']\n"
     ]
    },
    {
     "data": {
      "application/vnd.jupyter.widget-view+json": {
       "model_id": "58eeca99ddac47bca60b478b4dbd1286",
       "version_major": 2,
       "version_minor": 0
      },
      "text/plain": [
       "Parsing nodes:   0%|          | 0/1 [00:00<?, ?it/s]"
      ]
     },
     "metadata": {},
     "output_type": "display_data"
    },
    {
     "data": {
      "application/vnd.jupyter.widget-view+json": {
       "model_id": "87f7ccdddbfa45f390fc7c7d1c5b851c",
       "version_major": 2,
       "version_minor": 0
      },
      "text/plain": [
       "Generating embeddings:   0%|          | 0/1 [00:00<?, ?it/s]"
      ]
     },
     "metadata": {},
     "output_type": "display_data"
    },
    {
     "name": "stdout",
     "output_type": "stream",
     "text": [
      "16 Military operations (battle, shelling)\n",
      "['The Sudanese Group for Victims of Enforced Disappearance revealed an increase in cases of enforced disappearance in a number of regions of Sudan after the increase in the pace of clashes and their expansion to Al-Jazira State in central Sudan.The group confirmed that new cases of enforced disappearance were recorded in Wad Madani, Al-Hasahisa and Al-Kamilin in Gezira State, as well as Al-Rahad in North Kordofan State and Jabal Al-Awliya, south of Khartoum State.A member of the Sudanese group for victims of enforced disappearance, Othman Al-Basri, told Sudan Tribune on Friday that the number of missing people as a result of the war has risen to 993 missing persons, including 96 women and 897 men.The group had reported in previous reports that 715 cases of enforced disappearance were recorded last October and 842 cases last December. The group had reported in previous reports that 715 cases of enforced disappearance were recorded last']\n"
     ]
    },
    {
     "data": {
      "application/vnd.jupyter.widget-view+json": {
       "model_id": "946d37b79b1f4c5993f5ffcbd1af26fb",
       "version_major": 2,
       "version_minor": 0
      },
      "text/plain": [
       "Parsing nodes:   0%|          | 0/1 [00:00<?, ?it/s]"
      ]
     },
     "metadata": {},
     "output_type": "display_data"
    },
    {
     "data": {
      "application/vnd.jupyter.widget-view+json": {
       "model_id": "2419a0593832465494464bc86260058c",
       "version_major": 2,
       "version_minor": 0
      },
      "text/plain": [
       "Generating embeddings:   0%|          | 0/1 [00:00<?, ?it/s]"
      ]
     },
     "metadata": {},
     "output_type": "display_data"
    },
    {
     "name": "stdout",
     "output_type": "stream",
     "text": [
      "17 Forced disappearance\n",
      "['Residents of Omdurman, Khartoum and other cities reported the RSF has forced them out of their homes, looted belongings, and raped women. In August 2023, it was reported to the UN allegations that \" men identified as members of the RSF are using rape and sexual violence‚Äù against women and girls ‚Äúas tools to punish and terrorise communities. Some of the reported rapes appear to be ethnically and racially motivated\".']\n"
     ]
    },
    {
     "data": {
      "application/vnd.jupyter.widget-view+json": {
       "model_id": "0e4032fefb944966859d6f242c58b237",
       "version_major": 2,
       "version_minor": 0
      },
      "text/plain": [
       "Parsing nodes:   0%|          | 0/1 [00:00<?, ?it/s]"
      ]
     },
     "metadata": {},
     "output_type": "display_data"
    },
    {
     "data": {
      "application/vnd.jupyter.widget-view+json": {
       "model_id": "cd795fe551dc487ea628c5d1578b4ab1",
       "version_major": 2,
       "version_minor": 0
      },
      "text/plain": [
       "Generating embeddings:   0%|          | 0/1 [00:00<?, ?it/s]"
      ]
     },
     "metadata": {},
     "output_type": "display_data"
    },
    {
     "name": "stdout",
     "output_type": "stream",
     "text": [
      "18 Gender-based or other conflict-related sexual violence\n",
      "['The International Monetary Fund (IMF) issued a stark warning today, predicting a catastrophic 18.3% contraction of Sudan‚Äôs economy in 2024. (...) This alarming prediction follows a 12% economic decline in 2023, attributed by the World Bank to the war‚Äôs disruption of production and decimation of human capital and state infrastructure. (...) Sudan‚Äôs GDP stood at $34.3 billion in 2021, with industry contributing 21% and agriculture 32.7%, with the services sector making up the remaining share. However, since the October 2021 military coup, civil unrest, and the ongoing war, economic activity has plummeted.']\n"
     ]
    },
    {
     "data": {
      "application/vnd.jupyter.widget-view+json": {
       "model_id": "382b6812fcb14677991b16a4baa48c9f",
       "version_major": 2,
       "version_minor": 0
      },
      "text/plain": [
       "Parsing nodes:   0%|          | 0/1 [00:00<?, ?it/s]"
      ]
     },
     "metadata": {},
     "output_type": "display_data"
    },
    {
     "data": {
      "application/vnd.jupyter.widget-view+json": {
       "model_id": "9b567bd0282d47068c324569ac5a1869",
       "version_major": 2,
       "version_minor": 0
      },
      "text/plain": [
       "Generating embeddings:   0%|          | 0/1 [00:00<?, ?it/s]"
      ]
     },
     "metadata": {},
     "output_type": "display_data"
    },
    {
     "name": "stdout",
     "output_type": "stream",
     "text": [
      "19 Military operations (battle, shelling)\n",
      "['The RSF accused the SAF of beheading three of its militants, an incident that the SAF has promised to investigate.']\n"
     ]
    },
    {
     "data": {
      "application/vnd.jupyter.widget-view+json": {
       "model_id": "aa05581689e5411eb04c25f05115db01",
       "version_major": 2,
       "version_minor": 0
      },
      "text/plain": [
       "Parsing nodes:   0%|          | 0/1 [00:00<?, ?it/s]"
      ]
     },
     "metadata": {},
     "output_type": "display_data"
    },
    {
     "data": {
      "application/vnd.jupyter.widget-view+json": {
       "model_id": "029c05bcb99d4e9c9be326aa89135efe",
       "version_major": 2,
       "version_minor": 0
      },
      "text/plain": [
       "Generating embeddings:   0%|          | 0/1 [00:00<?, ?it/s]"
      ]
     },
     "metadata": {},
     "output_type": "display_data"
    },
    {
     "name": "stdout",
     "output_type": "stream",
     "text": [
      "20 Willful killing of civilians\n",
      "['Local sources in El Daein reported that Sudanese Armed Forces (SAF) military aircraft bombed the city of El Daein\\nDaein at midnight last night, causing severe damage to a number of neighborhoods in the city.Social media activists tweeted that the bombing hit residential neighborhoods in the city, while others posted a video showing the fires. The voices in the published video indicate that the bombing targeted the neighborhoods of Al-Tadamun, Al-Sikka Al-Hadid and Al-Zariba Al-Tadamun in the city amid an apparent movement of citizens, causing the destruction of a number of houses and facilities and killing a number of citizens, and it is not yet clear whether the air strike caused casualties and losses among the RSF in these areas (See pictures and videos of destruction in the link provided)']\n"
     ]
    },
    {
     "data": {
      "application/vnd.jupyter.widget-view+json": {
       "model_id": "9f8d7668faeb43e4a0ceee2c960d15d1",
       "version_major": 2,
       "version_minor": 0
      },
      "text/plain": [
       "Parsing nodes:   0%|          | 0/1 [00:00<?, ?it/s]"
      ]
     },
     "metadata": {},
     "output_type": "display_data"
    },
    {
     "data": {
      "application/vnd.jupyter.widget-view+json": {
       "model_id": "cc091784afe6473c9f77f5e440d9c32a",
       "version_major": 2,
       "version_minor": 0
      },
      "text/plain": [
       "Generating embeddings:   0%|          | 0/1 [00:00<?, ?it/s]"
      ]
     },
     "metadata": {},
     "output_type": "display_data"
    },
    {
     "name": "stdout",
     "output_type": "stream",
     "text": [
      "21 Military operations (battle, shelling)\n",
      "['After a major offensive, the SAF has recaptured the military district known as Corps of Engineers in Omburdman that was under RSF siege for 10 months. However, the RSF remains in control of large parts of western and southern Omdurman and the western suburb known as Ombada.']\n"
     ]
    },
    {
     "data": {
      "application/vnd.jupyter.widget-view+json": {
       "model_id": "d455ec1274dd4d5c90078801f0098406",
       "version_major": 2,
       "version_minor": 0
      },
      "text/plain": [
       "Parsing nodes:   0%|          | 0/1 [00:00<?, ?it/s]"
      ]
     },
     "metadata": {},
     "output_type": "display_data"
    },
    {
     "data": {
      "application/vnd.jupyter.widget-view+json": {
       "model_id": "b3293123e41b442ead7ae4a01bba9f09",
       "version_major": 2,
       "version_minor": 0
      },
      "text/plain": [
       "Generating embeddings:   0%|          | 0/1 [00:00<?, ?it/s]"
      ]
     },
     "metadata": {},
     "output_type": "display_data"
    },
    {
     "name": "stdout",
     "output_type": "stream",
     "text": [
      "22 Military operations (battle, shelling)\n",
      "['\"Close to 25 million people need humanitarian assistance, including around 5 million people on the brink of famine and nearly 7 million children who are severely undernourished. Mass graves conceal evidence of widespread, systematic, and targeted mass atrocities that could be repeated at any moment as the conflict further expands\", the New Humanitarian reported on February 19.']\n"
     ]
    },
    {
     "data": {
      "application/vnd.jupyter.widget-view+json": {
       "model_id": "a92788feb3c0415bbf968039b0cf3a2b",
       "version_major": 2,
       "version_minor": 0
      },
      "text/plain": [
       "Parsing nodes:   0%|          | 0/1 [00:00<?, ?it/s]"
      ]
     },
     "metadata": {},
     "output_type": "display_data"
    },
    {
     "data": {
      "application/vnd.jupyter.widget-view+json": {
       "model_id": "a4d62f2392a84df4afa7801f82cb6f7f",
       "version_major": 2,
       "version_minor": 0
      },
      "text/plain": [
       "Generating embeddings:   0%|          | 0/1 [00:00<?, ?it/s]"
      ]
     },
     "metadata": {},
     "output_type": "display_data"
    },
    {
     "name": "stdout",
     "output_type": "stream",
     "text": [
      "23 Willful killing of civilians\n",
      "['Between February 19 and 20, the Sudanese Air Force has resumed long-range bombing raids into Darfur and Kordofan, hitting areas deemed to be ‚Äúsocial incubators‚Äù of the Rapid Support Forces. The Air Force also bombed Hamrat al-Sheikh in North Kordofan, dropping barrel bombs. According to Emergency Lawyers, the attack was the tenth in eight months. The lawyers stated, ‚ÄúThe area is free of any military activity or any military manifestations, thus this attack constitutes a crime.']\n"
     ]
    },
    {
     "data": {
      "application/vnd.jupyter.widget-view+json": {
       "model_id": "8877054db7af41a19938b4e5b5a992c6",
       "version_major": 2,
       "version_minor": 0
      },
      "text/plain": [
       "Parsing nodes:   0%|          | 0/1 [00:00<?, ?it/s]"
      ]
     },
     "metadata": {},
     "output_type": "display_data"
    },
    {
     "data": {
      "application/vnd.jupyter.widget-view+json": {
       "model_id": "01cb9256d29544c399aeb6ad6f508697",
       "version_major": 2,
       "version_minor": 0
      },
      "text/plain": [
       "Generating embeddings:   0%|          | 0/1 [00:00<?, ?it/s]"
      ]
     },
     "metadata": {},
     "output_type": "display_data"
    },
    {
     "name": "stdout",
     "output_type": "stream",
     "text": [
      "24 Indiscriminate use of weapons\n",
      "['The Sudanese army has reinforced its garrison in the South Kordofan capital Kadugli, which could portend an escalation of military operations in the area.Military sources from South Kordofan reported to Sudan War Monitor that the army intends to open the Dilling-Kadugli road, which has remained closed since the SPLM-N led by General Abdulaziz Al-Hilu captured territory in the area last year, severing the link between the two South Kordofan cities. RSF loyalists are also active along that road, and around the city of Dilling.']\n"
     ]
    },
    {
     "data": {
      "application/vnd.jupyter.widget-view+json": {
       "model_id": "3a25df34ab554765806ceb762a7c44d8",
       "version_major": 2,
       "version_minor": 0
      },
      "text/plain": [
       "Parsing nodes:   0%|          | 0/1 [00:00<?, ?it/s]"
      ]
     },
     "metadata": {},
     "output_type": "display_data"
    },
    {
     "data": {
      "application/vnd.jupyter.widget-view+json": {
       "model_id": "52a9e4c4849443138df41d3494110a51",
       "version_major": 2,
       "version_minor": 0
      },
      "text/plain": [
       "Generating embeddings:   0%|          | 0/1 [00:00<?, ?it/s]"
      ]
     },
     "metadata": {},
     "output_type": "display_data"
    },
    {
     "name": "stdout",
     "output_type": "stream",
     "text": [
      "25 Movement of military, paramilitary, or other troops and equipment\n",
      "['Concerns are mounting following reports of alleged human rights violations by the Rapid Support Forces (RSF) against civilians in villages across Al-Jazira State, Sudan. These reports come amid an ongoing communication and internet blackout in the region, making independent verification challenging.Sources affiliated with local resistance committees and political figures claim the RSF conducted raids on several villages, resulting in casualties and property damage. Specifically, reports from the village of Al-Uqda Al-Maghariba allege at least seven deaths and nine injuries after RSF members opened fire. Similar reports detail deaths and injuries in the villages of Muayjna and Umm Dawana.']\n"
     ]
    },
    {
     "data": {
      "application/vnd.jupyter.widget-view+json": {
       "model_id": "157b7c2701ab4b2086cf27a4655697cd",
       "version_major": 2,
       "version_minor": 0
      },
      "text/plain": [
       "Parsing nodes:   0%|          | 0/1 [00:00<?, ?it/s]"
      ]
     },
     "metadata": {},
     "output_type": "display_data"
    },
    {
     "data": {
      "application/vnd.jupyter.widget-view+json": {
       "model_id": "f965267416cc46fa80d81b37e324dc5b",
       "version_major": 2,
       "version_minor": 0
      },
      "text/plain": [
       "Generating embeddings:   0%|          | 0/1 [00:00<?, ?it/s]"
      ]
     },
     "metadata": {},
     "output_type": "display_data"
    },
    {
     "name": "stdout",
     "output_type": "stream",
     "text": [
      "26 Indiscriminate use of weapons\n",
      "['General trend of attempts by the SAF and RSF to suppress freedom of opinion and freedom of press. Awa Rahma, a Sudanese journalist, gives this testimony about the suppression of these civil liberties:  \"Not only have journalists been robbed of their dignity and security, we have also been stripped of our work. Independent newspapers, websites, TV broadcasting stations, and radio programmes have been shut down. The only working media is controlled by either the army or the RSF, and both sides circulate lists of reporters they accuse of ‚Äúbetraying‚Äù the country.International conventions guaranteeing the safety of journalists do not apply here. In this war, the free press and freedom of expression are also targets. The goal is to suppress the written word, smash the cameras, and block accountability and principle. (..) As we approach one year since this devastating conflict began, the world knows next-to-nothing about the full extent of the atrocities that are committed daily. Nothing is worse than seeing how truth has been suspended, like a patient sedated indefinitely.\"']\n"
     ]
    },
    {
     "data": {
      "application/vnd.jupyter.widget-view+json": {
       "model_id": "05613442440c4f6f8bdd8e1c29f4b4c4",
       "version_major": 2,
       "version_minor": 0
      },
      "text/plain": [
       "Parsing nodes:   0%|          | 0/1 [00:00<?, ?it/s]"
      ]
     },
     "metadata": {},
     "output_type": "display_data"
    },
    {
     "data": {
      "application/vnd.jupyter.widget-view+json": {
       "model_id": "de164eb65ef5495f8f1d96da90c15ee1",
       "version_major": 2,
       "version_minor": 0
      },
      "text/plain": [
       "Generating embeddings:   0%|          | 0/1 [00:00<?, ?it/s]"
      ]
     },
     "metadata": {},
     "output_type": "display_data"
    },
    {
     "name": "stdout",
     "output_type": "stream",
     "text": [
      "27 Violent crackdowns on protesters/opponents/civil rights abuse\n",
      "['On February 22, the militia fired on dozens of residents who were protesting against the arrest of several young people guarding the houses,\" said a resident of Baranko, about halfway between state capital Wad Madani and Khartoum to the north.Multiple local sources reported 18 wounded in the shooting, a few of whom managed to reach a hospital in Shendi, 250 kilometers to the north, by taking side roads.']\n"
     ]
    },
    {
     "data": {
      "application/vnd.jupyter.widget-view+json": {
       "model_id": "fd76bfd435db477590464e118afd97a3",
       "version_major": 2,
       "version_minor": 0
      },
      "text/plain": [
       "Parsing nodes:   0%|          | 0/1 [00:00<?, ?it/s]"
      ]
     },
     "metadata": {},
     "output_type": "display_data"
    },
    {
     "data": {
      "application/vnd.jupyter.widget-view+json": {
       "model_id": "9f229ab77d694217a3886c645e71973a",
       "version_major": 2,
       "version_minor": 0
      },
      "text/plain": [
       "Generating embeddings:   0%|          | 0/1 [00:00<?, ?it/s]"
      ]
     },
     "metadata": {},
     "output_type": "display_data"
    },
    {
     "name": "stdout",
     "output_type": "stream",
     "text": [
      "28 Violent crackdowns on protesters/opponents/civil rights abuse\n",
      "['On February 27, according to several sources, the Rapid Support Forces (RSF) allegedly committed large-scale killings in the village of Sharif Mukhtar, located in Sudan‚Äôs central Al-Jazirah State. In a statement issued on Monday, the Wad Madani Resistance Committees reported initial accounts about the killing indicating a significant but undetermined number of deaths and injuries. They also reported displacement of residents towards White Nile State and the city of Al-Manaqil, west of Al-Jazirah State.']\n"
     ]
    },
    {
     "data": {
      "application/vnd.jupyter.widget-view+json": {
       "model_id": "da8a449eca344142a18630429e89363f",
       "version_major": 2,
       "version_minor": 0
      },
      "text/plain": [
       "Parsing nodes:   0%|          | 0/1 [00:00<?, ?it/s]"
      ]
     },
     "metadata": {},
     "output_type": "display_data"
    },
    {
     "data": {
      "application/vnd.jupyter.widget-view+json": {
       "model_id": "ca5f695c9a4f4fd292bc137e707eaa3b",
       "version_major": 2,
       "version_minor": 0
      },
      "text/plain": [
       "Generating embeddings:   0%|          | 0/1 [00:00<?, ?it/s]"
      ]
     },
     "metadata": {},
     "output_type": "display_data"
    },
    {
     "name": "stdout",
     "output_type": "stream",
     "text": [
      "29 Willful killing of civilians\n",
      "['The army bombed with drones several ‚ÄúRapid Support‚Äù sites in the neighborhoods of Abu Adam, Al-Mujahideen, South Al-Hizam, and Soba, south of Khartoum, in addition to sites in Khartoum Bahri and the  East Nile.']\n"
     ]
    },
    {
     "data": {
      "application/vnd.jupyter.widget-view+json": {
       "model_id": "5aa0c72d1a5143e0989d38b77b7c3d37",
       "version_major": 2,
       "version_minor": 0
      },
      "text/plain": [
       "Parsing nodes:   0%|          | 0/1 [00:00<?, ?it/s]"
      ]
     },
     "metadata": {},
     "output_type": "display_data"
    },
    {
     "data": {
      "application/vnd.jupyter.widget-view+json": {
       "model_id": "b7c08fa994004e14b36ec240e529dc9e",
       "version_major": 2,
       "version_minor": 0
      },
      "text/plain": [
       "Generating embeddings:   0%|          | 0/1 [00:00<?, ?it/s]"
      ]
     },
     "metadata": {},
     "output_type": "display_data"
    },
    {
     "name": "stdout",
     "output_type": "stream",
     "text": [
      "30 Military operations (battle, shelling)\n",
      "['The army bombed with drones several ‚ÄúRapid Support‚Äù sites in the neighborhoods of Bahri and the  East Nile.']\n"
     ]
    },
    {
     "data": {
      "application/vnd.jupyter.widget-view+json": {
       "model_id": "3f5f8fda92564f27a94521d88404e20c",
       "version_major": 2,
       "version_minor": 0
      },
      "text/plain": [
       "Parsing nodes:   0%|          | 0/1 [00:00<?, ?it/s]"
      ]
     },
     "metadata": {},
     "output_type": "display_data"
    },
    {
     "data": {
      "application/vnd.jupyter.widget-view+json": {
       "model_id": "651db5516dd04a44ab02639a65e584aa",
       "version_major": 2,
       "version_minor": 0
      },
      "text/plain": [
       "Generating embeddings:   0%|          | 0/1 [00:00<?, ?it/s]"
      ]
     },
     "metadata": {},
     "output_type": "display_data"
    },
    {
     "name": "stdout",
     "output_type": "stream",
     "text": [
      "31 Military operations (battle, shelling)\n",
      "['\"On March 1, armed soldiers in El Fasher, the capital of North Darfur state, shot and killed Balal, media director at the Sudanese government‚Äôs Supreme Council for Media and Culture, inside his home, according to news reports and two local journalists, who spoke with CPJ on the condition of anonymity, citing fear of reprisal. According to sources, Balal was also a member of the local trade union, the Sudanese Journalists Syndicate. CPJ was unable to determine which armed group was responsible for Balal‚Äôs killing.\"']\n"
     ]
    },
    {
     "data": {
      "application/vnd.jupyter.widget-view+json": {
       "model_id": "109fa17473db451ea67db69c5ef43dd9",
       "version_major": 2,
       "version_minor": 0
      },
      "text/plain": [
       "Parsing nodes:   0%|          | 0/1 [00:00<?, ?it/s]"
      ]
     },
     "metadata": {},
     "output_type": "display_data"
    },
    {
     "data": {
      "application/vnd.jupyter.widget-view+json": {
       "model_id": "164e5a75cb0c4df4af380017d8bc94d3",
       "version_major": 2,
       "version_minor": 0
      },
      "text/plain": [
       "Generating embeddings:   0%|          | 0/1 [00:00<?, ?it/s]"
      ]
     },
     "metadata": {},
     "output_type": "display_data"
    },
    {
     "name": "stdout",
     "output_type": "stream",
     "text": [
      "32 Extrajudicial killing\n",
      "['On Saturday, military sources reported that army forces stationed north of Sennar State could advance north towards Al Jazeera State, seizing control of a sugar factory west of Sennar and its neighbouring villages, previously held by the RSF.Facebook accounts affiliated with army supporters shared video clips of the army entering the sugar factory. Social media platforms also circulated videos of citizens celebrating with the army in Sennar, marking the area‚Äôs ‚Äù liberation ‚Äú.']\n"
     ]
    },
    {
     "data": {
      "application/vnd.jupyter.widget-view+json": {
       "model_id": "e1283e2a1f844fd695535ea4c65f2cb1",
       "version_major": 2,
       "version_minor": 0
      },
      "text/plain": [
       "Parsing nodes:   0%|          | 0/1 [00:00<?, ?it/s]"
      ]
     },
     "metadata": {},
     "output_type": "display_data"
    },
    {
     "data": {
      "application/vnd.jupyter.widget-view+json": {
       "model_id": "7b11912007dd404bbcecb4f6be5b78b4",
       "version_major": 2,
       "version_minor": 0
      },
      "text/plain": [
       "Generating embeddings:   0%|          | 0/1 [00:00<?, ?it/s]"
      ]
     },
     "metadata": {},
     "output_type": "display_data"
    },
    {
     "name": "stdout",
     "output_type": "stream",
     "text": [
      "33 Movement of military, paramilitary, or other troops and equipment\n",
      "['The Al-Hasahisa Resistance Committees reported in a statement on Sunday that Sudanese army warplanes bombed RSF positions near the Al-Hasahisa Court, Al Jazeera state, without causing civilian casualties.']\n"
     ]
    },
    {
     "data": {
      "application/vnd.jupyter.widget-view+json": {
       "model_id": "7131b62846ea40ecb0d09c3577695efb",
       "version_major": 2,
       "version_minor": 0
      },
      "text/plain": [
       "Parsing nodes:   0%|          | 0/1 [00:00<?, ?it/s]"
      ]
     },
     "metadata": {},
     "output_type": "display_data"
    },
    {
     "data": {
      "application/vnd.jupyter.widget-view+json": {
       "model_id": "3f2dcd01387b452aae91d6cfe17b6e2b",
       "version_major": 2,
       "version_minor": 0
      },
      "text/plain": [
       "Generating embeddings:   0%|          | 0/1 [00:00<?, ?it/s]"
      ]
     },
     "metadata": {},
     "output_type": "display_data"
    },
    {
     "name": "stdout",
     "output_type": "stream",
     "text": [
      "34 Military operations (battle, shelling)\n",
      "['On March 4, at least two civilians were killed, and four others  injured in an air strike carried out by Sudanese army warplanes on Monday in the city of Al-Muglad, located in West Kordofan State.\\nAccording to a statement by the Civil Committees in West Kordofan, the air strike targeted residential neighbourhoods west of Al-Muglad, particularly the Andalus neighbourhood. This resulted in casualties among women and children, in addition to damage to several homes.']\n"
     ]
    },
    {
     "data": {
      "application/vnd.jupyter.widget-view+json": {
       "model_id": "b563069f0ff44e1f8b47147a187fb37f",
       "version_major": 2,
       "version_minor": 0
      },
      "text/plain": [
       "Parsing nodes:   0%|          | 0/1 [00:00<?, ?it/s]"
      ]
     },
     "metadata": {},
     "output_type": "display_data"
    },
    {
     "data": {
      "application/vnd.jupyter.widget-view+json": {
       "model_id": "bb763d08c7c84524b2e45971395f4dc6",
       "version_major": 2,
       "version_minor": 0
      },
      "text/plain": [
       "Generating embeddings:   0%|          | 0/1 [00:00<?, ?it/s]"
      ]
     },
     "metadata": {},
     "output_type": "display_data"
    },
    {
     "name": "stdout",
     "output_type": "stream",
     "text": [
      "35 Indiscriminate use of weapons\n",
      "['The Wad Madani Resistance Committees in Al Jazeera State said in a statement that one civilian was killed and six others were injured during the RSF‚Äôs storming of the village of Wadi Shair, located west of the city of Al Hasahisa ‚Äì about 45 kilometres north of Wad Madani. ']\n"
     ]
    },
    {
     "data": {
      "application/vnd.jupyter.widget-view+json": {
       "model_id": "7cad695f8ba1468d8a00ba866401c17d",
       "version_major": 2,
       "version_minor": 0
      },
      "text/plain": [
       "Parsing nodes:   0%|          | 0/1 [00:00<?, ?it/s]"
      ]
     },
     "metadata": {},
     "output_type": "display_data"
    },
    {
     "data": {
      "application/vnd.jupyter.widget-view+json": {
       "model_id": "45cc8a39e80a4a71966051482987af6e",
       "version_major": 2,
       "version_minor": 0
      },
      "text/plain": [
       "Generating embeddings:   0%|          | 0/1 [00:00<?, ?it/s]"
      ]
     },
     "metadata": {},
     "output_type": "display_data"
    },
    {
     "name": "stdout",
     "output_type": "stream",
     "text": [
      "36 Military operations (battle, shelling)\n",
      "['The Wad Madani Resistance Committees reported that the  RSF stormed the village of Wadi Shair on multiple occasions, looting cars, residents‚Äô property, and large sums of money from merchants in the nearby village of Tabet.']\n"
     ]
    },
    {
     "data": {
      "application/vnd.jupyter.widget-view+json": {
       "model_id": "79d24727285b41c18b3289b97277d1f3",
       "version_major": 2,
       "version_minor": 0
      },
      "text/plain": [
       "Parsing nodes:   0%|          | 0/1 [00:00<?, ?it/s]"
      ]
     },
     "metadata": {},
     "output_type": "display_data"
    },
    {
     "data": {
      "application/vnd.jupyter.widget-view+json": {
       "model_id": "ab56ba20da524fbe8bb3c05e9d2c8c5e",
       "version_major": 2,
       "version_minor": 0
      },
      "text/plain": [
       "Generating embeddings:   0%|          | 0/1 [00:00<?, ?it/s]"
      ]
     },
     "metadata": {},
     "output_type": "display_data"
    },
    {
     "name": "stdout",
     "output_type": "stream",
     "text": [
      "37 Damage or destruction, looting, or theft of cultural heritage\n",
      "['The wad madani resistance committees reported that \"The Rapid Support Militia stormed the Medina Arab Hospital, west of the city of Wad Madani, and after the failure of a surgical operation performed on one of their members, the Rapid Support Militia assassinated the attending doctor and two accompanying medical staff, and they also arrested two other medical staff.\"// translation of a Tweet: In the State of Al-Gazira- The Militia attacked the village of Wad Balila and looting and stealing and village youth confronted them leaving 2 citizens of that village murdered in the first day. The militia continud it assualt the second day and killed 4 citizens and injured 10 that were transported to Al-Manaqil for treatement.']\n"
     ]
    },
    {
     "data": {
      "application/vnd.jupyter.widget-view+json": {
       "model_id": "f08589b9bd874eaca6f1a9e79da3c6ba",
       "version_major": 2,
       "version_minor": 0
      },
      "text/plain": [
       "Parsing nodes:   0%|          | 0/1 [00:00<?, ?it/s]"
      ]
     },
     "metadata": {},
     "output_type": "display_data"
    },
    {
     "data": {
      "application/vnd.jupyter.widget-view+json": {
       "model_id": "c9da402b68bc4247add13341cad7ccc4",
       "version_major": 2,
       "version_minor": 0
      },
      "text/plain": [
       "Generating embeddings:   0%|          | 0/1 [00:00<?, ?it/s]"
      ]
     },
     "metadata": {},
     "output_type": "display_data"
    },
    {
     "name": "stdout",
     "output_type": "stream",
     "text": [
      "38 Extrajudicial killing\n",
      "['The Central Observatory for Human Rights in Sudan released a detailed report stating the RSF stormed 53 villages in Al-Jazira State within three weeks, coinciding with the disruption of communication networks. The report alleges these attacks resulted in the deaths of 46 civilians and injuries to about 90 others, in addition to widespread arrests and looting of villagers‚Äô property.']\n"
     ]
    },
    {
     "data": {
      "application/vnd.jupyter.widget-view+json": {
       "model_id": "9d670af826124e0f8d541dd17b982d05",
       "version_major": 2,
       "version_minor": 0
      },
      "text/plain": [
       "Parsing nodes:   0%|          | 0/1 [00:00<?, ?it/s]"
      ]
     },
     "metadata": {},
     "output_type": "display_data"
    },
    {
     "data": {
      "application/vnd.jupyter.widget-view+json": {
       "model_id": "310c8f1cb8ee4331b80dc4cc838f5fae",
       "version_major": 2,
       "version_minor": 0
      },
      "text/plain": [
       "Generating embeddings:   0%|          | 0/1 [00:00<?, ?it/s]"
      ]
     },
     "metadata": {},
     "output_type": "display_data"
    },
    {
     "name": "stdout",
     "output_type": "stream",
     "text": [
      "39 Willful killing of civilians\n",
      "['The Rapid Support militia invaded the village of Al-Talih Al-Khawalda, rural Al-Musalmiyya, for the purpose of looting and stealing. The attack led to the martyrdom of the young man, Babiker Ezzedine, aged 21, due to a gunshot wound to the head, and others were injured. // Alternative translation by Melissa: The State of Al-Gazira: The Village Altaleeh Alkhawalda. The RSF attacked through looting and stealing that led to the death of a youth: Baberk Azzadein who was only 21 years old. He died due to a gun shot wound to the head. Others were also injured.']\n"
     ]
    },
    {
     "data": {
      "application/vnd.jupyter.widget-view+json": {
       "model_id": "ae33e2bdabbd47c3867f8147b2d5eee7",
       "version_major": 2,
       "version_minor": 0
      },
      "text/plain": [
       "Parsing nodes:   0%|          | 0/1 [00:00<?, ?it/s]"
      ]
     },
     "metadata": {},
     "output_type": "display_data"
    },
    {
     "data": {
      "application/vnd.jupyter.widget-view+json": {
       "model_id": "02f025381b634308aac0810e6dffe972",
       "version_major": 2,
       "version_minor": 0
      },
      "text/plain": [
       "Generating embeddings:   0%|          | 0/1 [00:00<?, ?it/s]"
      ]
     },
     "metadata": {},
     "output_type": "display_data"
    },
    {
     "name": "stdout",
     "output_type": "stream",
     "text": [
      "40 Military operations (battle, shelling)\n",
      "['The Rapid Support militia attacked the village of Muayjna Mustafa with a heavily armed force with full military equipment. It invaded the village, leaving another massacre that claimed the lives of 8 martyrs and 30 wounded, some of whom were in very serious condition.']\n"
     ]
    },
    {
     "data": {
      "application/vnd.jupyter.widget-view+json": {
       "model_id": "ec8857690bce46eabbbcfebd03a9847c",
       "version_major": 2,
       "version_minor": 0
      },
      "text/plain": [
       "Parsing nodes:   0%|          | 0/1 [00:00<?, ?it/s]"
      ]
     },
     "metadata": {},
     "output_type": "display_data"
    },
    {
     "data": {
      "application/vnd.jupyter.widget-view+json": {
       "model_id": "c4da72b17e1244ea9c0a601350a96cad",
       "version_major": 2,
       "version_minor": 0
      },
      "text/plain": [
       "Generating embeddings:   0%|          | 0/1 [00:00<?, ?it/s]"
      ]
     },
     "metadata": {},
     "output_type": "display_data"
    },
    {
     "name": "stdout",
     "output_type": "stream",
     "text": [
      "41 Indiscriminate use of weapons\n",
      "['The Rapid Support militia tried to enter the village of Al-Kubar for the purpose of plundering and stealing, and the village youth confronted them and prevented them from entering. The village considered the martyr Magdi Al-Fateh a calamity and wounded, including: - Muhammad Sheikh Al-Abbas - Othman Abdel Manaf, Assistant - Mustafa Abdel Basset.// Alternative translation by Melissa: The State of Al-Gazira: The village Alkobar. The RSF tried entering the village through looting and stealing and young men from the village tried stopping them which lead to one killed: Majdi Al Fatih Baliye  and three injured: Muhammad Sheikh Abbas, Othman Abdulmanaf Musaad and Mustafa AbdelBasit.']\n"
     ]
    },
    {
     "data": {
      "application/vnd.jupyter.widget-view+json": {
       "model_id": "a8fbc914ac3a4053bbce68201c9c70b9",
       "version_major": 2,
       "version_minor": 0
      },
      "text/plain": [
       "Parsing nodes:   0%|          | 0/1 [00:00<?, ?it/s]"
      ]
     },
     "metadata": {},
     "output_type": "display_data"
    },
    {
     "data": {
      "application/vnd.jupyter.widget-view+json": {
       "model_id": "8b7d9fb3f7a545e4afc8e90fef99f1fb",
       "version_major": 2,
       "version_minor": 0
      },
      "text/plain": [
       "Generating embeddings:   0%|          | 0/1 [00:00<?, ?it/s]"
      ]
     },
     "metadata": {},
     "output_type": "display_data"
    },
    {
     "name": "stdout",
     "output_type": "stream",
     "text": [
      "42 Movement of military, paramilitary, or other troops and equipment\n",
      "['The Rapid Support Militia attacked the village of Al-Zubairat, looting more than 30 cars, stealing food from groceries, and destroying what was left of it, in addition to stealing gold and money from a number of homes. This attack was accompanied by a number of threats and intimidation of citizens, which led to the displacement of women and children.// Correct translation by Melissa: the State of Al-Gazira: The village of Alzabeyrat. The RSF attacked this village and stole 30 cares as well as nutritional products from stores and destroying the rest of the products. They also stole gold and money from several hosueholds through threats and scare tactics against villagers which lead to women and children fleeing. ']\n"
     ]
    },
    {
     "data": {
      "application/vnd.jupyter.widget-view+json": {
       "model_id": "077eac57fef94f8f997ef4c6159f4210",
       "version_major": 2,
       "version_minor": 0
      },
      "text/plain": [
       "Parsing nodes:   0%|          | 0/1 [00:00<?, ?it/s]"
      ]
     },
     "metadata": {},
     "output_type": "display_data"
    },
    {
     "data": {
      "application/vnd.jupyter.widget-view+json": {
       "model_id": "3bcd23d91c8d423985a0c63e03c80def",
       "version_major": 2,
       "version_minor": 0
      },
      "text/plain": [
       "Generating embeddings:   0%|          | 0/1 [00:00<?, ?it/s]"
      ]
     },
     "metadata": {},
     "output_type": "display_data"
    },
    {
     "name": "stdout",
     "output_type": "stream",
     "text": [
      "43 Damage or destruction, looting, or theft of cultural heritage\n",
      "['The Rapid Support militia attacked the village of Tanub, killing two martyrs, the first from the village and the second from a neighboring village who was going to the market, and there were serious injuries among the villagers.']\n"
     ]
    },
    {
     "data": {
      "application/vnd.jupyter.widget-view+json": {
       "model_id": "7acaa746480b43aaaee94a0ee19e8428",
       "version_major": 2,
       "version_minor": 0
      },
      "text/plain": [
       "Parsing nodes:   0%|          | 0/1 [00:00<?, ?it/s]"
      ]
     },
     "metadata": {},
     "output_type": "display_data"
    },
    {
     "data": {
      "application/vnd.jupyter.widget-view+json": {
       "model_id": "2f299c30e6a14c8fa173c44583652872",
       "version_major": 2,
       "version_minor": 0
      },
      "text/plain": [
       "Generating embeddings:   0%|          | 0/1 [00:00<?, ?it/s]"
      ]
     },
     "metadata": {},
     "output_type": "display_data"
    },
    {
     "name": "stdout",
     "output_type": "stream",
     "text": [
      "44 Willful killing of civilians\n",
      "['The Rapid Support militia attacked the village of Al-Kashmar for the purpose of plundering, robbing, and harassing citizens. This attack led to the martyrdom of one of the village‚Äôs young men stationed, the peaceful, unarmed young man, Mutawakkil Abdullah.// Correct translation from Melissa: The State of Al-Gazira: The Village of Kashamir. The RSF attacked this village and looted and stole and frightened citizens which resulted in the death of a youth from the village. He is unmaried and was peaceful: Mutawakil Abdallah']\n"
     ]
    },
    {
     "data": {
      "application/vnd.jupyter.widget-view+json": {
       "model_id": "83d10cba9fa946cca586f3662498a3ec",
       "version_major": 2,
       "version_minor": 0
      },
      "text/plain": [
       "Parsing nodes:   0%|          | 0/1 [00:00<?, ?it/s]"
      ]
     },
     "metadata": {},
     "output_type": "display_data"
    },
    {
     "data": {
      "application/vnd.jupyter.widget-view+json": {
       "model_id": "0dc770d0959247afb406ae93c6ee8258",
       "version_major": 2,
       "version_minor": 0
      },
      "text/plain": [
       "Generating embeddings:   0%|          | 0/1 [00:00<?, ?it/s]"
      ]
     },
     "metadata": {},
     "output_type": "display_data"
    },
    {
     "name": "stdout",
     "output_type": "stream",
     "text": [
      "45 Willful killing of civilians\n",
      "['The State of Al-Gazira: The Village of Sareeha, The village of Azraq Refy Almaleeq. The RSF attacked two villages that lead to several citizens  killed but there is no confirmation of how many. They then stole and looted and frightened vilagers and the villages are still under the RSF Seige.']\n"
     ]
    },
    {
     "data": {
      "application/vnd.jupyter.widget-view+json": {
       "model_id": "dca725c0ee0b495b86f9ba76fefb1477",
       "version_major": 2,
       "version_minor": 0
      },
      "text/plain": [
       "Parsing nodes:   0%|          | 0/1 [00:00<?, ?it/s]"
      ]
     },
     "metadata": {},
     "output_type": "display_data"
    },
    {
     "data": {
      "application/vnd.jupyter.widget-view+json": {
       "model_id": "2725a567998f4cd4af982780e3178dd0",
       "version_major": 2,
       "version_minor": 0
      },
      "text/plain": [
       "Generating embeddings:   0%|          | 0/1 [00:00<?, ?it/s]"
      ]
     },
     "metadata": {},
     "output_type": "display_data"
    },
    {
     "name": "stdout",
     "output_type": "stream",
     "text": [
      "46 Military operations (battle, shelling)\n",
      "['The State of Al-Gazira: The Villages of Abukarna, Abara, Muhamad Abdallah, AlHadadeed Jaber and Katra: The Miltia looted cars and agricutlural equipment/tools and there is talk of injured and frightening tactics like holding guns to the heads of children to force their parents to give their gold and money. ']\n"
     ]
    },
    {
     "data": {
      "application/vnd.jupyter.widget-view+json": {
       "model_id": "82e2ca4f38a04f628576f9eb3ac5916c",
       "version_major": 2,
       "version_minor": 0
      },
      "text/plain": [
       "Parsing nodes:   0%|          | 0/1 [00:00<?, ?it/s]"
      ]
     },
     "metadata": {},
     "output_type": "display_data"
    },
    {
     "data": {
      "application/vnd.jupyter.widget-view+json": {
       "model_id": "55204074a5f74a848555de776529f581",
       "version_major": 2,
       "version_minor": 0
      },
      "text/plain": [
       "Generating embeddings:   0%|          | 0/1 [00:00<?, ?it/s]"
      ]
     },
     "metadata": {},
     "output_type": "display_data"
    },
    {
     "name": "stdout",
     "output_type": "stream",
     "text": [
      "47 Looting, or theft of cultural heritage\n",
      "['The State of Al-Gazira: based on sources from Al-Gazira, one citizen killed and 6 injured after a brutal attack from the RSF in the new Imran area north of the State of Al-Gazira, where its citizens were also robbed.']\n"
     ]
    },
    {
     "data": {
      "application/vnd.jupyter.widget-view+json": {
       "model_id": "47e2daaedfce44809cbf8df3ae04be3e",
       "version_major": 2,
       "version_minor": 0
      },
      "text/plain": [
       "Parsing nodes:   0%|          | 0/1 [00:00<?, ?it/s]"
      ]
     },
     "metadata": {},
     "output_type": "display_data"
    },
    {
     "data": {
      "application/vnd.jupyter.widget-view+json": {
       "model_id": "4b5e86c650d94d5c9573196c6461e802",
       "version_major": 2,
       "version_minor": 0
      },
      "text/plain": [
       "Generating embeddings:   0%|          | 0/1 [00:00<?, ?it/s]"
      ]
     },
     "metadata": {},
     "output_type": "display_data"
    },
    {
     "name": "stdout",
     "output_type": "stream",
     "text": [
      "48 Indiscriminate use of weapons\n",
      "['In the State of Al-Gazira- The Militia attacked the village of Wad Balila and looting and stealing and village youth confronted them leaving 2 citizens of that village murdered in the first day. The militia continud it assualt the second day and killed 4 citizens and injured 10 that were transported to Al-Manaqil for treatement.']\n"
     ]
    },
    {
     "data": {
      "application/vnd.jupyter.widget-view+json": {
       "model_id": "2a6532b92da74748ba3f1dc414c23529",
       "version_major": 2,
       "version_minor": 0
      },
      "text/plain": [
       "Parsing nodes:   0%|          | 0/1 [00:00<?, ?it/s]"
      ]
     },
     "metadata": {},
     "output_type": "display_data"
    },
    {
     "data": {
      "application/vnd.jupyter.widget-view+json": {
       "model_id": "648fe86a34ac4b9ca48b806467a86c20",
       "version_major": 2,
       "version_minor": 0
      },
      "text/plain": [
       "Generating embeddings:   0%|          | 0/1 [00:00<?, ?it/s]"
      ]
     },
     "metadata": {},
     "output_type": "display_data"
    },
    {
     "name": "stdout",
     "output_type": "stream",
     "text": [
      "49 Military operations (battle, shelling)\n",
      "[\"The State of Al-Gazira: Village of Fatees Refy Tabit. There was an attack at the local souk/market in this village where the RSF looted and stole from people. Through scare tactics and intimidation, the RSF also killed a citizen Omar Sadiq Nour and injured 2 more, one in the arm and one in the leg. This isn' the first attack on this village, previously, the RSF looted here and also used scare tactics by tying men with ropes and threatening them to ensure they do not fight back. This has caused fear across the men in this village- they also forced - by holding a gun against them- men to participate in their activcities by driving the stolen goods for them \"]\n"
     ]
    },
    {
     "data": {
      "application/vnd.jupyter.widget-view+json": {
       "model_id": "53b5f651835e435b88e84a8eee4f1b45",
       "version_major": 2,
       "version_minor": 0
      },
      "text/plain": [
       "Parsing nodes:   0%|          | 0/1 [00:00<?, ?it/s]"
      ]
     },
     "metadata": {},
     "output_type": "display_data"
    },
    {
     "data": {
      "application/vnd.jupyter.widget-view+json": {
       "model_id": "6033b946e93e476894b32aa13dd37ae5",
       "version_major": 2,
       "version_minor": 0
      },
      "text/plain": [
       "Generating embeddings:   0%|          | 0/1 [00:00<?, ?it/s]"
      ]
     },
     "metadata": {},
     "output_type": "display_data"
    },
    {
     "name": "stdout",
     "output_type": "stream",
     "text": [
      "50 Violent crackdowns on protesters/opponents/civil rights abuse\n",
      "['The RSF attacked the village of Wadi Shaier twice. The first time it stole cars and peoples properties, as well as looted from traders in Souk Tabit. The secnd time it attacked it killed Sheikh Muhamad Ibraheem and 6 were injured by bullets. There was also a lot of threats and frightening of villagers.']\n"
     ]
    },
    {
     "data": {
      "application/vnd.jupyter.widget-view+json": {
       "model_id": "fa07b8c2b6c34641b3b28db597da2469",
       "version_major": 2,
       "version_minor": 0
      },
      "text/plain": [
       "Parsing nodes:   0%|          | 0/1 [00:00<?, ?it/s]"
      ]
     },
     "metadata": {},
     "output_type": "display_data"
    },
    {
     "data": {
      "application/vnd.jupyter.widget-view+json": {
       "model_id": "fae5507a53674abdb800a4e66de11039",
       "version_major": 2,
       "version_minor": 0
      },
      "text/plain": [
       "Generating embeddings:   0%|          | 0/1 [00:00<?, ?it/s]"
      ]
     },
     "metadata": {},
     "output_type": "display_data"
    },
    {
     "name": "stdout",
     "output_type": "stream",
     "text": [
      "51 Military operations (battle, shelling)\n",
      "['At least four people were killed and others  injured at Abu Shouk displaced camp following renewed clashes between the SAF and the RSF in  El Fasher,  North Darfur on Thursday, March 7 in the evening. \"Field sources from Abu Shouk camp reported that a shell fell near the camp market, in addition to the incursion of some RSF members who were firing heavily and randomly inside the camp, in addition to the exchange of artillery shelling between the two sides, on the northern side of the city, which caused the death of at least four people.\"']\n"
     ]
    },
    {
     "data": {
      "application/vnd.jupyter.widget-view+json": {
       "model_id": "26926bf9142e43018b5456ebfdace0d6",
       "version_major": 2,
       "version_minor": 0
      },
      "text/plain": [
       "Parsing nodes:   0%|          | 0/1 [00:00<?, ?it/s]"
      ]
     },
     "metadata": {},
     "output_type": "display_data"
    },
    {
     "data": {
      "application/vnd.jupyter.widget-view+json": {
       "model_id": "8af6eb994a384f84bb91c7afce647d07",
       "version_major": 2,
       "version_minor": 0
      },
      "text/plain": [
       "Generating embeddings:   0%|          | 0/1 [00:00<?, ?it/s]"
      ]
     },
     "metadata": {},
     "output_type": "display_data"
    },
    {
     "name": "stdout",
     "output_type": "stream",
     "text": [
      "52 Military operations (battle, shelling)\n",
      "['The Rapid Support militia storms the village of Shulikha and loots, robs, and beats residents with whips, with cases of displacement from the village.']\n"
     ]
    },
    {
     "data": {
      "application/vnd.jupyter.widget-view+json": {
       "model_id": "9ab03b5aa7ce44b19ae9494b58fda003",
       "version_major": 2,
       "version_minor": 0
      },
      "text/plain": [
       "Parsing nodes:   0%|          | 0/1 [00:00<?, ?it/s]"
      ]
     },
     "metadata": {},
     "output_type": "display_data"
    },
    {
     "data": {
      "application/vnd.jupyter.widget-view+json": {
       "model_id": "afc8577514d1469391eac744fd2612c7",
       "version_major": 2,
       "version_minor": 0
      },
      "text/plain": [
       "Generating embeddings:   0%|          | 0/1 [00:00<?, ?it/s]"
      ]
     },
     "metadata": {},
     "output_type": "display_data"
    },
    {
     "name": "stdout",
     "output_type": "stream",
     "text": [
      "53 Violent crackdowns on protesters/opponents/civil rights abuse\n",
      "['The militia invaded the village of Al-Muraibiya for the second time in two weeks. The first was for the purpose of plundering and plundering, and the last was for the purpose of displacing the people of the village. They killed five citizens whom we consider to be martyrs and injured dozens of residents. This criminal and barbaric act led to a mass exodus of the population.']\n"
     ]
    },
    {
     "data": {
      "application/vnd.jupyter.widget-view+json": {
       "model_id": "6fb96014ccf64aa4989ab860058b20ce",
       "version_major": 2,
       "version_minor": 0
      },
      "text/plain": [
       "Parsing nodes:   0%|          | 0/1 [00:00<?, ?it/s]"
      ]
     },
     "metadata": {},
     "output_type": "display_data"
    },
    {
     "data": {
      "application/vnd.jupyter.widget-view+json": {
       "model_id": "c731efbe88484bd7b03769c660c5fc00",
       "version_major": 2,
       "version_minor": 0
      },
      "text/plain": [
       "Generating embeddings:   0%|          | 0/1 [00:00<?, ?it/s]"
      ]
     },
     "metadata": {},
     "output_type": "display_data"
    },
    {
     "name": "stdout",
     "output_type": "stream",
     "text": [
      "54 Military operations (battle, shelling)\n",
      "['He watched how the Rapid Support Militia tortured and humiliated only one person. He did not know the location or date of the incident, but we were provided with Rapid Support shipments to the militia.']\n"
     ]
    },
    {
     "data": {
      "application/vnd.jupyter.widget-view+json": {
       "model_id": "1f2df242f3864fe6b4b3e54c30c7c8ee",
       "version_major": 2,
       "version_minor": 0
      },
      "text/plain": [
       "Parsing nodes:   0%|          | 0/1 [00:00<?, ?it/s]"
      ]
     },
     "metadata": {},
     "output_type": "display_data"
    },
    {
     "data": {
      "application/vnd.jupyter.widget-view+json": {
       "model_id": "f1de1a82f7d047bda3012fd02d7631a3",
       "version_major": 2,
       "version_minor": 0
      },
      "text/plain": [
       "Generating embeddings:   0%|          | 0/1 [00:00<?, ?it/s]"
      ]
     },
     "metadata": {},
     "output_type": "display_data"
    },
    {
     "name": "stdout",
     "output_type": "stream",
     "text": [
      "55 Torture or indications of torture\n",
      "['On March 12, the Sudanese Army, which witnesses say have been boosted by recent deployment of drones, took control on of the radio and TV headquarters in Omdurman after destroying RSF vehicles and many RSF fighters.Undetermined number of fatalities']\n"
     ]
    },
    {
     "data": {
      "application/vnd.jupyter.widget-view+json": {
       "model_id": "40023cf8cbb342dd87d7758c4bce8031",
       "version_major": 2,
       "version_minor": 0
      },
      "text/plain": [
       "Parsing nodes:   0%|          | 0/1 [00:00<?, ?it/s]"
      ]
     },
     "metadata": {},
     "output_type": "display_data"
    },
    {
     "data": {
      "application/vnd.jupyter.widget-view+json": {
       "model_id": "2d95b54297bf489d9a7d85c5da1d61f8",
       "version_major": 2,
       "version_minor": 0
      },
      "text/plain": [
       "Generating embeddings:   0%|          | 0/1 [00:00<?, ?it/s]"
      ]
     },
     "metadata": {},
     "output_type": "display_data"
    },
    {
     "name": "stdout",
     "output_type": "stream",
     "text": [
      "56 Military operations (battle, shelling)\n",
      "['Emir of the Rizeigat, Masar Abd al-Rahman Aseel, announced on March 12 that the Rizeigat tribe stands with the Rapid Support and supports them with one hundred thousand fighters, and promises to continue the support until it reaches one million fighters.']\n"
     ]
    },
    {
     "data": {
      "application/vnd.jupyter.widget-view+json": {
       "model_id": "3f7b0edcfd3e4b34b1d9e6aaf0ac093f",
       "version_major": 2,
       "version_minor": 0
      },
      "text/plain": [
       "Parsing nodes:   0%|          | 0/1 [00:00<?, ?it/s]"
      ]
     },
     "metadata": {},
     "output_type": "display_data"
    },
    {
     "data": {
      "application/vnd.jupyter.widget-view+json": {
       "model_id": "1e3bb204b2f0423093c421d3191ed5a9",
       "version_major": 2,
       "version_minor": 0
      },
      "text/plain": [
       "Generating embeddings:   0%|          | 0/1 [00:00<?, ?it/s]"
      ]
     },
     "metadata": {},
     "output_type": "display_data"
    },
    {
     "name": "stdout",
     "output_type": "stream",
     "text": [
      "57 Military operations (battle, shelling)\n",
      "['A video shows the distruction and burning of Asia Hospital - Omdurman']\n"
     ]
    },
    {
     "data": {
      "application/vnd.jupyter.widget-view+json": {
       "model_id": "00c2fb37009045b7b95d8a8cde1f9f17",
       "version_major": 2,
       "version_minor": 0
      },
      "text/plain": [
       "Parsing nodes:   0%|          | 0/1 [00:00<?, ?it/s]"
      ]
     },
     "metadata": {},
     "output_type": "display_data"
    },
    {
     "data": {
      "application/vnd.jupyter.widget-view+json": {
       "model_id": "6b4ab6065b374d96bfc440675bbeea11",
       "version_major": 2,
       "version_minor": 0
      },
      "text/plain": [
       "Generating embeddings:   0%|          | 0/1 [00:00<?, ?it/s]"
      ]
     },
     "metadata": {},
     "output_type": "display_data"
    },
    {
     "name": "stdout",
     "output_type": "stream",
     "text": [
      "58 Damage or destruction\n",
      "['Al Arabiya broadcasts audio and video from inside the radio and television headquarters in Omdurman after the Sudanese army took control of it following violent battles with the ‚ÄúRapid Support‚Äù']\n"
     ]
    },
    {
     "data": {
      "application/vnd.jupyter.widget-view+json": {
       "model_id": "21e5074f7b3d42288670dc6a99b6162e",
       "version_major": 2,
       "version_minor": 0
      },
      "text/plain": [
       "Parsing nodes:   0%|          | 0/1 [00:00<?, ?it/s]"
      ]
     },
     "metadata": {},
     "output_type": "display_data"
    },
    {
     "data": {
      "application/vnd.jupyter.widget-view+json": {
       "model_id": "f127192f5aa44b10babe5f4209569fb5",
       "version_major": 2,
       "version_minor": 0
      },
      "text/plain": [
       "Generating embeddings:   0%|          | 0/1 [00:00<?, ?it/s]"
      ]
     },
     "metadata": {},
     "output_type": "display_data"
    },
    {
     "name": "stdout",
     "output_type": "stream",
     "text": [
      "59 Military operations (battle, shelling)\n",
      "['On March 14, at least 14 people, most of them children, were killed in an airstrike launched by an Antonov of the Sudanese Air Force on El Hadra village school in the Nuba Mountains, South Kordofan. Three other places were also hit. The Sudan People‚Äôs Liberation Movement-North under the leadership of Abdelaziz El Hilu (SPLM-N El Hilu) strongly condemned the attack. The Sudanese Air Force mainly targeted Habila and the villages of El Hadra, El Kargal, and El Geniziya Moro in Dalami, a source living in the area reported to Radio Dabanga. The losses were mainly concentrated in El Hadra, where two teachers, 11 students between 9 and 19 years old, and an unidentified person were killed.']\n"
     ]
    },
    {
     "data": {
      "application/vnd.jupyter.widget-view+json": {
       "model_id": "c752ea990f2f4e52a1926a2dfd54b755",
       "version_major": 2,
       "version_minor": 0
      },
      "text/plain": [
       "Parsing nodes:   0%|          | 0/1 [00:00<?, ?it/s]"
      ]
     },
     "metadata": {},
     "output_type": "display_data"
    },
    {
     "data": {
      "application/vnd.jupyter.widget-view+json": {
       "model_id": "bd857e17111741d18226557f1b567190",
       "version_major": 2,
       "version_minor": 0
      },
      "text/plain": [
       "Generating embeddings:   0%|          | 0/1 [00:00<?, ?it/s]"
      ]
     },
     "metadata": {},
     "output_type": "display_data"
    },
    {
     "name": "stdout",
     "output_type": "stream",
     "text": [
      "60 Indiscriminate use of weapons\n",
      "['Healthcare facilities severely impacted by the war in Babanusa in West Kordofan.']\n"
     ]
    },
    {
     "data": {
      "application/vnd.jupyter.widget-view+json": {
       "model_id": "96bafd5cdc444ba5a3a84867ea011c1b",
       "version_major": 2,
       "version_minor": 0
      },
      "text/plain": [
       "Parsing nodes:   0%|          | 0/1 [00:00<?, ?it/s]"
      ]
     },
     "metadata": {},
     "output_type": "display_data"
    },
    {
     "data": {
      "application/vnd.jupyter.widget-view+json": {
       "model_id": "0c8006725c6840eb8b553ca3fe8cfeec",
       "version_major": 2,
       "version_minor": 0
      },
      "text/plain": [
       "Generating embeddings:   0%|          | 0/1 [00:00<?, ?it/s]"
      ]
     },
     "metadata": {},
     "output_type": "display_data"
    },
    {
     "name": "stdout",
     "output_type": "stream",
     "text": [
      "61 Damage or destruction of civilian critical infrastructure\n",
      "['\"Abu Qouta Resistance Committees. statement. The Rapid Support militia in Abu Qouta killed citizen Faris Mahmoud Muhammad Awad Al-Karim inside his home After they entered him in the middle of the night and shot him with gunfire. We belong to God and to Him we shall return. May God have mercy on him and forgive him, and may God make his abode Paradise.\"']\n"
     ]
    },
    {
     "data": {
      "application/vnd.jupyter.widget-view+json": {
       "model_id": "72ffcd09f3f64afeb4f2dde09c37740b",
       "version_major": 2,
       "version_minor": 0
      },
      "text/plain": [
       "Parsing nodes:   0%|          | 0/1 [00:00<?, ?it/s]"
      ]
     },
     "metadata": {},
     "output_type": "display_data"
    },
    {
     "data": {
      "application/vnd.jupyter.widget-view+json": {
       "model_id": "e36c36b4f8d4435aaa26e02ea34b5e25",
       "version_major": 2,
       "version_minor": 0
      },
      "text/plain": [
       "Generating embeddings:   0%|          | 0/1 [00:00<?, ?it/s]"
      ]
     },
     "metadata": {},
     "output_type": "display_data"
    },
    {
     "name": "stdout",
     "output_type": "stream",
     "text": [
      "62 Extrajudicial killing\n",
      "['RSF militiamen raped the nurses at Al Hasahysa Hospital in Gezira State during their service shift .The hospital has stopped operations. Hundreds of thousands of people in the surrounding villages have lost their only access to health care.']\n"
     ]
    },
    {
     "data": {
      "application/vnd.jupyter.widget-view+json": {
       "model_id": "d95df37adab345d4a04e7cfe3b9c9f85",
       "version_major": 2,
       "version_minor": 0
      },
      "text/plain": [
       "Parsing nodes:   0%|          | 0/1 [00:00<?, ?it/s]"
      ]
     },
     "metadata": {},
     "output_type": "display_data"
    },
    {
     "data": {
      "application/vnd.jupyter.widget-view+json": {
       "model_id": "de700b79ce4c4b478d01a8b407cde3f6",
       "version_major": 2,
       "version_minor": 0
      },
      "text/plain": [
       "Generating embeddings:   0%|          | 0/1 [00:00<?, ?it/s]"
      ]
     },
     "metadata": {},
     "output_type": "display_data"
    },
    {
     "name": "stdout",
     "output_type": "stream",
     "text": [
      "63 Gender-based or other conflict-related sexual violence\n",
      "['Brigadier General Al-Senussi has expressed deep concern over the actions of the Rapid Support Forces (RSF), led by Mohamed Hamdan Dagalo, in Omdurman. He highlighted the extensive looting and destruction inflicted upon the Omdurman market by the RSF, referring to them as the \"Al-Dagalo terrorist militia.\" This sentiment aligns with reports indicating that the RSF has been involved in widespread looting across various regions, including Khartoum and Omdurman, leading to the establishment of so-called \"Dagalo markets\" where stolen goods are sold.']\n"
     ]
    },
    {
     "data": {
      "application/vnd.jupyter.widget-view+json": {
       "model_id": "75fc425844b5479ca69d0aeff50cc2a6",
       "version_major": 2,
       "version_minor": 0
      },
      "text/plain": [
       "Parsing nodes:   0%|          | 0/1 [00:00<?, ?it/s]"
      ]
     },
     "metadata": {},
     "output_type": "display_data"
    },
    {
     "data": {
      "application/vnd.jupyter.widget-view+json": {
       "model_id": "4c86ea01448743b2968e43e1c98fb370",
       "version_major": 2,
       "version_minor": 0
      },
      "text/plain": [
       "Generating embeddings:   0%|          | 0/1 [00:00<?, ?it/s]"
      ]
     },
     "metadata": {},
     "output_type": "display_data"
    },
    {
     "name": "stdout",
     "output_type": "stream",
     "text": [
      "64 Damage or destruction, looting, or theft of cultural heritage\n",
      "['A Sudanese child was shot dead in the Ibtenki camp for Sudanese refugees in eastern Chad, with another refugee sustaining injuries from stray bullets on Monday.¬†']\n"
     ]
    },
    {
     "data": {
      "application/vnd.jupyter.widget-view+json": {
       "model_id": "33f2bd84bdda4f02a188c8c20b29d4b2",
       "version_major": 2,
       "version_minor": 0
      },
      "text/plain": [
       "Parsing nodes:   0%|          | 0/1 [00:00<?, ?it/s]"
      ]
     },
     "metadata": {},
     "output_type": "display_data"
    },
    {
     "data": {
      "application/vnd.jupyter.widget-view+json": {
       "model_id": "f36b70fe004f49bbaae6ee365a7b034d",
       "version_major": 2,
       "version_minor": 0
      },
      "text/plain": [
       "Generating embeddings:   0%|          | 0/1 [00:00<?, ?it/s]"
      ]
     },
     "metadata": {},
     "output_type": "display_data"
    },
    {
     "name": "stdout",
     "output_type": "stream",
     "text": [
      "65 Indiscriminate use of weapons\n",
      "['The Sudanese army launched airstrikes on March 15 targeting Rapid Support Forces (RSF) positions East of El Fasher, North Darfur in view of disrupting them and preventing RSF fighters to enter the city center.']\n"
     ]
    },
    {
     "data": {
      "application/vnd.jupyter.widget-view+json": {
       "model_id": "100e8efa857c4b65b87cf5226d8c58c4",
       "version_major": 2,
       "version_minor": 0
      },
      "text/plain": [
       "Parsing nodes:   0%|          | 0/1 [00:00<?, ?it/s]"
      ]
     },
     "metadata": {},
     "output_type": "display_data"
    },
    {
     "data": {
      "application/vnd.jupyter.widget-view+json": {
       "model_id": "73df20e9a9734615afe8c5762035ddab",
       "version_major": 2,
       "version_minor": 0
      },
      "text/plain": [
       "Generating embeddings:   0%|          | 0/1 [00:00<?, ?it/s]"
      ]
     },
     "metadata": {},
     "output_type": "display_data"
    },
    {
     "name": "stdout",
     "output_type": "stream",
     "text": [
      "66 Military operations (battle, shelling)\n",
      "['Since seizing the state capital, Wad Madani, in December, the RSF has allegedly engaged in looting, violence, and extortion for four consecutive months. On March 15, local Resistance Committees in Hasahisa reported that the RSF killed eight civilians and injured nine others in the village of Umm Jeiris near Tabat. These attacks were allegedly followed by widespread looting of homes, private property, and even agricultural equipment. They also attacked El Halila (aka El Halaween). The attack on Um Jereis   resulted in the death of eight villagers and the injury of nine others.  In El Halila, the RSF fighters met a strong resistance from the vilalgers. Several villagers were injured, and four were, reportedly,in critical condition.']\n"
     ]
    },
    {
     "data": {
      "application/vnd.jupyter.widget-view+json": {
       "model_id": "100ee868571e4b39a480ab34b60fe0ff",
       "version_major": 2,
       "version_minor": 0
      },
      "text/plain": [
       "Parsing nodes:   0%|          | 0/1 [00:00<?, ?it/s]"
      ]
     },
     "metadata": {},
     "output_type": "display_data"
    },
    {
     "data": {
      "application/vnd.jupyter.widget-view+json": {
       "model_id": "52df776334704b89b21fd518c432d815",
       "version_major": 2,
       "version_minor": 0
      },
      "text/plain": [
       "Generating embeddings:   0%|          | 0/1 [00:00<?, ?it/s]"
      ]
     },
     "metadata": {},
     "output_type": "display_data"
    },
    {
     "name": "stdout",
     "output_type": "stream",
     "text": [
      "67 Willful killing of civilians\n",
      "['On March 15, in the village of Al-Halila Al-Halaween, RSF elements reportedly attempted to raid the village but were met with resistance from the villagers. The ensuing confrontation resulted in several civilian injuries, including four in critical condition.']\n"
     ]
    },
    {
     "data": {
      "application/vnd.jupyter.widget-view+json": {
       "model_id": "53badbf415d44f6fb3189ffebdc6dcad",
       "version_major": 2,
       "version_minor": 0
      },
      "text/plain": [
       "Parsing nodes:   0%|          | 0/1 [00:00<?, ?it/s]"
      ]
     },
     "metadata": {},
     "output_type": "display_data"
    },
    {
     "data": {
      "application/vnd.jupyter.widget-view+json": {
       "model_id": "94503b668256450d8aad10145d11ceb3",
       "version_major": 2,
       "version_minor": 0
      },
      "text/plain": [
       "Generating embeddings:   0%|          | 0/1 [00:00<?, ?it/s]"
      ]
     },
     "metadata": {},
     "output_type": "display_data"
    },
    {
     "name": "stdout",
     "output_type": "stream",
     "text": [
      "68 Military operations (battle, shelling)\n",
      "['On March 16, the Sudanese army clashed with the Rapid Support Forces (RSF) on two fronts, repelling an attack on the Signal Corps Khartoum Bahri,  intensifying fighting in Babanusa, West Kordofan State where the RSF launched a new attack seeking control of the city‚Äôs 22nd Infantry Division headquarters. Military sources reported heavy losses for the RSF, including destroyed vehicles and numerous casualties in the clash of Khartoum. Number of fatalities is undetermined.']\n"
     ]
    },
    {
     "data": {
      "application/vnd.jupyter.widget-view+json": {
       "model_id": "4c909bb96c6347a58a50b689fc95f203",
       "version_major": 2,
       "version_minor": 0
      },
      "text/plain": [
       "Parsing nodes:   0%|          | 0/1 [00:00<?, ?it/s]"
      ]
     },
     "metadata": {},
     "output_type": "display_data"
    },
    {
     "data": {
      "application/vnd.jupyter.widget-view+json": {
       "model_id": "608dc774556e410aa378795d7b083008",
       "version_major": 2,
       "version_minor": 0
      },
      "text/plain": [
       "Generating embeddings:   0%|          | 0/1 [00:00<?, ?it/s]"
      ]
     },
     "metadata": {},
     "output_type": "display_data"
    },
    {
     "name": "stdout",
     "output_type": "stream",
     "text": [
      "69 Military operations (battle, shelling)\n",
      "['After overnight battles between the RSF and the Sudanese army, and after gains from the army here in the city of Omdurman, the Sudanese army was able to retake control of the station']\n"
     ]
    },
    {
     "data": {
      "application/vnd.jupyter.widget-view+json": {
       "model_id": "5fa67940c2da44a8b62542f383986a02",
       "version_major": 2,
       "version_minor": 0
      },
      "text/plain": [
       "Parsing nodes:   0%|          | 0/1 [00:00<?, ?it/s]"
      ]
     },
     "metadata": {},
     "output_type": "display_data"
    },
    {
     "data": {
      "application/vnd.jupyter.widget-view+json": {
       "model_id": "3e26cb430d874d769d1ae30e94bc2306",
       "version_major": 2,
       "version_minor": 0
      },
      "text/plain": [
       "Generating embeddings:   0%|          | 0/1 [00:00<?, ?it/s]"
      ]
     },
     "metadata": {},
     "output_type": "display_data"
    },
    {
     "name": "stdout",
     "output_type": "stream",
     "text": [
      "70 Military operations (battle, shelling)\n",
      "['The  Sudanese Emergency Lawyers Initiative (ELI) released a report  on March 17 documenting  widespread human rights abuses in Al Jazirah State since the conflict began in April 2023. The report documents 248 civilian deaths and 347 injuries at the hands of the Rapid Support Forces (RSF) between  April 16, 2023 and March 7, 2024. According to the ELI, the RSF is responsible for violations in 156 locations, while Sudanese Air Force bombings struck 36 areas. The violence includes extrajudicial killings, random shootings in civilian areas, and seizing control of areas with no military presence. The violence triggered a mass displacement of hundreds of thousands who fled to Sennar, White Nile, and northern and eastern states, fearing further violence. The ELI report was based on interviews with \"18 victims and the testimonies of 62 eyewitnesses from villages and neighbourhoods\".']\n"
     ]
    },
    {
     "data": {
      "application/vnd.jupyter.widget-view+json": {
       "model_id": "aec7fb1909cc40ddaa544200691b86b7",
       "version_major": 2,
       "version_minor": 0
      },
      "text/plain": [
       "Parsing nodes:   0%|          | 0/1 [00:00<?, ?it/s]"
      ]
     },
     "metadata": {},
     "output_type": "display_data"
    },
    {
     "data": {
      "application/vnd.jupyter.widget-view+json": {
       "model_id": "5a7ede08612d47f5821bd82ec1d9f151",
       "version_major": 2,
       "version_minor": 0
      },
      "text/plain": [
       "Generating embeddings:   0%|          | 0/1 [00:00<?, ?it/s]"
      ]
     },
     "metadata": {},
     "output_type": "display_data"
    },
    {
     "name": "stdout",
     "output_type": "stream",
     "text": [
      "71 Extrajudicial killing\n",
      "['The Sudanese Doctors Syndicate condemned on March 17 the rape of a nurse and two relatives of patients, allegedly by RSF elements, at the Hasaheisa Children Hospital last week.\\nThe nurse first witnessed the rape of the two others and began screaming and calling for help. She was then raped herself.']\n"
     ]
    },
    {
     "data": {
      "application/vnd.jupyter.widget-view+json": {
       "model_id": "9b8d0eea20734934a6e9508eb8fdf48d",
       "version_major": 2,
       "version_minor": 0
      },
      "text/plain": [
       "Parsing nodes:   0%|          | 0/1 [00:00<?, ?it/s]"
      ]
     },
     "metadata": {},
     "output_type": "display_data"
    },
    {
     "data": {
      "application/vnd.jupyter.widget-view+json": {
       "model_id": "fdd3130c7c5242aea1c865e3ba100fbd",
       "version_major": 2,
       "version_minor": 0
      },
      "text/plain": [
       "Generating embeddings:   0%|          | 0/1 [00:00<?, ?it/s]"
      ]
     },
     "metadata": {},
     "output_type": "display_data"
    },
    {
     "name": "stdout",
     "output_type": "stream",
     "text": [
      "72 Gender-based or other conflict-related sexual violence\n",
      "['For three consecutive days, fierce fighting has raged between the Sudanese army and the Rapid Support Forces (RSF) in Babanusa, West Kordofan.  The RSF reportedly besieged the headquarters of the army‚Äôs 22nd Infantry Division and the 89th Haggana Brigade. The Sudanese army fiercely defended its position using ground forces and military aircraft. The battle resulted in significant losses for the RSF and numerous civilian deaths and injuries, according to local sources. The ongoing clashes have left a trail of civilian casualties and threaten a humanitarian crisis.']\n"
     ]
    },
    {
     "data": {
      "application/vnd.jupyter.widget-view+json": {
       "model_id": "759be7464d544f2ca48a599b38adbc21",
       "version_major": 2,
       "version_minor": 0
      },
      "text/plain": [
       "Parsing nodes:   0%|          | 0/1 [00:00<?, ?it/s]"
      ]
     },
     "metadata": {},
     "output_type": "display_data"
    },
    {
     "data": {
      "application/vnd.jupyter.widget-view+json": {
       "model_id": "e03c2a35296344fba4da5f17fd6c0df2",
       "version_major": 2,
       "version_minor": 0
      },
      "text/plain": [
       "Generating embeddings:   0%|          | 0/1 [00:00<?, ?it/s]"
      ]
     },
     "metadata": {},
     "output_type": "display_data"
    },
    {
     "name": "stdout",
     "output_type": "stream",
     "text": [
      "73 Military operations (battle, shelling)\n",
      "['On March 18, The Sudanese army repelled an attack of the RSF  in Al-Faw, Gedaref state. Besides this front, battles continue  in Khartoum North and West Kordofan. The Army claimed to have have destroyed and captured several RSF vehicles, and killed dozens of attackers. Two Army soldiers were also killed.']\n"
     ]
    },
    {
     "data": {
      "application/vnd.jupyter.widget-view+json": {
       "model_id": "8a34224e871b420bbc3773a146119afe",
       "version_major": 2,
       "version_minor": 0
      },
      "text/plain": [
       "Parsing nodes:   0%|          | 0/1 [00:00<?, ?it/s]"
      ]
     },
     "metadata": {},
     "output_type": "display_data"
    },
    {
     "data": {
      "application/vnd.jupyter.widget-view+json": {
       "model_id": "53c0de1819ac48e8bb3cce72af2aa04e",
       "version_major": 2,
       "version_minor": 0
      },
      "text/plain": [
       "Generating embeddings:   0%|          | 0/1 [00:00<?, ?it/s]"
      ]
     },
     "metadata": {},
     "output_type": "display_data"
    },
    {
     "name": "stdout",
     "output_type": "stream",
     "text": [
      "74 Military operations (battle, shelling)\n",
      "['On March 18,  violents clashes opposed the Sudanese Army and the RSF in the morning near the Signal Corps. Heavy gunfire and explosions rocked Khartoum Bahri as the Army bombarded RSF positions with artillery from Omdurman. Military sources claim Army aircraft and artillery thwarted the RSF attack. The RSF reportedly withdrew some forces north to Halfaya suburb while sustaining vehicle losses. The Sudanese army later issued a statement saying its forces repelled the attack, destroying RSF vehicles, seizing two tanks, and killing dozens of RSF members.']\n"
     ]
    },
    {
     "data": {
      "application/vnd.jupyter.widget-view+json": {
       "model_id": "52671a5b71764bdf96bf89bc1767501a",
       "version_major": 2,
       "version_minor": 0
      },
      "text/plain": [
       "Parsing nodes:   0%|          | 0/1 [00:00<?, ?it/s]"
      ]
     },
     "metadata": {},
     "output_type": "display_data"
    },
    {
     "data": {
      "application/vnd.jupyter.widget-view+json": {
       "model_id": "a7f51a94bc284270bbaf17a2a2a41be5",
       "version_major": 2,
       "version_minor": 0
      },
      "text/plain": [
       "Generating embeddings:   0%|          | 0/1 [00:00<?, ?it/s]"
      ]
     },
     "metadata": {},
     "output_type": "display_data"
    },
    {
     "name": "stdout",
     "output_type": "stream",
     "text": [
      "75 Military operations (battle, shelling)\n",
      "['Local sources reported Sudanese Air Force raids on RSF positions near El Fasher on Monday morning. The RSF responded with anti-aircraft fire and shelled the main market and army headquarters in El Fasher.']\n"
     ]
    },
    {
     "data": {
      "application/vnd.jupyter.widget-view+json": {
       "model_id": "597b5c2f94e5445ca2e0c7b5d603fcea",
       "version_major": 2,
       "version_minor": 0
      },
      "text/plain": [
       "Parsing nodes:   0%|          | 0/1 [00:00<?, ?it/s]"
      ]
     },
     "metadata": {},
     "output_type": "display_data"
    },
    {
     "data": {
      "application/vnd.jupyter.widget-view+json": {
       "model_id": "9cc75429f02a4f008724f428f75929de",
       "version_major": 2,
       "version_minor": 0
      },
      "text/plain": [
       "Generating embeddings:   0%|          | 0/1 [00:00<?, ?it/s]"
      ]
     },
     "metadata": {},
     "output_type": "display_data"
    },
    {
     "name": "stdout",
     "output_type": "stream",
     "text": [
      "76 Military operations (battle, shelling)\n",
      "['On March 19, late in the night,  the Sudanese military aircraft launched airstrikes late Tuesday night in North Darfur, targeting El Fasher, Kabkabiya, and Badia al-Zarq, near the borders with Chad and Libya. Strikes within El Fasher targeted the Al-Jabal, Al-Usra, and Al-Jama‚Äôa neighbourhoods near factories known as RSF strongholds. They also targeted Kabkabiya and Badia al-Zarq localities.\\nIn response, the RSF unleashed intense anti-aircraft fire.']\n"
     ]
    },
    {
     "data": {
      "application/vnd.jupyter.widget-view+json": {
       "model_id": "3d026b2fa0794c41a8ca60fdc76907f0",
       "version_major": 2,
       "version_minor": 0
      },
      "text/plain": [
       "Parsing nodes:   0%|          | 0/1 [00:00<?, ?it/s]"
      ]
     },
     "metadata": {},
     "output_type": "display_data"
    },
    {
     "data": {
      "application/vnd.jupyter.widget-view+json": {
       "model_id": "fd6279d3e3e14a4db839571c2c1beebe",
       "version_major": 2,
       "version_minor": 0
      },
      "text/plain": [
       "Generating embeddings:   0%|          | 0/1 [00:00<?, ?it/s]"
      ]
     },
     "metadata": {},
     "output_type": "display_data"
    },
    {
     "name": "stdout",
     "output_type": "stream",
     "text": [
      "77 Military operations (battle, shelling)\n",
      "['The UN has been receiving increasing reports of trafficking in persons, especially women and girls, for purposes of sexual exploitation and sexual slavery, child and forced marriage, and the recruitment of boys for participation in hostilities in Sudan. ‚ÄúWe are appalled by reports of women and girls being sold at slave markets in areas controlled by RSF forces and other armed groups, including in North Darfur,‚Äù the UN experts said. The experts also expressed concern about the increase in child, early and forced marriage, reportedly a result of family separation, and gender-based violence, including rape and unwanted pregnancies.']\n"
     ]
    },
    {
     "data": {
      "application/vnd.jupyter.widget-view+json": {
       "model_id": "cb7ffd9593dc40afba7a9e4e5277f9ea",
       "version_major": 2,
       "version_minor": 0
      },
      "text/plain": [
       "Parsing nodes:   0%|          | 0/1 [00:00<?, ?it/s]"
      ]
     },
     "metadata": {},
     "output_type": "display_data"
    },
    {
     "data": {
      "application/vnd.jupyter.widget-view+json": {
       "model_id": "663faf97eb1047a582b28cf750eb4452",
       "version_major": 2,
       "version_minor": 0
      },
      "text/plain": [
       "Generating embeddings:   0%|          | 0/1 [00:00<?, ?it/s]"
      ]
     },
     "metadata": {},
     "output_type": "display_data"
    },
    {
     "name": "stdout",
     "output_type": "stream",
     "text": [
      "78 Human trafficking\n",
      "['A Sudanese military airstrike on Friday tragically killed three civilians, including two children, and injured four others in West Kordofan state. The strike targeted the town of Shuaa, 10 kilometres north of Babanusa, a region already affected by intense fighting between the army and the Rapid Support Forces (RSF).']\n"
     ]
    },
    {
     "data": {
      "application/vnd.jupyter.widget-view+json": {
       "model_id": "98bfa264ee864303aee33d9f34b4116c",
       "version_major": 2,
       "version_minor": 0
      },
      "text/plain": [
       "Parsing nodes:   0%|          | 0/1 [00:00<?, ?it/s]"
      ]
     },
     "metadata": {},
     "output_type": "display_data"
    },
    {
     "data": {
      "application/vnd.jupyter.widget-view+json": {
       "model_id": "d1cbe6f1cd0f4c94bd97466643dc223c",
       "version_major": 2,
       "version_minor": 0
      },
      "text/plain": [
       "Generating embeddings:   0%|          | 0/1 [00:00<?, ?it/s]"
      ]
     },
     "metadata": {},
     "output_type": "display_data"
    },
    {
     "name": "stdout",
     "output_type": "stream",
     "text": [
      "79 Military operations (battle, shelling)\n",
      "['The Secretary of Freedoms at the Sudanese Journalists Union, Iman Fadl Al-Sayyid, has said that 360 cases of violations against journalists have been documented, with 90 percent of media institutions in Sudan destroyed.She told Radio Tamazuj that Journalists have been subjected to harassment daily by the belligerents since the outbreak of the war. ']\n"
     ]
    },
    {
     "data": {
      "application/vnd.jupyter.widget-view+json": {
       "model_id": "f81a098361904e579ff4c4b213e6e39d",
       "version_major": 2,
       "version_minor": 0
      },
      "text/plain": [
       "Parsing nodes:   0%|          | 0/1 [00:00<?, ?it/s]"
      ]
     },
     "metadata": {},
     "output_type": "display_data"
    },
    {
     "data": {
      "application/vnd.jupyter.widget-view+json": {
       "model_id": "5a1084afc32d47fd994f958902d0ae38",
       "version_major": 2,
       "version_minor": 0
      },
      "text/plain": [
       "Generating embeddings:   0%|          | 0/1 [00:00<?, ?it/s]"
      ]
     },
     "metadata": {},
     "output_type": "display_data"
    },
    {
     "name": "stdout",
     "output_type": "stream",
     "text": [
      "80 Violent crackdowns on protesters/opponents/civil rights abuse\n",
      "['In the morning of March 25, the Sudanese army conducted several airstrikes in El Fasher and Kutum town in North Darfur.  The El Fasher Resistance Committees reported that ‚Äúthe warplanes launched air strikes on various parts of El Fasher, on the El Wifag neighbourhood in the north, El Masnaa in the east, and Sharg El Wehda in the south, which led to the destruction of homes and factories, and the displacement of people living in El Wifag‚Äù. At least 9 civilians were killed and 14 others injured, including children, as a result of the airstrikes in El Fasher. An undetermined number of RSF fighters, stationed in the Northern and Eastern parts of the city, were also, reportedly, killed. The day before,  the Sudanese Air Force  launched similar airstrikes on RSF positions at the Halouf Gate in the north of El Fasher.']\n"
     ]
    },
    {
     "data": {
      "application/vnd.jupyter.widget-view+json": {
       "model_id": "f55c90062965426c8cbb82d22d0b0933",
       "version_major": 2,
       "version_minor": 0
      },
      "text/plain": [
       "Parsing nodes:   0%|          | 0/1 [00:00<?, ?it/s]"
      ]
     },
     "metadata": {},
     "output_type": "display_data"
    },
    {
     "data": {
      "application/vnd.jupyter.widget-view+json": {
       "model_id": "903c1118146148f6991101e10db10da4",
       "version_major": 2,
       "version_minor": 0
      },
      "text/plain": [
       "Generating embeddings:   0%|          | 0/1 [00:00<?, ?it/s]"
      ]
     },
     "metadata": {},
     "output_type": "display_data"
    },
    {
     "name": "stdout",
     "output_type": "stream",
     "text": [
      "81 Military operations (battle, shelling)\n",
      "['The Sudanese army continued its offensive in western Omdurman and seized control of the Doha neighbourhood and some areas near Souk Libya area, the city‚Äôs largest market. After two months of intense fighting, the army regained most of old Omdurman from the rival Rapid Support Forces (RSF).']\n"
     ]
    },
    {
     "data": {
      "application/vnd.jupyter.widget-view+json": {
       "model_id": "2257eeb581ef4b528ed1d60e98bd4588",
       "version_major": 2,
       "version_minor": 0
      },
      "text/plain": [
       "Parsing nodes:   0%|          | 0/1 [00:00<?, ?it/s]"
      ]
     },
     "metadata": {},
     "output_type": "display_data"
    },
    {
     "data": {
      "application/vnd.jupyter.widget-view+json": {
       "model_id": "436c48c689df42388fd778cdd04eaaae",
       "version_major": 2,
       "version_minor": 0
      },
      "text/plain": [
       "Generating embeddings:   0%|          | 0/1 [00:00<?, ?it/s]"
      ]
     },
     "metadata": {},
     "output_type": "display_data"
    },
    {
     "name": "stdout",
     "output_type": "stream",
     "text": [
      "82 Military operations (battle, shelling)\n",
      "['The RSF detained three of these trucks in (the RSF-controlled) eastern El Fasher. A North Darfur state government official on Wednesday accused the Rapid Support Forces (RSF) of detaining trucks carrying critical aid for malnourished children in El Fasher, the state']\n"
     ]
    },
    {
     "data": {
      "application/vnd.jupyter.widget-view+json": {
       "model_id": "345ee7647dc545df89c2ca83cf3447a3",
       "version_major": 2,
       "version_minor": 0
      },
      "text/plain": [
       "Parsing nodes:   0%|          | 0/1 [00:00<?, ?it/s]"
      ]
     },
     "metadata": {},
     "output_type": "display_data"
    },
    {
     "data": {
      "application/vnd.jupyter.widget-view+json": {
       "model_id": "e5532ef59dee4483a1ab8bb747aad234",
       "version_major": 2,
       "version_minor": 0
      },
      "text/plain": [
       "Generating embeddings:   0%|          | 0/1 [00:00<?, ?it/s]"
      ]
     },
     "metadata": {},
     "output_type": "display_data"
    },
    {
     "name": "stdout",
     "output_type": "stream",
     "text": [
      "83 Unlawful detention\n",
      "['On March 28, Radio Dabanga reported that fierce fighting took place west of the Wad El Bashir fly-over in central Omdurman in the past days, where the Rapid Support Forces (RSF) ambushed combatants of the Sudan Liberation Movement faction under the leadership of Minni Minawi (SLM-MM). There are conflicting reports about who gained control over the strategically important fly-over. Dozens of men were killed on both sides.']\n"
     ]
    },
    {
     "data": {
      "application/vnd.jupyter.widget-view+json": {
       "model_id": "3ae188c77c9b42a18a046d67d9f096c1",
       "version_major": 2,
       "version_minor": 0
      },
      "text/plain": [
       "Parsing nodes:   0%|          | 0/1 [00:00<?, ?it/s]"
      ]
     },
     "metadata": {},
     "output_type": "display_data"
    },
    {
     "data": {
      "application/vnd.jupyter.widget-view+json": {
       "model_id": "fe4a3f6b357c47d690355b13f43f86f1",
       "version_major": 2,
       "version_minor": 0
      },
      "text/plain": [
       "Generating embeddings:   0%|          | 0/1 [00:00<?, ?it/s]"
      ]
     },
     "metadata": {},
     "output_type": "display_data"
    },
    {
     "name": "stdout",
     "output_type": "stream",
     "text": [
      "84 Military operations (battle, shelling)\n",
      "['The Sudan Liberation Movement Minni Minawi (SLM-MM) announced on Thursday (March 28) the deployment of a new 1,500-strong force to combat the Rapid Support Forces (RSF) in various Sudanese regions.In November 2023, the SLM-MM and the Justice and Equality Movement (JEM) declared an end to their neutrality in the ongoing conflict between the Sudanese army and the paramilitary RSF.']\n"
     ]
    },
    {
     "data": {
      "application/vnd.jupyter.widget-view+json": {
       "model_id": "0f3d20ad3347495ca301d1b73b0ae9ea",
       "version_major": 2,
       "version_minor": 0
      },
      "text/plain": [
       "Parsing nodes:   0%|          | 0/1 [00:00<?, ?it/s]"
      ]
     },
     "metadata": {},
     "output_type": "display_data"
    },
    {
     "data": {
      "application/vnd.jupyter.widget-view+json": {
       "model_id": "abc83ef4dd6d48e9b6661aff71ba2d28",
       "version_major": 2,
       "version_minor": 0
      },
      "text/plain": [
       "Generating embeddings:   0%|          | 0/1 [00:00<?, ?it/s]"
      ]
     },
     "metadata": {},
     "output_type": "display_data"
    },
    {
     "name": "stdout",
     "output_type": "stream",
     "text": [
      "85 Movement of military, paramilitary, or other troops and equipment\n",
      "['Warplanes targeted a Rapid Support Forces (RSF) convoy near the city of Mellit in North Darfur on Wednesday, according to a commander in the joint force formed by signatories of the Juba Peace Agreement. The RSF allegedly attempted to block vehicles carrying humanitarian aid destined for El Fasher.']\n"
     ]
    },
    {
     "data": {
      "application/vnd.jupyter.widget-view+json": {
       "model_id": "37925a9ad26c4641b55569c5cc98fb55",
       "version_major": 2,
       "version_minor": 0
      },
      "text/plain": [
       "Parsing nodes:   0%|          | 0/1 [00:00<?, ?it/s]"
      ]
     },
     "metadata": {},
     "output_type": "display_data"
    },
    {
     "data": {
      "application/vnd.jupyter.widget-view+json": {
       "model_id": "33437897406d4973acf3ce9ddda058fb",
       "version_major": 2,
       "version_minor": 0
      },
      "text/plain": [
       "Generating embeddings:   0%|          | 0/1 [00:00<?, ?it/s]"
      ]
     },
     "metadata": {},
     "output_type": "display_data"
    },
    {
     "name": "stdout",
     "output_type": "stream",
     "text": [
      "86 Military operations (battle, shelling)\n",
      "['An RSF raid on the village of Al-Takla Jabara in Al-Jazirah State left eight civilians dead and dozens more injured. The RSF, which took control of the state late last year, faces ongoing accusations of atrocities against civilians.']\n"
     ]
    },
    {
     "data": {
      "application/vnd.jupyter.widget-view+json": {
       "model_id": "31a6749d7d6e43c7b6cee9a83867db24",
       "version_major": 2,
       "version_minor": 0
      },
      "text/plain": [
       "Parsing nodes:   0%|          | 0/1 [00:00<?, ?it/s]"
      ]
     },
     "metadata": {},
     "output_type": "display_data"
    },
    {
     "data": {
      "application/vnd.jupyter.widget-view+json": {
       "model_id": "3bb307133221478c8b09b52efbc3b21c",
       "version_major": 2,
       "version_minor": 0
      },
      "text/plain": [
       "Generating embeddings:   0%|          | 0/1 [00:00<?, ?it/s]"
      ]
     },
     "metadata": {},
     "output_type": "display_data"
    },
    {
     "name": "stdout",
     "output_type": "stream",
     "text": [
      "87 Willful killing of civilians\n",
      "[\"Sudanese Army's  warplanes targeted RSF convoy in N. Kordofan\"]\n"
     ]
    },
    {
     "data": {
      "application/vnd.jupyter.widget-view+json": {
       "model_id": "aaae3319296d44fd980b09857c2c6fd7",
       "version_major": 2,
       "version_minor": 0
      },
      "text/plain": [
       "Parsing nodes:   0%|          | 0/1 [00:00<?, ?it/s]"
      ]
     },
     "metadata": {},
     "output_type": "display_data"
    },
    {
     "data": {
      "application/vnd.jupyter.widget-view+json": {
       "model_id": "23bcf5271f38426a8fef3e721cd9cfe3",
       "version_major": 2,
       "version_minor": 0
      },
      "text/plain": [
       "Generating embeddings:   0%|          | 0/1 [00:00<?, ?it/s]"
      ]
     },
     "metadata": {},
     "output_type": "display_data"
    },
    {
     "name": "stdout",
     "output_type": "stream",
     "text": [
      "88 Military operations (battle, shelling)\n",
      "['The Sudan War Monitor reported on March 29 that  the Sudan Liberation Movement-Transitional Council (SLM-TC) has withdrawn from the Joint Force of Armed Struggle Movements, a unified command gathering several armed groups in North Darfur. There has been discussions and splits among the Darfur rebel movements over where to remain neutral in the current war or side with the Sudanese Armed Forces to fight the RSF militia. Sudan tribune also reported that  the Sudan Liberation Movement-Transitional Council (SLM-TC) and the Gathering of Sudan Liberation Forces (GSLF) are planning to form a new joint force in Darfur in response to the fracturing of the existing joint force.']\n"
     ]
    },
    {
     "data": {
      "application/vnd.jupyter.widget-view+json": {
       "model_id": "8152151096fa45ce876b3bfac902e3ef",
       "version_major": 2,
       "version_minor": 0
      },
      "text/plain": [
       "Parsing nodes:   0%|          | 0/1 [00:00<?, ?it/s]"
      ]
     },
     "metadata": {},
     "output_type": "display_data"
    },
    {
     "data": {
      "application/vnd.jupyter.widget-view+json": {
       "model_id": "f7fc3b24bb3c43f2b5eda69442bb7059",
       "version_major": 2,
       "version_minor": 0
      },
      "text/plain": [
       "Generating embeddings:   0%|          | 0/1 [00:00<?, ?it/s]"
      ]
     },
     "metadata": {},
     "output_type": "display_data"
    },
    {
     "name": "stdout",
     "output_type": "stream",
     "text": [
      "89 Movement of military, paramilitary, or other troops and equipment\n",
      "['On Friday, March 29, three people (civilians) were killed in new attacks by the Sudanese Air Force on neighbourhoods in El Fasher, capital of North Darfur. Rapid Support Forces attacked a convoy of the Sudan Liberation Movement under the leadership of Abdelwahid Nur (SLM-AW) near the city that day.  According to some residents of El Fasher, the airstrike killed at least three people, wounded 11 others, andd destroyed some homes.']\n"
     ]
    },
    {
     "data": {
      "application/vnd.jupyter.widget-view+json": {
       "model_id": "7b47517f67f34d77b81816d101ee330a",
       "version_major": 2,
       "version_minor": 0
      },
      "text/plain": [
       "Parsing nodes:   0%|          | 0/1 [00:00<?, ?it/s]"
      ]
     },
     "metadata": {},
     "output_type": "display_data"
    },
    {
     "data": {
      "application/vnd.jupyter.widget-view+json": {
       "model_id": "31dee2317e5b49249766b26e124d03bc",
       "version_major": 2,
       "version_minor": 0
      },
      "text/plain": [
       "Generating embeddings:   0%|          | 0/1 [00:00<?, ?it/s]"
      ]
     },
     "metadata": {},
     "output_type": "display_data"
    },
    {
     "name": "stdout",
     "output_type": "stream",
     "text": [
      "90 Indiscriminate use of weapons\n",
      "['Three cities of North Darfur were hit by the Sudanese Air Forces‚Äô air strikes early in the morning of April 1st: Kabkabiya, Kutum and Melit. A woman and her daughter were killed and 9 houses were destroyed in Kabkabiya, but no significant losses were recorded in the other cities. The airstrikes on civilian targets were condemned by the RSF who  control the Kabkabiya area as well as by the Sudan Lib√©ration Movement (Transitional Council) who called on the international and regional community to activate a no-fly zone for military flights in the skies of the Darfur region in order to protect civilians. (See video of damages on the web page)']\n"
     ]
    },
    {
     "data": {
      "application/vnd.jupyter.widget-view+json": {
       "model_id": "a532873df8a248ebb9db68923315bac2",
       "version_major": 2,
       "version_minor": 0
      },
      "text/plain": [
       "Parsing nodes:   0%|          | 0/1 [00:00<?, ?it/s]"
      ]
     },
     "metadata": {},
     "output_type": "display_data"
    },
    {
     "data": {
      "application/vnd.jupyter.widget-view+json": {
       "model_id": "85c2a9b33f20491b8507069f845c120a",
       "version_major": 2,
       "version_minor": 0
      },
      "text/plain": [
       "Generating embeddings:   0%|          | 0/1 [00:00<?, ?it/s]"
      ]
     },
     "metadata": {},
     "output_type": "display_data"
    },
    {
     "name": "stdout",
     "output_type": "stream",
     "text": [
      "91 Military operations (battle, shelling)\n",
      "['\"An apparent airstrike destroyed houses and allegedly killed several children in the Soba suburb of Sudan‚Äôs capital Khartoum on April 1\",  Sudan War Monitor reported on April 5. The source added that the\\n\"the  attack took place 1.1 km from the United States embassy, which diplomatic personnel evacuated in April a year ago.\" Several other airstrikes have already targeted this area. Witnesses and survivors in a video filmed in Soba Station Block 1 testified that their houses were destroyed, saying there were no Rapid Support Forces (RSF) soldiers in the area, making civilians the only victims.']\n"
     ]
    },
    {
     "data": {
      "application/vnd.jupyter.widget-view+json": {
       "model_id": "40b43e7b8d3b485f90d7c2d5e1342317",
       "version_major": 2,
       "version_minor": 0
      },
      "text/plain": [
       "Parsing nodes:   0%|          | 0/1 [00:00<?, ?it/s]"
      ]
     },
     "metadata": {},
     "output_type": "display_data"
    },
    {
     "data": {
      "application/vnd.jupyter.widget-view+json": {
       "model_id": "95409e123bcd4942be97dbe7e06c3b78",
       "version_major": 2,
       "version_minor": 0
      },
      "text/plain": [
       "Generating embeddings:   0%|          | 0/1 [00:00<?, ?it/s]"
      ]
     },
     "metadata": {},
     "output_type": "display_data"
    },
    {
     "name": "stdout",
     "output_type": "stream",
     "text": [
      "92 Indiscriminate use of weapons\n",
      "['On April 2,  the Sudan government suspended the work of Saudi state-owned broadcasters Al Arabiya, Al Hadath and UAE-owned Sky News Arabia channel \"due to its lack of commitment to the required professionalism and transparency and failure to renew its licenses\", Sudanese state news agency (SUNA) said. The Sudanese Journalists Syndicate condemned the decision by the information ministry, saying it was a clear violation of freedom of expression and freedom of the press.']\n"
     ]
    },
    {
     "data": {
      "application/vnd.jupyter.widget-view+json": {
       "model_id": "dc0378895a6041d4af18131d4f277079",
       "version_major": 2,
       "version_minor": 0
      },
      "text/plain": [
       "Parsing nodes:   0%|          | 0/1 [00:00<?, ?it/s]"
      ]
     },
     "metadata": {},
     "output_type": "display_data"
    },
    {
     "data": {
      "application/vnd.jupyter.widget-view+json": {
       "model_id": "031a2f8bab7b4839ad8a11ea3efc2475",
       "version_major": 2,
       "version_minor": 0
      },
      "text/plain": [
       "Generating embeddings:   0%|          | 0/1 [00:00<?, ?it/s]"
      ]
     },
     "metadata": {},
     "output_type": "display_data"
    },
    {
     "name": "stdout",
     "output_type": "stream",
     "text": [
      "93 Violent crackdowns on protesters/opponents/civil rights abuse\n",
      "['A drone attack against members of the Al-Baraa Ibn Malik Brigade  who were gathered for a  dinner at Infinity Lounge to break the Ramadan fast in Atbara, River Nile State killed at least 6 people and injures 12 others. The RSF was blamed for the attack. But RSF leaders denied responsibility for the attack. // As reported by the Defense Post, on Tuesday, April 2nd, a drone attack killed 12 people and injured 30  in Atbara in northeast Sudan, a city that had until now been spared the country‚Äôs brutal warfare, a medic and witnesses told AFP.No group immediately claimed the attack.']\n"
     ]
    },
    {
     "data": {
      "application/vnd.jupyter.widget-view+json": {
       "model_id": "c6d7f9ef6d894411b02047bb44cd9d6c",
       "version_major": 2,
       "version_minor": 0
      },
      "text/plain": [
       "Parsing nodes:   0%|          | 0/1 [00:00<?, ?it/s]"
      ]
     },
     "metadata": {},
     "output_type": "display_data"
    },
    {
     "data": {
      "application/vnd.jupyter.widget-view+json": {
       "model_id": "d70903b4d4c7490b9a33aa97e53a58aa",
       "version_major": 2,
       "version_minor": 0
      },
      "text/plain": [
       "Generating embeddings:   0%|          | 0/1 [00:00<?, ?it/s]"
      ]
     },
     "metadata": {},
     "output_type": "display_data"
    },
    {
     "name": "stdout",
     "output_type": "stream",
     "text": [
      "94 Indiscriminate use of weapons\n",
      "['The armed forces of the 22nd Division in Babanusa responded to an attack by the Rapid Support militia in the southeastern direction of the division headquarters. A number of combat vehicles were destroyed and captured, and they suffered heavy casualties.']\n"
     ]
    },
    {
     "data": {
      "application/vnd.jupyter.widget-view+json": {
       "model_id": "c48acd4dad2a4b0a924ee85beb87e601",
       "version_major": 2,
       "version_minor": 0
      },
      "text/plain": [
       "Parsing nodes:   0%|          | 0/1 [00:00<?, ?it/s]"
      ]
     },
     "metadata": {},
     "output_type": "display_data"
    },
    {
     "data": {
      "application/vnd.jupyter.widget-view+json": {
       "model_id": "f85c2d5d370f4ca3b36345cfd46cbd53",
       "version_major": 2,
       "version_minor": 0
      },
      "text/plain": [
       "Generating embeddings:   0%|          | 0/1 [00:00<?, ?it/s]"
      ]
     },
     "metadata": {},
     "output_type": "display_data"
    },
    {
     "name": "stdout",
     "output_type": "stream",
     "text": [
      "95 Military operations (battle, shelling)\n",
      "['Late at night, warplanes launched a number of air strikes in the city of Nyala. The bridge linking Nyala, south and north, was bombed, as well as the driving area in the city center and the neighborhoods of Al-Jir and Texas. There have been no confirmed reports yet of injuries or deaths among civilians.']\n"
     ]
    },
    {
     "data": {
      "application/vnd.jupyter.widget-view+json": {
       "model_id": "05196dcbe30d4709992d78d7a4560a49",
       "version_major": 2,
       "version_minor": 0
      },
      "text/plain": [
       "Parsing nodes:   0%|          | 0/1 [00:00<?, ?it/s]"
      ]
     },
     "metadata": {},
     "output_type": "display_data"
    },
    {
     "data": {
      "application/vnd.jupyter.widget-view+json": {
       "model_id": "180a55e124124291999b02920e7d5b3f",
       "version_major": 2,
       "version_minor": 0
      },
      "text/plain": [
       "Generating embeddings:   0%|          | 0/1 [00:00<?, ?it/s]"
      ]
     },
     "metadata": {},
     "output_type": "display_data"
    },
    {
     "name": "stdout",
     "output_type": "stream",
     "text": [
      "96 Military operations (battle, shelling)\n",
      "['From April 5 to 6,  armed militias, reportedly allied with the paramilitary Rapid Support Forces, launched brutal attacks against villages in the Qurdud Nyama region of South Kordofan. The targeted villages include El Laban and El Salamat along with various other places northwest of El Abbasiya locality.According to reports from eyewitnesses, the attacks resulted in the deaths of at least 100 people, including women and children, with certain sources suggesting an even greater death toll. Residents of the attacked villages  lament the lack of protection from both SPLM-N El Hilu and the Sudanese Armed Forces, accusing them of failing to safeguard their lives and property. ']\n"
     ]
    },
    {
     "data": {
      "application/vnd.jupyter.widget-view+json": {
       "model_id": "ca4151b281ec4141ae1f982beefb9668",
       "version_major": 2,
       "version_minor": 0
      },
      "text/plain": [
       "Parsing nodes:   0%|          | 0/1 [00:00<?, ?it/s]"
      ]
     },
     "metadata": {},
     "output_type": "display_data"
    },
    {
     "data": {
      "application/vnd.jupyter.widget-view+json": {
       "model_id": "d9f89f486b5648b1b990fa829d924022",
       "version_major": 2,
       "version_minor": 0
      },
      "text/plain": [
       "Generating embeddings:   0%|          | 0/1 [00:00<?, ?it/s]"
      ]
     },
     "metadata": {},
     "output_type": "display_data"
    },
    {
     "name": "stdout",
     "output_type": "stream",
     "text": [
      "97 Indiscriminate use of weapons\n",
      "['According to a military source, the Sudanese Armed Forces launched an offensive on April 5 against RSF positions in order to regain control of Al Jazirah state. According to the source, troops advanced from Al-Khayari towards Rapid Support Forces (RSF) positions East of Al-Jazirah and also launched limited  operations are  on the western and southern fronts, near Al-Manaqil and Sennar. Local sources reported intermittent clashes between the RSF and the soldiers of the Army  East of Wad Madani, near the road connecting Al-Jazirah and Gedaref.  The army‚Äôs Air Force also reportedly bombed RSF positions in Shabarqa, East of Wad Madani. This forced the RSF to displace residents from their homes, and use them as makeshift barracks and cover for vehicles from airstrikes. According to the military source, According to the source, the Sudanese Armed Forces  captured Wad Faqisha and Hafira villages.']\n"
     ]
    },
    {
     "data": {
      "application/vnd.jupyter.widget-view+json": {
       "model_id": "c8ce075a14fd4673aef1ce344bb19046",
       "version_major": 2,
       "version_minor": 0
      },
      "text/plain": [
       "Parsing nodes:   0%|          | 0/1 [00:00<?, ?it/s]"
      ]
     },
     "metadata": {},
     "output_type": "display_data"
    },
    {
     "data": {
      "application/vnd.jupyter.widget-view+json": {
       "model_id": "598e5059f6604c3c8276d4e6b8082133",
       "version_major": 2,
       "version_minor": 0
      },
      "text/plain": [
       "Generating embeddings:   0%|          | 0/1 [00:00<?, ?it/s]"
      ]
     },
     "metadata": {},
     "output_type": "display_data"
    },
    {
     "name": "stdout",
     "output_type": "stream",
     "text": [
      "98 Military operations (battle, shelling)\n",
      "['According to a military source, the Sudanese Armed Forces launched an offensive on April 5 against RSF positions in order to regain control of Al Jazirah state. According to the source, troops advanced from Al-Khayari towards Rapid Support Forces (RSF) positions East of Al-Jazirah and also launched limited  operations  on the western and southern fronts, near Al-Manaqil and Sennar. Local sources reported intermittent clashes between the RSF and the soldiers of the Army  East of Wad Madani, near the road connecting Al-Jazirah and Gedaref.  The army‚Äôs Air Force also reportedly bombed RSF positions in Shabarqa, East of Wad Madani. This forced the RSF to displace residents from their homes, and use them as makeshift barracks and cover for vehicles from airstrikes. According to the military source, the Sudanese Armed Forces  captured Wad Faqisha and Hafira villages.']\n"
     ]
    },
    {
     "data": {
      "application/vnd.jupyter.widget-view+json": {
       "model_id": "dfc07da3e2b447c1b280912d54f63ac6",
       "version_major": 2,
       "version_minor": 0
      },
      "text/plain": [
       "Parsing nodes:   0%|          | 0/1 [00:00<?, ?it/s]"
      ]
     },
     "metadata": {},
     "output_type": "display_data"
    },
    {
     "data": {
      "application/vnd.jupyter.widget-view+json": {
       "model_id": "ae83ee3b0d4e45e8a0944fbc68bc99b8",
       "version_major": 2,
       "version_minor": 0
      },
      "text/plain": [
       "Generating embeddings:   0%|          | 0/1 [00:00<?, ?it/s]"
      ]
     },
     "metadata": {},
     "output_type": "display_data"
    },
    {
     "name": "stdout",
     "output_type": "stream",
     "text": [
      "99 Military operations (battle, shelling)\n",
      "['The Rapid Support Militia attacked the village of Umm Adham with an estimated force of about 200 individuals on the back of 60 motor vehicles and more than 4 combat vehicles fully armed with all types of heavy and light weapons for the purpose of subjugating the people of the village of Umm Adham and plundering and robbing them after the village became a haven. Safe for all the people of the neighboring villages whose villages were invaded. They stormed the village and confronted its unarmed people with weapons. The young men of the village bravely tried to defend their land and honor. This unequal confrontation cost columns of wounded, with a number exceeding two hundred wounded, ranging from serious to mild, and nineteen martyrs so far. This is certain, and the number is subject to increase.']\n"
     ]
    },
    {
     "data": {
      "application/vnd.jupyter.widget-view+json": {
       "model_id": "7e654a52b1ca4e92ac723bdb9b8235cd",
       "version_major": 2,
       "version_minor": 0
      },
      "text/plain": [
       "Parsing nodes:   0%|          | 0/1 [00:00<?, ?it/s]"
      ]
     },
     "metadata": {},
     "output_type": "display_data"
    },
    {
     "data": {
      "application/vnd.jupyter.widget-view+json": {
       "model_id": "d1e6f7a1085943bfb8236dbb0d1ca0d1",
       "version_major": 2,
       "version_minor": 0
      },
      "text/plain": [
       "Generating embeddings:   0%|          | 0/1 [00:00<?, ?it/s]"
      ]
     },
     "metadata": {},
     "output_type": "display_data"
    },
    {
     "name": "stdout",
     "output_type": "stream",
     "text": [
      "100 Military operations (battle, shelling)\n",
      "['On Saturday, April 6th, the Sudan Doctors Committee reported that the RSF massacred 28 people in the village of in ‚Äúthe village of Um Adam‚Äù , about 93 miles south of Khartoum, the capital city. More than  240 people  were also wounded in the attack.']\n"
     ]
    },
    {
     "data": {
      "application/vnd.jupyter.widget-view+json": {
       "model_id": "a748ca58aa934098861ecd3b185fbd0b",
       "version_major": 2,
       "version_minor": 0
      },
      "text/plain": [
       "Parsing nodes:   0%|          | 0/1 [00:00<?, ?it/s]"
      ]
     },
     "metadata": {},
     "output_type": "display_data"
    },
    {
     "data": {
      "application/vnd.jupyter.widget-view+json": {
       "model_id": "3ee3ee8005b44a3cac15a4fb67dc515f",
       "version_major": 2,
       "version_minor": 0
      },
      "text/plain": [
       "Generating embeddings:   0%|          | 0/1 [00:00<?, ?it/s]"
      ]
     },
     "metadata": {},
     "output_type": "display_data"
    },
    {
     "name": "stdout",
     "output_type": "stream",
     "text": [
      "101 Willful killing of civilians\n",
      "['On  April 7, clashes between the RSF and the Sudanese Armed Forces were reported in the Eastern region of Al Jazirah state, and airstrikes against the RSF positions in the southernm, Western and Eastern parts of the state. While the Sudanese Armed Forces claimed to have captured Al-Qalaa Al-Bayda in Um Al-Qura locality, about 30 kilometres east of the state capital Wad Madani, the RSF commander, Major General Abu Aqla Kika, denied this claim. According to reports received from the Wad Madani Resistance Committees, two civilians in Sharif Yaqoub village were killed by  flying shrapnel.']\n"
     ]
    },
    {
     "data": {
      "application/vnd.jupyter.widget-view+json": {
       "model_id": "65a0f1e09aaf40c8bf374a5445849e31",
       "version_major": 2,
       "version_minor": 0
      },
      "text/plain": [
       "Parsing nodes:   0%|          | 0/1 [00:00<?, ?it/s]"
      ]
     },
     "metadata": {},
     "output_type": "display_data"
    },
    {
     "data": {
      "application/vnd.jupyter.widget-view+json": {
       "model_id": "ccf2be17251a49879150bfa3239ba69c",
       "version_major": 2,
       "version_minor": 0
      },
      "text/plain": [
       "Generating embeddings:   0%|          | 0/1 [00:00<?, ?it/s]"
      ]
     },
     "metadata": {},
     "output_type": "display_data"
    },
    {
     "name": "stdout",
     "output_type": "stream",
     "text": [
      "102 Military operations (battle, shelling)\n",
      "['On April 9th in the morning, around  9:30 am, three drones reportedly approached the border city of  Gedaref,  from the northwest, buzzing over residential areas. One drone crashed into the mosque at the General Intelligence Service headquarters in the Al-Mutamaf neighbourhood, injuring a security officer and a civilian bystander. A second one was shot down by  Sudan‚Äôs 2nd Infantry Division‚Äôs anti-aircraft defences successfully near the Gedaref Model School. The third drone, which was  targeting the National Service headquarters, was also shot down. No group claimed responsibility for the attacks. These latest attacks shows a violent escalation of the conflict to previously unaffected regions like Gedaref which was considered a safe haven for displaced civilians.']\n"
     ]
    },
    {
     "data": {
      "application/vnd.jupyter.widget-view+json": {
       "model_id": "32f9c4675047442eb156a3249e923f1e",
       "version_major": 2,
       "version_minor": 0
      },
      "text/plain": [
       "Parsing nodes:   0%|          | 0/1 [00:00<?, ?it/s]"
      ]
     },
     "metadata": {},
     "output_type": "display_data"
    },
    {
     "data": {
      "application/vnd.jupyter.widget-view+json": {
       "model_id": "4c556720da4c463a975c5e8080d09c01",
       "version_major": 2,
       "version_minor": 0
      },
      "text/plain": [
       "Generating embeddings:   0%|          | 0/1 [00:00<?, ?it/s]"
      ]
     },
     "metadata": {},
     "output_type": "display_data"
    },
    {
     "name": "stdout",
     "output_type": "stream",
     "text": [
      "103 Military operations (battle, shelling)\n",
      "['On April 10, The UN High Commissioner for Human Rights reported that at least 118 people had been subjected to sexual violence, including rape, gang rape, and attempted rape in Sudan as of mid-December 2023, including 19 children. Many attacks occured in homes and on the streets, that report said, adding that only four victims of sexual violence were willing and able to report to the authorities, owing to stigma, distrust of the justice system, the collapse of the institutions of justice, and fear of reprisals. ']\n"
     ]
    },
    {
     "data": {
      "application/vnd.jupyter.widget-view+json": {
       "model_id": "86b009c5529f4a3f98a79f9f54b937ba",
       "version_major": 2,
       "version_minor": 0
      },
      "text/plain": [
       "Parsing nodes:   0%|          | 0/1 [00:00<?, ?it/s]"
      ]
     },
     "metadata": {},
     "output_type": "display_data"
    },
    {
     "data": {
      "application/vnd.jupyter.widget-view+json": {
       "model_id": "69cd7e5e0e4b4b8ba075573264d3f42d",
       "version_major": 2,
       "version_minor": 0
      },
      "text/plain": [
       "Generating embeddings:   0%|          | 0/1 [00:00<?, ?it/s]"
      ]
     },
     "metadata": {},
     "output_type": "display_data"
    },
    {
     "name": "stdout",
     "output_type": "stream",
     "text": [
      "104 Gender-based or other conflict-related sexual violence\n",
      "['On Thursday, April 11th, an artillery shelling  struck Al-Jarif‚Äôs eastern Hab Al-Naseem neighbourhood (Khartoum state), killing at least 13 people and injuring others. The Al-Jarif Emergency Room confirmed the casualties but did not assign blame. However, local activists believe the Rapid Support Forces (RSF) are responsible. They claim that  RSF controls much of the eastern Nile region and fired on a residential area where a social gathering was taking place. This resulted in civilian casualties, including women and children.']\n"
     ]
    },
    {
     "data": {
      "application/vnd.jupyter.widget-view+json": {
       "model_id": "8895d73634164b1484a99915aff04cdf",
       "version_major": 2,
       "version_minor": 0
      },
      "text/plain": [
       "Parsing nodes:   0%|          | 0/1 [00:00<?, ?it/s]"
      ]
     },
     "metadata": {},
     "output_type": "display_data"
    },
    {
     "data": {
      "application/vnd.jupyter.widget-view+json": {
       "model_id": "0c81a07b36ad432bbca05d3a84d18a6c",
       "version_major": 2,
       "version_minor": 0
      },
      "text/plain": [
       "Generating embeddings:   0%|          | 0/1 [00:00<?, ?it/s]"
      ]
     },
     "metadata": {},
     "output_type": "display_data"
    },
    {
     "name": "stdout",
     "output_type": "stream",
     "text": [
      "105 Indiscriminate use of weapons\n",
      "[\"On April 11th, through a press statement, in El Fasher, the Joint Force of Armed Struggle Movements (JSAMF), a coalition comprising various armed groups from Sudan's Darfur region, has formally renounced neutrality and declared war on the paramilitary Rapid Support Forces (RSF). This decision to join the Sudan Armed Forces (SAF) to fight the RSF militia resulted from latest developments in the conflict.  The JSAMF cited ongoing provocations, insults, attacks, and the hindering of humanitarian aid by the RSF, but also an attack by the RSF against one the Darfur rebel groups as the primary reasons for ending their neutrality. \"]\n"
     ]
    },
    {
     "data": {
      "application/vnd.jupyter.widget-view+json": {
       "model_id": "30d489e53bec4611854710dbff4de53f",
       "version_major": 2,
       "version_minor": 0
      },
      "text/plain": [
       "Parsing nodes:   0%|          | 0/1 [00:00<?, ?it/s]"
      ]
     },
     "metadata": {},
     "output_type": "display_data"
    },
    {
     "data": {
      "application/vnd.jupyter.widget-view+json": {
       "model_id": "e650a566f924448b9ef6b0e27114b856",
       "version_major": 2,
       "version_minor": 0
      },
      "text/plain": [
       "Generating embeddings:   0%|          | 0/1 [00:00<?, ?it/s]"
      ]
     },
     "metadata": {},
     "output_type": "display_data"
    },
    {
     "name": "stdout",
     "output_type": "stream",
     "text": [
      "106 Military operations (battle, shelling)\n",
      "['In the evening of April 13, two civilians  were killed and others were injured by gunmen in a looting incident near the Shangli Tobaya administrative unit located on the El Fasher-Nyala road.']\n"
     ]
    },
    {
     "data": {
      "application/vnd.jupyter.widget-view+json": {
       "model_id": "491bab508dc34aa9808e94a76e627b5c",
       "version_major": 2,
       "version_minor": 0
      },
      "text/plain": [
       "Parsing nodes:   0%|          | 0/1 [00:00<?, ?it/s]"
      ]
     },
     "metadata": {},
     "output_type": "display_data"
    },
    {
     "data": {
      "application/vnd.jupyter.widget-view+json": {
       "model_id": "14228c78d03e4b5797fdbfd08e7c800b",
       "version_major": 2,
       "version_minor": 0
      },
      "text/plain": [
       "Generating embeddings:   0%|          | 0/1 [00:00<?, ?it/s]"
      ]
     },
     "metadata": {},
     "output_type": "display_data"
    },
    {
     "name": "stdout",
     "output_type": "stream",
     "text": [
      "107 Willful killing of civilians\n",
      "['Following the reports of  fierce clashes and airstrikes in and around El Fasher, the capital city of North Darfur, ¬´¬†the last state capital not under RSF control in the vast Darfur region¬†¬ª, UN Secretary-General Antonio Guterres had warned in this statement released on April 13: \"Such an attack would be devastating for civilians in the city and could lead to an expansion of the conflict along intercommunal lines across the five Darfur states. El Fasher is a humanitarian hub for the United Nations that ensures lifesaving assistance is distributed across the five Darfur states in accordance with needs.\"']\n"
     ]
    },
    {
     "data": {
      "application/vnd.jupyter.widget-view+json": {
       "model_id": "02d783c8eddd406cae7cebb17c8a07d9",
       "version_major": 2,
       "version_minor": 0
      },
      "text/plain": [
       "Parsing nodes:   0%|          | 0/1 [00:00<?, ?it/s]"
      ]
     },
     "metadata": {},
     "output_type": "display_data"
    },
    {
     "data": {
      "application/vnd.jupyter.widget-view+json": {
       "model_id": "b99ddbf73e7e4ada84b0e3b8af30ec03",
       "version_major": 2,
       "version_minor": 0
      },
      "text/plain": [
       "Generating embeddings:   0%|          | 0/1 [00:00<?, ?it/s]"
      ]
     },
     "metadata": {},
     "output_type": "display_data"
    },
    {
     "name": "stdout",
     "output_type": "stream",
     "text": [
      "108 Military operations (battle, shelling)\n",
      "[\"Fierce clashes have erupted in and around Darfur's El-Fasher which had been relatively calm since the war erupted in Sudan last year between the army and a rival paramilitary force, raising fears of a further expansion of the conflict. The local resistance committee, one of many pro-democracy groups organizing aid across the country, said on Saturday a militia allied with the paramilitary Rapid Support Forces (RSF) had set ablaze six villages west of El-Fasher.\"]\n"
     ]
    },
    {
     "data": {
      "application/vnd.jupyter.widget-view+json": {
       "model_id": "83cd3520c4094abeaca2ab1644aee510",
       "version_major": 2,
       "version_minor": 0
      },
      "text/plain": [
       "Parsing nodes:   0%|          | 0/1 [00:00<?, ?it/s]"
      ]
     },
     "metadata": {},
     "output_type": "display_data"
    },
    {
     "data": {
      "application/vnd.jupyter.widget-view+json": {
       "model_id": "14df3eacdae24b21ba96a309ce737d5f",
       "version_major": 2,
       "version_minor": 0
      },
      "text/plain": [
       "Generating embeddings:   0%|          | 0/1 [00:00<?, ?it/s]"
      ]
     },
     "metadata": {},
     "output_type": "display_data"
    },
    {
     "name": "stdout",
     "output_type": "stream",
     "text": [
      "109 Military operations (battle, shelling)\n",
      "['On Saturday April 13, the Rapid Support Forces (RSF)with the support of Arab miltias, launched attacks against several villages West of Al Fasher (North Darfur). These attacks followed a series of attacks  that started on April 6th and resulted in civilian casualties, the burning of entire villages, mostly populated by the Zaghawa ethnic group, and a massive displacement of population.  According to eyewitnesses, over 16 villages were attacked, including Sarafaya, Um Ashoosh, and Tarkina. At least six villages  were  burned down entirely, forcing thousands  of residents to flee to Shagra, Golo, and to  Zamzam camp, an overcrowded settlment that has already welcome tens of thousands of displaced persons.\\nDisplaced r√©sidents from the targeted villages reported to Sudan Tribune that the assaults were coordinated by ¬´¬†RSF gunmen and individuals in civilian clothing, utilizing vehicles, motorcycles, horses, and camels¬†¬ªMany civilian casualties were reported by witnesses. But, by April 14, ¬´¬†The North Darfur State Ministry of Health confirmed seven deaths, eight injuries, and two missing persons. The estimated number of displaced civilians currently stands between 5,000 and 7,000.¬†¬ª']\n"
     ]
    },
    {
     "data": {
      "application/vnd.jupyter.widget-view+json": {
       "model_id": "83ad404474df433ab22fbe41ae367460",
       "version_major": 2,
       "version_minor": 0
      },
      "text/plain": [
       "Parsing nodes:   0%|          | 0/1 [00:00<?, ?it/s]"
      ]
     },
     "metadata": {},
     "output_type": "display_data"
    },
    {
     "data": {
      "application/vnd.jupyter.widget-view+json": {
       "model_id": "9e091097d4cf482ba7500fbe3f322fc7",
       "version_major": 2,
       "version_minor": 0
      },
      "text/plain": [
       "Generating embeddings:   0%|          | 0/1 [00:00<?, ?it/s]"
      ]
     },
     "metadata": {},
     "output_type": "display_data"
    },
    {
     "name": "stdout",
     "output_type": "stream",
     "text": [
      "110 Military operations (battle, shelling)\n",
      "['Bloody clashes erupted in El Fasher, the capital of North Darfur, on Saturday between a faction of the Sudan Liberation Movement-Transitional Council (SLM-TC) and a breakaway group. The fighting caused casualties on both sides.']\n"
     ]
    },
    {
     "data": {
      "application/vnd.jupyter.widget-view+json": {
       "model_id": "1e1a4a9e310444b3bc2a59eb0cd7dceb",
       "version_major": 2,
       "version_minor": 0
      },
      "text/plain": [
       "Parsing nodes:   0%|          | 0/1 [00:00<?, ?it/s]"
      ]
     },
     "metadata": {},
     "output_type": "display_data"
    },
    {
     "data": {
      "application/vnd.jupyter.widget-view+json": {
       "model_id": "a4239918cfdf4e4cb46295819c2a25cc",
       "version_major": 2,
       "version_minor": 0
      },
      "text/plain": [
       "Generating embeddings:   0%|          | 0/1 [00:00<?, ?it/s]"
      ]
     },
     "metadata": {},
     "output_type": "display_data"
    },
    {
     "name": "stdout",
     "output_type": "stream",
     "text": [
      "111 Military operations (battle, shelling)\n",
      "['In the evening of April 14, at least nine people were killed and 60 others injured as a result of clashes  in El Fasher between the Sudanese Army supported by the Joint Forces on the one hand and the RSF.  Airstrikes destroyed a number of  homes and citizens‚Äô property. Looting incidents  in which civilians were killed were also reported. ']\n"
     ]
    },
    {
     "data": {
      "application/vnd.jupyter.widget-view+json": {
       "model_id": "bbe1a879a8d24e50b516ed558b9ac379",
       "version_major": 2,
       "version_minor": 0
      },
      "text/plain": [
       "Parsing nodes:   0%|          | 0/1 [00:00<?, ?it/s]"
      ]
     },
     "metadata": {},
     "output_type": "display_data"
    },
    {
     "data": {
      "application/vnd.jupyter.widget-view+json": {
       "model_id": "a50d843b3dd644cda58d77e6d293626c",
       "version_major": 2,
       "version_minor": 0
      },
      "text/plain": [
       "Generating embeddings:   0%|          | 0/1 [00:00<?, ?it/s]"
      ]
     },
     "metadata": {},
     "output_type": "display_data"
    },
    {
     "name": "stdout",
     "output_type": "stream",
     "text": [
      "112 Military operations (battle, shelling)\n",
      "['On April 14, in the morning, the RSF¬† launched an attack on the Joint Forces in the city of Mellit, North Darfur, while each party claims to control the situation in the city.¬† Videos showing burned and captured cars and bodies were circulated by members of the Rapid Support Forces on social networking sites.']\n"
     ]
    },
    {
     "data": {
      "application/vnd.jupyter.widget-view+json": {
       "model_id": "0c73b361da3e4541a332dabb74b92c23",
       "version_major": 2,
       "version_minor": 0
      },
      "text/plain": [
       "Parsing nodes:   0%|          | 0/1 [00:00<?, ?it/s]"
      ]
     },
     "metadata": {},
     "output_type": "display_data"
    },
    {
     "data": {
      "application/vnd.jupyter.widget-view+json": {
       "model_id": "835b0c3454b74566a65f175c060e557c",
       "version_major": 2,
       "version_minor": 0
      },
      "text/plain": [
       "Generating embeddings:   0%|          | 0/1 [00:00<?, ?it/s]"
      ]
     },
     "metadata": {},
     "output_type": "display_data"
    },
    {
     "name": "stdout",
     "output_type": "stream",
     "text": [
      "113 Military operations (battle, shelling)\n",
      "['On Sunday, April 14,   exchange of artillery fire occured between the Sudanese army and the Rapid Support Forces (RSF) near  Wad Rabia and Al-Zakirin, located North and East of the city of Al-Manaqil, Al Gazira state\\nBoth the Army and RSF reinforced their presence in the area, with the army bolstering its presence North of Wad Rabia, while RSF deployed their troops in the Al-Zakirin area to attack the city of Al-Manaqil from the north.\\nThe two sides exchanged artillery fire intensively, with the sound of artillery explosions heard around the villages scattered between Al-Manaqil and the city of Al-Hasahisa.\\nRadio Tamazuj  received from several citizens reports about the significant deterioration of the security situation in this area, civilian casualties resulting from the turning of villages into battlefield,  shortages of food,  and the disruption of electricity, water and communication services.']\n"
     ]
    },
    {
     "data": {
      "application/vnd.jupyter.widget-view+json": {
       "model_id": "c9ada27a694c4fa19341b1d702af993f",
       "version_major": 2,
       "version_minor": 0
      },
      "text/plain": [
       "Parsing nodes:   0%|          | 0/1 [00:00<?, ?it/s]"
      ]
     },
     "metadata": {},
     "output_type": "display_data"
    },
    {
     "data": {
      "application/vnd.jupyter.widget-view+json": {
       "model_id": "7161ba12d4954dc1ba96f5df927ec057",
       "version_major": 2,
       "version_minor": 0
      },
      "text/plain": [
       "Generating embeddings:   0%|          | 0/1 [00:00<?, ?it/s]"
      ]
     },
     "metadata": {},
     "output_type": "display_data"
    },
    {
     "name": "stdout",
     "output_type": "stream",
     "text": [
      "114 Military operations (battle, shelling)\n",
      "[\"On April 14, at least five people were killed and more than ten others were injured as a result of exchanges of fire between the Sudanese army and the Rapid Support Forces in the city of El Obeid, the capital of North Kordofan State. Both sides used heavy and light weapons in the exchange of fire, with a number of projectiles falling on citizens' homes, killing at least two children and three others on the spot, and about 12 people were injured in the exchange of fire between the two sides.\"]\n"
     ]
    },
    {
     "data": {
      "application/vnd.jupyter.widget-view+json": {
       "model_id": "90c101fe64c9463784c55f472bdd021e",
       "version_major": 2,
       "version_minor": 0
      },
      "text/plain": [
       "Parsing nodes:   0%|          | 0/1 [00:00<?, ?it/s]"
      ]
     },
     "metadata": {},
     "output_type": "display_data"
    },
    {
     "data": {
      "application/vnd.jupyter.widget-view+json": {
       "model_id": "3fa8cfafcf5549349b10c500927ce456",
       "version_major": 2,
       "version_minor": 0
      },
      "text/plain": [
       "Generating embeddings:   0%|          | 0/1 [00:00<?, ?it/s]"
      ]
     },
     "metadata": {},
     "output_type": "display_data"
    },
    {
     "name": "stdout",
     "output_type": "stream",
     "text": [
      "115 Military operations (battle, shelling)\n",
      "['A video shows RSF arresting some people, and some civilians celebrating with them']\n"
     ]
    },
    {
     "data": {
      "application/vnd.jupyter.widget-view+json": {
       "model_id": "6a31398d411a437dbb338667ecc9a9ab",
       "version_major": 2,
       "version_minor": 0
      },
      "text/plain": [
       "Parsing nodes:   0%|          | 0/1 [00:00<?, ?it/s]"
      ]
     },
     "metadata": {},
     "output_type": "display_data"
    },
    {
     "data": {
      "application/vnd.jupyter.widget-view+json": {
       "model_id": "732dacd0586341c38d2163252e01570f",
       "version_major": 2,
       "version_minor": 0
      },
      "text/plain": [
       "Generating embeddings:   0%|          | 0/1 [00:00<?, ?it/s]"
      ]
     },
     "metadata": {},
     "output_type": "display_data"
    },
    {
     "name": "stdout",
     "output_type": "stream",
     "text": [
      "116 Violent crackdowns on protesters/opponents/civil rights abuse\n",
      "['Army artillery in El Fasher on the northern neighborhoods of Abuja camp targeting military sites for rapid support. Clashes with heavy and light weapons take place at the Mellit Gate.']\n"
     ]
    },
    {
     "data": {
      "application/vnd.jupyter.widget-view+json": {
       "model_id": "4a0ad91046c640498266fa80a6373601",
       "version_major": 2,
       "version_minor": 0
      },
      "text/plain": [
       "Parsing nodes:   0%|          | 0/1 [00:00<?, ?it/s]"
      ]
     },
     "metadata": {},
     "output_type": "display_data"
    },
    {
     "data": {
      "application/vnd.jupyter.widget-view+json": {
       "model_id": "99100a6cbdaf41c5a458dae628042a25",
       "version_major": 2,
       "version_minor": 0
      },
      "text/plain": [
       "Generating embeddings:   0%|          | 0/1 [00:00<?, ?it/s]"
      ]
     },
     "metadata": {},
     "output_type": "display_data"
    },
    {
     "name": "stdout",
     "output_type": "stream",
     "text": [
      "117 Military operations (battle, shelling)\n",
      "['The Rapid Support militia has been committing heinous crimes of killing, looting and burning in the western countryside of El Fasher. Since yesterday until today, they have burned the Sarfaya area and its neighboring villages and forced the displacement of its defenseless residents. They are now being confronted by a joint force of armed movements.']\n"
     ]
    },
    {
     "data": {
      "application/vnd.jupyter.widget-view+json": {
       "model_id": "7d41863bba8244e1af211fc41a0c178c",
       "version_major": 2,
       "version_minor": 0
      },
      "text/plain": [
       "Parsing nodes:   0%|          | 0/1 [00:00<?, ?it/s]"
      ]
     },
     "metadata": {},
     "output_type": "display_data"
    },
    {
     "data": {
      "application/vnd.jupyter.widget-view+json": {
       "model_id": "e65d450e4e2d48dbbea286d63a02f4a8",
       "version_major": 2,
       "version_minor": 0
      },
      "text/plain": [
       "Generating embeddings:   0%|          | 0/1 [00:00<?, ?it/s]"
      ]
     },
     "metadata": {},
     "output_type": "display_data"
    },
    {
     "name": "stdout",
     "output_type": "stream",
     "text": [
      "118 Military operations (battle, shelling)\n",
      "['Video: showing the effects of destruction resulting from fires in the village of Muqrin in North Darfur state, where the village is about 21 kilometers from the city of El Fasher. In the video, the photographer talks about the comprehensive destruction that befell the camp, as nothing was left of it, and the sabotage of water sources in the village, in addition to the destruction of the movement‚Äôs forces‚Äô camp.']\n"
     ]
    },
    {
     "data": {
      "application/vnd.jupyter.widget-view+json": {
       "model_id": "c8ad099207204acdb2f4f7dd5e912c96",
       "version_major": 2,
       "version_minor": 0
      },
      "text/plain": [
       "Parsing nodes:   0%|          | 0/1 [00:00<?, ?it/s]"
      ]
     },
     "metadata": {},
     "output_type": "display_data"
    },
    {
     "data": {
      "application/vnd.jupyter.widget-view+json": {
       "model_id": "ff9888ce449d465aa32bc7b9d3624a69",
       "version_major": 2,
       "version_minor": 0
      },
      "text/plain": [
       "Generating embeddings:   0%|          | 0/1 [00:00<?, ?it/s]"
      ]
     },
     "metadata": {},
     "output_type": "display_data"
    },
    {
     "name": "stdout",
     "output_type": "stream",
     "text": [
      "119 Damage or destruction\n",
      "['Groups supported by the Rapid Support Forces launched new attacks on villages west of El Fasher on Monday, April 15, 2024  for the fourth day in a row. The groups burned the villages of (Tequila), (Ammar Jadid), and (Donki Shatta), in addition to looting the market and livestock, which led to the displacement of its residents towards El Fasher as well. Three village residents were injured by bullets and were taken to El Fasher South Hospital.']\n"
     ]
    },
    {
     "data": {
      "application/vnd.jupyter.widget-view+json": {
       "model_id": "872157c3d072442fb12a52ab7657dea5",
       "version_major": 2,
       "version_minor": 0
      },
      "text/plain": [
       "Parsing nodes:   0%|          | 0/1 [00:00<?, ?it/s]"
      ]
     },
     "metadata": {},
     "output_type": "display_data"
    },
    {
     "data": {
      "application/vnd.jupyter.widget-view+json": {
       "model_id": "2e0ae4a29a06448f9b45f2b1639fb575",
       "version_major": 2,
       "version_minor": 0
      },
      "text/plain": [
       "Generating embeddings:   0%|          | 0/1 [00:00<?, ?it/s]"
      ]
     },
     "metadata": {},
     "output_type": "display_data"
    },
    {
     "name": "stdout",
     "output_type": "stream",
     "text": [
      "120 Military operations (battle, shelling)\n",
      "[\"At least six civilians were killed and 61 others injured in clashes between the Sudanese Armed Forces and the paramilitary Rapid Support Forces in El Fasher, the capital city of North Darfur State, the Sudanese Doctors' Union said.\"]\n"
     ]
    },
    {
     "data": {
      "application/vnd.jupyter.widget-view+json": {
       "model_id": "a7542af1da054397bc876e3d45391fcc",
       "version_major": 2,
       "version_minor": 0
      },
      "text/plain": [
       "Parsing nodes:   0%|          | 0/1 [00:00<?, ?it/s]"
      ]
     },
     "metadata": {},
     "output_type": "display_data"
    },
    {
     "data": {
      "application/vnd.jupyter.widget-view+json": {
       "model_id": "a5ea90fcfe224ba9b81c71c21143d7f4",
       "version_major": 2,
       "version_minor": 0
      },
      "text/plain": [
       "Generating embeddings:   0%|          | 0/1 [00:00<?, ?it/s]"
      ]
     },
     "metadata": {},
     "output_type": "display_data"
    },
    {
     "name": "stdout",
     "output_type": "stream",
     "text": [
      "121 Military operations (battle, shelling)\n",
      "['Battles continued in El Fasher between the Sudanese Armed Forces (SAF) and allied forces from the Joint Forces for Peace in Juba on the one hand and the Rapid Support Forces (RSF) throughout the day on Tuesday, April 16, 2024.  Each side claims to have made progress on the ground at the expense of the other party.   According to field sources from El Fasher, the Sudanese Armed Forces and the Joint Forces of the Juba Peace Forces launched an extensive attack on the RSF in the northern and eastern directions of the city, where the chases penetrated into the Abu Shouk camp for displaced persons and the nearby Abu Shouk neighborhood, causing the death and injury of many civilians.\\nSudanese Emergency Lawyers reported on Tuesday, April 16,  that clashes between the Sudanese army and its rival paramilitary have killed at least 25 civilians in the North Darfur town of El-Fasher. The city and its surrounding villages have suffered several days of ‚Äúarbitrary shelling and air strikes,‚Äù according to the Emergency Lawyers, which have been documenting atrocities committed against civilians since fighting began a year ago between the army and the paramilitary Rapid Support Forces (RSF).']\n"
     ]
    },
    {
     "data": {
      "application/vnd.jupyter.widget-view+json": {
       "model_id": "07d2feb3fed64b6abed8c9c4c1d5d5ed",
       "version_major": 2,
       "version_minor": 0
      },
      "text/plain": [
       "Parsing nodes:   0%|          | 0/1 [00:00<?, ?it/s]"
      ]
     },
     "metadata": {},
     "output_type": "display_data"
    },
    {
     "data": {
      "application/vnd.jupyter.widget-view+json": {
       "model_id": "71d912543d8440dd915d109e5572f92c",
       "version_major": 2,
       "version_minor": 0
      },
      "text/plain": [
       "Generating embeddings:   0%|          | 0/1 [00:00<?, ?it/s]"
      ]
     },
     "metadata": {},
     "output_type": "display_data"
    },
    {
     "name": "stdout",
     "output_type": "stream",
     "text": [
      "122 Military operations (battle, shelling)\n",
      "['In Sharg (East) Sennar warplanes continued to fly over the area throughout the day and dropped bombs near villages of the Sennar Sugar Factory, a resident of Garsli told Radio Dabanga on April 18.']\n"
     ]
    },
    {
     "data": {
      "application/vnd.jupyter.widget-view+json": {
       "model_id": "2176c6acdfe24b0d8671f31115d245bc",
       "version_major": 2,
       "version_minor": 0
      },
      "text/plain": [
       "Parsing nodes:   0%|          | 0/1 [00:00<?, ?it/s]"
      ]
     },
     "metadata": {},
     "output_type": "display_data"
    },
    {
     "data": {
      "application/vnd.jupyter.widget-view+json": {
       "model_id": "d75ee4a16c114a8282366eaf7177351c",
       "version_major": 2,
       "version_minor": 0
      },
      "text/plain": [
       "Generating embeddings:   0%|          | 0/1 [00:00<?, ?it/s]"
      ]
     },
     "metadata": {},
     "output_type": "display_data"
    },
    {
     "name": "stdout",
     "output_type": "stream",
     "text": [
      "123 Military operations (battle, shelling)\n",
      "['Late on Wednesday evening and yesterday morning, April 17 and 18, warplanes bombed neighbourhoods in El Fasher and Nyala. Listeners in the North Darfur capital told Radio Dabanga that the air raids did not cause any casualties. People reported from Nyala, capital of South Darfur, that the aerial bombardments targeted a site in the Kishlingo area used by the¬†RSF¬†for logistical purposes.']\n"
     ]
    },
    {
     "data": {
      "application/vnd.jupyter.widget-view+json": {
       "model_id": "eef93f07a13d443083c2adee03f74d0a",
       "version_major": 2,
       "version_minor": 0
      },
      "text/plain": [
       "Parsing nodes:   0%|          | 0/1 [00:00<?, ?it/s]"
      ]
     },
     "metadata": {},
     "output_type": "display_data"
    },
    {
     "data": {
      "application/vnd.jupyter.widget-view+json": {
       "model_id": "c63a143ff6b04f75b06efaa97e9251f6",
       "version_major": 2,
       "version_minor": 0
      },
      "text/plain": [
       "Generating embeddings:   0%|          | 0/1 [00:00<?, ?it/s]"
      ]
     },
     "metadata": {},
     "output_type": "display_data"
    },
    {
     "name": "stdout",
     "output_type": "stream",
     "text": [
      "124 Military operations (battle, shelling)\n",
      "['Satellite data, according to the London-based Center for Information Resilience, showed that a growing number of villages have been destroyed or severely damaged in recent weeks in Darfur, especially  El Fasher, by fire, mostly airstrikes, suggesting an intensification of the conflict. The highest number of fire events (39) was recorded in March. See map and satellite imagery of fire events in the source.']\n"
     ]
    },
    {
     "data": {
      "application/vnd.jupyter.widget-view+json": {
       "model_id": "2a1fd2d26ed74e368386b75b080a4837",
       "version_major": 2,
       "version_minor": 0
      },
      "text/plain": [
       "Parsing nodes:   0%|          | 0/1 [00:00<?, ?it/s]"
      ]
     },
     "metadata": {},
     "output_type": "display_data"
    },
    {
     "data": {
      "application/vnd.jupyter.widget-view+json": {
       "model_id": "6abba36294b14b2abc3d1d1d1e239002",
       "version_major": 2,
       "version_minor": 0
      },
      "text/plain": [
       "Generating embeddings:   0%|          | 0/1 [00:00<?, ?it/s]"
      ]
     },
     "metadata": {},
     "output_type": "display_data"
    },
    {
     "name": "stdout",
     "output_type": "stream",
     "text": [
      "125 Military operations (battle, shelling)\n",
      "['On Wednesday, April 17, two civilians were killed in aerial bombardments of Wad Madani, capital of El Gezira.']\n"
     ]
    },
    {
     "data": {
      "application/vnd.jupyter.widget-view+json": {
       "model_id": "45f03c7a687942fc8e033c125f083f5d",
       "version_major": 2,
       "version_minor": 0
      },
      "text/plain": [
       "Parsing nodes:   0%|          | 0/1 [00:00<?, ?it/s]"
      ]
     },
     "metadata": {},
     "output_type": "display_data"
    },
    {
     "data": {
      "application/vnd.jupyter.widget-view+json": {
       "model_id": "2870c90eb83d45008c12e95cbe022711",
       "version_major": 2,
       "version_minor": 0
      },
      "text/plain": [
       "Generating embeddings:   0%|          | 0/1 [00:00<?, ?it/s]"
      ]
     },
     "metadata": {},
     "output_type": "display_data"
    },
    {
     "name": "stdout",
     "output_type": "stream",
     "text": [
      "126 Willful killing of civilians\n",
      "['Clashes between the Sudanese Armed Forces (SAF) and its paramilitary counterpart, the Rapid Support Forces (RSF), continue in various parts of the country. On April 18, artillery shelling led to the death of a person in El Obeid, the capital of North Kordofan.']\n"
     ]
    },
    {
     "data": {
      "application/vnd.jupyter.widget-view+json": {
       "model_id": "2fc624e6cca540d79b0e213836411d2f",
       "version_major": 2,
       "version_minor": 0
      },
      "text/plain": [
       "Parsing nodes:   0%|          | 0/1 [00:00<?, ?it/s]"
      ]
     },
     "metadata": {},
     "output_type": "display_data"
    },
    {
     "data": {
      "application/vnd.jupyter.widget-view+json": {
       "model_id": "0577f9ad1d6343968ed5933a0347d513",
       "version_major": 2,
       "version_minor": 0
      },
      "text/plain": [
       "Generating embeddings:   0%|          | 0/1 [00:00<?, ?it/s]"
      ]
     },
     "metadata": {},
     "output_type": "display_data"
    },
    {
     "name": "stdout",
     "output_type": "stream",
     "text": [
      "127 Military operations (shelling)\n",
      "['The RSF occupied Mellit in North Darfur and plundered an army base in El Rahad, North Kordofan.']\n"
     ]
    },
    {
     "data": {
      "application/vnd.jupyter.widget-view+json": {
       "model_id": "84a231b93b8c456a9a0f2fa013058a83",
       "version_major": 2,
       "version_minor": 0
      },
      "text/plain": [
       "Parsing nodes:   0%|          | 0/1 [00:00<?, ?it/s]"
      ]
     },
     "metadata": {},
     "output_type": "display_data"
    },
    {
     "data": {
      "application/vnd.jupyter.widget-view+json": {
       "model_id": "b996725e93ec4e06b872610b4d32ab94",
       "version_major": 2,
       "version_minor": 0
      },
      "text/plain": [
       "Generating embeddings:   0%|          | 0/1 [00:00<?, ?it/s]"
      ]
     },
     "metadata": {},
     "output_type": "display_data"
    },
    {
     "name": "stdout",
     "output_type": "stream",
     "text": [
      "128 Military operations (battle, shelling)\n",
      "['In central Sudan, military aircraft continued to bomb areas near Wad El Haddad in the south of El Gezira on April 18.']\n"
     ]
    },
    {
     "data": {
      "application/vnd.jupyter.widget-view+json": {
       "model_id": "b4e1a0bcdffa443ab277668af37f6bfa",
       "version_major": 2,
       "version_minor": 0
      },
      "text/plain": [
       "Parsing nodes:   0%|          | 0/1 [00:00<?, ?it/s]"
      ]
     },
     "metadata": {},
     "output_type": "display_data"
    },
    {
     "data": {
      "application/vnd.jupyter.widget-view+json": {
       "model_id": "d06fa2c59d764d7c9831e8b30a91a673",
       "version_major": 2,
       "version_minor": 0
      },
      "text/plain": [
       "Generating embeddings:   0%|          | 0/1 [00:00<?, ?it/s]"
      ]
     },
     "metadata": {},
     "output_type": "display_data"
    },
    {
     "name": "stdout",
     "output_type": "stream",
     "text": [
      "129 Military operations (battle, shelling)\n",
      "['On April 18,    Abdel Hafiz al-Ghali, head of the Initiative to Support the Displaced Persons of West El Fasher Villages, told Sudan Tribune: ‚ÄúThe recent attacks displaced over 50,000 people from 31 villages.‚Äù The attacks, targeting villages inhabited by the Zaghawa ethnic group, began on April 6th and lasted three days. They resulted in deaths, burning of villages, looting, and mass displacement. The displaced have fled to Tawila and El Fasher, as well as the town of Shakra,  10km west of the state capital.']\n"
     ]
    },
    {
     "data": {
      "application/vnd.jupyter.widget-view+json": {
       "model_id": "d1dd9b4dc3544732a22d8d4bb8397376",
       "version_major": 2,
       "version_minor": 0
      },
      "text/plain": [
       "Parsing nodes:   0%|          | 0/1 [00:00<?, ?it/s]"
      ]
     },
     "metadata": {},
     "output_type": "display_data"
    },
    {
     "data": {
      "application/vnd.jupyter.widget-view+json": {
       "model_id": "c3acfc8d490a4424b1f1cb49f5c23121",
       "version_major": 2,
       "version_minor": 0
      },
      "text/plain": [
       "Generating embeddings:   0%|          | 0/1 [00:00<?, ?it/s]"
      ]
     },
     "metadata": {},
     "output_type": "display_data"
    },
    {
     "name": "stdout",
     "output_type": "stream",
     "text": [
      "130 Movement of military, paramilitary, or other troops and equipment\n",
      "['On Thursday, April 18, the Madani Resistance Committees,  a neighbourhood activists group in Al-Jazira state, documented over 800 deaths since the RSF seized control of the state in December 2023. The Resistance Committees declared: ‚ÄúFor four months, the RSF has inflicted horrific abuses across Al-Jazira, leaving over 800 dead and thousands injured. The escalating sexual violence against women and children threatens a social catastrophe.‚Äù\\nThey also emphasized the systematic nature of the crimes against unarmed civilians. It also criticizes the deliberate disruption of communication networks and internet services for three months, crippling daily life, banking, and essential goods access. Another human rights advocacy group, the Hasahisa Resistance Committees, citing western Madani and rural Tabet eyewitnesses, reported looting, property destruction, and assaults on farmers by the RSF, accusing RSF militants of obstructing wheat harvest, aiming to impoverish and displace citizens.']\n"
     ]
    },
    {
     "data": {
      "application/vnd.jupyter.widget-view+json": {
       "model_id": "c9bff03dce794a4e90bf1799813f4259",
       "version_major": 2,
       "version_minor": 0
      },
      "text/plain": [
       "Parsing nodes:   0%|          | 0/1 [00:00<?, ?it/s]"
      ]
     },
     "metadata": {},
     "output_type": "display_data"
    },
    {
     "data": {
      "application/vnd.jupyter.widget-view+json": {
       "model_id": "b9701c342ff54123b4cab63231256383",
       "version_major": 2,
       "version_minor": 0
      },
      "text/plain": [
       "Generating embeddings:   0%|          | 0/1 [00:00<?, ?it/s]"
      ]
     },
     "metadata": {},
     "output_type": "display_data"
    },
    {
     "name": "stdout",
     "output_type": "stream",
     "text": [
      "131 Gender-based or other conflict-related sexual violence\n",
      "['From April 20 to 21, there were fierce battles between the army and the Rapid Support Forces (RSF) in the western neighborhoods of the city of El-Obeid,   after the attack launched by the RSF in an attempt to control the command of the 5th Infantry Division, known as Al-Hajana. The clashes and fierce artillery exchanges between the two sides in the western neighborhoods of the city, which included the neighborhoods of Al-Radeef Central, Al-Radeef East, Al-Sahwa, Al-Wahda, Shikan and Al-Salam, led to the indiscriminate shelling of the homes of the citizens of those neighborhoods, resulting in at least seven deaths and 22 wounded among civilians.']\n"
     ]
    },
    {
     "data": {
      "application/vnd.jupyter.widget-view+json": {
       "model_id": "2300d6905d66496698e79e3d71fc660b",
       "version_major": 2,
       "version_minor": 0
      },
      "text/plain": [
       "Parsing nodes:   0%|          | 0/1 [00:00<?, ?it/s]"
      ]
     },
     "metadata": {},
     "output_type": "display_data"
    },
    {
     "data": {
      "application/vnd.jupyter.widget-view+json": {
       "model_id": "51b6262b93c64cb6b9d4b31c87461b8c",
       "version_major": 2,
       "version_minor": 0
      },
      "text/plain": [
       "Generating embeddings:   0%|          | 0/1 [00:00<?, ?it/s]"
      ]
     },
     "metadata": {},
     "output_type": "display_data"
    },
    {
     "name": "stdout",
     "output_type": "stream",
     "text": [
      "132 Military operations (battle, shelling)\n",
      "['On Sunday morning, April 21, 2024, the Sudanese army repelled an extended attack by the Rapid Support on the city of El Obeid, the capital of North Kordofan state, after clashes with heavy and light weapons that lasted for several hours.']\n"
     ]
    },
    {
     "data": {
      "application/vnd.jupyter.widget-view+json": {
       "model_id": "d863ca138d6149f5870b26e010983474",
       "version_major": 2,
       "version_minor": 0
      },
      "text/plain": [
       "Parsing nodes:   0%|          | 0/1 [00:00<?, ?it/s]"
      ]
     },
     "metadata": {},
     "output_type": "display_data"
    },
    {
     "data": {
      "application/vnd.jupyter.widget-view+json": {
       "model_id": "59b99dfd4da140c8b6a4bada47a09e99",
       "version_major": 2,
       "version_minor": 0
      },
      "text/plain": [
       "Generating embeddings:   0%|          | 0/1 [00:00<?, ?it/s]"
      ]
     },
     "metadata": {},
     "output_type": "display_data"
    },
    {
     "name": "stdout",
     "output_type": "stream",
     "text": [
      "133 Military operations (battle, shelling)\n",
      "['On Sunday, April 21, the Sudanse Army repelled an attack by  the RSF in  El Obeid, the capital city of North Kordofan state. According to eyewitnesses,  the RSF attacked from the north and west, with additional forces arriving from the Barra and Nahud roads. \"The attack targeted residential areas including Unit neighborhoods, Squares 12 and 13, and the Taiba neighborhood. Intense fighting erupted, lasting over three hours, before the army repelled the offensive. (...) Videos posted by Sudanese army platforms allegedly show destroyed and captured RSF vehicles, exceeding 10. The videos also reportedly depict family members of RSF soldiers. (...) The RSF, positioned in the city‚Äôs western 13th district, responded with Katyusha rocket attacks, killing at least two civilians according to medical sources. The Sudanese army retaliated with airstrikes using barrel bombs on the RSF positions launching the rocket attacks.\"     The RSF has reportedly encircled El-Obeid, taken control of Al-Rahd and Um Rowaba localities on the main road connecting North Kordofan and White Nile State, and  cut off the road between North and South Kordofan by seizing the Al-Quz locality in South Kordofan.  Living conditions have worsend for residents  in El-Obeid as a result of this siege and shortages of essential goods and medicine.']\n"
     ]
    },
    {
     "data": {
      "application/vnd.jupyter.widget-view+json": {
       "model_id": "f4eb01f3d00b438596e2bba803ec193a",
       "version_major": 2,
       "version_minor": 0
      },
      "text/plain": [
       "Parsing nodes:   0%|          | 0/1 [00:00<?, ?it/s]"
      ]
     },
     "metadata": {},
     "output_type": "display_data"
    },
    {
     "data": {
      "application/vnd.jupyter.widget-view+json": {
       "model_id": "61ae832707ee4b6a8d08acdc53f1bb81",
       "version_major": 2,
       "version_minor": 0
      },
      "text/plain": [
       "Generating embeddings:   0%|          | 0/1 [00:00<?, ?it/s]"
      ]
     },
     "metadata": {},
     "output_type": "display_data"
    },
    {
     "name": "stdout",
     "output_type": "stream",
     "text": [
      "134 Military operations (battle, shelling)\n",
      "['A  significant development in the war in Northern Darfur on April 22 reported by Sudan War Monitor and Sudan Tribune: \" A key leader within the Rizeigat Arab tribe of Darfur has announced his ‚Äúnational stance,‚Äù saying he supports the ‚Äúpolitical and sovereign institutions‚Äù of Sudan, including the army, while also calling for a ceasefire. Musa Hilal is the leader of the Mahamid Rizeigat, a different branch of the same tribe as the Rapid Support Forces leader Mohamed Hamdan Dagalo. Hilal delivered a speech to hundreds of supporters in Um Sunt, North Darfur, in which he called on his fellow tribesmen to ‚Äústand up, stand strong with the homeland. Without mentioning the Rapid Support Forces by name, he nevertheless implicitly criticized it as a ‚Äúmilitia‚Äù and mercenary group trying to lure Rizeigat and foreign mercenaries into the battlegrounds of central Sudan with promises of loot.\"']\n"
     ]
    },
    {
     "data": {
      "application/vnd.jupyter.widget-view+json": {
       "model_id": "04a89a4d14924f50b2aee6b02a930dc7",
       "version_major": 2,
       "version_minor": 0
      },
      "text/plain": [
       "Parsing nodes:   0%|          | 0/1 [00:00<?, ?it/s]"
      ]
     },
     "metadata": {},
     "output_type": "display_data"
    },
    {
     "data": {
      "application/vnd.jupyter.widget-view+json": {
       "model_id": "9f034b22fea244c588a2374b3ce14ede",
       "version_major": 2,
       "version_minor": 0
      },
      "text/plain": [
       "Generating embeddings:   0%|          | 0/1 [00:00<?, ?it/s]"
      ]
     },
     "metadata": {},
     "output_type": "display_data"
    },
    {
     "name": "stdout",
     "output_type": "stream",
     "text": [
      "135 Military operations (battle, shelling)\n",
      "['On April 22, residents of Tuti Island, located in the center of Khartoum on the Nile River,  interviewed by Sudan Tribune reported that  in areas under RSF control, the paramilitary group is engaged in a campaign of intimidation and violence, including killings, property looting, and restrictions on food and medicine supplies.The paramilitary Rapid Support Forces (RSF) have launched a series of arrests targeting residents multiple sources told Sudan Tribune.\\n\\nLocal area community leaders have been detained for about two weeks now.']\n"
     ]
    },
    {
     "data": {
      "application/vnd.jupyter.widget-view+json": {
       "model_id": "b9ae3d9e9a9245348325403a67b7cfbf",
       "version_major": 2,
       "version_minor": 0
      },
      "text/plain": [
       "Parsing nodes:   0%|          | 0/1 [00:00<?, ?it/s]"
      ]
     },
     "metadata": {},
     "output_type": "display_data"
    },
    {
     "data": {
      "application/vnd.jupyter.widget-view+json": {
       "model_id": "443e619435f3490bb3e2174e75237321",
       "version_major": 2,
       "version_minor": 0
      },
      "text/plain": [
       "Generating embeddings:   0%|          | 0/1 [00:00<?, ?it/s]"
      ]
     },
     "metadata": {},
     "output_type": "display_data"
    },
    {
     "name": "stdout",
     "output_type": "stream",
     "text": [
      "136 Violent crackdowns on protesters/opponents/civil rights abuse\n",
      "['Strategic Initiative for Women in the Horn of Africa (SIHA) released report, entitled The Aftermath of Rape: Unwanted Pregnancies and Abandoned Children. The report documented 244 cases of sexual violence, 14 cases of unwanted pregnancies , and at least 7 cases of suicide resulting from unwanted pregnancy over the past year. ']\n"
     ]
    },
    {
     "data": {
      "application/vnd.jupyter.widget-view+json": {
       "model_id": "a846b48f47a24ac290f58d1f7fc2fdef",
       "version_major": 2,
       "version_minor": 0
      },
      "text/plain": [
       "Parsing nodes:   0%|          | 0/1 [00:00<?, ?it/s]"
      ]
     },
     "metadata": {},
     "output_type": "display_data"
    },
    {
     "data": {
      "application/vnd.jupyter.widget-view+json": {
       "model_id": "e4ceacdeb7dd4afa8394b177899727dd",
       "version_major": 2,
       "version_minor": 0
      },
      "text/plain": [
       "Generating embeddings:   0%|          | 0/1 [00:00<?, ?it/s]"
      ]
     },
     "metadata": {},
     "output_type": "display_data"
    },
    {
     "name": "stdout",
     "output_type": "stream",
     "text": [
      "137 Gender-based or other conflict-related sexual violence\n",
      "['On Tuesday, April 23, witnesses and army sources reported that the Sudanese army used anti-aircraft missiles  to shoot down drones that were targeting its headquarters in the city of Shendi, locales about 112 miles north of the capital Khartoum. This is  the latest in a series drone attacks targeting areas under the Army‚Äôs control. The city of Atbara in River Nile state, and al-Gedaref state were also targeted in drone attacks.  The Army claimed that none of the drones hit their target, but Reuters could not independently verify the report. At least two people were killed and a number of people were injured.']\n"
     ]
    },
    {
     "data": {
      "application/vnd.jupyter.widget-view+json": {
       "model_id": "f26b9453fc544fd583282d291dd9e70a",
       "version_major": 2,
       "version_minor": 0
      },
      "text/plain": [
       "Parsing nodes:   0%|          | 0/1 [00:00<?, ?it/s]"
      ]
     },
     "metadata": {},
     "output_type": "display_data"
    },
    {
     "data": {
      "application/vnd.jupyter.widget-view+json": {
       "model_id": "863c7584c9394e99a56ea5dc17a860b1",
       "version_major": 2,
       "version_minor": 0
      },
      "text/plain": [
       "Generating embeddings:   0%|          | 0/1 [00:00<?, ?it/s]"
      ]
     },
     "metadata": {},
     "output_type": "display_data"
    },
    {
     "name": "stdout",
     "output_type": "stream",
     "text": [
      "138 Military operations (battle, shelling)\n",
      "['The Sudanese army announced  that it had shot down three drones that attempted to target Merowe Airport on April 26 in the northern state. This attack comes 48 hours after the army reported engaging reconnaissance drones in the Umm Bakul area near Meroe and thwarting their mission.']\n"
     ]
    },
    {
     "data": {
      "application/vnd.jupyter.widget-view+json": {
       "model_id": "f97e9d64f07144838e76a7f2f27b8942",
       "version_major": 2,
       "version_minor": 0
      },
      "text/plain": [
       "Parsing nodes:   0%|          | 0/1 [00:00<?, ?it/s]"
      ]
     },
     "metadata": {},
     "output_type": "display_data"
    },
    {
     "data": {
      "application/vnd.jupyter.widget-view+json": {
       "model_id": "a38d8348780a4061aaa8078f8e6cfacc",
       "version_major": 2,
       "version_minor": 0
      },
      "text/plain": [
       "Generating embeddings:   0%|          | 0/1 [00:00<?, ?it/s]"
      ]
     },
     "metadata": {},
     "output_type": "display_data"
    },
    {
     "name": "stdout",
     "output_type": "stream",
     "text": [
      "139 Military operations (battle, shelling)\n",
      "['On Friday, 26 April, around midnight, airstrikes by the Sudan Armed Forces killed more than 200 camels that were resting along with 7 herdsmen in an area located about 38 Km West of Melit town, North Darfur. According to a statement released by the RSF that controls the area,  \"the SAF dropped 17-barrel bombs, killing over 300 camels\". ']\n"
     ]
    },
    {
     "data": {
      "application/vnd.jupyter.widget-view+json": {
       "model_id": "1da6fbe030464485aa18f31d5f69195f",
       "version_major": 2,
       "version_minor": 0
      },
      "text/plain": [
       "Parsing nodes:   0%|          | 0/1 [00:00<?, ?it/s]"
      ]
     },
     "metadata": {},
     "output_type": "display_data"
    },
    {
     "data": {
      "application/vnd.jupyter.widget-view+json": {
       "model_id": "294dcda24177489ab61d6c49e5287b35",
       "version_major": 2,
       "version_minor": 0
      },
      "text/plain": [
       "Generating embeddings:   0%|          | 0/1 [00:00<?, ?it/s]"
      ]
     },
     "metadata": {},
     "output_type": "display_data"
    },
    {
     "name": "stdout",
     "output_type": "stream",
     "text": [
      "140 Indiscriminate use of weapons\n",
      "['On April 26,Sudanese military aircraft conducted airstrikes  targeting positions held by the Rapid Support Forces (RSF) in several locations. These airstrikes, reportedly, caused civilian casualties according to local sources. According to reports received from the same sources by Sudan Tribune, warplanes bombed RSF sites East of El Fasher, the capital of North Darfur, as well as Mellit, a town located about  60 kilometers North. Additionally, airstrikes were reported near Al-Qatina locality in the White Nile State, south of Khartoum, resulting in the destruction of RSF armoured vehicles.']\n"
     ]
    },
    {
     "data": {
      "application/vnd.jupyter.widget-view+json": {
       "model_id": "233ba3b1ee7f4915805114ed5952807f",
       "version_major": 2,
       "version_minor": 0
      },
      "text/plain": [
       "Parsing nodes:   0%|          | 0/1 [00:00<?, ?it/s]"
      ]
     },
     "metadata": {},
     "output_type": "display_data"
    },
    {
     "data": {
      "application/vnd.jupyter.widget-view+json": {
       "model_id": "6fce40d47ec74d58b711acb8ed24afba",
       "version_major": 2,
       "version_minor": 0
      },
      "text/plain": [
       "Generating embeddings:   0%|          | 0/1 [00:00<?, ?it/s]"
      ]
     },
     "metadata": {},
     "output_type": "display_data"
    },
    {
     "name": "stdout",
     "output_type": "stream",
     "text": [
      "141 Military operations (battle, shelling)\n",
      "['On Sunday, April 28, eight former Darfur rebel groups announced at the end of a three-day conference, a joint plan to collaborate with the Sudanese Armed Forces in to \"retake cities under militia control, improve civilian protection, and preserve the unity of Sudan‚Äôs land and people.‚Äù Except El Fasher, the four other state capitals (Nyala of West Darfur, Geneina of West Darfur, Daein of East Darfur, and Zalingei of Central Darfur) are controlled by the RSF.']\n"
     ]
    },
    {
     "data": {
      "application/vnd.jupyter.widget-view+json": {
       "model_id": "f54c8b29bc9945d1840d477a0049dfa7",
       "version_major": 2,
       "version_minor": 0
      },
      "text/plain": [
       "Parsing nodes:   0%|          | 0/1 [00:00<?, ?it/s]"
      ]
     },
     "metadata": {},
     "output_type": "display_data"
    },
    {
     "data": {
      "application/vnd.jupyter.widget-view+json": {
       "model_id": "fb0a7892f98c48eab068735a07c2a69f",
       "version_major": 2,
       "version_minor": 0
      },
      "text/plain": [
       "Generating embeddings:   0%|          | 0/1 [00:00<?, ?it/s]"
      ]
     },
     "metadata": {},
     "output_type": "display_data"
    },
    {
     "name": "stdout",
     "output_type": "stream",
     "text": [
      "142 Military operations (battle, shelling)\n",
      "['In a report published on April 29, the Yale Humanitarian Research Lab brought visual evidence confirming the intentional  burning of villages around El Fasher very likely by RSF between March 31 and April 25, 2024. The report states: \"Yale HRL also confirms an additional 11 communities are verified to have been burned, potentially by RSF forces between 31 March and 25 April 2024. Significantly, three of these likely arson attacks occurred 26-44 km west of Mellit, a reported RSF staging ground for their attack on El-Fasher. Mellit is approximately 90 km north of El-Fasher. As of publication, Yale HRL has confirmed that a total of 22 communities in North Darfur have been attacked in a manner consistent with the intentional targeting and burning of civilian structures, 19 communities to the northwest of El-Fasher between 1 March ‚Äì 20 April 2024 and three west of Mellit (and north of El-Fasher) between 20‚Äì25 April 2024\"']\n"
     ]
    },
    {
     "data": {
      "application/vnd.jupyter.widget-view+json": {
       "model_id": "b91720bfc3ea4ca299de492c20ac5b9f",
       "version_major": 2,
       "version_minor": 0
      },
      "text/plain": [
       "Parsing nodes:   0%|          | 0/1 [00:00<?, ?it/s]"
      ]
     },
     "metadata": {},
     "output_type": "display_data"
    },
    {
     "data": {
      "application/vnd.jupyter.widget-view+json": {
       "model_id": "f884c6d80d484267a3704e9b430b9ee7",
       "version_major": 2,
       "version_minor": 0
      },
      "text/plain": [
       "Generating embeddings:   0%|          | 0/1 [00:00<?, ?it/s]"
      ]
     },
     "metadata": {},
     "output_type": "display_data"
    },
    {
     "name": "stdout",
     "output_type": "stream",
     "text": [
      "143 Willful killing of civilians\n",
      "['On Monday, April 29, bloody clashes occured between the army and the RSF  in villages East of Wad Madani, the capital of El Gezira State.']\n"
     ]
    },
    {
     "data": {
      "application/vnd.jupyter.widget-view+json": {
       "model_id": "9acbc75aaa5441a69932d0af3c0bd33c",
       "version_major": 2,
       "version_minor": 0
      },
      "text/plain": [
       "Parsing nodes:   0%|          | 0/1 [00:00<?, ?it/s]"
      ]
     },
     "metadata": {},
     "output_type": "display_data"
    },
    {
     "data": {
      "application/vnd.jupyter.widget-view+json": {
       "model_id": "2e36a2a9a8f34aac88f29be120c6cb69",
       "version_major": 2,
       "version_minor": 0
      },
      "text/plain": [
       "Generating embeddings:   0%|          | 0/1 [00:00<?, ?it/s]"
      ]
     },
     "metadata": {},
     "output_type": "display_data"
    },
    {
     "name": "stdout",
     "output_type": "stream",
     "text": [
      "144 Military operations (battle, shelling)\n",
      "['For nine consecutive days, that is from around April 27 to May 6, the Sudan Armed Forces (SAF)  and the RSF have exchanged artillery shelling,  using Katyusha rockets and various shells, in Babanusa, West Kordofan. The fighting further destroyed the city that many residents had already left.\\nAccording to sources consulted by Sudan War Monitor, the SAF were inside the 22nd Infantry Division base, the last military installation of the Sudan Army‚Äôs control in West Kordofan, while the RSF troops fought from the outskirts of the city, sheltering  in residents‚Äô homes and under trees to avoid aircraft bombardment. According to the Sudan War Monitor‚Äôs sources, the bombing damaged many civilians‚Äô homes in which RSF fighters were sheltering. The neighborhoods of Al-Salam South, Al-Tarbiyah, Abu Ismail South, Al-Sahafa East, Al-Sahafa West, and the Babanusa Dairy Factory neighborhood were those where homes were most completely and partially damaged. In addition, government institutions and facilities, such as the buildings of the Sudan Railway Authority (Western Region Headquarters), some schools, and water sources were also damaged.\\nAccording to the same sources the shelling also, injured or killed a large number of livestock as well as fighters on both the RSF and SAF sides. At least, three RSF fighters and two Army soldiers of the Artillery Corps were killed. So, in total, besides the destruction of homes, there were at least  5 combattants and 4 civilians killed.']\n"
     ]
    },
    {
     "data": {
      "application/vnd.jupyter.widget-view+json": {
       "model_id": "30d5f478bfc04f6c8866f098a93862a6",
       "version_major": 2,
       "version_minor": 0
      },
      "text/plain": [
       "Parsing nodes:   0%|          | 0/1 [00:00<?, ?it/s]"
      ]
     },
     "metadata": {},
     "output_type": "display_data"
    },
    {
     "data": {
      "application/vnd.jupyter.widget-view+json": {
       "model_id": "190ea51dc61d4a4c88be57a00d2b732e",
       "version_major": 2,
       "version_minor": 0
      },
      "text/plain": [
       "Generating embeddings:   0%|          | 0/1 [00:00<?, ?it/s]"
      ]
     },
     "metadata": {},
     "output_type": "display_data"
    },
    {
     "name": "stdout",
     "output_type": "stream",
     "text": [
      "145 Military operations (battle, shelling)\n",
      "['On May 2, the International Committee of the Red Cross (ICRC) reported  that two of its drivers were killed by gunmen  in South Darfur, Sudan. Three other ICRC staff were injured. The incident occurred when the team was on its way back from Layba to assess the humanitarian situation of communities affected by armed violence in the region. ']\n"
     ]
    },
    {
     "data": {
      "application/vnd.jupyter.widget-view+json": {
       "model_id": "7fdd7c7dfa744b6abcb22ce10546cd7b",
       "version_major": 2,
       "version_minor": 0
      },
      "text/plain": [
       "Parsing nodes:   0%|          | 0/1 [00:00<?, ?it/s]"
      ]
     },
     "metadata": {},
     "output_type": "display_data"
    },
    {
     "data": {
      "application/vnd.jupyter.widget-view+json": {
       "model_id": "e8f939b8f01c465fa64b2774c4689f67",
       "version_major": 2,
       "version_minor": 0
      },
      "text/plain": [
       "Generating embeddings:   0%|          | 0/1 [00:00<?, ?it/s]"
      ]
     },
     "metadata": {},
     "output_type": "display_data"
    },
    {
     "name": "stdout",
     "output_type": "stream",
     "text": [
      "146 Willful killing of civilians\n",
      "['For nine consecutive days, that is from around April 27 to May 6, the Sudan Armed Forces (SAF)  and the RSF have exchanged artillery shelling,  using Katyusha rockets and various shells, in Babanusa, West Kordofan. The fighting further destroyed the city that many residents had already left.\\nAccording to sources consulted by Sudan War Monitor, the SAF were inside the 22nd Infantry Division base, the last military installation of the Sudan Army‚Äôs control in West Kordofan, while the RSF troops fought from the outskirts of the city, sheltering  in residents‚Äô homes and under trees to avoid aircraft bombardment. According to the Sudan War Monitor‚Äôs sources, the bombing damaged many civilians‚Äô homes in which RSF fighters were sheltering. The neighborhoods of Al-Salam South, Al-Tarbiyah, Abu Ismail South, Al-Sahafa East, Al-Sahafa West, and the Babanusa Dairy Factory neighborhood were those where homes were most completely and partially damaged. In addition, government institutions and facilities, such as the buildings of the Sudan Railway Authority (Western Region Headquarters), some schools, and water sources were also damaged.\\nOn May 3rd, according to information received from the Babanusa Emergency Room, four members of the same family were killed as a result of the  violent artillery shelling carried out by the RSF on the Sudan Armed Forces who control the 22nd Infantry Division Headquarters. The family had sought refuge in the 22nd Infantry Division. As a reminder, Babanusa has been the theater of several violent clashes between the RSF and the Sudanese Army since 2023.According to the same sources the shelling also, injured or killed a large number of livestock as well as fighters on both the RSF and SAF sides. At least, three RSF fighters and two Army soldiers of the Artillery Corps were killed. So, in total, besides the destruction of homes, there were at least  5 combattants and 4 civilians killed.']\n"
     ]
    },
    {
     "data": {
      "application/vnd.jupyter.widget-view+json": {
       "model_id": "290640e7713e4643b80d0ccd56312f63",
       "version_major": 2,
       "version_minor": 0
      },
      "text/plain": [
       "Parsing nodes:   0%|          | 0/1 [00:00<?, ?it/s]"
      ]
     },
     "metadata": {},
     "output_type": "display_data"
    },
    {
     "data": {
      "application/vnd.jupyter.widget-view+json": {
       "model_id": "5195786279fb42fdb172b0a0538e06a2",
       "version_major": 2,
       "version_minor": 0
      },
      "text/plain": [
       "Generating embeddings:   0%|          | 0/1 [00:00<?, ?it/s]"
      ]
     },
     "metadata": {},
     "output_type": "display_data"
    },
    {
     "name": "stdout",
     "output_type": "stream",
     "text": [
      "147 Military operations (battle, shelling)\n",
      "['On May 3rd, World Press Freedom Day, the Sudan Media Forum reported the following: ¬´¬†The press has become a target. Journalists, both men and women, face systematic violence ‚Äì killings, destruction of media houses, censorship, and illegal occupations. This ‚Äòmedia blackout‚Äô prevents them from reporting, informing the public, and upholding press freedom. (‚Ä¶) Both sides wage a ‚Äúwar on media,‚Äù spreading propaganda and misinformation to manipulate public opinion. Communication networks are disrupted, further isolating citizens, and hindering their ability to access information and aid.\" Their assessment was corrobated by an Assessment of Reporters Without Borders, a Paris-based press freedom advocacy organization. According to the 2024 World Press Freedom Index, published on May 3rd by  Reporters Without Borders, press freedom is still in ¬´¬†a very serious situation¬†¬ª in Sudan. Out of a total of 180 countries, Sudan which rated 149 with a score of 35.73 in 2024 from an earlier rating of 148 with a score of 40.83 in 2023.']\n"
     ]
    },
    {
     "data": {
      "application/vnd.jupyter.widget-view+json": {
       "model_id": "11432a0752ec4911be82f77cbd7e2342",
       "version_major": 2,
       "version_minor": 0
      },
      "text/plain": [
       "Parsing nodes:   0%|          | 0/1 [00:00<?, ?it/s]"
      ]
     },
     "metadata": {},
     "output_type": "display_data"
    },
    {
     "data": {
      "application/vnd.jupyter.widget-view+json": {
       "model_id": "1eb14eda65814122834b5d5380b9a841",
       "version_major": 2,
       "version_minor": 0
      },
      "text/plain": [
       "Generating embeddings:   0%|          | 0/1 [00:00<?, ?it/s]"
      ]
     },
     "metadata": {},
     "output_type": "display_data"
    },
    {
     "name": "stdout",
     "output_type": "stream",
     "text": [
      "148 Violent crackdowns on protesters/opponents/civil rights abuse\n",
      "['From May 4th night to the morning of May 5th, the SAF has continued Artillery shelling targeting mainly positions in Khartoum Bahri and central Khartoum, where the RSF maintains the control of some areas. Observers reported smokes rising from the centre of Khartoum Bahri and the Doroshab suburb north of Khartoum Bahri.¬† According to Sudan Tribune, ¬´¬†Since late 2023, the RSF has successfully taken control of army garrisons in four out of five Darfur state capitals: El Geneina, Zalingei, Nyala, and El Daein. Only El Fasher, the capital of North Darfur, remains under army control.¬†¬ª']\n"
     ]
    },
    {
     "data": {
      "application/vnd.jupyter.widget-view+json": {
       "model_id": "211fb7631a3d4b768ef8bdd61ab93c4c",
       "version_major": 2,
       "version_minor": 0
      },
      "text/plain": [
       "Parsing nodes:   0%|          | 0/1 [00:00<?, ?it/s]"
      ]
     },
     "metadata": {},
     "output_type": "display_data"
    },
    {
     "data": {
      "application/vnd.jupyter.widget-view+json": {
       "model_id": "bee41278df8b4bef881cc0b73a39ded7",
       "version_major": 2,
       "version_minor": 0
      },
      "text/plain": [
       "Generating embeddings:   0%|          | 0/1 [00:00<?, ?it/s]"
      ]
     },
     "metadata": {},
     "output_type": "display_data"
    },
    {
     "name": "stdout",
     "output_type": "stream",
     "text": [
      "149 Military operations (battle, shelling)\n",
      "['For nine consecutive days, that is from around April 27 to May 6, the Sudan Armed Forces (SAF)  and the RSF have exchanged artillery shelling,  using Katyusha rockets and various shells, in Babanusa, West Kordofan. The fighting further destroyed the city that many residents had already left.\\nAccording to sources consulted by Sudan War Monitor, the SAF were inside the 22nd Infantry Division base, the last military installation of the Sudan Army‚Äôs control in West Kordofan, while the RSF troops fought from the outskirts of the city, sheltering  in residents‚Äô homes and under trees to avoid aircraft bombardment. According to the Sudan War Monitor‚Äôs sources, the bombing damaged many civilians‚Äô homes in which RSF fighters were sheltering. The neighborhoods of Al-Salam South, Al-Tarbiyah, Abu Ismail South, Al-Sahafa East, Al-Sahafa West, and the Babanusa Dairy Factory neighborhood were the places where homes were most completely and partially damaged. In addition, government institutions and facilities, such as the buildings of the Sudan Railway Authority (Western Region Headquarters), some schools, and water sources were also damaged.\\nOn May 3rd, according to information received from the Babanusa Emergency Room, four members of the same family were killed as a result of the  violent artillery shelling carried out by the RSF on the Sudan Armed Forces who control the 22nd Infantry Division Headquarters. The family had sought refuge in the 22nd Infantry Division. As a reminder, Babanusa has been the theater of several violent clashes between the RSF and the Sudanese Army since 2023.\\nAccording to the same sources the shelling also, injured or killed a large number of livestock as well as fighters on both the RSF and SAF sides. At least, three RSF fighters and two Army soldiers of the Artillery Corps were killed. So, in total, besides the destruction of homes, there were at least  5 combattants and 4 civilians killed.']\n"
     ]
    },
    {
     "data": {
      "application/vnd.jupyter.widget-view+json": {
       "model_id": "ad1063a15d634425adc72f4238e53172",
       "version_major": 2,
       "version_minor": 0
      },
      "text/plain": [
       "Parsing nodes:   0%|          | 0/1 [00:00<?, ?it/s]"
      ]
     },
     "metadata": {},
     "output_type": "display_data"
    },
    {
     "data": {
      "application/vnd.jupyter.widget-view+json": {
       "model_id": "47de01381fc04d4a9425eb24c8bc8494",
       "version_major": 2,
       "version_minor": 0
      },
      "text/plain": [
       "Generating embeddings:   0%|          | 0/1 [00:00<?, ?it/s]"
      ]
     },
     "metadata": {},
     "output_type": "display_data"
    },
    {
     "name": "stdout",
     "output_type": "stream",
     "text": [
      "150 Military operations (battle, shelling)\n",
      "['On Saturday, May 4th, Colonel al-Taj al-Tijani, commander of the RSF‚Äôs West Kordofan sector, threatened to enter the city of al-Fula, the capital of West Kordofan, and liberate it from the grip of the Western Kordofan governor, Adam Karshoum Nour al-Din who is blamed for supporting the SAF. This threat generated panic in the city and led some merchants and medical personnel to flee the city.']\n"
     ]
    },
    {
     "data": {
      "application/vnd.jupyter.widget-view+json": {
       "model_id": "7cc90c98b19346d7b5df028ae539a335",
       "version_major": 2,
       "version_minor": 0
      },
      "text/plain": [
       "Parsing nodes:   0%|          | 0/1 [00:00<?, ?it/s]"
      ]
     },
     "metadata": {},
     "output_type": "display_data"
    },
    {
     "data": {
      "application/vnd.jupyter.widget-view+json": {
       "model_id": "e9c2916ccf5e4c82b2a4bb913d1a2dd3",
       "version_major": 2,
       "version_minor": 0
      },
      "text/plain": [
       "Generating embeddings:   0%|          | 0/1 [00:00<?, ?it/s]"
      ]
     },
     "metadata": {},
     "output_type": "display_data"
    },
    {
     "name": "stdout",
     "output_type": "stream",
     "text": [
      "151 Military operations (battle, shelling)\n",
      "['On May 4th, the RSF reportedly targeted¬† the Sudanese Army positions in Al-Faw, Al Jazira (El Gezira) state with heavy artillery. The attack caused some casualities but failed to stop the Army which is advancing, trying according to sources consulted by Sudan Tribune to encircle ¬´¬†Al-Jazira State from three directions: south (Sennar axis), west (Al-Manaqil axis), and east (Al-Faw axis).¬†¬ª']\n"
     ]
    },
    {
     "data": {
      "application/vnd.jupyter.widget-view+json": {
       "model_id": "40250251da4f4502be3def4635cd1b74",
       "version_major": 2,
       "version_minor": 0
      },
      "text/plain": [
       "Parsing nodes:   0%|          | 0/1 [00:00<?, ?it/s]"
      ]
     },
     "metadata": {},
     "output_type": "display_data"
    },
    {
     "data": {
      "application/vnd.jupyter.widget-view+json": {
       "model_id": "2c730f51a9f94beeadafd6c031975300",
       "version_major": 2,
       "version_minor": 0
      },
      "text/plain": [
       "Generating embeddings:   0%|          | 0/1 [00:00<?, ?it/s]"
      ]
     },
     "metadata": {},
     "output_type": "display_data"
    },
    {
     "name": "stdout",
     "output_type": "stream",
     "text": [
      "152 Military operations (battle, shelling)\n",
      "['On Sunday, May 5th ,Sudanese warplanes conducted airstrikes  targeting agricultural fields where RSF elements are reported located, near Shabarqa, a  critical RSF stronghold and strategic town that is located approximately 25 kilometres East of Wad Madani, El Gezira (aka Al Jazeera) state. Capturing Shabarqa, according to local sources, would open the path towards the Hantoub Bridge on the Blue Nile for the Army.']\n"
     ]
    },
    {
     "data": {
      "application/vnd.jupyter.widget-view+json": {
       "model_id": "d296a4528bbe4b20bb78aa69b127e787",
       "version_major": 2,
       "version_minor": 0
      },
      "text/plain": [
       "Parsing nodes:   0%|          | 0/1 [00:00<?, ?it/s]"
      ]
     },
     "metadata": {},
     "output_type": "display_data"
    },
    {
     "data": {
      "application/vnd.jupyter.widget-view+json": {
       "model_id": "ead64249dc3942378c670340e15e3970",
       "version_major": 2,
       "version_minor": 0
      },
      "text/plain": [
       "Generating embeddings:   0%|          | 0/1 [00:00<?, ?it/s]"
      ]
     },
     "metadata": {},
     "output_type": "display_data"
    },
    {
     "name": "stdout",
     "output_type": "stream",
     "text": [
      "153 Military operations (battle, shelling)\n",
      "['Early in the morning of the May 7th, the Sudanese Army initiated an offensive and recaptured the Jabal al-Ain military camp,  in  the strategic city of Al-Obeid, capital of North Kordofan State. The camp , which  served as the primary training facility for the Fifth Infantry Division, had been controlled by the RSF since the beginning of the war.  Whereas the RSF claims to still control the camp, the army released  a video confirming their victory and reporting significant enemy casualties and logistical losses.']\n"
     ]
    },
    {
     "data": {
      "application/vnd.jupyter.widget-view+json": {
       "model_id": "96c414114b1a447fa52aaa9ab33a1da2",
       "version_major": 2,
       "version_minor": 0
      },
      "text/plain": [
       "Parsing nodes:   0%|          | 0/1 [00:00<?, ?it/s]"
      ]
     },
     "metadata": {},
     "output_type": "display_data"
    },
    {
     "data": {
      "application/vnd.jupyter.widget-view+json": {
       "model_id": "1921b0e9a96a412f846bc6ad2df6a034",
       "version_major": 2,
       "version_minor": 0
      },
      "text/plain": [
       "Generating embeddings:   0%|          | 0/1 [00:00<?, ?it/s]"
      ]
     },
     "metadata": {},
     "output_type": "display_data"
    },
    {
     "name": "stdout",
     "output_type": "stream",
     "text": [
      "154 Military operations (battle, shelling)\n",
      "['The  Sudan Armed Forces conducted air strikes on RSF positions in Al-Rahad and Umm Rawaba, North Kordofan, for a second consecutive day, and  reportedly caused civilian casualties and significant property damage.']\n"
     ]
    },
    {
     "data": {
      "application/vnd.jupyter.widget-view+json": {
       "model_id": "c53826cf257b46ea8786a20f86e4d71e",
       "version_major": 2,
       "version_minor": 0
      },
      "text/plain": [
       "Parsing nodes:   0%|          | 0/1 [00:00<?, ?it/s]"
      ]
     },
     "metadata": {},
     "output_type": "display_data"
    },
    {
     "data": {
      "application/vnd.jupyter.widget-view+json": {
       "model_id": "1f9df2b607a94eea82c1cba9e7f9d0e4",
       "version_major": 2,
       "version_minor": 0
      },
      "text/plain": [
       "Generating embeddings:   0%|          | 0/1 [00:00<?, ?it/s]"
      ]
     },
     "metadata": {},
     "output_type": "display_data"
    },
    {
     "name": "stdout",
     "output_type": "stream",
     "text": [
      "155 Military operations (battle, shelling)\n",
      "['On May 8, the International Service for Human Rights denounced various forms of violence targeting civil society activists, lawyers, journalists, and humanitarian aid workers.  \"Dozens of activists and local volunteers were arrested, threatened and prosecuted in several states during the last few weeks. The states of Sennar, Algadaref, and River Nile are targeting activists who support local communities amid approaching famine. Lawyers, journalists, and local humanitarian workers were prevented from working, their homes were raided, and family members were detained or threatened.\"']\n"
     ]
    },
    {
     "data": {
      "application/vnd.jupyter.widget-view+json": {
       "model_id": "2091a7450bf44dcebc193d218679401f",
       "version_major": 2,
       "version_minor": 0
      },
      "text/plain": [
       "Parsing nodes:   0%|          | 0/1 [00:00<?, ?it/s]"
      ]
     },
     "metadata": {},
     "output_type": "display_data"
    },
    {
     "data": {
      "application/vnd.jupyter.widget-view+json": {
       "model_id": "63a6a92fa2c448fdb2edc98323321236",
       "version_major": 2,
       "version_minor": 0
      },
      "text/plain": [
       "Generating embeddings:   0%|          | 0/1 [00:00<?, ?it/s]"
      ]
     },
     "metadata": {},
     "output_type": "display_data"
    },
    {
     "name": "stdout",
     "output_type": "stream",
     "text": [
      "156 Violent crackdowns on protesters/opponents/civil rights abuse\n",
      "['On May 9, Sudan Tribune reported that  the Rapid Support Forces (RSF) assassinated Osman Qismallah Ali Abbas, a medical assistant who has been volunteering  in a health center in  Barakat, near Wad Madani,  despite the RSF control of the locality.']\n"
     ]
    },
    {
     "data": {
      "application/vnd.jupyter.widget-view+json": {
       "model_id": "a4e8e5b7bdcc48148a258a2f9b41632c",
       "version_major": 2,
       "version_minor": 0
      },
      "text/plain": [
       "Parsing nodes:   0%|          | 0/1 [00:00<?, ?it/s]"
      ]
     },
     "metadata": {},
     "output_type": "display_data"
    },
    {
     "data": {
      "application/vnd.jupyter.widget-view+json": {
       "model_id": "6606386c2c9546d098594b47323efcf3",
       "version_major": 2,
       "version_minor": 0
      },
      "text/plain": [
       "Generating embeddings:   0%|          | 0/1 [00:00<?, ?it/s]"
      ]
     },
     "metadata": {},
     "output_type": "display_data"
    },
    {
     "name": "stdout",
     "output_type": "stream",
     "text": [
      "157 Extrajudicial killing\n",
      "['After three months of security incidents, including looting, harassment and obstructions, the Medecins Sans Frontieres teams suspended on May 9 their work at the Madani Teaching Hospital, \"the only functional hospital for the hundreds of thousands of people in dire need of medical assistance in the capital of Al Jazirah state, Sudan\".']\n"
     ]
    },
    {
     "data": {
      "application/vnd.jupyter.widget-view+json": {
       "model_id": "7a1c99a950a3467891ebf0ea621bfd3d",
       "version_major": 2,
       "version_minor": 0
      },
      "text/plain": [
       "Parsing nodes:   0%|          | 0/1 [00:00<?, ?it/s]"
      ]
     },
     "metadata": {},
     "output_type": "display_data"
    },
    {
     "data": {
      "application/vnd.jupyter.widget-view+json": {
       "model_id": "f04f986770714a0e815f64c232c957cb",
       "version_major": 2,
       "version_minor": 0
      },
      "text/plain": [
       "Generating embeddings:   0%|          | 0/1 [00:00<?, ?it/s]"
      ]
     },
     "metadata": {},
     "output_type": "display_data"
    },
    {
     "name": "stdout",
     "output_type": "stream",
     "text": [
      "158 Damage or destruction of civilian critical infrastructure\n",
      "['On May 9, in Khartoum Bahri, the Resistance Committees reported to Sudan Tribune that there was a drone strike on the central market in the Shambat suburb, in Khartoum Bahri, killing at least two civilians.']\n"
     ]
    },
    {
     "data": {
      "application/vnd.jupyter.widget-view+json": {
       "model_id": "05904467bddd4f7bab58cb2f7b49fbc8",
       "version_major": 2,
       "version_minor": 0
      },
      "text/plain": [
       "Parsing nodes:   0%|          | 0/1 [00:00<?, ?it/s]"
      ]
     },
     "metadata": {},
     "output_type": "display_data"
    },
    {
     "data": {
      "application/vnd.jupyter.widget-view+json": {
       "model_id": "27a92eab25804aa6ba0df37c504e7c1e",
       "version_major": 2,
       "version_minor": 0
      },
      "text/plain": [
       "Generating embeddings:   0%|          | 0/1 [00:00<?, ?it/s]"
      ]
     },
     "metadata": {},
     "output_type": "display_data"
    },
    {
     "name": "stdout",
     "output_type": "stream",
     "text": [
      "159 Willful killing of civilians\n",
      "['On May 9,  Sudan Tribune reported that Salah Al-Tayeb Musa, the head of  the local branch of the Sudanese Congress Party (SCoP) in  Al-Qurashi, Al-Jazira State was reportedly assassinated by  the Military Intelligence. ']\n"
     ]
    },
    {
     "data": {
      "application/vnd.jupyter.widget-view+json": {
       "model_id": "9269f9ab57d740dea1d8d76711a58583",
       "version_major": 2,
       "version_minor": 0
      },
      "text/plain": [
       "Parsing nodes:   0%|          | 0/1 [00:00<?, ?it/s]"
      ]
     },
     "metadata": {},
     "output_type": "display_data"
    },
    {
     "data": {
      "application/vnd.jupyter.widget-view+json": {
       "model_id": "4251e9a0244f4a9787c410a62bf9b3d7",
       "version_major": 2,
       "version_minor": 0
      },
      "text/plain": [
       "Generating embeddings:   0%|          | 0/1 [00:00<?, ?it/s]"
      ]
     },
     "metadata": {},
     "output_type": "display_data"
    },
    {
     "name": "stdout",
     "output_type": "stream",
     "text": [
      "160 Extrajudicial killing\n",
      "['On May 9, Sudan Tribune reported that the Rapid Support Forces (RSF) have kidnapped  Ali Bishara Mor Turk, a member of the Dar es Salaam Emergency Room, Block 1, in Um Badda locality, west of Omdurman, and taken him to an unknown destination. The RSF was reported to  control the majority of Um Badda, and to have looted and vandalized all main markets, causing severe food shortages. ']\n"
     ]
    },
    {
     "data": {
      "application/vnd.jupyter.widget-view+json": {
       "model_id": "05ffec947580478cadbe4ae77d55fef0",
       "version_major": 2,
       "version_minor": 0
      },
      "text/plain": [
       "Parsing nodes:   0%|          | 0/1 [00:00<?, ?it/s]"
      ]
     },
     "metadata": {},
     "output_type": "display_data"
    },
    {
     "data": {
      "application/vnd.jupyter.widget-view+json": {
       "model_id": "eab57219a95f40368063039079811a44",
       "version_major": 2,
       "version_minor": 0
      },
      "text/plain": [
       "Generating embeddings:   0%|          | 0/1 [00:00<?, ?it/s]"
      ]
     },
     "metadata": {},
     "output_type": "display_data"
    },
    {
     "name": "stdout",
     "output_type": "stream",
     "text": [
      "161 Kidnapping\n",
      "['On May 9, in Khartoum Bahri, the Resistance Committees reported to Sudan Tribune  the deaths of Qais Younis Ali Rakiza and Talab Hamad al-Sayyid Babikir, who were tortured in RSF detention centres.']\n"
     ]
    },
    {
     "data": {
      "application/vnd.jupyter.widget-view+json": {
       "model_id": "5de7fc4ad22448668c719decde489139",
       "version_major": 2,
       "version_minor": 0
      },
      "text/plain": [
       "Parsing nodes:   0%|          | 0/1 [00:00<?, ?it/s]"
      ]
     },
     "metadata": {},
     "output_type": "display_data"
    },
    {
     "data": {
      "application/vnd.jupyter.widget-view+json": {
       "model_id": "63fd1f9a9ff3483084d5e275c4544d84",
       "version_major": 2,
       "version_minor": 0
      },
      "text/plain": [
       "Generating embeddings:   0%|          | 0/1 [00:00<?, ?it/s]"
      ]
     },
     "metadata": {},
     "output_type": "display_data"
    },
    {
     "name": "stdout",
     "output_type": "stream",
     "text": [
      "162 Torture or indications of torture\n",
      "['On Friday, May 10, in North Kordofan, three people were killed in an RSF attack in Jebel El Dayer during Friday prayers. ‚ÄúThe victims had stayed in the village to protect their homes after most residents were displaced to South Kordofan and White Nile state‚Äù , according to a resident who spoke with Radio Dabanga.']\n"
     ]
    },
    {
     "data": {
      "application/vnd.jupyter.widget-view+json": {
       "model_id": "fb8998364fac4f4b8fe67f703fb99cbb",
       "version_major": 2,
       "version_minor": 0
      },
      "text/plain": [
       "Parsing nodes:   0%|          | 0/1 [00:00<?, ?it/s]"
      ]
     },
     "metadata": {},
     "output_type": "display_data"
    },
    {
     "data": {
      "application/vnd.jupyter.widget-view+json": {
       "model_id": "05afe69a833042b093f61c9b9c4713c9",
       "version_major": 2,
       "version_minor": 0
      },
      "text/plain": [
       "Generating embeddings:   0%|          | 0/1 [00:00<?, ?it/s]"
      ]
     },
     "metadata": {},
     "output_type": "display_data"
    },
    {
     "name": "stdout",
     "output_type": "stream",
     "text": [
      "163 Willful killing of civilians\n",
      "['On Friday, May 10, there was heavy fighting in El Fasher, North Darfur between the RSF and the SAF who are supported by the Joint Force of Armed Struggle Movements. The two parties accused each other of initiating the attack and issued contradictory statements, each claiming to have inflicted heavy losses on the enemy. Sources (field commanders and eyewitnesses) consulted by Sudan Tribune reported the following: i) intense fighting with various types of weaponry in the neighborhoods of Al-Manhal School, Al-Borsa, Al-Kahraba, Al-Safa, Al-Jeel, and Factories; ii) numerous casualties, including civilian deaths and injuries. According to UNOCHA, unconfirmed reports indicated on May 12 that the fighting had left at least 27 civilians dead and 130 injured.']\n"
     ]
    },
    {
     "data": {
      "application/vnd.jupyter.widget-view+json": {
       "model_id": "c1dc6b1224014bb285941064a56c9554",
       "version_major": 2,
       "version_minor": 0
      },
      "text/plain": [
       "Parsing nodes:   0%|          | 0/1 [00:00<?, ?it/s]"
      ]
     },
     "metadata": {},
     "output_type": "display_data"
    },
    {
     "data": {
      "application/vnd.jupyter.widget-view+json": {
       "model_id": "de7fe32c387e4b5ead34edb96dbb0300",
       "version_major": 2,
       "version_minor": 0
      },
      "text/plain": [
       "Generating embeddings:   0%|          | 0/1 [00:00<?, ?it/s]"
      ]
     },
     "metadata": {},
     "output_type": "display_data"
    },
    {
     "name": "stdout",
     "output_type": "stream",
     "text": [
      "164 Military operations (battle, shelling)\n",
      "['On May 10, In El Gezira, an RSF attack on El Harga Noureldin village, east of Wad Madani, killed at least 13 people and injured several others. Witnesses told Radio Dabanga that the RSF entered the village with heavily armed combat vehicles and armed personnel and launched a violent attack against residents. ‚ÄúThe real death toll exceeds the reported numbers. There are bodies still lying in the streets and inside houses‚Äù, a resident said. He added that RSF members forcibly expelled residents from their homes and plundered their belongings.']\n"
     ]
    },
    {
     "data": {
      "application/vnd.jupyter.widget-view+json": {
       "model_id": "ef363401db6e46968f8b430daf413221",
       "version_major": 2,
       "version_minor": 0
      },
      "text/plain": [
       "Parsing nodes:   0%|          | 0/1 [00:00<?, ?it/s]"
      ]
     },
     "metadata": {},
     "output_type": "display_data"
    },
    {
     "data": {
      "application/vnd.jupyter.widget-view+json": {
       "model_id": "81abbaa765ba4954a96e08c51d7c46b6",
       "version_major": 2,
       "version_minor": 0
      },
      "text/plain": [
       "Generating embeddings:   0%|          | 0/1 [00:00<?, ?it/s]"
      ]
     },
     "metadata": {},
     "output_type": "display_data"
    },
    {
     "name": "stdout",
     "output_type": "stream",
     "text": [
      "165 Willful killing of civilians\n",
      "['On May 12, in El Obeid, North Kordofan, at least 15 people were killed in the morning  an RSF attack on the Abu Haraz market in the western part of El Obeid, the state capital.\\nWitnesses told Dabanga that residents confronted the RSF during the attack, leading to casualties. The RSF continues to deny involvement in attacks on civilians in North Kordofan villages, instead accusing military intelligence affiliated with the SAF of perpetrating the violence.']\n"
     ]
    },
    {
     "data": {
      "application/vnd.jupyter.widget-view+json": {
       "model_id": "e81ece1f4240432e943adc14002046c0",
       "version_major": 2,
       "version_minor": 0
      },
      "text/plain": [
       "Parsing nodes:   0%|          | 0/1 [00:00<?, ?it/s]"
      ]
     },
     "metadata": {},
     "output_type": "display_data"
    },
    {
     "data": {
      "application/vnd.jupyter.widget-view+json": {
       "model_id": "1230a7bc2be543b1a42845a0da647644",
       "version_major": 2,
       "version_minor": 0
      },
      "text/plain": [
       "Generating embeddings:   0%|          | 0/1 [00:00<?, ?it/s]"
      ]
     },
     "metadata": {},
     "output_type": "display_data"
    },
    {
     "name": "stdout",
     "output_type": "stream",
     "text": [
      "166 Indiscriminate use of weapons\n",
      "['On May 12, Sudan Tribune reported that, after investigation, it has \"uncovered evidence suggesting the Rapid Support Forces (RSF) have been executing civilians by hanging inside secret execution chambers across the capital, Khartoum.\" According to accounts by eyewitnesses and activists, there are \"at least 14 secret execution chambers established by the RSF in Khartoum, Bahri, and Omdurman. These facilities are allegedly overseen by officers who act as judges, issuing death sentences for civilians accused of collaborating with the army intelligence.\" Based on video clips of executions, and the accounts of eyewitnesses and activists, the existence of torture or execution rooms were reported in the following neighborhoods: Omdurman‚Äôs Wad al-Basir area, Al-Inqaz Street, facing the Weta Factory, Shambat Al-Aradi neighbourhood, the Al-Safia neighbourhood, the Parachute Regiment camp in the Hijra neighbourhood, Al-Kalakla Al-Qubba, Al-Safa,  Al-Kalakla Al-Munawara, and he El-Alamein Sports Club neighbourhoods. \"One resident described the setup: a steel beam near the ceiling, a steel stand in the middle, a strong rope attached to it, and a deep hole dug into the floor.\" Based on estimates provided by the various accounts reported by Sudan Tribune, the number of people who have been  executed thus far is uncertain, but ranges in the dozens.']\n"
     ]
    },
    {
     "data": {
      "application/vnd.jupyter.widget-view+json": {
       "model_id": "a259c04d77654eca8b35262d12130707",
       "version_major": 2,
       "version_minor": 0
      },
      "text/plain": [
       "Parsing nodes:   0%|          | 0/1 [00:00<?, ?it/s]"
      ]
     },
     "metadata": {},
     "output_type": "display_data"
    },
    {
     "data": {
      "application/vnd.jupyter.widget-view+json": {
       "model_id": "9d4675c98a2b41d18d11da619a5046ea",
       "version_major": 2,
       "version_minor": 0
      },
      "text/plain": [
       "Generating embeddings:   0%|          | 0/1 [00:00<?, ?it/s]"
      ]
     },
     "metadata": {},
     "output_type": "display_data"
    },
    {
     "name": "stdout",
     "output_type": "stream",
     "text": [
      "167 Extrajudicial killing\n",
      "[\"On May 12, the old Republican Palace in Khartoum, a historic landmark built in 1832 under Ottoman Turkish rule, was hit by  an Army's airstrike. Video footage of RSF soldiers extinguishing flames in the palace courtyard circulated online that day. The bombing followed intense battles between the SAF and the RSF near the Signal Corps in Khartoum Bahri (Khartoum North), according to local sources consulted by Radio Dabanga.\"]\n"
     ]
    },
    {
     "data": {
      "application/vnd.jupyter.widget-view+json": {
       "model_id": "ef953d4d2205419cbe7b8d3be129f884",
       "version_major": 2,
       "version_minor": 0
      },
      "text/plain": [
       "Parsing nodes:   0%|          | 0/1 [00:00<?, ?it/s]"
      ]
     },
     "metadata": {},
     "output_type": "display_data"
    },
    {
     "data": {
      "application/vnd.jupyter.widget-view+json": {
       "model_id": "64ce3d77b1084a72acae16e1173f530b",
       "version_major": 2,
       "version_minor": 0
      },
      "text/plain": [
       "Generating embeddings:   0%|          | 0/1 [00:00<?, ?it/s]"
      ]
     },
     "metadata": {},
     "output_type": "display_data"
    },
    {
     "name": "stdout",
     "output_type": "stream",
     "text": [
      "168 Military operations (battle, shelling)\n",
      "['On May 12, violent clashes have continued in El Fasher, the capital of North Darfur,  between the Sudanese Armed Forces (SAF) and its allied militias against the Rapid Support Forces (RSF) at the northern and eastern directions of the city since Friday morning. The  El Fasher Emergency Room reported dozens of civilians  injured and transferred to El Fasher Southern Hospital,  some of them requiring urgent surgical intervention and operations.']\n"
     ]
    },
    {
     "data": {
      "application/vnd.jupyter.widget-view+json": {
       "model_id": "6301f1fae3db4a1aabaf2de09be2754c",
       "version_major": 2,
       "version_minor": 0
      },
      "text/plain": [
       "Parsing nodes:   0%|          | 0/1 [00:00<?, ?it/s]"
      ]
     },
     "metadata": {},
     "output_type": "display_data"
    },
    {
     "data": {
      "application/vnd.jupyter.widget-view+json": {
       "model_id": "2ec8759f16c0475a89d312415305495f",
       "version_major": 2,
       "version_minor": 0
      },
      "text/plain": [
       "Generating embeddings:   0%|          | 0/1 [00:00<?, ?it/s]"
      ]
     },
     "metadata": {},
     "output_type": "display_data"
    },
    {
     "name": "stdout",
     "output_type": "stream",
     "text": [
      "169 Military operations (battle, shelling)\n",
      "['According to UN emergency relief chief Martin Griffiths, a ‚Äústrike‚Äù damaged the roof of the intensive care unit at Southern Hospital in El Fasher Town ‚Äì the only working hospital in North Darfur state ‚Äì where¬†medical supplies are running dangerously low.']\n"
     ]
    },
    {
     "data": {
      "application/vnd.jupyter.widget-view+json": {
       "model_id": "c378a54d0a704896884570a1f8500eb8",
       "version_major": 2,
       "version_minor": 0
      },
      "text/plain": [
       "Parsing nodes:   0%|          | 0/1 [00:00<?, ?it/s]"
      ]
     },
     "metadata": {},
     "output_type": "display_data"
    },
    {
     "data": {
      "application/vnd.jupyter.widget-view+json": {
       "model_id": "442c0b9cd9964d9189e2700c6828c282",
       "version_major": 2,
       "version_minor": 0
      },
      "text/plain": [
       "Generating embeddings:   0%|          | 0/1 [00:00<?, ?it/s]"
      ]
     },
     "metadata": {},
     "output_type": "display_data"
    },
    {
     "name": "stdout",
     "output_type": "stream",
     "text": [
      "170 Damage or destruction of civilian critical infrastructure\n",
      "['Despite calls for the cessation of hostilities, the RSF has intensified these last three days  its offensive against El Fasher, North Darfur, which has led to an escalation of violent clashes between them and the Army and the pro-Army Joint Forces. The fighting has resulted in numerous deaths and injuries of civilians caught in the crossfire, and forced many to flee Abu Shouk camp. The most impacted areas have been  the densely populated districts  in the south and north of the city,  such as Al-Inqaz, Al-Salam, Al-Wahda, Al-Hijra, Oulad Al-Reef, and Makraka, which were affected by  artillery bombardment.']\n"
     ]
    },
    {
     "data": {
      "application/vnd.jupyter.widget-view+json": {
       "model_id": "eaeed2ef2bed43a084eedcbd8e53c228",
       "version_major": 2,
       "version_minor": 0
      },
      "text/plain": [
       "Parsing nodes:   0%|          | 0/1 [00:00<?, ?it/s]"
      ]
     },
     "metadata": {},
     "output_type": "display_data"
    },
    {
     "data": {
      "application/vnd.jupyter.widget-view+json": {
       "model_id": "6f8e7ca91559421a92b9f2eda6528a36",
       "version_major": 2,
       "version_minor": 0
      },
      "text/plain": [
       "Generating embeddings:   0%|          | 0/1 [00:00<?, ?it/s]"
      ]
     },
     "metadata": {},
     "output_type": "display_data"
    },
    {
     "name": "stdout",
     "output_type": "stream",
     "text": [
      "171 Military operations (battle, shelling)\n",
      "['On Tuesday, May 14, eyewitnesses reported to Sudan War Monitor that an RSF force using a four-wheel drive vehicle with five heavily armed individuals on board attacked the home of a local religious leader after disputes over Zakat as well as a local resistance movement in the city of Ghabish (aka Gbeish), West Kordofan . The attack left 8 people dead and 10 others injured. ']\n"
     ]
    },
    {
     "data": {
      "application/vnd.jupyter.widget-view+json": {
       "model_id": "f3f4bc025dbf46e88d37188fdc8ebd5a",
       "version_major": 2,
       "version_minor": 0
      },
      "text/plain": [
       "Parsing nodes:   0%|          | 0/1 [00:00<?, ?it/s]"
      ]
     },
     "metadata": {},
     "output_type": "display_data"
    },
    {
     "data": {
      "application/vnd.jupyter.widget-view+json": {
       "model_id": "b326a8db245b4d668893f91385b07d48",
       "version_major": 2,
       "version_minor": 0
      },
      "text/plain": [
       "Generating embeddings:   0%|          | 0/1 [00:00<?, ?it/s]"
      ]
     },
     "metadata": {},
     "output_type": "display_data"
    },
    {
     "name": "stdout",
     "output_type": "stream",
     "text": [
      "172 Indiscriminate use of weapons\n",
      "['On May 15, Sudan War Monitor reported that the Rapid Support Forces in the city of Nyala, the capital of South Darfur, has been perceived opponents the past two weeks, especially former army and police personnel in view of recruiting them. More than 80 people have been arrested.']\n"
     ]
    },
    {
     "data": {
      "application/vnd.jupyter.widget-view+json": {
       "model_id": "37528948244044139739c9fed2e8aa08",
       "version_major": 2,
       "version_minor": 0
      },
      "text/plain": [
       "Parsing nodes:   0%|          | 0/1 [00:00<?, ?it/s]"
      ]
     },
     "metadata": {},
     "output_type": "display_data"
    },
    {
     "data": {
      "application/vnd.jupyter.widget-view+json": {
       "model_id": "44c5d442ae6f47a2a78d7c44161c500f",
       "version_major": 2,
       "version_minor": 0
      },
      "text/plain": [
       "Generating embeddings:   0%|          | 0/1 [00:00<?, ?it/s]"
      ]
     },
     "metadata": {},
     "output_type": "display_data"
    },
    {
     "name": "stdout",
     "output_type": "stream",
     "text": [
      "173 Unlawful detention\n",
      "['On Thursday, May 16, a health centre in Um Rawaba was attacked by assailants who plundered medical equipment and medications, according to reports by local residents. This attack is part of coordinated attacks attributed by local people to the RSF.']\n"
     ]
    },
    {
     "data": {
      "application/vnd.jupyter.widget-view+json": {
       "model_id": "7b57c58f3058445897e89474dca0121c",
       "version_major": 2,
       "version_minor": 0
      },
      "text/plain": [
       "Parsing nodes:   0%|          | 0/1 [00:00<?, ?it/s]"
      ]
     },
     "metadata": {},
     "output_type": "display_data"
    },
    {
     "data": {
      "application/vnd.jupyter.widget-view+json": {
       "model_id": "b41430b727c545d890bee2e600f9ca96",
       "version_major": 2,
       "version_minor": 0
      },
      "text/plain": [
       "Generating embeddings:   0%|          | 0/1 [00:00<?, ?it/s]"
      ]
     },
     "metadata": {},
     "output_type": "display_data"
    },
    {
     "name": "stdout",
     "output_type": "stream",
     "text": [
      "174 Damage or destruction, looting, or theft of civilian critical infrastructure\n",
      "[\"Between Friday, May 10 and Wednesday, May 15, violent clashes between the RSF and the SAF supported by allied armed groups  occured in the Eastern and Southern parts of El Fasher. According to reports by MSF, the clashes have resulted in at least  454 casualties who arrived at the city's South Hospital, 56 of whom died. According to a report from North Darfur Ministry of Health, the violence has left 63 individuals and 388 others injured along with the destruction of homes and private property. A higher death toll is expected.\"]\n"
     ]
    },
    {
     "data": {
      "application/vnd.jupyter.widget-view+json": {
       "model_id": "f0044a0fbff34e4ab6c521f67330624b",
       "version_major": 2,
       "version_minor": 0
      },
      "text/plain": [
       "Parsing nodes:   0%|          | 0/1 [00:00<?, ?it/s]"
      ]
     },
     "metadata": {},
     "output_type": "display_data"
    },
    {
     "data": {
      "application/vnd.jupyter.widget-view+json": {
       "model_id": "74bc43fa22e34eb08cc3e3d3b645b21d",
       "version_major": 2,
       "version_minor": 0
      },
      "text/plain": [
       "Generating embeddings:   0%|          | 0/1 [00:00<?, ?it/s]"
      ]
     },
     "metadata": {},
     "output_type": "display_data"
    },
    {
     "name": "stdout",
     "output_type": "stream",
     "text": [
      "175 Military operations (battle, shelling)\n",
      "['On Saturday, May 18, El Rahmaniya, a village northwest of Um Rawaba, North Kordofan, was attacked by the RSF, leaving at least 15 dead and several others injured. Scores of houses were burned down. According to residents, other villages around Um Rawaba have experienced, in the past two weeks, similar violence in the past two weeks, including ¬´¬†killing, plundering, burning homes, and displacing residents‚Äù by RSF fighters. Targeted villages include El Balahat, Ghabsha El Mahata, and other \"villages surrounding the road linking Wad Ashana and Um Rawaba.\" However, the RSF have repeatedly denied any involvement in the violence against civilians and accuse the Sudanese military of that violence.']\n"
     ]
    },
    {
     "data": {
      "application/vnd.jupyter.widget-view+json": {
       "model_id": "f8264ce3da88404eaa096dccc77f0653",
       "version_major": 2,
       "version_minor": 0
      },
      "text/plain": [
       "Parsing nodes:   0%|          | 0/1 [00:00<?, ?it/s]"
      ]
     },
     "metadata": {},
     "output_type": "display_data"
    },
    {
     "data": {
      "application/vnd.jupyter.widget-view+json": {
       "model_id": "8dbdb01446244847ba085155f5a260d0",
       "version_major": 2,
       "version_minor": 0
      },
      "text/plain": [
       "Generating embeddings:   0%|          | 0/1 [00:00<?, ?it/s]"
      ]
     },
     "metadata": {},
     "output_type": "display_data"
    },
    {
     "name": "stdout",
     "output_type": "stream",
     "text": [
      "176 Willful killing of civilians\n",
      "['On Saturday, May 18, 11 civilians, mostly people waiting for transportantion and residents in the Al-Manara neighbourhood of Omdurman (Khartoum state), were killed as a result of an artillery shelling that local resistance committees¬† attributed to the RSF. Even though, the shells reportedly came from RSF positions in Khartoum North.']\n"
     ]
    },
    {
     "data": {
      "application/vnd.jupyter.widget-view+json": {
       "model_id": "c2846be482144ab9a8a1e477b3a6080a",
       "version_major": 2,
       "version_minor": 0
      },
      "text/plain": [
       "Parsing nodes:   0%|          | 0/1 [00:00<?, ?it/s]"
      ]
     },
     "metadata": {},
     "output_type": "display_data"
    },
    {
     "data": {
      "application/vnd.jupyter.widget-view+json": {
       "model_id": "2075aa9fc37241d387d5936df02759cf",
       "version_major": 2,
       "version_minor": 0
      },
      "text/plain": [
       "Generating embeddings:   0%|          | 0/1 [00:00<?, ?it/s]"
      ]
     },
     "metadata": {},
     "output_type": "display_data"
    },
    {
     "name": "stdout",
     "output_type": "stream",
     "text": [
      "177 Indiscriminate use of weapons\n",
      "['On Sunday, May 19, the Rapid Support Forces (RSF) bombed several El Fasher neighbourhoods, including Abu Shouk camp for displaced people. A number of civilians were killed or injured in and around the city.  \"In an interview with Radio Dabanga , activist Hafez Ishag said that several buildings collapsed due to the indiscriminate shelling of El Fasher. The RSF, currently in control of the eastern and northeastern side of the city, used artillery and rocket launchers. ‚ÄúShells fell on the Hajar Gadou wells, Gashlag El Jeish, the Saudi Hospital, and the Abu Shouk camp for the displaced. They also bombed the Grand Market and western parts of the city,‚Äù he said. The injured were transferred to El Fasher Southern Hospital and the Abu Shouk camp health centre. ']\n"
     ]
    },
    {
     "data": {
      "application/vnd.jupyter.widget-view+json": {
       "model_id": "81dc43ca1ba248f0a10a2345c8b10b49",
       "version_major": 2,
       "version_minor": 0
      },
      "text/plain": [
       "Parsing nodes:   0%|          | 0/1 [00:00<?, ?it/s]"
      ]
     },
     "metadata": {},
     "output_type": "display_data"
    },
    {
     "data": {
      "application/vnd.jupyter.widget-view+json": {
       "model_id": "98ed71ccdc7b4907bbaed264f05e5a6f",
       "version_major": 2,
       "version_minor": 0
      },
      "text/plain": [
       "Generating embeddings:   0%|          | 0/1 [00:00<?, ?it/s]"
      ]
     },
     "metadata": {},
     "output_type": "display_data"
    },
    {
     "name": "stdout",
     "output_type": "stream",
     "text": [
      "178 Military operations (shelling)\n",
      "['In an announcement posted on X on Sunday, May 19, the RSF claimed that it has established control over Um Rawaba, a city in North Kordofan. Listeners of Radio Dabanga reported that fighters affiliated with the RSF plundered the Rawaba Grand Market, robbed and killed a resident at gunpoint  in the market, and have been \"imposing heavy taxes on all merchants.‚Äù RSF fighters also reportedly detained several people among the civilians who have  travelling long distances on foot or in carts to reach safer areas‚Äù after fleeing violent clashes between the RSF and the Army in Um Rawaba and El Obeid. ']\n"
     ]
    },
    {
     "data": {
      "application/vnd.jupyter.widget-view+json": {
       "model_id": "8c69e1fae5984d05906cb2e288cd9b3e",
       "version_major": 2,
       "version_minor": 0
      },
      "text/plain": [
       "Parsing nodes:   0%|          | 0/1 [00:00<?, ?it/s]"
      ]
     },
     "metadata": {},
     "output_type": "display_data"
    },
    {
     "data": {
      "application/vnd.jupyter.widget-view+json": {
       "model_id": "a704c8d0e6c74c4a832d18a9dc866d02",
       "version_major": 2,
       "version_minor": 0
      },
      "text/plain": [
       "Generating embeddings:   0%|          | 0/1 [00:00<?, ?it/s]"
      ]
     },
     "metadata": {},
     "output_type": "display_data"
    },
    {
     "name": "stdout",
     "output_type": "stream",
     "text": [
      "179 Violent crackdowns on protesters/opponents/civil rights abuse\n",
      "['On Sunday, May 19, the RSF, reportedly, fired heavy artillery that damaged the specialized Women‚Äôs, Maternity, and Neonatal Hospital in El Fasher and injured at least 9 people.¬†']\n"
     ]
    },
    {
     "data": {
      "application/vnd.jupyter.widget-view+json": {
       "model_id": "a88a1a0cd2734c8a90794c3b23f8e109",
       "version_major": 2,
       "version_minor": 0
      },
      "text/plain": [
       "Parsing nodes:   0%|          | 0/1 [00:00<?, ?it/s]"
      ]
     },
     "metadata": {},
     "output_type": "display_data"
    },
    {
     "data": {
      "application/vnd.jupyter.widget-view+json": {
       "model_id": "abd86afa249a416abc4e7ce1706e808d",
       "version_major": 2,
       "version_minor": 0
      },
      "text/plain": [
       "Generating embeddings:   0%|          | 0/1 [00:00<?, ?it/s]"
      ]
     },
     "metadata": {},
     "output_type": "display_data"
    },
    {
     "name": "stdout",
     "output_type": "stream",
     "text": [
      "180 Damage or destruction of civilian critical infrastructure\n",
      "['On Monday, May 20th, local residents reported that the RSF  fired heavy artillery at many residential neighbourhoods in El Fasher near the ‚ÄúKabir‚Äù market in El-Fasher. The neighborhoods affected by the shelling include  the Abu Shouk displacement camp, the Al-Azma and Al-Sahafa neighbourhoods within the city, the Al-Salaam Primary School for Girls where one child was injured, and the Al-Timanat Primary School for Girls in the Al-Amal neighbourhood. ']\n"
     ]
    },
    {
     "data": {
      "application/vnd.jupyter.widget-view+json": {
       "model_id": "d3a1273c9e86474bad8f6c6c4eb25f9d",
       "version_major": 2,
       "version_minor": 0
      },
      "text/plain": [
       "Parsing nodes:   0%|          | 0/1 [00:00<?, ?it/s]"
      ]
     },
     "metadata": {},
     "output_type": "display_data"
    },
    {
     "data": {
      "application/vnd.jupyter.widget-view+json": {
       "model_id": "4d0a5d97454d4f1a8a3d2d7123677de2",
       "version_major": 2,
       "version_minor": 0
      },
      "text/plain": [
       "Generating embeddings:   0%|          | 0/1 [00:00<?, ?it/s]"
      ]
     },
     "metadata": {},
     "output_type": "display_data"
    },
    {
     "name": "stdout",
     "output_type": "stream",
     "text": [
      "181 Military operations (shelling)\n",
      "['On Tuesday, May 21, \"a group affiliated with the Rapid Support Forces (RSF) carried out a second day of deadly attacks in the area of Takina, Kamleen locality, Al Jazirah state, killing at least 18 people and injuring many more.\"']\n"
     ]
    },
    {
     "data": {
      "application/vnd.jupyter.widget-view+json": {
       "model_id": "0c962d42028949078060a3df7525d67a",
       "version_major": 2,
       "version_minor": 0
      },
      "text/plain": [
       "Parsing nodes:   0%|          | 0/1 [00:00<?, ?it/s]"
      ]
     },
     "metadata": {},
     "output_type": "display_data"
    },
    {
     "data": {
      "application/vnd.jupyter.widget-view+json": {
       "model_id": "41ceea1a782e496d8ee8e8cc5b2e63dc",
       "version_major": 2,
       "version_minor": 0
      },
      "text/plain": [
       "Generating embeddings:   0%|          | 0/1 [00:00<?, ?it/s]"
      ]
     },
     "metadata": {},
     "output_type": "display_data"
    },
    {
     "name": "stdout",
     "output_type": "stream",
     "text": [
      "182 Indiscriminate use of weapons\n",
      "['On Wednesday, May 22, several people were killed and injured as a result of clashes between the RSF and the Sudanese Army. Witnesses reported fierce fighting involving heavy weaponry  in the northern and eastern parts of the city. The Abu Shouk IDP (Internally Displaced People) Camp Emergency Room also reported that several individuals were injured in the camp as a result of  falling shells.  According to a member of the Abu Shouk Camp Emergency Room,  ‚ÄúRSF militias stormed the camp, committing brutal crimes against unarmed youth, including beatings, torture, detention, and looting.‚Äù At least, 18 people were injured.']\n"
     ]
    },
    {
     "data": {
      "application/vnd.jupyter.widget-view+json": {
       "model_id": "a140cbe08e054ecfa569b4fc6707f5b3",
       "version_major": 2,
       "version_minor": 0
      },
      "text/plain": [
       "Parsing nodes:   0%|          | 0/1 [00:00<?, ?it/s]"
      ]
     },
     "metadata": {},
     "output_type": "display_data"
    },
    {
     "data": {
      "application/vnd.jupyter.widget-view+json": {
       "model_id": "3d5c9f271143445796671dc611e369cd",
       "version_major": 2,
       "version_minor": 0
      },
      "text/plain": [
       "Generating embeddings:   0%|          | 0/1 [00:00<?, ?it/s]"
      ]
     },
     "metadata": {},
     "output_type": "display_data"
    },
    {
     "name": "stdout",
     "output_type": "stream",
     "text": [
      "183 Military operations (battle, shelling)\n",
      "['Repeated airstrikes on Kabkabiya, a town under the control of the RSF,  in North Darfur on Wednesday, May 22, led to the death of 16 people, among them 12 children. Dozens of others were injured. Nine houses were demolished.\\nResident Adnan Ibrahim reported y that an Antonov dropped a barrel bomb on the Soleng School on Wednesday. Three children died. A second bomb fell on a house in the southern part of the town, killing three people. Several people were wounded.\\nA displaced woman, who preferred to withhold her name for security reasons, told Radio Dabanga that six students at the Osman School Complex were killed when a bomb fell near the school in the Tabiya neighbourhood. Dozens of people were wounded. Three houses collapsed.  A second bomb that fell in the Karkara neighbourhood killed three children, wounded dozens of people, and destroyed six houses. The air raids, which caused great panic among the people, also led to the destruction of two water tanks in the Amiriya and Karkara neighbourhoods, which caused a severe water crisis in several parts of the town.']\n"
     ]
    },
    {
     "data": {
      "application/vnd.jupyter.widget-view+json": {
       "model_id": "dbca69f34a7d40638d269a604a07db97",
       "version_major": 2,
       "version_minor": 0
      },
      "text/plain": [
       "Parsing nodes:   0%|          | 0/1 [00:00<?, ?it/s]"
      ]
     },
     "metadata": {},
     "output_type": "display_data"
    },
    {
     "data": {
      "application/vnd.jupyter.widget-view+json": {
       "model_id": "cde28f573515400797642638f818bf02",
       "version_major": 2,
       "version_minor": 0
      },
      "text/plain": [
       "Generating embeddings:   0%|          | 0/1 [00:00<?, ?it/s]"
      ]
     },
     "metadata": {},
     "output_type": "display_data"
    },
    {
     "name": "stdout",
     "output_type": "stream",
     "text": [
      "184 Indiscriminate use of weapons\n",
      "['Following indiscriminate shelling that affected parts of the Abu Shouk Camp, in El Fasher, North Darfur, and widespread abuses by the RSF, there has been a mass exodus from the camp residents towards unknown destinations.  An  estimated 60% of residents have fled the Abu Shouk camp, according to Sudan Tribune who indicated that \" The camp, home to approximately 400,000 displaced persons, was overrun by the RSF on Wednesday [May 22], triggering a wave of killings, lootings, arrests, and arson, particularly in sections 27 and 28.']\n"
     ]
    },
    {
     "data": {
      "application/vnd.jupyter.widget-view+json": {
       "model_id": "974d7d57e68340a8bbec0787d4bdd488",
       "version_major": 2,
       "version_minor": 0
      },
      "text/plain": [
       "Parsing nodes:   0%|          | 0/1 [00:00<?, ?it/s]"
      ]
     },
     "metadata": {},
     "output_type": "display_data"
    },
    {
     "data": {
      "application/vnd.jupyter.widget-view+json": {
       "model_id": "f0601f5906ce4ba09aca4ce5933af599",
       "version_major": 2,
       "version_minor": 0
      },
      "text/plain": [
       "Generating embeddings:   0%|          | 0/1 [00:00<?, ?it/s]"
      ]
     },
     "metadata": {},
     "output_type": "display_data"
    },
    {
     "name": "stdout",
     "output_type": "stream",
     "text": [
      "185 Indiscriminate use of weapons\n",
      "['On Saturday, May 25,  Minni Minnawi, the governor of North Darfur, declared that at least 30 civilians and 17 soldiers were killed in attacks in El Fasher.  He commented: ‚ÄúThis shows that the goal of those attacking el-Fasher is to exterminate the city.‚Äù']\n"
     ]
    },
    {
     "data": {
      "application/vnd.jupyter.widget-view+json": {
       "model_id": "d4e94e77d05945dab4e2d74a2b530aeb",
       "version_major": 2,
       "version_minor": 0
      },
      "text/plain": [
       "Parsing nodes:   0%|          | 0/1 [00:00<?, ?it/s]"
      ]
     },
     "metadata": {},
     "output_type": "display_data"
    },
    {
     "data": {
      "application/vnd.jupyter.widget-view+json": {
       "model_id": "962ff0efd7934cba96c90df589768b7b",
       "version_major": 2,
       "version_minor": 0
      },
      "text/plain": [
       "Generating embeddings:   0%|          | 0/1 [00:00<?, ?it/s]"
      ]
     },
     "metadata": {},
     "output_type": "display_data"
    },
    {
     "name": "stdout",
     "output_type": "stream",
     "text": [
      "186 Willful killing of civilians\n",
      "['M√©decins Sans Fronti√®res (MSF) confirmed the death of one of their employees in an artillery strike on his home in central El Fasher.  The employee was an  off-duty watchman working at the MSF pharmacy and was reportedly killed when shelling struck his home near El Fasher‚Äôs main market on May 25.']\n"
     ]
    },
    {
     "data": {
      "application/vnd.jupyter.widget-view+json": {
       "model_id": "6a7def883daf4484884575404e6b6d52",
       "version_major": 2,
       "version_minor": 0
      },
      "text/plain": [
       "Parsing nodes:   0%|          | 0/1 [00:00<?, ?it/s]"
      ]
     },
     "metadata": {},
     "output_type": "display_data"
    },
    {
     "data": {
      "application/vnd.jupyter.widget-view+json": {
       "model_id": "253c944acad742e2a610449531f8adf1",
       "version_major": 2,
       "version_minor": 0
      },
      "text/plain": [
       "Generating embeddings:   0%|          | 0/1 [00:00<?, ?it/s]"
      ]
     },
     "metadata": {},
     "output_type": "display_data"
    },
    {
     "name": "stdout",
     "output_type": "stream",
     "text": [
      "187 Military operations (shelling)\n",
      "[\"On Saturday, May 25, from five  until eight o‚Äôclock in the evening, heavy fighting resumed between the RSF and the SAF  in Babanusa, West Kordofan after the RSF launched anr attack against the Sudanese army‚Äôs 22nd Infantry Division base on the western side of that city. Military sources reported at least 5 fighters  killed and 20 injured on the RSF side, and on the Army's side, 7 killed and others injured. This makes a total of at least 12, a number confirmed by Sudan War Monitor.\"]\n"
     ]
    },
    {
     "data": {
      "application/vnd.jupyter.widget-view+json": {
       "model_id": "423719894c2c45a996c2f2919619c5d1",
       "version_major": 2,
       "version_minor": 0
      },
      "text/plain": [
       "Parsing nodes:   0%|          | 0/1 [00:00<?, ?it/s]"
      ]
     },
     "metadata": {},
     "output_type": "display_data"
    },
    {
     "data": {
      "application/vnd.jupyter.widget-view+json": {
       "model_id": "713bbf5b4a4f441780e447a3b52911b7",
       "version_major": 2,
       "version_minor": 0
      },
      "text/plain": [
       "Generating embeddings:   0%|          | 0/1 [00:00<?, ?it/s]"
      ]
     },
     "metadata": {},
     "output_type": "display_data"
    },
    {
     "name": "stdout",
     "output_type": "stream",
     "text": [
      "188 Military operations (battle, shelling)\n",
      "['On  Saturday, May 25, Gandahar Market in Ombada, just west of Omdurman, was heavily damaged by a fire  allegedly caused by an airstrike by the Sudan Armed Forces. Using geolocation, Sudan War Monitor was able to verify the location of the incident (15.649768, 32.389874), and satellite images corroborated the date, but could not confirm the exact death toll or the cause of the damage.The Rapid Support Forces (RSF), which control the area, produced videos of the aftermath of the blast, showing at least 12 bodies, many of them charred beyond recognition.']\n"
     ]
    },
    {
     "data": {
      "application/vnd.jupyter.widget-view+json": {
       "model_id": "66e921a04bf5473cbbc70f4757722374",
       "version_major": 2,
       "version_minor": 0
      },
      "text/plain": [
       "Parsing nodes:   0%|          | 0/1 [00:00<?, ?it/s]"
      ]
     },
     "metadata": {},
     "output_type": "display_data"
    },
    {
     "data": {
      "application/vnd.jupyter.widget-view+json": {
       "model_id": "180f87460de547c7936a5fd2d02a957e",
       "version_major": 2,
       "version_minor": 0
      },
      "text/plain": [
       "Generating embeddings:   0%|          | 0/1 [00:00<?, ?it/s]"
      ]
     },
     "metadata": {},
     "output_type": "display_data"
    },
    {
     "name": "stdout",
     "output_type": "stream",
     "text": [
      "189 Indiscriminate use of weapons\n",
      "['Since the beginning of the war in April 2023 to May 2024, a campaign dedicated to combating rape and sexual violence in Sudan, ‚ÄúTogether Against Rape and Sexual Violence,‚Äù has documented 377 cases of rape, including 131 cases involving young girls. There were at least  99 cases documented in North Darfur, 89 in Al Jazirah, 56 in Central Darfur, 55 in Khartoum, and 22 in Al-Obeid. The remaining cases are spread across other regions.']\n"
     ]
    },
    {
     "data": {
      "application/vnd.jupyter.widget-view+json": {
       "model_id": "aa732655e2db4ee4b7f796b3ce6beb16",
       "version_major": 2,
       "version_minor": 0
      },
      "text/plain": [
       "Parsing nodes:   0%|          | 0/1 [00:00<?, ?it/s]"
      ]
     },
     "metadata": {},
     "output_type": "display_data"
    },
    {
     "data": {
      "application/vnd.jupyter.widget-view+json": {
       "model_id": "5149e68f2b8c4779a6f34d63ed44bba8",
       "version_major": 2,
       "version_minor": 0
      },
      "text/plain": [
       "Generating embeddings:   0%|          | 0/1 [00:00<?, ?it/s]"
      ]
     },
     "metadata": {},
     "output_type": "display_data"
    },
    {
     "name": "stdout",
     "output_type": "stream",
     "text": [
      "190 Gender-based or other conflict-related sexual violence\n",
      "['MSF teams at the Southern Hospital in El Fasher, North Darfur,  have documented 123 deaths and over 930 injuries in the past two weeks alone. Other estimates place the death toll at 134. (On Friday,   clashes between the Sudanese army, armed movements, and the Rapid Support Forces (RSF) left at least  22 dead and over 110 injured, according to Ibrahim Abdallah Khater, General Director of Health in North Darfur State.) Thousands of residents have fled the city, seeking refuge in areas controlled by the Sudan Liberation Movement (SLM) under Abdel Wahid Nur.']\n"
     ]
    },
    {
     "data": {
      "application/vnd.jupyter.widget-view+json": {
       "model_id": "5aabbd92051f467fa6042462b2c1f95d",
       "version_major": 2,
       "version_minor": 0
      },
      "text/plain": [
       "Parsing nodes:   0%|          | 0/1 [00:00<?, ?it/s]"
      ]
     },
     "metadata": {},
     "output_type": "display_data"
    },
    {
     "data": {
      "application/vnd.jupyter.widget-view+json": {
       "model_id": "8db567d02e4246f6bf68ff275da31600",
       "version_major": 2,
       "version_minor": 0
      },
      "text/plain": [
       "Generating embeddings:   0%|          | 0/1 [00:00<?, ?it/s]"
      ]
     },
     "metadata": {},
     "output_type": "display_data"
    },
    {
     "name": "stdout",
     "output_type": "stream",
     "text": [
      "191 Military operations (battle, shelling)\n",
      "['As a result of the intensification of fighting between the RSF and the Army who is backed by the Joint Force of Armed Struggle Movements, both the security and huminitarian situation has deteriorated according to several reports. The Dar El Salam Emergency Room in North Darfur said in a statement yesterday that almost 20,000 displaced people have fled to the locality to escape fighting in El Fasher and other areas in the past weeks, most of whom are staying with host families.\\n‚ÄúThere are 11 shelters, 8 of which are schools, in Dar El Salam. The displaced are living in difficult conditions due to the lack of external assistance from humanitarian organisations‚Äù. Whereas the SAF claims that it has ‚Äúsuccessfully expelled the RSF outside of the eastern borders of El Fasher‚Äù,  the RSF declared on May 26 that it epelled an attack by the SAF in El Fasher on May 25 and accused the army and allies of sheltering in displaced camps and using civilians as human shields.']\n"
     ]
    },
    {
     "data": {
      "application/vnd.jupyter.widget-view+json": {
       "model_id": "2c5d8b8744ff42d29e9e4b5d97b42c3c",
       "version_major": 2,
       "version_minor": 0
      },
      "text/plain": [
       "Parsing nodes:   0%|          | 0/1 [00:00<?, ?it/s]"
      ]
     },
     "metadata": {},
     "output_type": "display_data"
    },
    {
     "data": {
      "application/vnd.jupyter.widget-view+json": {
       "model_id": "5c3b068cdde049a5ad54871970f3ba36",
       "version_major": 2,
       "version_minor": 0
      },
      "text/plain": [
       "Generating embeddings:   0%|          | 0/1 [00:00<?, ?it/s]"
      ]
     },
     "metadata": {},
     "output_type": "display_data"
    },
    {
     "name": "stdout",
     "output_type": "stream",
     "text": [
      "192 Military operations (battle, shelling)\n",
      "['On May 27, Save the Children reported that the number of attacks on schools has increased in Sudan since the beginning of the war with \"88 reports of violent incidents and most schools now closed\". The recorded incidents included \"airstrikes on schools resulting in the killing and injury of students and teachers, torturing of teachers, killing and abduction of teachers and sexual violence against students inside education facilities. Other incidents included occupation of schools by armed groups, use of schools as weapons storage facilities, and battles fought on education premises.\"\\n ']\n"
     ]
    },
    {
     "data": {
      "application/vnd.jupyter.widget-view+json": {
       "model_id": "4dae9bb1824d40138f25eb0458ff103d",
       "version_major": 2,
       "version_minor": 0
      },
      "text/plain": [
       "Parsing nodes:   0%|          | 0/1 [00:00<?, ?it/s]"
      ]
     },
     "metadata": {},
     "output_type": "display_data"
    },
    {
     "data": {
      "application/vnd.jupyter.widget-view+json": {
       "model_id": "e6678de7ce25414ba6d622ce877e1cba",
       "version_major": 2,
       "version_minor": 0
      },
      "text/plain": [
       "Generating embeddings:   0%|          | 0/1 [00:00<?, ?it/s]"
      ]
     },
     "metadata": {},
     "output_type": "display_data"
    },
    {
     "name": "stdout",
     "output_type": "stream",
     "text": [
      "193 Indiscriminate use of weapons\n",
      "['The Sudanese Armed Forces (SAF) reportedly shot down a Rapid Support Forces (RSF) drone in El Fasher, capital of North Darfur, on Tuesday, while the RSF continued to fire shells at multiple neighbourhoods in the city. A SAF airstrike reportedly set a hospital in Kutum on fire that day.']\n"
     ]
    },
    {
     "data": {
      "application/vnd.jupyter.widget-view+json": {
       "model_id": "ef85b758d84b41fd85b2912f153ad51e",
       "version_major": 2,
       "version_minor": 0
      },
      "text/plain": [
       "Parsing nodes:   0%|          | 0/1 [00:00<?, ?it/s]"
      ]
     },
     "metadata": {},
     "output_type": "display_data"
    },
    {
     "data": {
      "application/vnd.jupyter.widget-view+json": {
       "model_id": "7d6c57beafe24ccdb63fda15438538a0",
       "version_major": 2,
       "version_minor": 0
      },
      "text/plain": [
       "Generating embeddings:   0%|          | 0/1 [00:00<?, ?it/s]"
      ]
     },
     "metadata": {},
     "output_type": "display_data"
    },
    {
     "name": "stdout",
     "output_type": "stream",
     "text": [
      "194 Military operations (battle, shelling)\n",
      "[' \"On May 28, 2024, a pro-RSF account on the X platform posted a video showing active fires in several buildings at the Kutum Teaching Hospital. Kutum is 100 kilometers northwest of the besieged city of El Fasher, the capital of North Darfur state. The spokesperson said in the video that the air strikes completely destroyed the hospital\\'s electricity system, as well as the maternity ward, noting the presence of women in the hospital. He added that this is the second time the hospital has been bombed. The video shows explosion marks on the walls of the buildings, similar to those caused by explosions as a result of bombing. The incident comes in a series of documented incidents of the armed forces\\' destruction of health facilities, infrastructure, oil facilities, commercial buildings and citizens\\' homes. Coordinates: 14.202419, 24.660617\"   (Verbatim report from the source) . A listener of Radio Dabanga in El Fasher confirmed that SAF warplanes bombed the hospital of Kutum, which is located northwest of El Fasher on Tuesday, May 28 in the evening, ‚Äúkilling and injuring many patients and destroying parts of the hospital‚Äù. The listener also reported that SAF shot down  the same day an RSF drone iin El Salam, a neighbourhood in the southern part of the city in response to the RSF artillery shelling.']\n"
     ]
    },
    {
     "data": {
      "application/vnd.jupyter.widget-view+json": {
       "model_id": "1979b3b3eafe43c0b272c1cd32a1bf50",
       "version_major": 2,
       "version_minor": 0
      },
      "text/plain": [
       "Parsing nodes:   0%|          | 0/1 [00:00<?, ?it/s]"
      ]
     },
     "metadata": {},
     "output_type": "display_data"
    },
    {
     "data": {
      "application/vnd.jupyter.widget-view+json": {
       "model_id": "1451cc4cae3942b989f2a44caf084b7f",
       "version_major": 2,
       "version_minor": 0
      },
      "text/plain": [
       "Generating embeddings:   0%|          | 0/1 [00:00<?, ?it/s]"
      ]
     },
     "metadata": {},
     "output_type": "display_data"
    },
    {
     "name": "stdout",
     "output_type": "stream",
     "text": [
      "195 Damage or destruction of civilian critical infrastructure\n",
      "['On May 31, the RSF launched a heavy artillery attack on the ‚ÄúMajor Five‚Äù border area, which separates Al-Jazirah State from Al-Faw locality in Gedaref State. The Sudanese army responded to the attack in the Al-Faw axis with heavy artillery fire. The Army and allied troops are stationed in Al-Faw and Al-Khiyari areas in Gedaref State, adjacent to Al-Jazirah State, within three axes and trying to recapture Al-Jazirah from the RSF.']\n"
     ]
    },
    {
     "data": {
      "application/vnd.jupyter.widget-view+json": {
       "model_id": "6a15f3fbbe0d4ac58e3ff0fd17beb8e1",
       "version_major": 2,
       "version_minor": 0
      },
      "text/plain": [
       "Parsing nodes:   0%|          | 0/1 [00:00<?, ?it/s]"
      ]
     },
     "metadata": {},
     "output_type": "display_data"
    },
    {
     "data": {
      "application/vnd.jupyter.widget-view+json": {
       "model_id": "88f6b12992f54c938b571b2b4b5eb59a",
       "version_major": 2,
       "version_minor": 0
      },
      "text/plain": [
       "Generating embeddings:   0%|          | 0/1 [00:00<?, ?it/s]"
      ]
     },
     "metadata": {},
     "output_type": "display_data"
    },
    {
     "name": "stdout",
     "output_type": "stream",
     "text": [
      "196 Military operations (battle, shelling)\n",
      "['On Friday, May 31, at least ten people were killed during intense artillery shelling by the Rapid Support Forces (RSF) on densely populated neighbourhoods in El-Fasher, including Al-Inqadh, Al-Amal, Birinja, Al-Kifah, and Al-Salam,‚Äù along with the South Hospital,¬†the only medical facility that is still operational in the  North Darfur capital city. ']\n"
     ]
    },
    {
     "data": {
      "application/vnd.jupyter.widget-view+json": {
       "model_id": "a5d41d4ba0b442bd81c256b3a355ccf0",
       "version_major": 2,
       "version_minor": 0
      },
      "text/plain": [
       "Parsing nodes:   0%|          | 0/1 [00:00<?, ?it/s]"
      ]
     },
     "metadata": {},
     "output_type": "display_data"
    },
    {
     "data": {
      "application/vnd.jupyter.widget-view+json": {
       "model_id": "351fe47c23ef4b8781a35cefa63d98a2",
       "version_major": 2,
       "version_minor": 0
      },
      "text/plain": [
       "Generating embeddings:   0%|          | 0/1 [00:00<?, ?it/s]"
      ]
     },
     "metadata": {},
     "output_type": "display_data"
    },
    {
     "name": "stdout",
     "output_type": "stream",
     "text": [
      "197 Military operations (shelling)\n",
      "['On Saturday, June 1st, fierce clashes erupted again in El-Fasher, the capital of North Darfur State, as fighting between the Sudanese Armed Forces (SAF), allied armed groups, and the Rapid Support Forces (RSF) intensified. The renewed violence resulted in the deaths of approximately 11 civilians and left dozens injured.']\n"
     ]
    },
    {
     "data": {
      "application/vnd.jupyter.widget-view+json": {
       "model_id": "eb646147cd7143b79e22f715eecf4f6d",
       "version_major": 2,
       "version_minor": 0
      },
      "text/plain": [
       "Parsing nodes:   0%|          | 0/1 [00:00<?, ?it/s]"
      ]
     },
     "metadata": {},
     "output_type": "display_data"
    },
    {
     "data": {
      "application/vnd.jupyter.widget-view+json": {
       "model_id": "58afb018e9e2411faf1d25afb9af7c91",
       "version_major": 2,
       "version_minor": 0
      },
      "text/plain": [
       "Generating embeddings:   0%|          | 0/1 [00:00<?, ?it/s]"
      ]
     },
     "metadata": {},
     "output_type": "display_data"
    },
    {
     "name": "stdout",
     "output_type": "stream",
     "text": [
      "198 Military operations (battle, shelling)\n",
      "['The Rapid Support Forces (RSF) have reportedly lost control over an allied group of gunmen, known as El Shafshafa, fighting with them in North Kordofan. The El Shafshafa ‚Äòbandits‚Äô are wreaking havoc in southern North Kordofan, an informed source told Radio Dabanga yesterday. On Sunday, they intercepted a convoy of 38 lorries loaded with livestock in the area of El Rahad, on the recently reopened road connecting El Obeid, capital of North Kordofan, with Tandalti, White Nile state. 80 sheep were stolen.']\n"
     ]
    },
    {
     "data": {
      "application/vnd.jupyter.widget-view+json": {
       "model_id": "0da86481c32f4976875e2cf23ec02e72",
       "version_major": 2,
       "version_minor": 0
      },
      "text/plain": [
       "Parsing nodes:   0%|          | 0/1 [00:00<?, ?it/s]"
      ]
     },
     "metadata": {},
     "output_type": "display_data"
    },
    {
     "data": {
      "application/vnd.jupyter.widget-view+json": {
       "model_id": "f1b840742ab34c299243455d70db6863",
       "version_major": 2,
       "version_minor": 0
      },
      "text/plain": [
       "Generating embeddings:   0%|          | 0/1 [00:00<?, ?it/s]"
      ]
     },
     "metadata": {},
     "output_type": "display_data"
    },
    {
     "name": "stdout",
     "output_type": "stream",
     "text": [
      "199 Movement of military, paramilitary, or other troops and equipment\n",
      "['On Sunday evening, June 2nd, the Southern Hospital, the only operating hospital in the city of El Fasher, the capital of North Darfur State, decided to evacuate the wounded and sick, after the hospital was bombed.']\n"
     ]
    },
    {
     "data": {
      "application/vnd.jupyter.widget-view+json": {
       "model_id": "ef425c1a3c584cc5a4588762da27526f",
       "version_major": 2,
       "version_minor": 0
      },
      "text/plain": [
       "Parsing nodes:   0%|          | 0/1 [00:00<?, ?it/s]"
      ]
     },
     "metadata": {},
     "output_type": "display_data"
    },
    {
     "data": {
      "application/vnd.jupyter.widget-view+json": {
       "model_id": "ac47e2303b7441f19151949c3241c0cd",
       "version_major": 2,
       "version_minor": 0
      },
      "text/plain": [
       "Generating embeddings:   0%|          | 0/1 [00:00<?, ?it/s]"
      ]
     },
     "metadata": {},
     "output_type": "display_data"
    },
    {
     "name": "stdout",
     "output_type": "stream",
     "text": [
      "200 Damage or destruction of civilian critical infrastructure\n",
      "['At least 12 people were killed in El Fasher, the capital of North Darfur, on Sunday evening (June 2nd) due to artillery shelling by the Rapid Support Forces (RSF), which has besieged the city for more than a month. In an attempt to alleviate the severe medical shortage in El Fasher, the National Medical Supplies Fund (NMSF) airdropped medicines into the city. A resident of El Fasher reported to Radio Dabanga that the RSF repeatedly shelled the Tembasi area, killing nine people and injuring multiple others. The RSF also attacked the western side of the Um Defeso Market, resulting in three more deaths and several injuries ‚Äúof varying severity‚Äù. Large waves of people are fleeing the city due to arbitrary shelling of homes across various neighbourhoods']\n"
     ]
    },
    {
     "data": {
      "application/vnd.jupyter.widget-view+json": {
       "model_id": "b295ed20d87844798aab07f60c3ca775",
       "version_major": 2,
       "version_minor": 0
      },
      "text/plain": [
       "Parsing nodes:   0%|          | 0/1 [00:00<?, ?it/s]"
      ]
     },
     "metadata": {},
     "output_type": "display_data"
    },
    {
     "data": {
      "application/vnd.jupyter.widget-view+json": {
       "model_id": "b2e98431f0e541bbbe9cf8e097842ae4",
       "version_major": 2,
       "version_minor": 0
      },
      "text/plain": [
       "Generating embeddings:   0%|          | 0/1 [00:00<?, ?it/s]"
      ]
     },
     "metadata": {},
     "output_type": "display_data"
    },
    {
     "name": "stdout",
     "output_type": "stream",
     "text": [
      "201 Military operations (shelling)\n",
      "['At least 12 people were killed in El Fasher,  North Darfur  in the evening of Sunday, June 2nd as a result of  artillery shelling by the Rapid Support Forces (RSF) who have besieged the city for more than a month. In an attempt to alleviate the severe medical shortage in El Fasher, the National Medical Supplies Fund (NMSF) airdropped medicines into the city. A resident of El Fasher reported to Radio Dabanga that the RSF repeatedly shelled the Tembasi area, killing nine people and injuring multiple others. The RSF also attacked the western side of the Um Defeso Market, resulting in three more deaths and several injuries ‚Äúof varying severity‚Äù.\\nLarge waves of people are fleeing the city due to arbitrary shelling of homes across various neighbourhoods']\n"
     ]
    },
    {
     "data": {
      "application/vnd.jupyter.widget-view+json": {
       "model_id": "0f183799f5774b10abc72084be4cde1b",
       "version_major": 2,
       "version_minor": 0
      },
      "text/plain": [
       "Parsing nodes:   0%|          | 0/1 [00:00<?, ?it/s]"
      ]
     },
     "metadata": {},
     "output_type": "display_data"
    },
    {
     "data": {
      "application/vnd.jupyter.widget-view+json": {
       "model_id": "285df3c9334c411b9a178c2a0b456e67",
       "version_major": 2,
       "version_minor": 0
      },
      "text/plain": [
       "Generating embeddings:   0%|          | 0/1 [00:00<?, ?it/s]"
      ]
     },
     "metadata": {},
     "output_type": "display_data"
    },
    {
     "name": "stdout",
     "output_type": "stream",
     "text": [
      "202 Military operations (shelling)\n",
      "['Russia has secured permission from Sudan‚Äôs Transitional Sovereign Council, led by General Abdel Fattah al-Burhan, to build a naval support facility on the Red Sea coast, in return for which Russia will provide the Sudanese military with weapons and ammunition.']\n"
     ]
    },
    {
     "data": {
      "application/vnd.jupyter.widget-view+json": {
       "model_id": "d1fd92bd7c4741fe95b2978888988fa3",
       "version_major": 2,
       "version_minor": 0
      },
      "text/plain": [
       "Parsing nodes:   0%|          | 0/1 [00:00<?, ?it/s]"
      ]
     },
     "metadata": {},
     "output_type": "display_data"
    },
    {
     "data": {
      "application/vnd.jupyter.widget-view+json": {
       "model_id": "5ccf193f1367418680b662fd8ccdda4d",
       "version_major": 2,
       "version_minor": 0
      },
      "text/plain": [
       "Generating embeddings:   0%|          | 0/1 [00:00<?, ?it/s]"
      ]
     },
     "metadata": {},
     "output_type": "display_data"
    },
    {
     "name": "stdout",
     "output_type": "stream",
     "text": [
      "203 Movement of military, paramilitary, or other troops and equipment\n",
      "['Rapid Support Forces attacked Gawarir garrison, resulting in 8 fatalities (5 army, 3 RSF), and captured 25 army personnel']\n"
     ]
    },
    {
     "data": {
      "application/vnd.jupyter.widget-view+json": {
       "model_id": "48ca6850251f4be28d2a3e38572150a1",
       "version_major": 2,
       "version_minor": 0
      },
      "text/plain": [
       "Parsing nodes:   0%|          | 0/1 [00:00<?, ?it/s]"
      ]
     },
     "metadata": {},
     "output_type": "display_data"
    },
    {
     "data": {
      "application/vnd.jupyter.widget-view+json": {
       "model_id": "bf8c2b7e44df4086814914e4fa33302d",
       "version_major": 2,
       "version_minor": 0
      },
      "text/plain": [
       "Generating embeddings:   0%|          | 0/1 [00:00<?, ?it/s]"
      ]
     },
     "metadata": {},
     "output_type": "display_data"
    },
    {
     "name": "stdout",
     "output_type": "stream",
     "text": [
      "204 Military operations (battle, shelling)\n",
      "['Late Tuesday Night, June 4th, a Rapid Support Forces (RSF) unit assassinated journalist Muawiya Abdel Razzaq and three of his family members at their home in the Al-Droshab suburb, north of Khartoum Bahri (North).']\n"
     ]
    },
    {
     "data": {
      "application/vnd.jupyter.widget-view+json": {
       "model_id": "e18731d1d8024b8d920d7ebf95b62718",
       "version_major": 2,
       "version_minor": 0
      },
      "text/plain": [
       "Parsing nodes:   0%|          | 0/1 [00:00<?, ?it/s]"
      ]
     },
     "metadata": {},
     "output_type": "display_data"
    },
    {
     "data": {
      "application/vnd.jupyter.widget-view+json": {
       "model_id": "bce9635f0bf74ae79326dbc836102e6e",
       "version_major": 2,
       "version_minor": 0
      },
      "text/plain": [
       "Generating embeddings:   0%|          | 0/1 [00:00<?, ?it/s]"
      ]
     },
     "metadata": {},
     "output_type": "display_data"
    },
    {
     "name": "stdout",
     "output_type": "stream",
     "text": [
      "205 Extrajudicial killing\n",
      "['On Wednesday, June 5th, the army forces of the Heglig Brigade (90) had burned several villages following their entry into the Kwarir area after the RSF had withdrawn from it three days prior. The army forces burned the villages of Kwarir, Ageebesh, Maniego, and other neighboring villages, killing eight citizens and forcing a mass exodus of residents to areas like Lagawa and Um Adara, while many others remained in the open.']\n"
     ]
    },
    {
     "data": {
      "application/vnd.jupyter.widget-view+json": {
       "model_id": "9e6476f67345496ca142811583c80c15",
       "version_major": 2,
       "version_minor": 0
      },
      "text/plain": [
       "Parsing nodes:   0%|          | 0/1 [00:00<?, ?it/s]"
      ]
     },
     "metadata": {},
     "output_type": "display_data"
    },
    {
     "data": {
      "application/vnd.jupyter.widget-view+json": {
       "model_id": "a9afe0e417a843a5b378cf2db975ae2c",
       "version_major": 2,
       "version_minor": 0
      },
      "text/plain": [
       "Generating embeddings:   0%|          | 0/1 [00:00<?, ?it/s]"
      ]
     },
     "metadata": {},
     "output_type": "display_data"
    },
    {
     "name": "stdout",
     "output_type": "stream",
     "text": [
      "206 Military operations (battle, shelling)\n",
      "['On Wednesday, June 5th, the neighbourhood Resistance Committees of Madani announced that the Rapid Support Forces (RSF) stormed the village of Wad Al-Noora in the 24 Al-Qurashi locality of Al-Jazira state, killing 180. Since taking control of Al-Jazirah in 2023, the RSF has been raiding villages in the state, committing heinous crimes against unarmed residents, including killing, kidnapping, forced displacement, and looting of properties, including crops and household furniture.']\n"
     ]
    },
    {
     "data": {
      "application/vnd.jupyter.widget-view+json": {
       "model_id": "318b5f88a50648d4bcb432f5d4efb673",
       "version_major": 2,
       "version_minor": 0
      },
      "text/plain": [
       "Parsing nodes:   0%|          | 0/1 [00:00<?, ?it/s]"
      ]
     },
     "metadata": {},
     "output_type": "display_data"
    },
    {
     "data": {
      "application/vnd.jupyter.widget-view+json": {
       "model_id": "af1c05bea41c4c39893c9fbe8f45a45f",
       "version_major": 2,
       "version_minor": 0
      },
      "text/plain": [
       "Generating embeddings:   0%|          | 0/1 [00:00<?, ?it/s]"
      ]
     },
     "metadata": {},
     "output_type": "display_data"
    },
    {
     "name": "stdout",
     "output_type": "stream",
     "text": [
      "207 Willful killing of civilians\n",
      "['On Wednesday, June 5th, the neighborhoood resistance committees of Madani reported : ¬´¬†The village of Wad Al-Noora witnessed a massacre after the RSF militia attacked it twice, killing up to 100 people.‚Äù\\nThe village of Wad Al-Noora, located in the 24 Al-Qurashi locality of Al-Jazira state, was attacked twice by the Rapid Support Forces, according to the eyewitnesses, ¬´¬†while the army remained ‚Äústationary inside Al-Manaqil locality.‚Äù\\nThe day after, both eye witnesses and the UN confirmed that an attack against  left  200 people dead, including 35 children. The RSF denied responsibility but acknowledged carrying out military operations near that village.']\n"
     ]
    },
    {
     "data": {
      "application/vnd.jupyter.widget-view+json": {
       "model_id": "30f77bfb6d504685815105f59ab9e062",
       "version_major": 2,
       "version_minor": 0
      },
      "text/plain": [
       "Parsing nodes:   0%|          | 0/1 [00:00<?, ?it/s]"
      ]
     },
     "metadata": {},
     "output_type": "display_data"
    },
    {
     "data": {
      "application/vnd.jupyter.widget-view+json": {
       "model_id": "29d6780399754fa4ae0a95f78f9222a1",
       "version_major": 2,
       "version_minor": 0
      },
      "text/plain": [
       "Generating embeddings:   0%|          | 0/1 [00:00<?, ?it/s]"
      ]
     },
     "metadata": {},
     "output_type": "display_data"
    },
    {
     "name": "stdout",
     "output_type": "stream",
     "text": [
      "208 Indiscriminate use of weapons\n",
      "['On Thureday evening, June 6th, the army‚Äôs artillery shelling came hours after RSF artillery shelling from Khartoum Bahri targeted residential neighbourhoods north of Omdurman, such as Al-Thawra, Al-Manara, and Al-Hatana. According to the Coordination of Resistance Committees in Karari, Omdurman, this resulted in the deaths of at least 40 civilians and the injury of dozens, marking the largest death toll from artillery shelling in the army-controlled area.']\n"
     ]
    },
    {
     "data": {
      "application/vnd.jupyter.widget-view+json": {
       "model_id": "09ced978fab84e64be3a6928f6165318",
       "version_major": 2,
       "version_minor": 0
      },
      "text/plain": [
       "Parsing nodes:   0%|          | 0/1 [00:00<?, ?it/s]"
      ]
     },
     "metadata": {},
     "output_type": "display_data"
    },
    {
     "data": {
      "application/vnd.jupyter.widget-view+json": {
       "model_id": "246d74ee1d904577a1a460e14b5a6cd9",
       "version_major": 2,
       "version_minor": 0
      },
      "text/plain": [
       "Generating embeddings:   0%|          | 0/1 [00:00<?, ?it/s]"
      ]
     },
     "metadata": {},
     "output_type": "display_data"
    },
    {
     "name": "stdout",
     "output_type": "stream",
     "text": [
      "209 Military operations (shelling)\n",
      "['On Thursday, June 6th, the Karari Resistance Committee, a grassroots pro-democracy group,reported that an attack by the RSF in Omdurman, Khartoum state killed at least 40 civilians and injured more than 50 others.¬†']\n"
     ]
    },
    {
     "data": {
      "application/vnd.jupyter.widget-view+json": {
       "model_id": "e95abe91b0bc44f0b4fc328478dec331",
       "version_major": 2,
       "version_minor": 0
      },
      "text/plain": [
       "Parsing nodes:   0%|          | 0/1 [00:00<?, ?it/s]"
      ]
     },
     "metadata": {},
     "output_type": "display_data"
    },
    {
     "data": {
      "application/vnd.jupyter.widget-view+json": {
       "model_id": "8e0bc51f539645fe8edd48ab674dac44",
       "version_major": 2,
       "version_minor": 0
      },
      "text/plain": [
       "Generating embeddings:   0%|          | 0/1 [00:00<?, ?it/s]"
      ]
     },
     "metadata": {},
     "output_type": "display_data"
    },
    {
     "name": "stdout",
     "output_type": "stream",
     "text": [
      "210 Willful killing of civilians\n",
      "['People living in El Fasher, capital of North Darfur, besieged by the paramilitary Rapid Support Forces (RSF), are still suffering from daily artillery shelling. The exact number of deaths and injuries in the past two days is not yet known. Additionally on Thursday morning, June 7th, more than 30 missiles hit the city. The El Faki Mohamed Saeed Mosque, east of the Igra Hospital, was severely damaged.']\n"
     ]
    },
    {
     "data": {
      "application/vnd.jupyter.widget-view+json": {
       "model_id": "950dcfced94a4c538892095852018840",
       "version_major": 2,
       "version_minor": 0
      },
      "text/plain": [
       "Parsing nodes:   0%|          | 0/1 [00:00<?, ?it/s]"
      ]
     },
     "metadata": {},
     "output_type": "display_data"
    },
    {
     "data": {
      "application/vnd.jupyter.widget-view+json": {
       "model_id": "7a6ba85c6eca462eb11cc3bf4af0fd1a",
       "version_major": 2,
       "version_minor": 0
      },
      "text/plain": [
       "Generating embeddings:   0%|          | 0/1 [00:00<?, ?it/s]"
      ]
     },
     "metadata": {},
     "output_type": "display_data"
    },
    {
     "name": "stdout",
     "output_type": "stream",
     "text": [
      "211 Military operations (shelling)\n",
      "['On Friday, June 7th, the Sudanese army‚Äôs heavy artillery shelled RSF positions in Khartoum Bahri from north of Omdurman. ']\n"
     ]
    },
    {
     "data": {
      "application/vnd.jupyter.widget-view+json": {
       "model_id": "84a43e2eb4054c51a952b5151541d38c",
       "version_major": 2,
       "version_minor": 0
      },
      "text/plain": [
       "Parsing nodes:   0%|          | 0/1 [00:00<?, ?it/s]"
      ]
     },
     "metadata": {},
     "output_type": "display_data"
    },
    {
     "data": {
      "application/vnd.jupyter.widget-view+json": {
       "model_id": "469685797732493c88db36ce896cda5b",
       "version_major": 2,
       "version_minor": 0
      },
      "text/plain": [
       "Generating embeddings:   0%|          | 0/1 [00:00<?, ?it/s]"
      ]
     },
     "metadata": {},
     "output_type": "display_data"
    },
    {
     "name": "stdout",
     "output_type": "stream",
     "text": [
      "212 Military operations (battle, shelling)\n",
      "[\"On Saturday, June 8th a force belonging to the Sudanese army's Heglig Brigade (90) under the 22nd Infantry Division in Babanusa, West Kordofan State, opened fire on a civilian vehicle in the Kilak area of West Kordofan, resulting in the death of two civilians. Citizens from West Kordofan accused the army of targeting the youth of the region based on tribal affiliations, alleging they are supporters of the Rapid Support Forces (RSF).\"]\n"
     ]
    },
    {
     "data": {
      "application/vnd.jupyter.widget-view+json": {
       "model_id": "cd641536627148a7979a0ff6b37c103e",
       "version_major": 2,
       "version_minor": 0
      },
      "text/plain": [
       "Parsing nodes:   0%|          | 0/1 [00:00<?, ?it/s]"
      ]
     },
     "metadata": {},
     "output_type": "display_data"
    },
    {
     "data": {
      "application/vnd.jupyter.widget-view+json": {
       "model_id": "d1703ef3eb2440deaa1eb6438bc849db",
       "version_major": 2,
       "version_minor": 0
      },
      "text/plain": [
       "Generating embeddings:   0%|          | 0/1 [00:00<?, ?it/s]"
      ]
     },
     "metadata": {},
     "output_type": "display_data"
    },
    {
     "name": "stdout",
     "output_type": "stream",
     "text": [
      "213 Willful killing of civilians\n",
      "['On Saturday, June 8thm Rapid Support Forces (RSF) stormed El Fasher South Hospital, before violent clashes erupted nearby with the Sudanese army and allied forces, ultimately leading to the RSF‚Äôs withdrawal.']\n"
     ]
    },
    {
     "data": {
      "application/vnd.jupyter.widget-view+json": {
       "model_id": "97958df3f47e4d11b2baddbb0c9bf4c1",
       "version_major": 2,
       "version_minor": 0
      },
      "text/plain": [
       "Parsing nodes:   0%|          | 0/1 [00:00<?, ?it/s]"
      ]
     },
     "metadata": {},
     "output_type": "display_data"
    },
    {
     "data": {
      "application/vnd.jupyter.widget-view+json": {
       "model_id": "1b534c439adb416fa2751f939c4aaea2",
       "version_major": 2,
       "version_minor": 0
      },
      "text/plain": [
       "Generating embeddings:   0%|          | 0/1 [00:00<?, ?it/s]"
      ]
     },
     "metadata": {},
     "output_type": "display_data"
    },
    {
     "name": "stdout",
     "output_type": "stream",
     "text": [
      "214 Military operations (battle, shelling)\n",
      "['On Sunday, June 9th, two people were shot dead by gunmen inside their farm in the Hajar al-Nahl area, 6 km east of Dilling city in South Kordofan state.']\n"
     ]
    },
    {
     "data": {
      "application/vnd.jupyter.widget-view+json": {
       "model_id": "66d909a031664d5584843487a7dc49cf",
       "version_major": 2,
       "version_minor": 0
      },
      "text/plain": [
       "Parsing nodes:   0%|          | 0/1 [00:00<?, ?it/s]"
      ]
     },
     "metadata": {},
     "output_type": "display_data"
    },
    {
     "data": {
      "application/vnd.jupyter.widget-view+json": {
       "model_id": "6645458ddf814e7e81dbaf0e496c55e7",
       "version_major": 2,
       "version_minor": 0
      },
      "text/plain": [
       "Generating embeddings:   0%|          | 0/1 [00:00<?, ?it/s]"
      ]
     },
     "metadata": {},
     "output_type": "display_data"
    },
    {
     "name": "stdout",
     "output_type": "stream",
     "text": [
      "215 Willful killing of civilians\n",
      "['On June 9th, the Kuma locality was targeted by SAF-strikes 6 times which caused destruction of houses and killed and injured civilians. The town is one of few localities that is still ruled by North Darfur Governor, there is no army bases for RSF,SAF or others, only Police with local Court.']\n"
     ]
    },
    {
     "data": {
      "application/vnd.jupyter.widget-view+json": {
       "model_id": "57dfc63d4c944921baa40ecf6fe857ce",
       "version_major": 2,
       "version_minor": 0
      },
      "text/plain": [
       "Parsing nodes:   0%|          | 0/1 [00:00<?, ?it/s]"
      ]
     },
     "metadata": {},
     "output_type": "display_data"
    },
    {
     "data": {
      "application/vnd.jupyter.widget-view+json": {
       "model_id": "ee77bef4f34942e293fcbc5ad97214a1",
       "version_major": 2,
       "version_minor": 0
      },
      "text/plain": [
       "Generating embeddings:   0%|          | 0/1 [00:00<?, ?it/s]"
      ]
     },
     "metadata": {},
     "output_type": "display_data"
    },
    {
     "name": "stdout",
     "output_type": "stream",
     "text": [
      "216 Indiscriminate use of weapons\n",
      "['On Sunday, June 9th, the Sudanese army announced that it had regained control of several neighbourhoods in the city of Babanusa, West Kordofan state, after a months-long siege imposed by the Rapid Support Forces (RSF) on the 22nd Infantry Division headquarters.']\n"
     ]
    },
    {
     "data": {
      "application/vnd.jupyter.widget-view+json": {
       "model_id": "c6d65b05b5be408e86abe222a919875b",
       "version_major": 2,
       "version_minor": 0
      },
      "text/plain": [
       "Parsing nodes:   0%|          | 0/1 [00:00<?, ?it/s]"
      ]
     },
     "metadata": {},
     "output_type": "display_data"
    },
    {
     "data": {
      "application/vnd.jupyter.widget-view+json": {
       "model_id": "35f2bd74da194e2398183027958c0573",
       "version_major": 2,
       "version_minor": 0
      },
      "text/plain": [
       "Generating embeddings:   0%|          | 0/1 [00:00<?, ?it/s]"
      ]
     },
     "metadata": {},
     "output_type": "display_data"
    },
    {
     "name": "stdout",
     "output_type": "stream",
     "text": [
      "217 Military operations (battle, shelling)\n",
      "['On Saturday, June 9th, El Fasher‚Äôs South Hospital, the main healthcare facility and the only one that was still operational in the North Darfur State capital, was forced to close  following an attack by the Rapid Support Forces (RSF). Ibrahim Abdullah Khatir, director-general of North Darfur State‚Äôs Health Ministry, and eyewitnesses reported that the RSF ‚Äúattacked doctors and medical staff, and kidnapped hospital volunteers¬†¬ª, and looted phones and belongings‚Äù of medical personnel.']\n"
     ]
    },
    {
     "data": {
      "application/vnd.jupyter.widget-view+json": {
       "model_id": "9f2f715c758d41b29a389436fe3e04d6",
       "version_major": 2,
       "version_minor": 0
      },
      "text/plain": [
       "Parsing nodes:   0%|          | 0/1 [00:00<?, ?it/s]"
      ]
     },
     "metadata": {},
     "output_type": "display_data"
    },
    {
     "data": {
      "application/vnd.jupyter.widget-view+json": {
       "model_id": "fad7d8518198412e970c61034c8613bf",
       "version_major": 2,
       "version_minor": 0
      },
      "text/plain": [
       "Generating embeddings:   0%|          | 0/1 [00:00<?, ?it/s]"
      ]
     },
     "metadata": {},
     "output_type": "display_data"
    },
    {
     "name": "stdout",
     "output_type": "stream",
     "text": [
      "218 Damage or destruction of civilian critical infrastructure\n",
      "['On June 9th, private sources have revealed to Sudan Tribune that several mentally disabled individuals have been killed in various areas of Khartoum by soldiers belonging to the Rapid Support Forces (RSF), either by shooting or torture. Alim Ahmed, a Bahri resident who fled to South Sudan, witnessed the killing of three mentally disabled people on Al-Sayyid Ali Street (Shambat Street) at different times.']\n"
     ]
    },
    {
     "data": {
      "application/vnd.jupyter.widget-view+json": {
       "model_id": "4673fc7bf41440c8ae6af83b8b9ba3c9",
       "version_major": 2,
       "version_minor": 0
      },
      "text/plain": [
       "Parsing nodes:   0%|          | 0/1 [00:00<?, ?it/s]"
      ]
     },
     "metadata": {},
     "output_type": "display_data"
    },
    {
     "data": {
      "application/vnd.jupyter.widget-view+json": {
       "model_id": "8b96eb2aaecf484f97419f2aa3084563",
       "version_major": 2,
       "version_minor": 0
      },
      "text/plain": [
       "Generating embeddings:   0%|          | 0/1 [00:00<?, ?it/s]"
      ]
     },
     "metadata": {},
     "output_type": "display_data"
    },
    {
     "name": "stdout",
     "output_type": "stream",
     "text": [
      "219 Extrajudicial killing\n",
      "['On Monday,  June 10, the Rapid Support Forces (RSF) continued their assault on populated areas in El Fasher with heavy artillery. Eyewitnesses reported to Sudan Tribune that the RSF launched a violent artillery attack on several locations within El Fasher, killing and injuring numerous civilians, compelling many to flee the city. The shelling targeted the Al-Wadi neighbourhoods, areas near the army‚Äôs general command and the main market, the Tambasi neighbourhood, and shelters for displaced people in the Al-Qadi and Dar Al-Salam schools.']\n"
     ]
    },
    {
     "data": {
      "application/vnd.jupyter.widget-view+json": {
       "model_id": "e461dfd0a2624c78826a9d68faa0b9e6",
       "version_major": 2,
       "version_minor": 0
      },
      "text/plain": [
       "Parsing nodes:   0%|          | 0/1 [00:00<?, ?it/s]"
      ]
     },
     "metadata": {},
     "output_type": "display_data"
    },
    {
     "data": {
      "application/vnd.jupyter.widget-view+json": {
       "model_id": "cf6652cc520e4b77895dad852e5156f4",
       "version_major": 2,
       "version_minor": 0
      },
      "text/plain": [
       "Generating embeddings:   0%|          | 0/1 [00:00<?, ?it/s]"
      ]
     },
     "metadata": {},
     "output_type": "display_data"
    },
    {
     "name": "stdout",
     "output_type": "stream",
     "text": [
      "220 Military operations (shelling)\n",
      "['On Monday evening, June 10th, military clashes renewed in the city of El Fasher, the provincial capital of North Darfur state, with the Rapid Support Forces approaching (RSF )areas controlled by the army and its allied movements. A medical source, who preferred to withhold his name, revealed to ‚ÄúDarfur 24‚Äù that the Sayyid Al-Shuhada Health Center in the south of the city was subjected to intense bombardment, and the Rapid Support Forces advanced to the Southern Hospital after they penetrated deep into Al-Salam neighborhood, which is adjacent to the Southern Hospital in Al-Wahda neighborhood, for the second time.']\n"
     ]
    },
    {
     "data": {
      "application/vnd.jupyter.widget-view+json": {
       "model_id": "23ff24393a4c41ffb3855dab20e5c2d2",
       "version_major": 2,
       "version_minor": 0
      },
      "text/plain": [
       "Parsing nodes:   0%|          | 0/1 [00:00<?, ?it/s]"
      ]
     },
     "metadata": {},
     "output_type": "display_data"
    },
    {
     "data": {
      "application/vnd.jupyter.widget-view+json": {
       "model_id": "4f2ae59aa2394124857ea907c01e3861",
       "version_major": 2,
       "version_minor": 0
      },
      "text/plain": [
       "Generating embeddings:   0%|          | 0/1 [00:00<?, ?it/s]"
      ]
     },
     "metadata": {},
     "output_type": "display_data"
    },
    {
     "name": "stdout",
     "output_type": "stream",
     "text": [
      "221 Military operations (battle, shelling)\n",
      "['On June 11, a humanitarian aid worker and at least six children were reportedly killed in escalating violence in Sudan‚Äôs El Fasher as thousands more young lives hang in the balance.']\n"
     ]
    },
    {
     "data": {
      "application/vnd.jupyter.widget-view+json": {
       "model_id": "9fba08d5b12644fea30918df6f540fca",
       "version_major": 2,
       "version_minor": 0
      },
      "text/plain": [
       "Parsing nodes:   0%|          | 0/1 [00:00<?, ?it/s]"
      ]
     },
     "metadata": {},
     "output_type": "display_data"
    },
    {
     "data": {
      "application/vnd.jupyter.widget-view+json": {
       "model_id": "3a24403d1dc145da97992baacd4e510b",
       "version_major": 2,
       "version_minor": 0
      },
      "text/plain": [
       "Generating embeddings:   0%|          | 0/1 [00:00<?, ?it/s]"
      ]
     },
     "metadata": {},
     "output_type": "display_data"
    },
    {
     "name": "stdout",
     "output_type": "stream",
     "text": [
      "222 Willful killing of civilians\n",
      "['From June 10 to 11th, at least 35 civilians were killed in El Fasher as heavy artillery shelling by the Rapid Support Forces (RSF) continues to rain down on various neighbourhoods across the city. According to a medical source and the  Darfur Victims Organisation, the  35 civilians killed in just two days by RSF shelling on densely populated areas, included volunteers (8) working in a charity kitchen in the Tambasi neighbourhood. Several  other neighbourhoods, including Tambasi, the Grand Market vicinity, Basharia, Baringia, Awlad al-Reef, al-Thawra, and Mukarka, have been heavily impacted by the RSF‚Äôs artillery shelling, resulting in the destruction of numerous homes and injuries to countless civilians.']\n"
     ]
    },
    {
     "data": {
      "application/vnd.jupyter.widget-view+json": {
       "model_id": "35897895294f47ec977da53f3c76b2fa",
       "version_major": 2,
       "version_minor": 0
      },
      "text/plain": [
       "Parsing nodes:   0%|          | 0/1 [00:00<?, ?it/s]"
      ]
     },
     "metadata": {},
     "output_type": "display_data"
    },
    {
     "data": {
      "application/vnd.jupyter.widget-view+json": {
       "model_id": "eebdf9e56aa144208b7fa37312c91f45",
       "version_major": 2,
       "version_minor": 0
      },
      "text/plain": [
       "Generating embeddings:   0%|          | 0/1 [00:00<?, ?it/s]"
      ]
     },
     "metadata": {},
     "output_type": "display_data"
    },
    {
     "name": "stdout",
     "output_type": "stream",
     "text": [
      "223 Military operations (shelling)\n",
      "['On Wednesday, June 12,  the Joint forces in the city of En Nahud, West Kordofan State, arrested a popular delegation from the area of Jubara, west of En Nahud. The delegation had come to the city  to invite the local executive director and his security committee to participate in an upcoming Eid al-Adha celebration in the area, under the slogan \"No to War - Yes to Peace.\"']\n"
     ]
    },
    {
     "data": {
      "application/vnd.jupyter.widget-view+json": {
       "model_id": "6215e336e6ff442a959f254233c26a94",
       "version_major": 2,
       "version_minor": 0
      },
      "text/plain": [
       "Parsing nodes:   0%|          | 0/1 [00:00<?, ?it/s]"
      ]
     },
     "metadata": {},
     "output_type": "display_data"
    },
    {
     "data": {
      "application/vnd.jupyter.widget-view+json": {
       "model_id": "1977a88ae1d249e284cb0b7e36d07d04",
       "version_major": 2,
       "version_minor": 0
      },
      "text/plain": [
       "Generating embeddings:   0%|          | 0/1 [00:00<?, ?it/s]"
      ]
     },
     "metadata": {},
     "output_type": "display_data"
    },
    {
     "name": "stdout",
     "output_type": "stream",
     "text": [
      "224 Violent crackdowns on protesters/opponents/civil rights abuse\n",
      "['On  Wednesday evening, June 12th, the Sudanese Army has arrested the leader of an armed group in the ‚ÄúAl-Bouqa‚Äù area in the Nile River State, after clashes between the two sides resulted in the killing and wounding of 7 individuals. A military source told Darfur 24 that violent clashes took place between a Sudanese army force and an armed group led by Muhammad Ali Ibrahim, announcing the killing and wounding of ‚Äú7‚Äù individuals.']\n"
     ]
    },
    {
     "data": {
      "application/vnd.jupyter.widget-view+json": {
       "model_id": "42c4b984400a439b8116b3b38fdf0d65",
       "version_major": 2,
       "version_minor": 0
      },
      "text/plain": [
       "Parsing nodes:   0%|          | 0/1 [00:00<?, ?it/s]"
      ]
     },
     "metadata": {},
     "output_type": "display_data"
    },
    {
     "data": {
      "application/vnd.jupyter.widget-view+json": {
       "model_id": "6735f37eb6fc4f58867d0b0290ea286c",
       "version_major": 2,
       "version_minor": 0
      },
      "text/plain": [
       "Generating embeddings:   0%|          | 0/1 [00:00<?, ?it/s]"
      ]
     },
     "metadata": {},
     "output_type": "display_data"
    },
    {
     "name": "stdout",
     "output_type": "stream",
     "text": [
      "225 Military operations (battle, shelling)\n",
      "['On Thursday, June 13th, the Joint Force led by Minni Minawi, primarily composed of the Sudan Liberation Movement/Army (SLM/A), claimed to have inflicted significant losses on the Rapid Support Forces (RSF) in a battle at Wadi Ambar in North Darfur. The SLM/A-Minawi spokesperson, Al Sadig Ali Al Nur, announced the victory, stating that many RSF militias were killed, their vehicles were destroyed, and some military equipment was captured. The combat in Wadi Ambar marks an escalation of the conflict, which has spread from El Fasher, North Darfur‚Äôs capital, to rural and desert regions near the Chadian border. This strategic move by the Joint Force threatens the RSF siege of El Fasher by targeting areas behind the main RSF force. The RSF has not yet commented on this battle.']\n"
     ]
    },
    {
     "data": {
      "application/vnd.jupyter.widget-view+json": {
       "model_id": "c680111d2c62483abb11201768d9f8b7",
       "version_major": 2,
       "version_minor": 0
      },
      "text/plain": [
       "Parsing nodes:   0%|          | 0/1 [00:00<?, ?it/s]"
      ]
     },
     "metadata": {},
     "output_type": "display_data"
    },
    {
     "data": {
      "application/vnd.jupyter.widget-view+json": {
       "model_id": "52655d7e013f459ba1cf68ab358f93a4",
       "version_major": 2,
       "version_minor": 0
      },
      "text/plain": [
       "Generating embeddings:   0%|          | 0/1 [00:00<?, ?it/s]"
      ]
     },
     "metadata": {},
     "output_type": "display_data"
    },
    {
     "name": "stdout",
     "output_type": "stream",
     "text": [
      "226 Military operations (battle, shelling)\n",
      "[' An internal source of the Rapid Support Forces (RSF) reported that Major General Ali Yaqoub was killed in an ambush by the Sudanese army and Joint Force on his way to Nyala. Ali Yaqoub was the commander of the RSF. The source said that Yaqoub was injured on Tuesday during fighting in the city of El Fasher, and it was decided to transfer him to the city of Nyala, 205 kilometers south, to receive treatment. However, he was ambushed on the El Fasher-Nyala road and killed along with all his companions.']\n"
     ]
    },
    {
     "data": {
      "application/vnd.jupyter.widget-view+json": {
       "model_id": "4b1adcbb8f0e4c00bf0a26a4a99440b1",
       "version_major": 2,
       "version_minor": 0
      },
      "text/plain": [
       "Parsing nodes:   0%|          | 0/1 [00:00<?, ?it/s]"
      ]
     },
     "metadata": {},
     "output_type": "display_data"
    },
    {
     "data": {
      "application/vnd.jupyter.widget-view+json": {
       "model_id": "322621cead624d31b6b849b0921c87eb",
       "version_major": 2,
       "version_minor": 0
      },
      "text/plain": [
       "Generating embeddings:   0%|          | 0/1 [00:00<?, ?it/s]"
      ]
     },
     "metadata": {},
     "output_type": "display_data"
    },
    {
     "name": "stdout",
     "output_type": "stream",
     "text": [
      "227 Military operations (battle, shelling)\n",
      "['On June 14, 2024, a pro-RSF account posted a video on the X platform showing members of the RSF shooting south of El Fasher city, North Darfur. In the video, the cameraman indicates their proximity to the El Fasher-Nyala road (B26) inside El Fasher city in a location about ~350 meters south of Lafa Tugro on the El Fasher-Nyala road, and about 4 kilometers (by asphalt) south of the command of the last division of the Sudanese Armed Forces in Darfur.']\n"
     ]
    },
    {
     "data": {
      "application/vnd.jupyter.widget-view+json": {
       "model_id": "0f9401c20a19452087da81eec6284818",
       "version_major": 2,
       "version_minor": 0
      },
      "text/plain": [
       "Parsing nodes:   0%|          | 0/1 [00:00<?, ?it/s]"
      ]
     },
     "metadata": {},
     "output_type": "display_data"
    },
    {
     "data": {
      "application/vnd.jupyter.widget-view+json": {
       "model_id": "84a65a63dc0c456ab37e1973f2d20b14",
       "version_major": 2,
       "version_minor": 0
      },
      "text/plain": [
       "Generating embeddings:   0%|          | 0/1 [00:00<?, ?it/s]"
      ]
     },
     "metadata": {},
     "output_type": "display_data"
    },
    {
     "name": "stdout",
     "output_type": "stream",
     "text": [
      "228 Military operations (battle, shelling)\n",
      "['On Friday, June 14th, the Sudanese Army announced that Ali Yaqoub, the Rapid Support Forces (RSF) Operations Commander in North Darfur, was killed during an attack on El Fasher. In a statement published by Sudan Tribune, Sudanese Armed Forces spokesman Nabil Abdallah, declared: ‚ÄúThe army and joint forces thwarted an attack by the RSF this morning, inflicting heavy losses, including hundreds of dead and wounded, among them their criminal commander Ali Yaqoub.‚Äù']\n"
     ]
    },
    {
     "data": {
      "application/vnd.jupyter.widget-view+json": {
       "model_id": "fd723b9da3d14ee08573d423794d1ba5",
       "version_major": 2,
       "version_minor": 0
      },
      "text/plain": [
       "Parsing nodes:   0%|          | 0/1 [00:00<?, ?it/s]"
      ]
     },
     "metadata": {},
     "output_type": "display_data"
    },
    {
     "data": {
      "application/vnd.jupyter.widget-view+json": {
       "model_id": "c637de2dcae94c1cb6a498b8a999c695",
       "version_major": 2,
       "version_minor": 0
      },
      "text/plain": [
       "Generating embeddings:   0%|          | 0/1 [00:00<?, ?it/s]"
      ]
     },
     "metadata": {},
     "output_type": "display_data"
    },
    {
     "name": "stdout",
     "output_type": "stream",
     "text": [
      "229 Military operations (battle, shelling)\n",
      "['On June 17, there were violent clashes between the Joint Force of Armed Movements and the RSF in the Zara and Baar areas of Wadi Ambar in Ambro locality, 200 Km North west of El Fasher.\\nStatements from senior officials from the Joint Force and the RSF confirmed an undetermined number of fatalities on both sides, the destruction of villages,  and the seizing of military equipment. According to a Joint Force senior offiical who claimed victory of their forces over the RSF, ¬´¬†the RSF burned 3 villages belonging to the Rori and Um Baar administration in Wadi Ambar, looted citizens‚Äô property and the health center, and fled to the Zarq area.¬†¬ª\\nHowever, the RSF spokesperson claimed that they defeated the Joint Force in ¬´¬†the he Umm Baar area in the Ambar Valley and chasing them south to the Mazbad area and the Aruri area¬†¬ª, after seizing an important military equipment and killing 400 mercenaries. The fighting has caused a massive displacement of population.']\n"
     ]
    },
    {
     "data": {
      "application/vnd.jupyter.widget-view+json": {
       "model_id": "ae22040f88634b2cac0cdef872e91177",
       "version_major": 2,
       "version_minor": 0
      },
      "text/plain": [
       "Parsing nodes:   0%|          | 0/1 [00:00<?, ?it/s]"
      ]
     },
     "metadata": {},
     "output_type": "display_data"
    },
    {
     "data": {
      "application/vnd.jupyter.widget-view+json": {
       "model_id": "8eb0837f55ab49358ff6d26552aea472",
       "version_major": 2,
       "version_minor": 0
      },
      "text/plain": [
       "Generating embeddings:   0%|          | 0/1 [00:00<?, ?it/s]"
      ]
     },
     "metadata": {},
     "output_type": "display_data"
    },
    {
     "name": "stdout",
     "output_type": "stream",
     "text": [
      "230 Military operations (battle, shelling)\n",
      "['On Monday, June 17, a woman and her two children were killed and a fourth person injured  when an indiscriminate artillery shelling attributed to the  Rapid Support Forces landed on a home of displaced persons in the Qarni area, north of El Fasher. ']\n"
     ]
    },
    {
     "data": {
      "application/vnd.jupyter.widget-view+json": {
       "model_id": "e80c7bcef0284fc2944363e288c45200",
       "version_major": 2,
       "version_minor": 0
      },
      "text/plain": [
       "Parsing nodes:   0%|          | 0/1 [00:00<?, ?it/s]"
      ]
     },
     "metadata": {},
     "output_type": "display_data"
    },
    {
     "data": {
      "application/vnd.jupyter.widget-view+json": {
       "model_id": "685ec60c0f7846ec89f316f0b6a9d211",
       "version_major": 2,
       "version_minor": 0
      },
      "text/plain": [
       "Generating embeddings:   0%|          | 0/1 [00:00<?, ?it/s]"
      ]
     },
     "metadata": {},
     "output_type": "display_data"
    },
    {
     "name": "stdout",
     "output_type": "stream",
     "text": [
      "231 Indiscriminate use of weapons\n",
      "['On Tuesday, June 18th, artillery shelling by the Rapid Support Forces (RSF) on El Fasher resulted in the death of at least twenty people, most of whom were women and children. Around 42 people were injured in the shelling, which was concentrated on the Abu Shouk neighborhood in the northern part of the city, causing the destruction of numerous homes and properties in the targeted neighborhoods. Field sources from El Fasher stated that the artillery shelling by the Rapid Support Forces, which originated from Mount Abuja (Peace Camp), intensively targeted Blocks 1 and 2 in the Abu Shouk displaced persons camp and the Nevasha Market in the camp.']\n"
     ]
    },
    {
     "data": {
      "application/vnd.jupyter.widget-view+json": {
       "model_id": "5425a494b7c0403c881c9428134eec41",
       "version_major": 2,
       "version_minor": 0
      },
      "text/plain": [
       "Parsing nodes:   0%|          | 0/1 [00:00<?, ?it/s]"
      ]
     },
     "metadata": {},
     "output_type": "display_data"
    },
    {
     "data": {
      "application/vnd.jupyter.widget-view+json": {
       "model_id": "a981d66afe08401db5458e22834f186d",
       "version_major": 2,
       "version_minor": 0
      },
      "text/plain": [
       "Generating embeddings:   0%|          | 0/1 [00:00<?, ?it/s]"
      ]
     },
     "metadata": {},
     "output_type": "display_data"
    },
    {
     "name": "stdout",
     "output_type": "stream",
     "text": [
      "232 Indiscriminate use of weapons\n",
      "['On Tuesday, June 18th, a police force opened fire on a crowd of citizens  in an attempt to resolve a conflict that broke out the day before in the Walmahi locality,   Blue Nile state, leading to the death of two young people.']\n"
     ]
    },
    {
     "data": {
      "application/vnd.jupyter.widget-view+json": {
       "model_id": "5041960fdc474f22b5286fa0d923f0ab",
       "version_major": 2,
       "version_minor": 0
      },
      "text/plain": [
       "Parsing nodes:   0%|          | 0/1 [00:00<?, ?it/s]"
      ]
     },
     "metadata": {},
     "output_type": "display_data"
    },
    {
     "data": {
      "application/vnd.jupyter.widget-view+json": {
       "model_id": "e8acdb3e9a0748778672df7bda8bc45e",
       "version_major": 2,
       "version_minor": 0
      },
      "text/plain": [
       "Generating embeddings:   0%|          | 0/1 [00:00<?, ?it/s]"
      ]
     },
     "metadata": {},
     "output_type": "display_data"
    },
    {
     "name": "stdout",
     "output_type": "stream",
     "text": [
      "233 Willful killing of civilians\n",
      "['On Wednesday, June 18th, the Rapid Support Forces (RSF)  launched attacks against a Sudanese army force that has been trapped in southwest Khartoum for more than a year in an area known as ‚ÄòThe Tree‚Äô (Al-Shajara).']\n"
     ]
    },
    {
     "data": {
      "application/vnd.jupyter.widget-view+json": {
       "model_id": "6960487c0d6d4be0b6d8723e883c689f",
       "version_major": 2,
       "version_minor": 0
      },
      "text/plain": [
       "Parsing nodes:   0%|          | 0/1 [00:00<?, ?it/s]"
      ]
     },
     "metadata": {},
     "output_type": "display_data"
    },
    {
     "data": {
      "application/vnd.jupyter.widget-view+json": {
       "model_id": "e26f213d132e45f79900b738a5d82184",
       "version_major": 2,
       "version_minor": 0
      },
      "text/plain": [
       "Generating embeddings:   0%|          | 0/1 [00:00<?, ?it/s]"
      ]
     },
     "metadata": {},
     "output_type": "display_data"
    },
    {
     "name": "stdout",
     "output_type": "stream",
     "text": [
      "234 Military operations (battle, shelling)\n",
      "['In the evening of Wednesday, June 19th, field sources from Kutum reported that the Sudanese Armed Forces\\' (SAF) airstrike targeted the Salama neighborhood, East Dababeen neighborhood, and West Dababeen neighborhood (near the Western School), resulting in the death of the family of Mr. Issa Mohamedin Zain, known as (Issa Dies), his wife, daughter, and son in the Salama neighborhood near the Solidarity School. Another strike targeted the home of Mr. Mohamedin Mohamed Ahmed, known as \"Skull,\" injuring a ninety-year-old woman, and another strike near the Western School injured several members of a single family.']\n"
     ]
    },
    {
     "data": {
      "application/vnd.jupyter.widget-view+json": {
       "model_id": "9f684351da5e437a97fdfee00530a521",
       "version_major": 2,
       "version_minor": 0
      },
      "text/plain": [
       "Parsing nodes:   0%|          | 0/1 [00:00<?, ?it/s]"
      ]
     },
     "metadata": {},
     "output_type": "display_data"
    },
    {
     "data": {
      "application/vnd.jupyter.widget-view+json": {
       "model_id": "cbf9b172fed74034b2a1fe08353bce0f",
       "version_major": 2,
       "version_minor": 0
      },
      "text/plain": [
       "Generating embeddings:   0%|          | 0/1 [00:00<?, ?it/s]"
      ]
     },
     "metadata": {},
     "output_type": "display_data"
    },
    {
     "name": "stdout",
     "output_type": "stream",
     "text": [
      "235 Indiscriminate use of weapons\n",
      "['On Wednesday, June 19th, Doctors Without Borders (MSF) announced on Wednesday the death of three people, including a volunteer, and the injury of 27 others following intense artillery shelling that struck a medical facility in northern Omdurman. Among the targeted sites was Al Nao Hospital, the only functioning medical facility in Omdurman, supported by MSF. This hospital had previously been repeatedly targeted by the RSF, causing casualties among patients and their companions.']\n"
     ]
    },
    {
     "data": {
      "application/vnd.jupyter.widget-view+json": {
       "model_id": "b9483f2054e840ccacb570496c1aa403",
       "version_major": 2,
       "version_minor": 0
      },
      "text/plain": [
       "Parsing nodes:   0%|          | 0/1 [00:00<?, ?it/s]"
      ]
     },
     "metadata": {},
     "output_type": "display_data"
    },
    {
     "data": {
      "application/vnd.jupyter.widget-view+json": {
       "model_id": "213c71730b4a4ff3b31c1dcbcbebf01f",
       "version_major": 2,
       "version_minor": 0
      },
      "text/plain": [
       "Generating embeddings:   0%|          | 0/1 [00:00<?, ?it/s]"
      ]
     },
     "metadata": {},
     "output_type": "display_data"
    },
    {
     "name": "stdout",
     "output_type": "stream",
     "text": [
      "236 Military operations (shelling)\n",
      "['On Thursday, June 20th, the Rapid Support Forces (RSF) attacked the West Kordofan State capital, Al-Fula, swarming from the north and western sides of the city. Sources in the state told Sudan War Monitor that the attack followed the withdrawal of an army force led by Colonel al-Hadi Diab, commander of the 92nd infantry Battalion of the 22nd Infantry Division, from al-Fula toward al-Udayyah and an-Nahud, which left the city under-defended.']\n"
     ]
    },
    {
     "data": {
      "application/vnd.jupyter.widget-view+json": {
       "model_id": "4976bc55ab5c40a89a9dea67b0dd04ca",
       "version_major": 2,
       "version_minor": 0
      },
      "text/plain": [
       "Parsing nodes:   0%|          | 0/1 [00:00<?, ?it/s]"
      ]
     },
     "metadata": {},
     "output_type": "display_data"
    },
    {
     "data": {
      "application/vnd.jupyter.widget-view+json": {
       "model_id": "1c0873a9b68a42d889e9921a21220204",
       "version_major": 2,
       "version_minor": 0
      },
      "text/plain": [
       "Generating embeddings:   0%|          | 0/1 [00:00<?, ?it/s]"
      ]
     },
     "metadata": {},
     "output_type": "display_data"
    },
    {
     "name": "stdout",
     "output_type": "stream",
     "text": [
      "237 Military operations (battle, shelling)\n",
      "['On Friday, June 21st, a pro-Rapid Support Forces (RSF) Telegram channel published videos showing an RSF commander and soldiers shooting at approximately 22 prisoners and injured numerous individuals wearing civilian clothing, SAF uniforms, and police uniforms in the city of Al-Fula, West Kordofan.']\n"
     ]
    },
    {
     "data": {
      "application/vnd.jupyter.widget-view+json": {
       "model_id": "0b1392b9486e481a9bbe5960491874d5",
       "version_major": 2,
       "version_minor": 0
      },
      "text/plain": [
       "Parsing nodes:   0%|          | 0/1 [00:00<?, ?it/s]"
      ]
     },
     "metadata": {},
     "output_type": "display_data"
    },
    {
     "data": {
      "application/vnd.jupyter.widget-view+json": {
       "model_id": "9724ed48f5134694b243ee6e569f3692",
       "version_major": 2,
       "version_minor": 0
      },
      "text/plain": [
       "Generating embeddings:   0%|          | 0/1 [00:00<?, ?it/s]"
      ]
     },
     "metadata": {},
     "output_type": "display_data"
    },
    {
     "name": "stdout",
     "output_type": "stream",
     "text": [
      "238 Extrajudicial killing\n",
      "['New development and movement of troops: According to  some local analysts of the  media outlet Mada Masr, \"a new front has opened in North Darfur‚Äôs desert, bordering Libya and Chad. The military-allied joint force of armed movements is fighting against the Rapid Support Forces (RSF) in a bid to cut off supply lines to the Zurug military base, the RSF‚Äôs largest stronghold.\" This war in the desert is waged over the control of humanitarian access routes as well as supply lines controlled by ilicit trafficking networks involved in gold, arms, and fighters trafficking between Libya, Sudan, Chad, and Central African Republic.']\n"
     ]
    },
    {
     "data": {
      "application/vnd.jupyter.widget-view+json": {
       "model_id": "8998cede18e14f61bc6bd87d260193f5",
       "version_major": 2,
       "version_minor": 0
      },
      "text/plain": [
       "Parsing nodes:   0%|          | 0/1 [00:00<?, ?it/s]"
      ]
     },
     "metadata": {},
     "output_type": "display_data"
    },
    {
     "data": {
      "application/vnd.jupyter.widget-view+json": {
       "model_id": "4380578f968d424c9b4e984d540de90d",
       "version_major": 2,
       "version_minor": 0
      },
      "text/plain": [
       "Generating embeddings:   0%|          | 0/1 [00:00<?, ?it/s]"
      ]
     },
     "metadata": {},
     "output_type": "display_data"
    },
    {
     "name": "stdout",
     "output_type": "stream",
     "text": [
      "239 Movement of military, paramilitary, or other troops and equipment\n",
      "['On  Wednesday, June 19th, and Friday, June 21st, the Rapid Support Forces (RSF) reportedly damaged two hospitals . The first being the Al-Nau hospital in Omdurman, and the Saudi Maternity Hospital in El Fasher, both attacks resulting in casualties and damage to the facilities. According to MSF, ‚ÄúOn the night of Friday 21 June, RSF shelling hit the pharmacy of the MSF-supported Saudi hospital in El Fasher. A pharmacist was killed while on her shift, and the pharmacy building was damaged. Although the hospital remains open and is still treating patients today, it has been damaged and is only partially functional.\"']\n"
     ]
    },
    {
     "data": {
      "application/vnd.jupyter.widget-view+json": {
       "model_id": "fba6b698963e49e094f12aa099fffdaa",
       "version_major": 2,
       "version_minor": 0
      },
      "text/plain": [
       "Parsing nodes:   0%|          | 0/1 [00:00<?, ?it/s]"
      ]
     },
     "metadata": {},
     "output_type": "display_data"
    },
    {
     "data": {
      "application/vnd.jupyter.widget-view+json": {
       "model_id": "139d39e82bb4437ebc1d449d2ac0b00e",
       "version_major": 2,
       "version_minor": 0
      },
      "text/plain": [
       "Generating embeddings:   0%|          | 0/1 [00:00<?, ?it/s]"
      ]
     },
     "metadata": {},
     "output_type": "display_data"
    },
    {
     "name": "stdout",
     "output_type": "stream",
     "text": [
      "240 Damage or destruction of civilian critical infrastructure\n",
      "['In the evening of June 23, a huge fire broke out at the Bahri thermal power station in Khartoum North with  thick clouds of smoke rising  in the sky for hours.  The RSF and SAF accused each other  of bombing the facility, calling it ‚Äúan effort to destroy vital and strategic facilities and installations‚Äù.']\n"
     ]
    },
    {
     "data": {
      "application/vnd.jupyter.widget-view+json": {
       "model_id": "d916685cdd44460280d4bc5c91f360fe",
       "version_major": 2,
       "version_minor": 0
      },
      "text/plain": [
       "Parsing nodes:   0%|          | 0/1 [00:00<?, ?it/s]"
      ]
     },
     "metadata": {},
     "output_type": "display_data"
    },
    {
     "data": {
      "application/vnd.jupyter.widget-view+json": {
       "model_id": "485c7c87eb56483dbe4c048fee88fd1d",
       "version_major": 2,
       "version_minor": 0
      },
      "text/plain": [
       "Generating embeddings:   0%|          | 0/1 [00:00<?, ?it/s]"
      ]
     },
     "metadata": {},
     "output_type": "display_data"
    },
    {
     "name": "stdout",
     "output_type": "stream",
     "text": [
      "241 Damage or destruction of civilian critical infrastructure\n",
      "['On Sunday, June 23rd, the only remaining dialysis center in El Fasher was targeted by the RSF causing severe damage to the hospital building and equipment. Conflicting reports exist about whether the centre was completely or partially destroyed. However, video footage reviewed by Radio Dabanga confirmed parts of the centre were destroyed but not entirely burned.']\n"
     ]
    },
    {
     "data": {
      "application/vnd.jupyter.widget-view+json": {
       "model_id": "557b700fada0409d925db59c57219c08",
       "version_major": 2,
       "version_minor": 0
      },
      "text/plain": [
       "Parsing nodes:   0%|          | 0/1 [00:00<?, ?it/s]"
      ]
     },
     "metadata": {},
     "output_type": "display_data"
    },
    {
     "data": {
      "application/vnd.jupyter.widget-view+json": {
       "model_id": "48d0900e2cac4f9f91b2b961050378c5",
       "version_major": 2,
       "version_minor": 0
      },
      "text/plain": [
       "Generating embeddings:   0%|          | 0/1 [00:00<?, ?it/s]"
      ]
     },
     "metadata": {},
     "output_type": "display_data"
    },
    {
     "name": "stdout",
     "output_type": "stream",
     "text": [
      "242 Damage or destruction of civilian critical infrastructure\n",
      "['On Monday, June 24th, another video surfaced published by a pro-RSF Telegram channel showing RSF forces launching rockets towards northeast along Kosti-Sennar Road with a Multiple Launch Rocket System (MLRS)']\n"
     ]
    },
    {
     "data": {
      "application/vnd.jupyter.widget-view+json": {
       "model_id": "c9a72e6689b342bfb345d989877964c6",
       "version_major": 2,
       "version_minor": 0
      },
      "text/plain": [
       "Parsing nodes:   0%|          | 0/1 [00:00<?, ?it/s]"
      ]
     },
     "metadata": {},
     "output_type": "display_data"
    },
    {
     "data": {
      "application/vnd.jupyter.widget-view+json": {
       "model_id": "aa58edbe67634a6c9099042a29109a4d",
       "version_major": 2,
       "version_minor": 0
      },
      "text/plain": [
       "Generating embeddings:   0%|          | 0/1 [00:00<?, ?it/s]"
      ]
     },
     "metadata": {},
     "output_type": "display_data"
    },
    {
     "name": "stdout",
     "output_type": "stream",
     "text": [
      "243 Military operations (battle, shelling)\n",
      "['On June 24,  fierce clashes erupted  between the RSF and the SAF over the control of the Sennar Sugar Factory, surrounding villages, and the strategic Jabal Moya area with each party and affiliated media outlets issuing contradictory statements. ']\n"
     ]
    },
    {
     "data": {
      "application/vnd.jupyter.widget-view+json": {
       "model_id": "e56bb8e40ca549f8a4c2957a59ea9842",
       "version_major": 2,
       "version_minor": 0
      },
      "text/plain": [
       "Parsing nodes:   0%|          | 0/1 [00:00<?, ?it/s]"
      ]
     },
     "metadata": {},
     "output_type": "display_data"
    },
    {
     "data": {
      "application/vnd.jupyter.widget-view+json": {
       "model_id": "6d111a06e8a94ddc8862e8a6cd5ab420",
       "version_major": 2,
       "version_minor": 0
      },
      "text/plain": [
       "Generating embeddings:   0%|          | 0/1 [00:00<?, ?it/s]"
      ]
     },
     "metadata": {},
     "output_type": "display_data"
    },
    {
     "name": "stdout",
     "output_type": "stream",
     "text": [
      "244 Military operations (battle, shelling)\n",
      "['On Monday, June 24th, the residents of Sennar in Sennar state were confused and full of fear as authorities shut down shops, roads, and schools   in response to an attack by RSF on Jebel Moya, a group of granite hills located 24km west of Sennar. Additionally, a pro-RSF Telegram channel published a video showing the RSF entering north Jebel Moya on Monday morning.']\n"
     ]
    },
    {
     "data": {
      "application/vnd.jupyter.widget-view+json": {
       "model_id": "33b135ec3a58432bac392688c1695a2c",
       "version_major": 2,
       "version_minor": 0
      },
      "text/plain": [
       "Parsing nodes:   0%|          | 0/1 [00:00<?, ?it/s]"
      ]
     },
     "metadata": {},
     "output_type": "display_data"
    },
    {
     "data": {
      "application/vnd.jupyter.widget-view+json": {
       "model_id": "143caa7439a945119d75fcd17ab0fcb6",
       "version_major": 2,
       "version_minor": 0
      },
      "text/plain": [
       "Generating embeddings:   0%|          | 0/1 [00:00<?, ?it/s]"
      ]
     },
     "metadata": {},
     "output_type": "display_data"
    },
    {
     "name": "stdout",
     "output_type": "stream",
     "text": [
      "245 Military operations (battle, shelling)\n",
      "['On Tuesday, June 25, human rights defenders in North Darfur state revealed that the intelligence wing of the Joint Forces arrested in El Fasher  political leaders and civilians suspected of collaborating with the Rapid Support Forces.']\n"
     ]
    },
    {
     "data": {
      "application/vnd.jupyter.widget-view+json": {
       "model_id": "f77fbccc6a174149a7cc62f56d0d9ee6",
       "version_major": 2,
       "version_minor": 0
      },
      "text/plain": [
       "Parsing nodes:   0%|          | 0/1 [00:00<?, ?it/s]"
      ]
     },
     "metadata": {},
     "output_type": "display_data"
    },
    {
     "data": {
      "application/vnd.jupyter.widget-view+json": {
       "model_id": "4f6b45a56dff4f6e88efafb351b809ce",
       "version_major": 2,
       "version_minor": 0
      },
      "text/plain": [
       "Generating embeddings:   0%|          | 0/1 [00:00<?, ?it/s]"
      ]
     },
     "metadata": {},
     "output_type": "display_data"
    },
    {
     "name": "stdout",
     "output_type": "stream",
     "text": [
      "246 Unlawful detention\n",
      "['In the evening of Tuesday, June 25,  the RSF forces attacked the SAF positions  in  the Al-Arab area, north of the city of Sennar.  The attack was reportedly successfully repelled by the Army with the support of intelligence units and Popular Resistance forces.  The Army claimed to have killed a substantial number of RSF fighters and seized military equipment.  ']\n"
     ]
    },
    {
     "data": {
      "application/vnd.jupyter.widget-view+json": {
       "model_id": "a8aee8faabd94e36bd0500db20f2202a",
       "version_major": 2,
       "version_minor": 0
      },
      "text/plain": [
       "Parsing nodes:   0%|          | 0/1 [00:00<?, ?it/s]"
      ]
     },
     "metadata": {},
     "output_type": "display_data"
    },
    {
     "data": {
      "application/vnd.jupyter.widget-view+json": {
       "model_id": "634ebf3aa7c642a59ddc5e82c0102d12",
       "version_major": 2,
       "version_minor": 0
      },
      "text/plain": [
       "Generating embeddings:   0%|          | 0/1 [00:00<?, ?it/s]"
      ]
     },
     "metadata": {},
     "output_type": "display_data"
    },
    {
     "name": "stdout",
     "output_type": "stream",
     "text": [
      "247 Military operations (battle, shelling)\n",
      "['On Tuesday, June 25, the RSF and the SAF violently clashed in  the northern outskirts of Sennar, southeastern Sudan, after the army repelled an offensive of the militia in the Jabal Moya area, which is strategically located on the national highway connecting the states of Sennar, Al Jazirah, and White Nile. . The fighting caused panic among residents, leading to a mass exodus from the city towards neighbouring areas.']\n"
     ]
    },
    {
     "data": {
      "application/vnd.jupyter.widget-view+json": {
       "model_id": "30ae1a52ef96428eb2d6cd1f7f372e06",
       "version_major": 2,
       "version_minor": 0
      },
      "text/plain": [
       "Parsing nodes:   0%|          | 0/1 [00:00<?, ?it/s]"
      ]
     },
     "metadata": {},
     "output_type": "display_data"
    },
    {
     "data": {
      "application/vnd.jupyter.widget-view+json": {
       "model_id": "9f08f7cea1d74249930aed7a5018bf46",
       "version_major": 2,
       "version_minor": 0
      },
      "text/plain": [
       "Generating embeddings:   0%|          | 0/1 [00:00<?, ?it/s]"
      ]
     },
     "metadata": {},
     "output_type": "display_data"
    },
    {
     "name": "stdout",
     "output_type": "stream",
     "text": [
      "248 Military operations (battle, shelling)\n",
      "['On Tuesday, June 25th, the RSF further intensified its attacks on El Fasher by continuing to shell the Abu Shouk Camp and Iqraa Hospital.At least 5 civilians were killed and 4 injured at Abu Shouk Camp.  Adam Rijal, the spokesman for the Coordination of Displaced Persons and Refugees in Darfur, confirmed that shells fell in blocks 3, 6, 7, and 13 of the IDP camp. The Sudan Liberation Movement faction led by Minni Minawi (SLM-MM) also stated that the RSF bombarded El Fasher with over 26 heavy artillery rounds between 9 a.m. and noon on Tuesday. The attack targeted various neighbourhoods and displacement camps, resulting in six fatalities and 14 injuries, including children and women. Additionally, one person was killed and another injured when shells fired by the RSF struck the Iqraa Hospital.']\n"
     ]
    },
    {
     "data": {
      "application/vnd.jupyter.widget-view+json": {
       "model_id": "55ae4e9e70d04de1963bde478263e2d0",
       "version_major": 2,
       "version_minor": 0
      },
      "text/plain": [
       "Parsing nodes:   0%|          | 0/1 [00:00<?, ?it/s]"
      ]
     },
     "metadata": {},
     "output_type": "display_data"
    },
    {
     "data": {
      "application/vnd.jupyter.widget-view+json": {
       "model_id": "bd2f5430295241829142dc069a37b980",
       "version_major": 2,
       "version_minor": 0
      },
      "text/plain": [
       "Generating embeddings:   0%|          | 0/1 [00:00<?, ?it/s]"
      ]
     },
     "metadata": {},
     "output_type": "display_data"
    },
    {
     "name": "stdout",
     "output_type": "stream",
     "text": [
      "249 Military operations (shelling)\n",
      "['Five people were killed and others wounded as clashes were renewed on Wednesday, June 26,  between the Sudanese army and allied armed movements on the one hand, and the Rapid Support Forces on the other hand in the city of El Fasher. A medical source at the state Ministry of Health confirmed to ‚ÄúDarfur 24‚Äù the death of 4 displaced persons from one family sheltering at considerations center in the Timbasi Model Primary School for Girls, south of the city, after they were hit by artillery shelling fired by the Rapid Support Forces.']\n"
     ]
    },
    {
     "data": {
      "application/vnd.jupyter.widget-view+json": {
       "model_id": "0646f1a0fdc44e8fb0d0dae322d9f764",
       "version_major": 2,
       "version_minor": 0
      },
      "text/plain": [
       "Parsing nodes:   0%|          | 0/1 [00:00<?, ?it/s]"
      ]
     },
     "metadata": {},
     "output_type": "display_data"
    },
    {
     "data": {
      "application/vnd.jupyter.widget-view+json": {
       "model_id": "deb22f577a7a4991ae6a0eab87563558",
       "version_major": 2,
       "version_minor": 0
      },
      "text/plain": [
       "Generating embeddings:   0%|          | 0/1 [00:00<?, ?it/s]"
      ]
     },
     "metadata": {},
     "output_type": "display_data"
    },
    {
     "name": "stdout",
     "output_type": "stream",
     "text": [
      "250 Military operations (battle, shelling)\n",
      "['On Thursday, June 27th, the Rapid Support Forces (RSF) continued their assault on medical facilities in El Fasher, the capital of North Darfur. The latest attack destroyed a child malnutrition treatment centre in a camp overflowing with displaced people. ']\n"
     ]
    },
    {
     "data": {
      "application/vnd.jupyter.widget-view+json": {
       "model_id": "169595b57d8945a8b6bdb7687347fd99",
       "version_major": 2,
       "version_minor": 0
      },
      "text/plain": [
       "Parsing nodes:   0%|          | 0/1 [00:00<?, ?it/s]"
      ]
     },
     "metadata": {},
     "output_type": "display_data"
    },
    {
     "data": {
      "application/vnd.jupyter.widget-view+json": {
       "model_id": "ec7e9226325a4cd6b8b3b59cb4a68c39",
       "version_major": 2,
       "version_minor": 0
      },
      "text/plain": [
       "Generating embeddings:   0%|          | 0/1 [00:00<?, ?it/s]"
      ]
     },
     "metadata": {},
     "output_type": "display_data"
    },
    {
     "name": "stdout",
     "output_type": "stream",
     "text": [
      "251 Damage or destruction of civilian critical infrastructure\n",
      "['On Saturday, June 29th, the RSF seized Sinjah, advancing from their positions in Jabal Moya, a strategic region connecting Sennar with other states. They swiftly took control of the army base, government headquarters, and began looting and terrorizing residents.']\n"
     ]
    },
    {
     "data": {
      "application/vnd.jupyter.widget-view+json": {
       "model_id": "2e41331c104c4da7ad527e5d7bb0da27",
       "version_major": 2,
       "version_minor": 0
      },
      "text/plain": [
       "Parsing nodes:   0%|          | 0/1 [00:00<?, ?it/s]"
      ]
     },
     "metadata": {},
     "output_type": "display_data"
    },
    {
     "data": {
      "application/vnd.jupyter.widget-view+json": {
       "model_id": "31ae5ba7149b43298c0803a67ee73d1b",
       "version_major": 2,
       "version_minor": 0
      },
      "text/plain": [
       "Generating embeddings:   0%|          | 0/1 [00:00<?, ?it/s]"
      ]
     },
     "metadata": {},
     "output_type": "display_data"
    },
    {
     "name": "stdout",
     "output_type": "stream",
     "text": [
      "252 Military operations (battle, shelling)\n",
      "['Reporting the ongoing clashes between RSF and SAF in Sinjah, the main city of Sennar state, Sudan War Monitor wrote on June 30: \"Starting in the Jebel Moya area yesterday, June 29 (or during the prior night), the RSF advanced about 75 km to reach Sinja and quickly overran large parts of the city, including the headquarters of the 17th Infantry Division, the city‚Äôs main military base. The attack happened after SAF had dispatched some of its reserves north from Sinja toward Sennar, leaving the city vulnerable.\" (Videos of RSF troops patrolling the city and shouting Allah Akbar included)\\nOn June 30, residents reported that RSF fighters, in their fight to take control of Sinjah, the main city of Sennar state,  have looted homes and shops and taken over the main hospital in a central city, forcing tens of thousands to flee. According to residents, the RSF have been patroling the city in pickup trucks mounted with automatic rifles.']\n"
     ]
    },
    {
     "data": {
      "application/vnd.jupyter.widget-view+json": {
       "model_id": "be18a7517cfc4782977eb8f63e27ee80",
       "version_major": 2,
       "version_minor": 0
      },
      "text/plain": [
       "Parsing nodes:   0%|          | 0/1 [00:00<?, ?it/s]"
      ]
     },
     "metadata": {},
     "output_type": "display_data"
    },
    {
     "data": {
      "application/vnd.jupyter.widget-view+json": {
       "model_id": "7febe84124c545769c4cda0f5fbd27c6",
       "version_major": 2,
       "version_minor": 0
      },
      "text/plain": [
       "Generating embeddings:   0%|          | 0/1 [00:00<?, ?it/s]"
      ]
     },
     "metadata": {},
     "output_type": "display_data"
    },
    {
     "name": "stdout",
     "output_type": "stream",
     "text": [
      "253 Military operations (battle, shelling)\n",
      "['Ongoing battles between RSF and SAF: The RSF is reported to control the 17th Infantry Division base  in Singa after a surprise attack on June 29, and  seizing military vehicles, tanks, and motorcycles. They also reportedly control the main sites in the city, while the army remains at the headquarters of the 67th Brigade in the Hariri area, but the latter was repeatedly attacked by the RSF on June 30. ']\n"
     ]
    },
    {
     "data": {
      "application/vnd.jupyter.widget-view+json": {
       "model_id": "bb1d3202d8c44dc781668621b63aafd4",
       "version_major": 2,
       "version_minor": 0
      },
      "text/plain": [
       "Parsing nodes:   0%|          | 0/1 [00:00<?, ?it/s]"
      ]
     },
     "metadata": {},
     "output_type": "display_data"
    },
    {
     "data": {
      "application/vnd.jupyter.widget-view+json": {
       "model_id": "08be64bf76744496b21fc066cd8e0644",
       "version_major": 2,
       "version_minor": 0
      },
      "text/plain": [
       "Generating embeddings:   0%|          | 0/1 [00:00<?, ?it/s]"
      ]
     },
     "metadata": {},
     "output_type": "display_data"
    },
    {
     "name": "stdout",
     "output_type": "stream",
     "text": [
      "254 Military operations (battle, shelling)\n",
      "['In the evening of June 30, the Halfaya Bridge, the only remaining crossing between Khartoum Bahri (in the North) and Omdurman after¬† the destruction of the  Shambat bridge in November 2023,  was partly damaged as a result of a explosion likely caused by a bombing. The RSF and SAF accused each other of damaging the bridge. Pictures circulated on the social media showed the damage caused to the eastern section of  the bridge. According to Sudan Tribune, \"the RSF controls the Halfaya Bridge from the Khartoum Bahri side, while the army controls the Omdurman side of the bridge.\"']\n"
     ]
    },
    {
     "data": {
      "application/vnd.jupyter.widget-view+json": {
       "model_id": "d823fadad7de4d91bfd2ad40886c4718",
       "version_major": 2,
       "version_minor": 0
      },
      "text/plain": [
       "Parsing nodes:   0%|          | 0/1 [00:00<?, ?it/s]"
      ]
     },
     "metadata": {},
     "output_type": "display_data"
    },
    {
     "data": {
      "application/vnd.jupyter.widget-view+json": {
       "model_id": "e031e9d5b11e4844b76c99fd1c6ef5e1",
       "version_major": 2,
       "version_minor": 0
      },
      "text/plain": [
       "Generating embeddings:   0%|          | 0/1 [00:00<?, ?it/s]"
      ]
     },
     "metadata": {},
     "output_type": "display_data"
    },
    {
     "name": "stdout",
     "output_type": "stream",
     "text": [
      "255 Damage or destruction of civilian critical infrastructure\n",
      "['On July 1, after violent clashes between the RSF and the SAF in Sinjah, Sennar state, DTM Sudan \"field teams reported that approximately 55,440 individuals were displaced from Sinja town and neighbouring villages, as well as from various locations in Abu Hujar and Ad Dali localities, due to increased security concerns.\" Residents fled due to fighting, looting, and security concerns, with most seeking refuge in the Al Rahad locality in Gedaref State.']\n"
     ]
    },
    {
     "data": {
      "application/vnd.jupyter.widget-view+json": {
       "model_id": "fb1c0eae93be4ba4a65cdf196b2be983",
       "version_major": 2,
       "version_minor": 0
      },
      "text/plain": [
       "Parsing nodes:   0%|          | 0/1 [00:00<?, ?it/s]"
      ]
     },
     "metadata": {},
     "output_type": "display_data"
    },
    {
     "data": {
      "application/vnd.jupyter.widget-view+json": {
       "model_id": "57e8e6b7d3c14d8b8b849665b3a41c34",
       "version_major": 2,
       "version_minor": 0
      },
      "text/plain": [
       "Generating embeddings:   0%|          | 0/1 [00:00<?, ?it/s]"
      ]
     },
     "metadata": {},
     "output_type": "display_data"
    },
    {
     "name": "stdout",
     "output_type": "stream",
     "text": [
      "256 Military operations (battle, shelling)\n",
      "['\"On Monday, July 1st, the local resistance committee in El Fasher, a non-governmental group, announced in a statement: \"\"An RSF drone threw projectiles at the Al-Hijra Mosque in the Al-Tijaniya neighborhood in El-Fasher, killing 9 children and injuring 11 others¬†¬ª. \"']\n"
     ]
    },
    {
     "data": {
      "application/vnd.jupyter.widget-view+json": {
       "model_id": "003383febec84580bc0bde0dd82fa090",
       "version_major": 2,
       "version_minor": 0
      },
      "text/plain": [
       "Parsing nodes:   0%|          | 0/1 [00:00<?, ?it/s]"
      ]
     },
     "metadata": {},
     "output_type": "display_data"
    },
    {
     "data": {
      "application/vnd.jupyter.widget-view+json": {
       "model_id": "d0f93e119ca44b5a843a3081e626c99b",
       "version_major": 2,
       "version_minor": 0
      },
      "text/plain": [
       "Generating embeddings:   0%|          | 0/1 [00:00<?, ?it/s]"
      ]
     },
     "metadata": {},
     "output_type": "display_data"
    },
    {
     "name": "stdout",
     "output_type": "stream",
     "text": [
      "257 Indiscriminate use of weapons\n",
      "['On July 2, the Sudan Family Planning Association (SFPA), a member of the International Planned Parenthood Federation, announced that one of their clinics in El Fasher has been destroyed, and some staff, volunteers, and patients killed or injured as a result of shelling attributed to the RSF. The SFPA reports: \"The RSF bombardments have also severely injured several of our staff: Dr Marwa, a doctor at the Integrated Centre in El Fasher, was hit by shrapnel in her leg. A midwife at Abu Shouk centre, Halima Abdullah Adam, was hit and four of her children were injured and evacuated. The house of the guard of Abu Shouk centre was hit, killing his daughter and wounding four of his other children. One of our nurses has been hit with shrapnel and has been transferred to hospital and is in critical condition and all contact with her has been lost. The RSF has also been kidnapping our patients, their whereabouts unknown. \"']\n"
     ]
    },
    {
     "data": {
      "application/vnd.jupyter.widget-view+json": {
       "model_id": "ae3e980909c84df3a4d902a440d1ae15",
       "version_major": 2,
       "version_minor": 0
      },
      "text/plain": [
       "Parsing nodes:   0%|          | 0/1 [00:00<?, ?it/s]"
      ]
     },
     "metadata": {},
     "output_type": "display_data"
    },
    {
     "data": {
      "application/vnd.jupyter.widget-view+json": {
       "model_id": "25588e578e224f8b89182ac34b449ff7",
       "version_major": 2,
       "version_minor": 0
      },
      "text/plain": [
       "Generating embeddings:   0%|          | 0/1 [00:00<?, ?it/s]"
      ]
     },
     "metadata": {},
     "output_type": "display_data"
    },
    {
     "name": "stdout",
     "output_type": "stream",
     "text": [
      "258 Military operations (shelling)\n",
      "['On July 2, two healthcare facilities, the Jabal Marra Hospital and a private hospital in El Fasher‚Äôs Grand Market, were damaged as a result of airstrikes and shelling reportedly by the RSF']\n"
     ]
    },
    {
     "data": {
      "application/vnd.jupyter.widget-view+json": {
       "model_id": "c2ef45c0cd0447d48873c5e6afada063",
       "version_major": 2,
       "version_minor": 0
      },
      "text/plain": [
       "Parsing nodes:   0%|          | 0/1 [00:00<?, ?it/s]"
      ]
     },
     "metadata": {},
     "output_type": "display_data"
    },
    {
     "data": {
      "application/vnd.jupyter.widget-view+json": {
       "model_id": "53629a125d824821badbe4673d90a260",
       "version_major": 2,
       "version_minor": 0
      },
      "text/plain": [
       "Generating embeddings:   0%|          | 0/1 [00:00<?, ?it/s]"
      ]
     },
     "metadata": {},
     "output_type": "display_data"
    },
    {
     "name": "stdout",
     "output_type": "stream",
     "text": [
      "259 Military operations (shelling)\n",
      "['\"On Wednesday, July 3rd, fifteen people were killed and 29 others injured as a result of a heavy artillery attack by the Rapid Support Forces (RSF) on a crowded market in El Fasher, the Director General of the Ministry of Health in North Darfur State, Ibrahim Khatir, told Sudan Tribune. He added that all the dead and injured were civilians living in the Al-Nasr, Al-Thawra South, Al-Riyadh South, Al-Radeef, and Al-Mawashi (livestock) market neighbourhoods in El Fasher. A mosque, the Al-Radeef mosque, was also damaged in the attack. \"']\n"
     ]
    },
    {
     "data": {
      "application/vnd.jupyter.widget-view+json": {
       "model_id": "0f6b777d5c154e31b47b9712ddfbc817",
       "version_major": 2,
       "version_minor": 0
      },
      "text/plain": [
       "Parsing nodes:   0%|          | 0/1 [00:00<?, ?it/s]"
      ]
     },
     "metadata": {},
     "output_type": "display_data"
    },
    {
     "data": {
      "application/vnd.jupyter.widget-view+json": {
       "model_id": "758415d44ef0411eb9a5f66ab69046b6",
       "version_major": 2,
       "version_minor": 0
      },
      "text/plain": [
       "Generating embeddings:   0%|          | 0/1 [00:00<?, ?it/s]"
      ]
     },
     "metadata": {},
     "output_type": "display_data"
    },
    {
     "name": "stdout",
     "output_type": "stream",
     "text": [
      "260 Indiscriminate use of weapons\n",
      "['On Wednesday, July 3, at least 12 people were reportedly killed by artillery fire on a livestock market in the city of Al Fasher.']\n"
     ]
    },
    {
     "data": {
      "application/vnd.jupyter.widget-view+json": {
       "model_id": "e13b8b6c5cfb4f8ab4f3fd4d7ec17b16",
       "version_major": 2,
       "version_minor": 0
      },
      "text/plain": [
       "Parsing nodes:   0%|          | 0/1 [00:00<?, ?it/s]"
      ]
     },
     "metadata": {},
     "output_type": "display_data"
    },
    {
     "data": {
      "application/vnd.jupyter.widget-view+json": {
       "model_id": "8f1a675b3f814fb3916fbba29cbc6166",
       "version_major": 2,
       "version_minor": 0
      },
      "text/plain": [
       "Generating embeddings:   0%|          | 0/1 [00:00<?, ?it/s]"
      ]
     },
     "metadata": {},
     "output_type": "display_data"
    },
    {
     "name": "stdout",
     "output_type": "stream",
     "text": [
      "261 Indiscriminate use of weapons\n",
      "['On July 3, the UN announced that more than 136,000 people have fled Sennar state since the RSF began a series of attacks on towns. The RSF began a campaign on June 24 to take control of Sennar, but quickly turned to the smaller towns of Sinjah and Al-Dinder. This prompted an exodus of civilians from all three, mainly to neighbouring Al-Gedaref and Blue Nile states.']\n"
     ]
    },
    {
     "data": {
      "application/vnd.jupyter.widget-view+json": {
       "model_id": "4c2412c05f6149eb950dcf122d3e9c3f",
       "version_major": 2,
       "version_minor": 0
      },
      "text/plain": [
       "Parsing nodes:   0%|          | 0/1 [00:00<?, ?it/s]"
      ]
     },
     "metadata": {},
     "output_type": "display_data"
    },
    {
     "data": {
      "application/vnd.jupyter.widget-view+json": {
       "model_id": "6123fbfb7a9941028ecdd38852de9833",
       "version_major": 2,
       "version_minor": 0
      },
      "text/plain": [
       "Generating embeddings:   0%|          | 0/1 [00:00<?, ?it/s]"
      ]
     },
     "metadata": {},
     "output_type": "display_data"
    },
    {
     "name": "stdout",
     "output_type": "stream",
     "text": [
      "262 Military operations (battle, shelling)\n",
      "[\"On July 3rd, it was reported that the roof of the main building of the Dar Mariam Mission, a Catholic church and school compound in Khartoum's al-Shajara district, that has been hosting about 80 people caught in the crossfire between the SAF and the RSF, has been damaged by shells, and parts of the nuns' quarters have been set ablaze. Holes caused by stray bullets mark the mission's walls. Because of the growing food scarcity, the nuns have boiled tree leaves for the children to eat.\"]\n"
     ]
    },
    {
     "data": {
      "application/vnd.jupyter.widget-view+json": {
       "model_id": "1b987fcdd5eb4f3fab8db63af84e68e6",
       "version_major": 2,
       "version_minor": 0
      },
      "text/plain": [
       "Parsing nodes:   0%|          | 0/1 [00:00<?, ?it/s]"
      ]
     },
     "metadata": {},
     "output_type": "display_data"
    },
    {
     "data": {
      "application/vnd.jupyter.widget-view+json": {
       "model_id": "c726a9a26d3e4470ab2024928e8df4ab",
       "version_major": 2,
       "version_minor": 0
      },
      "text/plain": [
       "Generating embeddings:   0%|          | 0/1 [00:00<?, ?it/s]"
      ]
     },
     "metadata": {},
     "output_type": "display_data"
    },
    {
     "name": "stdout",
     "output_type": "stream",
     "text": [
      "263 Military operations (battle, shelling)\n",
      "['On Wednesday, July 3, battles erupted in El Meiram, a town in West Kordofan, after a two-week siege by the RSF, but the SAF spokesperson announced that their forces had ‚Äúrepelled the RSF attack and inflicted heavy losses‚Äù.']\n"
     ]
    },
    {
     "data": {
      "application/vnd.jupyter.widget-view+json": {
       "model_id": "b98c1451a3fe41d1a0b02ad1de130305",
       "version_major": 2,
       "version_minor": 0
      },
      "text/plain": [
       "Parsing nodes:   0%|          | 0/1 [00:00<?, ?it/s]"
      ]
     },
     "metadata": {},
     "output_type": "display_data"
    },
    {
     "data": {
      "application/vnd.jupyter.widget-view+json": {
       "model_id": "9450df4a703b426cb7467cad8c1d64c2",
       "version_major": 2,
       "version_minor": 0
      },
      "text/plain": [
       "Generating embeddings:   0%|          | 0/1 [00:00<?, ?it/s]"
      ]
     },
     "metadata": {},
     "output_type": "display_data"
    },
    {
     "name": "stdout",
     "output_type": "stream",
     "text": [
      "264 Military operations (battle, shelling)\n",
      "[\"On Thuresday, July 4, clashes between SAF and RSF continued in Omdurman - Al Thawra (Karrari, Khartoum), with RSF artillery shelling targeting Al Buluk Children's Hospital and damaging the building. SAF killed a large number of RSF.\"]\n"
     ]
    },
    {
     "data": {
      "application/vnd.jupyter.widget-view+json": {
       "model_id": "f5a25f9a650f45b6910ca04b2d0462e2",
       "version_major": 2,
       "version_minor": 0
      },
      "text/plain": [
       "Parsing nodes:   0%|          | 0/1 [00:00<?, ?it/s]"
      ]
     },
     "metadata": {},
     "output_type": "display_data"
    },
    {
     "data": {
      "application/vnd.jupyter.widget-view+json": {
       "model_id": "acdcf3c1caeb499b9f0ea89f7692bb5f",
       "version_major": 2,
       "version_minor": 0
      },
      "text/plain": [
       "Generating embeddings:   0%|          | 0/1 [00:00<?, ?it/s]"
      ]
     },
     "metadata": {},
     "output_type": "display_data"
    },
    {
     "name": "stdout",
     "output_type": "stream",
     "text": [
      "265 Military operations (battle, shelling)\n",
      "['\" On Thursday, July 4, the SAF and allied armed movements announced that they recaptured A-Dinder, a city in Sennar State, located on the border between Sennar and Gedaref states in eastern Sudan. The RSF had seized the town and engaged in widespread looting.\"']\n"
     ]
    },
    {
     "data": {
      "application/vnd.jupyter.widget-view+json": {
       "model_id": "641989548b664ef48a76bbeeb283bdf3",
       "version_major": 2,
       "version_minor": 0
      },
      "text/plain": [
       "Parsing nodes:   0%|          | 0/1 [00:00<?, ?it/s]"
      ]
     },
     "metadata": {},
     "output_type": "display_data"
    },
    {
     "data": {
      "application/vnd.jupyter.widget-view+json": {
       "model_id": "3b3418d4bedd4f8d96e3815897eccd9a",
       "version_major": 2,
       "version_minor": 0
      },
      "text/plain": [
       "Generating embeddings:   0%|          | 0/1 [00:00<?, ?it/s]"
      ]
     },
     "metadata": {},
     "output_type": "display_data"
    },
    {
     "name": "stdout",
     "output_type": "stream",
     "text": [
      "266 Military operations (battle, shelling)\n",
      "['The Rapid Support militia attacked some villages in the state of South Kordofan on Friday and Saturday with the aim of plundering livestock and cows and committed a massacre in the villages of Al-Labbana, Al-Madfaq, Tab Al-Samu, Duqaq Four, Al-Fariq, Al-Madkhat, Al-Daoudi, Muqitaia, and Qardud Nama. They burned the village of Umm Labana, killing dozens, as well as numbers. There are a large number of injured and burned people, and there is no accurate estimate of the numbers due to the interruption of communication and the difficulty of reaching the area currently.']\n"
     ]
    },
    {
     "data": {
      "application/vnd.jupyter.widget-view+json": {
       "model_id": "69a6dd162f32470e91b05d34fc76f553",
       "version_major": 2,
       "version_minor": 0
      },
      "text/plain": [
       "Parsing nodes:   0%|          | 0/1 [00:00<?, ?it/s]"
      ]
     },
     "metadata": {},
     "output_type": "display_data"
    },
    {
     "data": {
      "application/vnd.jupyter.widget-view+json": {
       "model_id": "17e5bc5613104507abd0f3c9d08204a7",
       "version_major": 2,
       "version_minor": 0
      },
      "text/plain": [
       "Generating embeddings:   0%|          | 0/1 [00:00<?, ?it/s]"
      ]
     },
     "metadata": {},
     "output_type": "display_data"
    },
    {
     "name": "stdout",
     "output_type": "stream",
     "text": [
      "267 Willful killing of civilians\n",
      "['On July 6, Radio Dabanga reported ethnically-based detention of human rights defenders in Sennar and White Nite State. In Rabak, the capital city of White Nile state, some law offices have been raided by agents of the Military Intelligence and the General Intelligence Service (GIS).']\n"
     ]
    },
    {
     "data": {
      "application/vnd.jupyter.widget-view+json": {
       "model_id": "b9bf8544d53b4adc8018a81d1aeac563",
       "version_major": 2,
       "version_minor": 0
      },
      "text/plain": [
       "Parsing nodes:   0%|          | 0/1 [00:00<?, ?it/s]"
      ]
     },
     "metadata": {},
     "output_type": "display_data"
    },
    {
     "data": {
      "application/vnd.jupyter.widget-view+json": {
       "model_id": "c792f6c5354b4cd59ce3a08270b8c6c8",
       "version_major": 2,
       "version_minor": 0
      },
      "text/plain": [
       "Generating embeddings:   0%|          | 0/1 [00:00<?, ?it/s]"
      ]
     },
     "metadata": {},
     "output_type": "display_data"
    },
    {
     "name": "stdout",
     "output_type": "stream",
     "text": [
      "268 Unlawful detention\n",
      "['In the evening of Sunday, July 7th, amidst the violent clashes between the SAF and the RSF especially in the northern and eastern parts of the city, reports indicated that the RSF bombed the Saudi Hospital, partially destroying the facility. No civilian casualties were reported. However, some residents complained that security forces prevented them from using Starlink, and thereby, from communicating with others and receiving money transfers.']\n"
     ]
    },
    {
     "data": {
      "application/vnd.jupyter.widget-view+json": {
       "model_id": "acca9d98c5e7482593ab9c95592c3290",
       "version_major": 2,
       "version_minor": 0
      },
      "text/plain": [
       "Parsing nodes:   0%|          | 0/1 [00:00<?, ?it/s]"
      ]
     },
     "metadata": {},
     "output_type": "display_data"
    },
    {
     "data": {
      "application/vnd.jupyter.widget-view+json": {
       "model_id": "e08de6fdc0924e4cb4e94c193e57d32e",
       "version_major": 2,
       "version_minor": 0
      },
      "text/plain": [
       "Generating embeddings:   0%|          | 0/1 [00:00<?, ?it/s]"
      ]
     },
     "metadata": {},
     "output_type": "display_data"
    },
    {
     "name": "stdout",
     "output_type": "stream",
     "text": [
      "269 Military operations (battle, shelling)\n",
      "['Update about the forced displacement crisis in El Fasher by end of June: According to the International Organization for Migration (IOM) Displacement Tracking Matrix (DTM), between April 1st and June 30, about 328,981 people (65,933 families) were displaced from El Fasher. The number of IDPs and fatalities has kept increasing over the last three months. For example, MSF reported 278 fatalities and more than 1,781 wounded that it treated in its hospitals.']\n"
     ]
    },
    {
     "data": {
      "application/vnd.jupyter.widget-view+json": {
       "model_id": "0498af9b796147d596d6365e13173d66",
       "version_major": 2,
       "version_minor": 0
      },
      "text/plain": [
       "Parsing nodes:   0%|          | 0/1 [00:00<?, ?it/s]"
      ]
     },
     "metadata": {},
     "output_type": "display_data"
    },
    {
     "data": {
      "application/vnd.jupyter.widget-view+json": {
       "model_id": "7585a9810fa34659891707b0c65c8b13",
       "version_major": 2,
       "version_minor": 0
      },
      "text/plain": [
       "Generating embeddings:   0%|          | 0/1 [00:00<?, ?it/s]"
      ]
     },
     "metadata": {},
     "output_type": "display_data"
    },
    {
     "name": "stdout",
     "output_type": "stream",
     "text": [
      "270 Movement of military, paramilitary, or other troops and equipment\n",
      "['\" According to a report released by the Strategic Initiative for Women in the Horn of Africa (SIHA) Network, the number of sexual and gender-based violence (SGBV) cases, including rape, has increased in Sennar and Singa, the capital city of Sennar state since RSF captured the city. The report also estimates that more than 1,000 people, including 91 children, have disappeared since the RSF arrival.\"']\n"
     ]
    },
    {
     "data": {
      "application/vnd.jupyter.widget-view+json": {
       "model_id": "65112b9f14b14b09ad3bf1fe15b37ffb",
       "version_major": 2,
       "version_minor": 0
      },
      "text/plain": [
       "Parsing nodes:   0%|          | 0/1 [00:00<?, ?it/s]"
      ]
     },
     "metadata": {},
     "output_type": "display_data"
    },
    {
     "data": {
      "application/vnd.jupyter.widget-view+json": {
       "model_id": "767022a4f0a04d4f974af483aa586b5b",
       "version_major": 2,
       "version_minor": 0
      },
      "text/plain": [
       "Generating embeddings:   0%|          | 0/1 [00:00<?, ?it/s]"
      ]
     },
     "metadata": {},
     "output_type": "display_data"
    },
    {
     "name": "stdout",
     "output_type": "stream",
     "text": [
      "271 Forced disappearance\n",
      "['Housewives in the neighorhoods of El Fasher, who fled their homes, reported that their homes were looted by some members of the Joint Force of Armed Movements.']\n"
     ]
    },
    {
     "data": {
      "application/vnd.jupyter.widget-view+json": {
       "model_id": "2f12604e5a7642369149728ece829035",
       "version_major": 2,
       "version_minor": 0
      },
      "text/plain": [
       "Parsing nodes:   0%|          | 0/1 [00:00<?, ?it/s]"
      ]
     },
     "metadata": {},
     "output_type": "display_data"
    },
    {
     "data": {
      "application/vnd.jupyter.widget-view+json": {
       "model_id": "571a0b186d58446690662e3eba57cf4e",
       "version_major": 2,
       "version_minor": 0
      },
      "text/plain": [
       "Generating embeddings:   0%|          | 0/1 [00:00<?, ?it/s]"
      ]
     },
     "metadata": {},
     "output_type": "display_data"
    },
    {
     "name": "stdout",
     "output_type": "stream",
     "text": [
      "272 Looting, or theft\n",
      "['Some citizens of Zalingei, the capital of Central Darfur state, which is controlled by the Rapid Support Forces, reported widespread looting of homes.']\n"
     ]
    },
    {
     "data": {
      "application/vnd.jupyter.widget-view+json": {
       "model_id": "4a0196020421470b8842319c678ebe60",
       "version_major": 2,
       "version_minor": 0
      },
      "text/plain": [
       "Parsing nodes:   0%|          | 0/1 [00:00<?, ?it/s]"
      ]
     },
     "metadata": {},
     "output_type": "display_data"
    },
    {
     "data": {
      "application/vnd.jupyter.widget-view+json": {
       "model_id": "0bc27724c6844661b4f283d7c6f1b5ae",
       "version_major": 2,
       "version_minor": 0
      },
      "text/plain": [
       "Generating embeddings:   0%|          | 0/1 [00:00<?, ?it/s]"
      ]
     },
     "metadata": {},
     "output_type": "display_data"
    },
    {
     "name": "stdout",
     "output_type": "stream",
     "text": [
      "273 Looting\n",
      "['During the mass exodus that followed the capture of Sinjah, the capital of Sennar, by the RSF, 206 people were separated from their families, and a total of 524 were accounted as missing by the Missing Persons Inventory Committee.']\n"
     ]
    },
    {
     "data": {
      "application/vnd.jupyter.widget-view+json": {
       "model_id": "df502b75a7e048b1a9d29b5abbf692f3",
       "version_major": 2,
       "version_minor": 0
      },
      "text/plain": [
       "Parsing nodes:   0%|          | 0/1 [00:00<?, ?it/s]"
      ]
     },
     "metadata": {},
     "output_type": "display_data"
    },
    {
     "data": {
      "application/vnd.jupyter.widget-view+json": {
       "model_id": "4983f2c68cc9420a846ad40c80a2f136",
       "version_major": 2,
       "version_minor": 0
      },
      "text/plain": [
       "Generating embeddings:   0%|          | 0/1 [00:00<?, ?it/s]"
      ]
     },
     "metadata": {},
     "output_type": "display_data"
    },
    {
     "name": "stdout",
     "output_type": "stream",
     "text": [
      "274 Forced disappearance\n",
      "['On Monday, July 8, members of the SLM were arrested after the civil administration of the Abuja camp for displaced people in the city of El Fasher accused them of raping three girls, including a minor, in the camp.']\n"
     ]
    },
    {
     "data": {
      "application/vnd.jupyter.widget-view+json": {
       "model_id": "a356c5184ec142279140f51b6530da4b",
       "version_major": 2,
       "version_minor": 0
      },
      "text/plain": [
       "Parsing nodes:   0%|          | 0/1 [00:00<?, ?it/s]"
      ]
     },
     "metadata": {},
     "output_type": "display_data"
    },
    {
     "data": {
      "application/vnd.jupyter.widget-view+json": {
       "model_id": "2e07ecf07af44f28b8fc925e79675a14",
       "version_major": 2,
       "version_minor": 0
      },
      "text/plain": [
       "Generating embeddings:   0%|          | 0/1 [00:00<?, ?it/s]"
      ]
     },
     "metadata": {},
     "output_type": "display_data"
    },
    {
     "name": "stdout",
     "output_type": "stream",
     "text": [
      "275 Gender-based or other conflict-related sexual violence\n",
      "['On July 9th, Al-Dinder Emergency Room in Sennar state reported that the RSF destroyed the College of Veterinary Medicine affiliated with the University of Sennar, located east of the Dinder River Bridge, ‚Äúbut also engaged in widespread looting and pillaging across the villages of Abu Hashem, Um Dahir, Tukumbari, Bayda, and Al-Bardana.\" According to the same source, the\" RSF militia killed three civilians from the village of Bayda and two dignitaries from the village of Habuya in the western countryside of Dinder.‚Äù']\n"
     ]
    },
    {
     "data": {
      "application/vnd.jupyter.widget-view+json": {
       "model_id": "1a324a2c149d4539b2a7cbf9ed366a7f",
       "version_major": 2,
       "version_minor": 0
      },
      "text/plain": [
       "Parsing nodes:   0%|          | 0/1 [00:00<?, ?it/s]"
      ]
     },
     "metadata": {},
     "output_type": "display_data"
    },
    {
     "data": {
      "application/vnd.jupyter.widget-view+json": {
       "model_id": "2dcd83f826f244dcadc6fcbdf99e28d2",
       "version_major": 2,
       "version_minor": 0
      },
      "text/plain": [
       "Generating embeddings:   0%|          | 0/1 [00:00<?, ?it/s]"
      ]
     },
     "metadata": {},
     "output_type": "display_data"
    },
    {
     "name": "stdout",
     "output_type": "stream",
     "text": [
      "276 Damage or destruction of civilian critical infrastructure\n",
      "['On July 9th, Al-Dinder Emergency Room in Sennar state reported that the RSF destroyed the College of Veterinary Medicine affiliated with the University of Sennar, located east of the Dinder River Bridge, ‚Äúbut also engaged in widespread looting and pillaging across the villages of Abu Hashem, Um Dahir, Tukumbari, Bayda, and Al-Bardana.\" According to the same source, the\" RSF militia killed three civilians from the village of Bayda and two dignitaries from the village of Habuya in the western countryside of Dinder.‚Äù The attacks on civilians caused a forced displacement of populations towards villages and the neighboring state of Gedaref.']\n"
     ]
    },
    {
     "data": {
      "application/vnd.jupyter.widget-view+json": {
       "model_id": "1d6a791283474a168b4d636fc2b73e03",
       "version_major": 2,
       "version_minor": 0
      },
      "text/plain": [
       "Parsing nodes:   0%|          | 0/1 [00:00<?, ?it/s]"
      ]
     },
     "metadata": {},
     "output_type": "display_data"
    },
    {
     "data": {
      "application/vnd.jupyter.widget-view+json": {
       "model_id": "42cc15b395d64f3687b6bd9a843c22f4",
       "version_major": 2,
       "version_minor": 0
      },
      "text/plain": [
       "Generating embeddings:   0%|          | 0/1 [00:00<?, ?it/s]"
      ]
     },
     "metadata": {},
     "output_type": "display_data"
    },
    {
     "name": "stdout",
     "output_type": "stream",
     "text": [
      "277 Damage or destruction, looting, or theft of cultural heritage\n",
      "['On Thursday, July 11, the Rapid Support Forces (RSF) launched a massive attack involving \" thousands of men advancing simultaneously from multiple directions\" against the Sudanese army in villages around Sennar City in an attempt to seize the city which is still under the army\\'s control. Heavy fighting between the RSF and the SAF was reported at Maiuorno, a village located 15 kms south of Sennar City. The death toll is unknown.']\n"
     ]
    },
    {
     "data": {
      "application/vnd.jupyter.widget-view+json": {
       "model_id": "6172bf1f427441c0bcccf1a6bb129015",
       "version_major": 2,
       "version_minor": 0
      },
      "text/plain": [
       "Parsing nodes:   0%|          | 0/1 [00:00<?, ?it/s]"
      ]
     },
     "metadata": {},
     "output_type": "display_data"
    },
    {
     "data": {
      "application/vnd.jupyter.widget-view+json": {
       "model_id": "2ba521662f3a46bf945f2da00f67d2bf",
       "version_major": 2,
       "version_minor": 0
      },
      "text/plain": [
       "Generating embeddings:   0%|          | 0/1 [00:00<?, ?it/s]"
      ]
     },
     "metadata": {},
     "output_type": "display_data"
    },
    {
     "name": "stdout",
     "output_type": "stream",
     "text": [
      "278 Military operations (battle, shelling)\n",
      "['On Thursday, July 11th, two drones attempted to attack a gathering attended by Gedaref state officials and prominent community members and aiming at expressing support for the Sudanese Armed Forces. But both drones missed their targets as one crashed near a women‚Äôs and maternity hospital and the other in the Al Sadaqa neighbourhood, injuring two civilians. The Gedaref government accused and condemned the RSF for these attacks.']\n"
     ]
    },
    {
     "data": {
      "application/vnd.jupyter.widget-view+json": {
       "model_id": "c2be9277c40c4404a1684c029f5b005c",
       "version_major": 2,
       "version_minor": 0
      },
      "text/plain": [
       "Parsing nodes:   0%|          | 0/1 [00:00<?, ?it/s]"
      ]
     },
     "metadata": {},
     "output_type": "display_data"
    },
    {
     "data": {
      "application/vnd.jupyter.widget-view+json": {
       "model_id": "0cd76c7b718a466893bb6ccbe232bd1e",
       "version_major": 2,
       "version_minor": 0
      },
      "text/plain": [
       "Generating embeddings:   0%|          | 0/1 [00:00<?, ?it/s]"
      ]
     },
     "metadata": {},
     "output_type": "display_data"
    },
    {
     "name": "stdout",
     "output_type": "stream",
     "text": [
      "279 Indiscriminate use of weapons\n",
      "['On July 13, the Sudan War Monitor reported that Sudanese security forces have been arresting, detaining, and deporting South Sudanese refugees through Jabelein, a border town near South Sudan state of Upper Nile. Like other foreigners, these South Sudanese nationals are accused of helping the RSF. Since July 2, Sudanese nationals have been arrested and deported in the following states: White Nile, Kassala, Atbara, Halfa, Damer, and Gedaref.']\n"
     ]
    },
    {
     "data": {
      "application/vnd.jupyter.widget-view+json": {
       "model_id": "660b7fc6abb34c6b858a075515e3aed5",
       "version_major": 2,
       "version_minor": 0
      },
      "text/plain": [
       "Parsing nodes:   0%|          | 0/1 [00:00<?, ?it/s]"
      ]
     },
     "metadata": {},
     "output_type": "display_data"
    },
    {
     "data": {
      "application/vnd.jupyter.widget-view+json": {
       "model_id": "e69333cc224a47c582779ee6d40744bc",
       "version_major": 2,
       "version_minor": 0
      },
      "text/plain": [
       "Generating embeddings:   0%|          | 0/1 [00:00<?, ?it/s]"
      ]
     },
     "metadata": {},
     "output_type": "display_data"
    },
    {
     "name": "stdout",
     "output_type": "stream",
     "text": [
      "280 Unlawful detention\n",
      "['On Saturday, July 13th, the Sudanese army declared it conducted \"a number of qualitative operations in the capital, Khartoum, which resulted in the killing of more than 100 people, the wounding of dozens, and the destruction of a number of combat vehicles of the Rapid Support Forces.\"']\n"
     ]
    },
    {
     "data": {
      "application/vnd.jupyter.widget-view+json": {
       "model_id": "2240f92384c14bb4ab763686944f4cf2",
       "version_major": 2,
       "version_minor": 0
      },
      "text/plain": [
       "Parsing nodes:   0%|          | 0/1 [00:00<?, ?it/s]"
      ]
     },
     "metadata": {},
     "output_type": "display_data"
    },
    {
     "data": {
      "application/vnd.jupyter.widget-view+json": {
       "model_id": "a46192aaf221484f81a5b6a64eec1fe4",
       "version_major": 2,
       "version_minor": 0
      },
      "text/plain": [
       "Generating embeddings:   0%|          | 0/1 [00:00<?, ?it/s]"
      ]
     },
     "metadata": {},
     "output_type": "display_data"
    },
    {
     "name": "stdout",
     "output_type": "stream",
     "text": [
      "281 Military operations (battle, shelling)\n",
      "['\" On July 14, the Sudan Doctors Network reported that the RSF opened fire on unarmed civilians who were heading to the market, killing 23 people and injuring others in the village of¬†Fangouga about 70 kilometres southeast of El Obeid, the capital city of North Kordofan. \"']\n"
     ]
    },
    {
     "data": {
      "application/vnd.jupyter.widget-view+json": {
       "model_id": "6dc22e7433b64def8807f9cc27f357d7",
       "version_major": 2,
       "version_minor": 0
      },
      "text/plain": [
       "Parsing nodes:   0%|          | 0/1 [00:00<?, ?it/s]"
      ]
     },
     "metadata": {},
     "output_type": "display_data"
    },
    {
     "data": {
      "application/vnd.jupyter.widget-view+json": {
       "model_id": "7125fb781ca34cce9100a5417dfd0001",
       "version_major": 2,
       "version_minor": 0
      },
      "text/plain": [
       "Generating embeddings:   0%|          | 0/1 [00:00<?, ?it/s]"
      ]
     },
     "metadata": {},
     "output_type": "display_data"
    },
    {
     "name": "stdout",
     "output_type": "stream",
     "text": [
      "282 Willful killing of civilians\n",
      "['\" On Sunday, July 14th in the morning, the SAF launched a series of airstrikes, targeting several locations in Nyala, South Darfur, and El Geneina, West Darfur. The attacks caused civilian casualties and damaged civilian infrastructure.One girl was killed and about 10 people were wounded as a result of the air strikes in El Geneina according to journalist Alaa El-Din Babiker. In Nyala, eyewitnesses reported that the Nyala Hospital for Women and Childbirth and a gas storage facility were damaged, and some residential areas were also affected. Radio Dabanga also reported: ¬´¬†In Nyala, the airstrikes targeted Nyala Customs, the gas storage facilities of Aman Gas Company, the customs headquarters, and the maternity hospital.¬†¬ªIn El Geneina, West Darfur, the warplanes targeted In El Geneina, El Naseem (aka Al-Nasim) neighbourhood, killing and injuring civilians and livestock. While the SAF claims that these airstrikes aimed at destroying military supplies delivered to the RSF by Emirati aircraft, the RSF maintains that the aim of these strikes was to displace civilian populations. \"']\n"
     ]
    },
    {
     "data": {
      "application/vnd.jupyter.widget-view+json": {
       "model_id": "98521103a565436ea3e646b42bfe2ac0",
       "version_major": 2,
       "version_minor": 0
      },
      "text/plain": [
       "Parsing nodes:   0%|          | 0/1 [00:00<?, ?it/s]"
      ]
     },
     "metadata": {},
     "output_type": "display_data"
    },
    {
     "data": {
      "application/vnd.jupyter.widget-view+json": {
       "model_id": "ea11b18bc5a94c20b18c6afee3cad5b9",
       "version_major": 2,
       "version_minor": 0
      },
      "text/plain": [
       "Generating embeddings:   0%|          | 0/1 [00:00<?, ?it/s]"
      ]
     },
     "metadata": {},
     "output_type": "display_data"
    },
    {
     "name": "stdout",
     "output_type": "stream",
     "text": [
      "283 Indiscriminate use of weapons\n",
      "['On Sunday, July 14th, the SAF also launched airstrikes on Al-Fula, the capital city of West Kordofan. Witnesses reported that the air force dropped 4 barrels on Al-Fula. Two barrels fell west of the army base, another barrel west of Janayen Al-Salam killing one person, and a fourth barrel fell next to the university city. The RSF reportedly closed all internet service centers in Al-Fula city after the airstrikes.']\n"
     ]
    },
    {
     "data": {
      "application/vnd.jupyter.widget-view+json": {
       "model_id": "8ce493f9badc4e799d3912ef5dd0130d",
       "version_major": 2,
       "version_minor": 0
      },
      "text/plain": [
       "Parsing nodes:   0%|          | 0/1 [00:00<?, ?it/s]"
      ]
     },
     "metadata": {},
     "output_type": "display_data"
    },
    {
     "data": {
      "application/vnd.jupyter.widget-view+json": {
       "model_id": "6b2c03e90e4a40789875205e76a859e8",
       "version_major": 2,
       "version_minor": 0
      },
      "text/plain": [
       "Generating embeddings:   0%|          | 0/1 [00:00<?, ?it/s]"
      ]
     },
     "metadata": {},
     "output_type": "display_data"
    },
    {
     "name": "stdout",
     "output_type": "stream",
     "text": [
      "284 Military operations (battle, shelling)\n",
      "['On July 16, the SAF and allied armed groups intensified military operations around the Jabal Moya area in northern Sennar state in view of regaining control of this strategic area.']\n"
     ]
    },
    {
     "data": {
      "application/vnd.jupyter.widget-view+json": {
       "model_id": "4eaf494a3e064d03a7fbda4ea9b4f093",
       "version_major": 2,
       "version_minor": 0
      },
      "text/plain": [
       "Parsing nodes:   0%|          | 0/1 [00:00<?, ?it/s]"
      ]
     },
     "metadata": {},
     "output_type": "display_data"
    },
    {
     "data": {
      "application/vnd.jupyter.widget-view+json": {
       "model_id": "aaa0c22b93b944aea6cc8eb590bc7d27",
       "version_major": 2,
       "version_minor": 0
      },
      "text/plain": [
       "Generating embeddings:   0%|          | 0/1 [00:00<?, ?it/s]"
      ]
     },
     "metadata": {},
     "output_type": "display_data"
    },
    {
     "name": "stdout",
     "output_type": "stream",
     "text": [
      "285 Military operations (battle, shelling)\n",
      "['Update about military operations and territory control: By June 15, that is 16 months after the start of the war, a war that is mainly fought in the densely populated states of the Southern Sudan, Radio Dabanga published a map suggesting who controls which portions of the Sudanese territory. While the SAF and its allies of the Joint Force control are estimated to control large portions of the Northern, River Nile, Read Sea, Kassala, Gedaref, Blue Nile, White Nile, North and South Kordofan, and most of North Darfur, it is estimated that the following states are under RSF control: Central, South and East Darfur, and portions of North Darfur, West Kordofan, North Kordofan, and most of Khartoum.']\n"
     ]
    },
    {
     "data": {
      "application/vnd.jupyter.widget-view+json": {
       "model_id": "797ab6628ccf487fb27ee1db63e66022",
       "version_major": 2,
       "version_minor": 0
      },
      "text/plain": [
       "Parsing nodes:   0%|          | 0/1 [00:00<?, ?it/s]"
      ]
     },
     "metadata": {},
     "output_type": "display_data"
    },
    {
     "data": {
      "application/vnd.jupyter.widget-view+json": {
       "model_id": "469bbe0a3c674cc285ccced0fb5071c1",
       "version_major": 2,
       "version_minor": 0
      },
      "text/plain": [
       "Generating embeddings:   0%|          | 0/1 [00:00<?, ?it/s]"
      ]
     },
     "metadata": {},
     "output_type": "display_data"
    },
    {
     "name": "stdout",
     "output_type": "stream",
     "text": [
      "286 Military operations (battle, shelling)\n",
      "['On July 17, the International Federation of the Red Cross and Crescent confirmed the deaths of two Sudanese Red Crescent Society (SRCS) volunteers, Babiker Fadl Al-Mawli on 5 July 2024, and Aldow Jaber Ali on 12 July 2024, both tragically killed in the line of duty in Sennar State. Since the start of the war, the organization has lost 6 volunteers in Sudan.']\n"
     ]
    },
    {
     "data": {
      "application/vnd.jupyter.widget-view+json": {
       "model_id": "fe027b3a1bfb4c008442c7cb3337fede",
       "version_major": 2,
       "version_minor": 0
      },
      "text/plain": [
       "Parsing nodes:   0%|          | 0/1 [00:00<?, ?it/s]"
      ]
     },
     "metadata": {},
     "output_type": "display_data"
    },
    {
     "data": {
      "application/vnd.jupyter.widget-view+json": {
       "model_id": "1c42065f95fb460993e9fe04da900765",
       "version_major": 2,
       "version_minor": 0
      },
      "text/plain": [
       "Generating embeddings:   0%|          | 0/1 [00:00<?, ?it/s]"
      ]
     },
     "metadata": {},
     "output_type": "display_data"
    },
    {
     "name": "stdout",
     "output_type": "stream",
     "text": [
      "287 Willful killing of civilians\n",
      "['On June 17, thousands of Sudanese refugees who fled to the Kumer region of northeastern Ethiopia were affected by an attack perpetrated by an armed group against the Ethiopian Federal Police forces who have been detaining Sudanese refugees in the Awlala forest. The attack left 9 police officers dead and a child and other refugees injured. The refugees requested UNHCR to relocate them to safer locations.']\n"
     ]
    },
    {
     "data": {
      "application/vnd.jupyter.widget-view+json": {
       "model_id": "dc94cb5386324cfdabb818e0da4983b9",
       "version_major": 2,
       "version_minor": 0
      },
      "text/plain": [
       "Parsing nodes:   0%|          | 0/1 [00:00<?, ?it/s]"
      ]
     },
     "metadata": {},
     "output_type": "display_data"
    },
    {
     "data": {
      "application/vnd.jupyter.widget-view+json": {
       "model_id": "4cf891a14c994c24a62a2dbe3b18019d",
       "version_major": 2,
       "version_minor": 0
      },
      "text/plain": [
       "Generating embeddings:   0%|          | 0/1 [00:00<?, ?it/s]"
      ]
     },
     "metadata": {},
     "output_type": "display_data"
    },
    {
     "name": "stdout",
     "output_type": "stream",
     "text": [
      "288 Military operations (battle, shelling)\n",
      "['On Thursday, July 18, after a looting of livestock by militants from Arab tribes, violent clashes broke out¬† between members of the Zaghawa and Arab tribes in the Abu Qamra area in Karnoy locality, west of El Fasher. Dozens of people were reportedly killed and wounded on both sides.']\n"
     ]
    },
    {
     "data": {
      "application/vnd.jupyter.widget-view+json": {
       "model_id": "b79a4dfa7a754956b95b4cb57b932acd",
       "version_major": 2,
       "version_minor": 0
      },
      "text/plain": [
       "Parsing nodes:   0%|          | 0/1 [00:00<?, ?it/s]"
      ]
     },
     "metadata": {},
     "output_type": "display_data"
    },
    {
     "data": {
      "application/vnd.jupyter.widget-view+json": {
       "model_id": "e984f1a825e84655a641227b946e5c4b",
       "version_major": 2,
       "version_minor": 0
      },
      "text/plain": [
       "Generating embeddings:   0%|          | 0/1 [00:00<?, ?it/s]"
      ]
     },
     "metadata": {},
     "output_type": "display_data"
    },
    {
     "name": "stdout",
     "output_type": "stream",
     "text": [
      "289 Military operations (battle, shelling)\n",
      "['Brigadier General Abdel Rahman Al-Bishi, the operational leader of the RSF in Sennar and Blue Nile was reported dead by the RSF leadership on Saturday, July 20th. He was very likely killed in a Sudanese Army‚Äôs airstrike in Sennar.']\n"
     ]
    },
    {
     "data": {
      "application/vnd.jupyter.widget-view+json": {
       "model_id": "342077605109409b9a2a44673780f78a",
       "version_major": 2,
       "version_minor": 0
      },
      "text/plain": [
       "Parsing nodes:   0%|          | 0/1 [00:00<?, ?it/s]"
      ]
     },
     "metadata": {},
     "output_type": "display_data"
    },
    {
     "data": {
      "application/vnd.jupyter.widget-view+json": {
       "model_id": "e71fa6fc09554a2899424b2feac2fea3",
       "version_major": 2,
       "version_minor": 0
      },
      "text/plain": [
       "Generating embeddings:   0%|          | 0/1 [00:00<?, ?it/s]"
      ]
     },
     "metadata": {},
     "output_type": "display_data"
    },
    {
     "name": "stdout",
     "output_type": "stream",
     "text": [
      "290 Military operations (battle, shelling)\n",
      "['On Saturday, July 20, videos were circulated on the social media sites showing the communications tower in fire. This tower, which is considered the tallest building in Sudan, is located in Blue Nile in El Manshiya neighbourhood in north-eastern Khartoum, an area controlled by the RSF. After analyzing the videos, the Dabanga Verification Team concluded that \"The outcome of the research indicates that fire broke out above the middle floors of the communications tower but did not spread to the rest of the building\".']\n"
     ]
    },
    {
     "data": {
      "application/vnd.jupyter.widget-view+json": {
       "model_id": "a89d3f8125a442e496038844343e6481",
       "version_major": 2,
       "version_minor": 0
      },
      "text/plain": [
       "Parsing nodes:   0%|          | 0/1 [00:00<?, ?it/s]"
      ]
     },
     "metadata": {},
     "output_type": "display_data"
    },
    {
     "data": {
      "application/vnd.jupyter.widget-view+json": {
       "model_id": "e663ba5fbffc4a21ada650b0dc4ad6b3",
       "version_major": 2,
       "version_minor": 0
      },
      "text/plain": [
       "Generating embeddings:   0%|          | 0/1 [00:00<?, ?it/s]"
      ]
     },
     "metadata": {},
     "output_type": "display_data"
    },
    {
     "name": "stdout",
     "output_type": "stream",
     "text": [
      "291 Damage or destruction of civilian critical infrastructure\n",
      "['After avoiding damaging oil infrastructure in early states of the. conflict, according to a newly published report, the \"SAF and RSF began attacking each other‚Äôs points of access to fuel to undermine the revenues and logistical advantage they could draw.\" The report provides of map highlighting conflict-linked damages and spills at oil infrastructure.']\n"
     ]
    },
    {
     "data": {
      "application/vnd.jupyter.widget-view+json": {
       "model_id": "65f74acd33d04e5788aa35fe4232d893",
       "version_major": 2,
       "version_minor": 0
      },
      "text/plain": [
       "Parsing nodes:   0%|          | 0/1 [00:00<?, ?it/s]"
      ]
     },
     "metadata": {},
     "output_type": "display_data"
    },
    {
     "data": {
      "application/vnd.jupyter.widget-view+json": {
       "model_id": "eb5ec6dbc347441aaeeec711bb315980",
       "version_major": 2,
       "version_minor": 0
      },
      "text/plain": [
       "Generating embeddings:   0%|          | 0/1 [00:00<?, ?it/s]"
      ]
     },
     "metadata": {},
     "output_type": "display_data"
    },
    {
     "name": "stdout",
     "output_type": "stream",
     "text": [
      "292 Damage or destruction of civilian critical infrastructure\n",
      "['\" ¬†On July 22, the Strategic Initiative for Women in the Horn of Africa (SIHA Network) released a new report on Conflict-Related Sexual Violence (CRSV) titled ‚ÄúAl Jazirah State and the Forgotten Atrocities¬†¬ª. The report provides details about the underreported violence against women perpetrated by the RSF fighters in Al Jazirah since they took control of most of the state in December 2023. The RSF were found responsible for 75 incidents of rape and sexual violence, including 14 cases of unwanted pregnancies. \"']\n"
     ]
    },
    {
     "data": {
      "application/vnd.jupyter.widget-view+json": {
       "model_id": "c6b53a9a3e2940478aa6971e34b6974b",
       "version_major": 2,
       "version_minor": 0
      },
      "text/plain": [
       "Parsing nodes:   0%|          | 0/1 [00:00<?, ?it/s]"
      ]
     },
     "metadata": {},
     "output_type": "display_data"
    },
    {
     "data": {
      "application/vnd.jupyter.widget-view+json": {
       "model_id": "1b346afb87f04d6993147cbc96d26c19",
       "version_major": 2,
       "version_minor": 0
      },
      "text/plain": [
       "Generating embeddings:   0%|          | 0/1 [00:00<?, ?it/s]"
      ]
     },
     "metadata": {},
     "output_type": "display_data"
    },
    {
     "name": "stdout",
     "output_type": "stream",
     "text": [
      "293 Gender-based or other conflict-related sexual violence\n",
      "['\" On Monday, July 22, gunmen wearing RSF uniforms entered in a mosque in¬†El¬†Deyoum¬†El¬†Sharqiya in Khartoum, and killed the muezzin and¬†a worshiper¬†after reportedly trying to steal a solar power transformer. \"']\n"
     ]
    },
    {
     "data": {
      "application/vnd.jupyter.widget-view+json": {
       "model_id": "ba1783e1416246348e09b33c6450c7fd",
       "version_major": 2,
       "version_minor": 0
      },
      "text/plain": [
       "Parsing nodes:   0%|          | 0/1 [00:00<?, ?it/s]"
      ]
     },
     "metadata": {},
     "output_type": "display_data"
    },
    {
     "data": {
      "application/vnd.jupyter.widget-view+json": {
       "model_id": "41d11df3b892497887eab5a8432dbda3",
       "version_major": 2,
       "version_minor": 0
      },
      "text/plain": [
       "Generating embeddings:   0%|          | 0/1 [00:00<?, ?it/s]"
      ]
     },
     "metadata": {},
     "output_type": "display_data"
    },
    {
     "name": "stdout",
     "output_type": "stream",
     "text": [
      "294 Extrajudicial killing\n",
      "['\" On July 23, the Sudanese NGO Justice Africa Sudan (JAS) reported that members of the Sudanese Baggara (cattle-breeders) tribe attacked the¬†village of Abulhasan¬†in Abu Kershola¬†in northeast¬†South Kordofan¬†on Friday, July 19, killing at least 14 villagers and wounding 6 others. They then plundered the village, including residents‚Äô property and last food reserves.\"']\n"
     ]
    },
    {
     "data": {
      "application/vnd.jupyter.widget-view+json": {
       "model_id": "42e67870eb4b4f97b268160f13601e46",
       "version_major": 2,
       "version_minor": 0
      },
      "text/plain": [
       "Parsing nodes:   0%|          | 0/1 [00:00<?, ?it/s]"
      ]
     },
     "metadata": {},
     "output_type": "display_data"
    },
    {
     "data": {
      "application/vnd.jupyter.widget-view+json": {
       "model_id": "5ec991c789034dc9ad675bcf5bebce4f",
       "version_major": 2,
       "version_minor": 0
      },
      "text/plain": [
       "Generating embeddings:   0%|          | 0/1 [00:00<?, ?it/s]"
      ]
     },
     "metadata": {},
     "output_type": "display_data"
    },
    {
     "name": "stdout",
     "output_type": "stream",
     "text": [
      "295 Willful killing of civilians\n",
      "['On July 25, Sudan‚Äôs air force bombed Al-Alaqa market in northern White Nile, causing widespread destruction. A video of the destruction was shared online by Sudan War Monitor.']\n"
     ]
    },
    {
     "data": {
      "application/vnd.jupyter.widget-view+json": {
       "model_id": "52473cdbca2944d09e1f627a9f3ec867",
       "version_major": 2,
       "version_minor": 0
      },
      "text/plain": [
       "Parsing nodes:   0%|          | 0/1 [00:00<?, ?it/s]"
      ]
     },
     "metadata": {},
     "output_type": "display_data"
    },
    {
     "data": {
      "application/vnd.jupyter.widget-view+json": {
       "model_id": "28ade258b2274e69a6e33dc59c97355b",
       "version_major": 2,
       "version_minor": 0
      },
      "text/plain": [
       "Generating embeddings:   0%|          | 0/1 [00:00<?, ?it/s]"
      ]
     },
     "metadata": {},
     "output_type": "display_data"
    },
    {
     "name": "stdout",
     "output_type": "stream",
     "text": [
      "296 Military operations (battle, shelling)\n",
      "['According to a UN Security Council report on the situation of children in the Sudan Conflict from January 1, 2022 to December 31, 2023, there were at least 1,721 grave violations against children in 2023, a significant rise from the 306 cases recorded in 2022. These violations¬†included over 480 children killed, 764 maimed, over 200 recruited into the conflict, and at least 114 girls raped or sujected to other forms of sexual violence.']\n"
     ]
    },
    {
     "data": {
      "application/vnd.jupyter.widget-view+json": {
       "model_id": "8dbf89e7f1cc47eeabe95a1daf072663",
       "version_major": 2,
       "version_minor": 0
      },
      "text/plain": [
       "Parsing nodes:   0%|          | 0/1 [00:00<?, ?it/s]"
      ]
     },
     "metadata": {},
     "output_type": "display_data"
    },
    {
     "data": {
      "application/vnd.jupyter.widget-view+json": {
       "model_id": "94308df13fb54de199fc51af15d50deb",
       "version_major": 2,
       "version_minor": 0
      },
      "text/plain": [
       "Generating embeddings:   0%|          | 0/1 [00:00<?, ?it/s]"
      ]
     },
     "metadata": {},
     "output_type": "display_data"
    },
    {
     "name": "stdout",
     "output_type": "stream",
     "text": [
      "297 Gender-based or other conflict-related sexual violence\n",
      "['\"¬†On Friday, July 26, there were explosions in Gandahar Market in Ombada. The explosions caused the burning of several vehicles and market goods, and several victims. A video of the destruction was shared by Sudan War Monitor. According to Sudan War Monitor, Gandahar Market is located in a populous RSF-controlled suburb of Sudan‚Äôs largest city, Omdurman, not far from the frontline, and it was attacked in May by a suspected SAF drone. \"']\n"
     ]
    },
    {
     "data": {
      "application/vnd.jupyter.widget-view+json": {
       "model_id": "041d19c6ce394ed5b05ba00e2983316e",
       "version_major": 2,
       "version_minor": 0
      },
      "text/plain": [
       "Parsing nodes:   0%|          | 0/1 [00:00<?, ?it/s]"
      ]
     },
     "metadata": {},
     "output_type": "display_data"
    },
    {
     "data": {
      "application/vnd.jupyter.widget-view+json": {
       "model_id": "8a70c45788e3411e9dd740529d8caf1e",
       "version_major": 2,
       "version_minor": 0
      },
      "text/plain": [
       "Generating embeddings:   0%|          | 0/1 [00:00<?, ?it/s]"
      ]
     },
     "metadata": {},
     "output_type": "display_data"
    },
    {
     "name": "stdout",
     "output_type": "stream",
     "text": [
      "298 Damage or destruction of civilian critical infrastructure\n",
      "['\"Based on a testimony of a community leader, Radio Dabanga reported that unidentified gunmen, on Friday, July 26, attacked and raped at gunpoint three sisteers aged between 18 and 23 after raiding Khor Bared farms, nine kilometres west of Nierteti in Central Darfur. According to the community leader, ¬´¬†The women were bound, beaten, raped at gunpoint, and left in a wadi with various head and leg injuries.¬†¬ª The gunmen also attacked two young farmers who were planting crops. \"']\n"
     ]
    },
    {
     "data": {
      "application/vnd.jupyter.widget-view+json": {
       "model_id": "a8a736c8e87d415eb1b5e8a7a3a289f0",
       "version_major": 2,
       "version_minor": 0
      },
      "text/plain": [
       "Parsing nodes:   0%|          | 0/1 [00:00<?, ?it/s]"
      ]
     },
     "metadata": {},
     "output_type": "display_data"
    },
    {
     "data": {
      "application/vnd.jupyter.widget-view+json": {
       "model_id": "923d2aadda1c455c970a50e4d2e2ff1b",
       "version_major": 2,
       "version_minor": 0
      },
      "text/plain": [
       "Generating embeddings:   0%|          | 0/1 [00:00<?, ?it/s]"
      ]
     },
     "metadata": {},
     "output_type": "display_data"
    },
    {
     "name": "stdout",
     "output_type": "stream",
     "text": [
      "299 Gender-based or other conflict-related sexual violence\n",
      "['On Friday, July 26, the Rapid Support Forces (RSF) captured six villages southeast of Sennar city while looting residents and forcing them to flee.The captured villages include the Al-Suki area, Al-Trirat Al-Kufa, Ibrahim Janqoh, Ku‚Äô Al-Nahl, Trira Madani, Al-Khalij, and Qaladima.']\n"
     ]
    },
    {
     "data": {
      "application/vnd.jupyter.widget-view+json": {
       "model_id": "3e660ca0fdc0434592a6d344a3fb6441",
       "version_major": 2,
       "version_minor": 0
      },
      "text/plain": [
       "Parsing nodes:   0%|          | 0/1 [00:00<?, ?it/s]"
      ]
     },
     "metadata": {},
     "output_type": "display_data"
    },
    {
     "data": {
      "application/vnd.jupyter.widget-view+json": {
       "model_id": "e908ddb1067f4af1ae0794dc479a8be7",
       "version_major": 2,
       "version_minor": 0
      },
      "text/plain": [
       "Generating embeddings:   0%|          | 0/1 [00:00<?, ?it/s]"
      ]
     },
     "metadata": {},
     "output_type": "display_data"
    },
    {
     "name": "stdout",
     "output_type": "stream",
     "text": [
      "300 Military operations (battle, shelling)\n",
      "['According to the reigonal government, on Saturday, on July 27, at least 25 people were killed and dozens wounded in an artillery and drone attack by the Rapid Support Forces (RSF) on El Fasher, North Darfur. But according to local resistance committees, the death toll from the RSF shelling in El Fasher has risen to 97, including both fatalities and injuries. The areas impacted by the shelling include Al-Radief, Al-Thawra, Daraj Al-Oula, as well as commercial districts like the main market and livestock and vegetable markets south of El Fasher. A private hospital, ‚ÄúNabd Al-Hayat,‚Äù was also damaged by an RSF drone.']\n"
     ]
    },
    {
     "data": {
      "application/vnd.jupyter.widget-view+json": {
       "model_id": "eabad88cdcb7457b90486d5b9708e1be",
       "version_major": 2,
       "version_minor": 0
      },
      "text/plain": [
       "Parsing nodes:   0%|          | 0/1 [00:00<?, ?it/s]"
      ]
     },
     "metadata": {},
     "output_type": "display_data"
    },
    {
     "data": {
      "application/vnd.jupyter.widget-view+json": {
       "model_id": "8c759209793742c18e2ef1496250c3d3",
       "version_major": 2,
       "version_minor": 0
      },
      "text/plain": [
       "Generating embeddings:   0%|          | 0/1 [00:00<?, ?it/s]"
      ]
     },
     "metadata": {},
     "output_type": "display_data"
    },
    {
     "name": "stdout",
     "output_type": "stream",
     "text": [
      "301 Military operations (shelling)\n",
      "['\" On July 28, Human Rights Watch released a report titled ¬´‚ÄúKhartoum is not Safe for Women!‚ÄùSexual Violence against Women and Girls in Sudan‚Äôs Capital¬†¬ª. The report documents ¬´¬†widespread conflict-related sexual violence in Khartoum and its sister cities of Bahri and Omdurman since the conflict‚Äôs onset as witnessed by service providers to survivors of that sexual violence¬†¬ª. According to the report, ¬´¬†warring parties have subjected women and girls, from ages 9 through to at least 60, to widespread sexual violence, including rape and gang rape. Women and girls have also been subjected to forced marriage and child marriage. Men and boys have also been victims of sexual violence. It describes the impacts of sexual violence on survivors including health impacts.¬†¬ª \"']\n"
     ]
    },
    {
     "data": {
      "application/vnd.jupyter.widget-view+json": {
       "model_id": "35c70afd8f794c21881bf96e948a937f",
       "version_major": 2,
       "version_minor": 0
      },
      "text/plain": [
       "Parsing nodes:   0%|          | 0/1 [00:00<?, ?it/s]"
      ]
     },
     "metadata": {},
     "output_type": "display_data"
    },
    {
     "data": {
      "application/vnd.jupyter.widget-view+json": {
       "model_id": "5a80421068b94d348277f3d98d5fa623",
       "version_major": 2,
       "version_minor": 0
      },
      "text/plain": [
       "Generating embeddings:   0%|          | 0/1 [00:00<?, ?it/s]"
      ]
     },
     "metadata": {},
     "output_type": "display_data"
    },
    {
     "name": "stdout",
     "output_type": "stream",
     "text": [
      "302 Gender-based or other conflict-related sexual violence\n",
      "['\" In the night of Monday, July 29, a suspected RSF drone targeted an army base in Rabak, White Nile state. Another drone reportedly attacked a special operations camp in Rabak, but was quickly neutralized. \"']\n"
     ]
    },
    {
     "data": {
      "application/vnd.jupyter.widget-view+json": {
       "model_id": "caadf7782f3948d59beac3ba28dce5d1",
       "version_major": 2,
       "version_minor": 0
      },
      "text/plain": [
       "Parsing nodes:   0%|          | 0/1 [00:00<?, ?it/s]"
      ]
     },
     "metadata": {},
     "output_type": "display_data"
    },
    {
     "data": {
      "application/vnd.jupyter.widget-view+json": {
       "model_id": "ed8220b6aff94411b87de81b53fa0777",
       "version_major": 2,
       "version_minor": 0
      },
      "text/plain": [
       "Generating embeddings:   0%|          | 0/1 [00:00<?, ?it/s]"
      ]
     },
     "metadata": {},
     "output_type": "display_data"
    },
    {
     "name": "stdout",
     "output_type": "stream",
     "text": [
      "303 Military operations (battle, shelling)\n",
      "['\"In the night of Monday, July 29, two suspected RSF drones struck key government buildings in Al Damar, the capital city of River Nile state. The buidlings impacted include the Ministry of Local Government building, the intelligence service and police headquarters. \"']\n"
     ]
    },
    {
     "data": {
      "application/vnd.jupyter.widget-view+json": {
       "model_id": "f8b77b66051b4bc285d812dac6783ca6",
       "version_major": 2,
       "version_minor": 0
      },
      "text/plain": [
       "Parsing nodes:   0%|          | 0/1 [00:00<?, ?it/s]"
      ]
     },
     "metadata": {},
     "output_type": "display_data"
    },
    {
     "data": {
      "application/vnd.jupyter.widget-view+json": {
       "model_id": "873e664f53f445b28b1bf4c365796c46",
       "version_major": 2,
       "version_minor": 0
      },
      "text/plain": [
       "Generating embeddings:   0%|          | 0/1 [00:00<?, ?it/s]"
      ]
     },
     "metadata": {},
     "output_type": "display_data"
    },
    {
     "name": "stdout",
     "output_type": "stream",
     "text": [
      "304 Damage or destruction of civilian critical infrastructure\n",
      "['On Monday, July 29, the Director General of the Ministry of Health in North Darfur State, Ibrahim Khater, accused the Rapid Support Forces (RSF) of bombing the Saudi Hospital in El Fasher with more than 15 shells, destroying parts of the rooms and a number of bechicles belonging to the state Ministry of Health. According to a statement issued by the Ministry of Health, Ibrahim Khater revealed the killing of 23 citizens during the bombing that was carried out today in El Fasher.']\n"
     ]
    },
    {
     "data": {
      "application/vnd.jupyter.widget-view+json": {
       "model_id": "65466facb30846ab9844d22a62e5d102",
       "version_major": 2,
       "version_minor": 0
      },
      "text/plain": [
       "Parsing nodes:   0%|          | 0/1 [00:00<?, ?it/s]"
      ]
     },
     "metadata": {},
     "output_type": "display_data"
    },
    {
     "data": {
      "application/vnd.jupyter.widget-view+json": {
       "model_id": "bfc62910633c4e20932aa2ae4fd892d8",
       "version_major": 2,
       "version_minor": 0
      },
      "text/plain": [
       "Generating embeddings:   0%|          | 0/1 [00:00<?, ?it/s]"
      ]
     },
     "metadata": {},
     "output_type": "display_data"
    },
    {
     "name": "stdout",
     "output_type": "stream",
     "text": [
      "305 Military operations (battle, shelling)\n",
      "['\"On Wednesday, July 31, there was an intense fighting in El Fasher, capital of North Darfur, opposing the SAF and allied armed movements to the RSF. The violent clashes involved drones, artillery, and airstrikes and resulted, according to local authorities, in over 60 dead and about 100 injured. \"']\n"
     ]
    },
    {
     "data": {
      "application/vnd.jupyter.widget-view+json": {
       "model_id": "4ef31abf595d4bda8a440efd6098ebfb",
       "version_major": 2,
       "version_minor": 0
      },
      "text/plain": [
       "Parsing nodes:   0%|          | 0/1 [00:00<?, ?it/s]"
      ]
     },
     "metadata": {},
     "output_type": "display_data"
    },
    {
     "data": {
      "application/vnd.jupyter.widget-view+json": {
       "model_id": "d5896526b90c460eadcae684e136c157",
       "version_major": 2,
       "version_minor": 0
      },
      "text/plain": [
       "Generating embeddings:   0%|          | 0/1 [00:00<?, ?it/s]"
      ]
     },
     "metadata": {},
     "output_type": "display_data"
    },
    {
     "name": "stdout",
     "output_type": "stream",
     "text": [
      "306 Military operations (battle, shelling)\n",
      "['\"In the morning of July 31, Sudan\\'s military ruler, Lt General Abdel Fattah al-Burhan, reportedly escaped an an assassination attempt as he was attending a military parade and graduation ceremony for cadets from the Air and Naval colleges in Gebeit, Red Sea State. The meeting was reportedly disrupted by strikes by two suicide drones, killing 5 people and injuring others, according to a press statement released by the SAF. The alleged assassination attempt occured one day after the Sudan government signaled its openness to participate in ceasefire talks in Switzerland. \"']\n"
     ]
    },
    {
     "data": {
      "application/vnd.jupyter.widget-view+json": {
       "model_id": "5225295fca314e12a1e844ce6d5f475e",
       "version_major": 2,
       "version_minor": 0
      },
      "text/plain": [
       "Parsing nodes:   0%|          | 0/1 [00:00<?, ?it/s]"
      ]
     },
     "metadata": {},
     "output_type": "display_data"
    },
    {
     "data": {
      "application/vnd.jupyter.widget-view+json": {
       "model_id": "afd5b9522b7e4506a7bd30d1feda6a7a",
       "version_major": 2,
       "version_minor": 0
      },
      "text/plain": [
       "Generating embeddings:   0%|          | 0/1 [00:00<?, ?it/s]"
      ]
     },
     "metadata": {},
     "output_type": "display_data"
    },
    {
     "name": "stdout",
     "output_type": "stream",
     "text": [
      "307 Military operations (battle, shelling)\n",
      "['\"On Thursday, August 1st, Darfur 24 reported that intense artillery shelling between the SAF supported by the allied armed movements and the Rapid Support Forces (RSF) during the week forced hundreds of El Fasher residents to flee the city. In El Fasher city, at least 60 people were killed and 100 others wounded as a result of artillery shelling between the SAF and the RSF targeting the livestock market, the Awlad Al-Reef neighborhoods, the Aldaraja neighborhood, the grand market in the center of the city, and the Saudi Specialized Hospital, which was shelled with 15 projectles, according to Dr. Ibrahim Abdullah Khater, Director General of the Ministry of Health in the state. \"']\n"
     ]
    },
    {
     "data": {
      "application/vnd.jupyter.widget-view+json": {
       "model_id": "65d1117055344f73813af93b444f5977",
       "version_major": 2,
       "version_minor": 0
      },
      "text/plain": [
       "Parsing nodes:   0%|          | 0/1 [00:00<?, ?it/s]"
      ]
     },
     "metadata": {},
     "output_type": "display_data"
    },
    {
     "data": {
      "application/vnd.jupyter.widget-view+json": {
       "model_id": "c8d20fd9f8ef4c2698d49f24192635d5",
       "version_major": 2,
       "version_minor": 0
      },
      "text/plain": [
       "Generating embeddings:   0%|          | 0/1 [00:00<?, ?it/s]"
      ]
     },
     "metadata": {},
     "output_type": "display_data"
    },
    {
     "name": "stdout",
     "output_type": "stream",
     "text": [
      "308 Military operations (battle, shelling)\n",
      "['On August 1st, RSF killed 23 villagers in El Managil, El Gezira.']\n"
     ]
    },
    {
     "data": {
      "application/vnd.jupyter.widget-view+json": {
       "model_id": "1684c12663df49cd908e864c477ef9a9",
       "version_major": 2,
       "version_minor": 0
      },
      "text/plain": [
       "Parsing nodes:   0%|          | 0/1 [00:00<?, ?it/s]"
      ]
     },
     "metadata": {},
     "output_type": "display_data"
    },
    {
     "data": {
      "application/vnd.jupyter.widget-view+json": {
       "model_id": "1225a9fc6f054995b307d17b708c2181",
       "version_major": 2,
       "version_minor": 0
      },
      "text/plain": [
       "Generating embeddings:   0%|          | 0/1 [00:00<?, ?it/s]"
      ]
     },
     "metadata": {},
     "output_type": "display_data"
    },
    {
     "name": "stdout",
     "output_type": "stream",
     "text": [
      "309 Willful killing of civilians\n",
      "['\"On Thursday, August 1st, at least two people died and 13 injured as a result of an artillery shelling of the Es Soug El Markazi (Central Market) in Khartoum in the morning. This is the first time Khartoum city has seen bombardment since the fighting in Khartoum abated. In a statement via social media, the Southern Belt* Emergency Room says that a shell fell in the city‚Äôs wholesale market.\"']\n"
     ]
    },
    {
     "data": {
      "application/vnd.jupyter.widget-view+json": {
       "model_id": "a30af4dbd5a1413d97fe8e2dc88198b6",
       "version_major": 2,
       "version_minor": 0
      },
      "text/plain": [
       "Parsing nodes:   0%|          | 0/1 [00:00<?, ?it/s]"
      ]
     },
     "metadata": {},
     "output_type": "display_data"
    },
    {
     "data": {
      "application/vnd.jupyter.widget-view+json": {
       "model_id": "6291324dcb71409eb313f1c5522a6a88",
       "version_major": 2,
       "version_minor": 0
      },
      "text/plain": [
       "Generating embeddings:   0%|          | 0/1 [00:00<?, ?it/s]"
      ]
     },
     "metadata": {},
     "output_type": "display_data"
    },
    {
     "name": "stdout",
     "output_type": "stream",
     "text": [
      "310 Military operations (shelling)\n",
      "['On Thursday, August 1st, the Sudanese Armed Forces (SAF) regained control of positions previously held by the Rapid Support Forces (RSF) in the Al-Muhandisin and Al-Fatihab neighbourhoods in southern Omdurman. As a result, the RSF then withdrew towards the neighbouring areas of Al-Mansoura, Al-Muraba‚Äôat, and Al-Bustan. Military sources informed Sudan Tribune that the army also neutralized RSF pockets in the Hamad Al-Nil area and near the Al-Mansoura roundabout, situated on the border between Omdurman and Umbada localities. The Armed Forces also reported that dozens of RSF fighters were killed and weapons and ammunition seized during a special operation in the Al-Muhandisin and Al-Fatihab axis, Square 13.']\n"
     ]
    },
    {
     "data": {
      "application/vnd.jupyter.widget-view+json": {
       "model_id": "02b363a4be6b419b8def107a9f5a19e1",
       "version_major": 2,
       "version_minor": 0
      },
      "text/plain": [
       "Parsing nodes:   0%|          | 0/1 [00:00<?, ?it/s]"
      ]
     },
     "metadata": {},
     "output_type": "display_data"
    },
    {
     "data": {
      "application/vnd.jupyter.widget-view+json": {
       "model_id": "5dd0821d43b44fcaaef0b8db652c1a24",
       "version_major": 2,
       "version_minor": 0
      },
      "text/plain": [
       "Generating embeddings:   0%|          | 0/1 [00:00<?, ?it/s]"
      ]
     },
     "metadata": {},
     "output_type": "display_data"
    },
    {
     "name": "stdout",
     "output_type": "stream",
     "text": [
      "311 Military operations (battle, shelling)\n",
      "['On Friday, August 2nd, at least 13 people were killed and dozens injured as the Sudanese army (SAF) launched an airstrike on the Abuja IDP camp in El Fasher. Eyewitnesses from the Abuja IDP camp told Darfur 24 that the Army air force launched several airstrikes on Friday on Rapid Support Forces gatherings in the northeastern axis of El Fasher, including Abuja IDP camp, killing and wounding dozens of IDPs.']\n"
     ]
    },
    {
     "data": {
      "application/vnd.jupyter.widget-view+json": {
       "model_id": "5b9b7adb4e87494cb79c2fc6e26f57a2",
       "version_major": 2,
       "version_minor": 0
      },
      "text/plain": [
       "Parsing nodes:   0%|          | 0/1 [00:00<?, ?it/s]"
      ]
     },
     "metadata": {},
     "output_type": "display_data"
    },
    {
     "data": {
      "application/vnd.jupyter.widget-view+json": {
       "model_id": "43540577625e42aa86f56895daf1ff55",
       "version_major": 2,
       "version_minor": 0
      },
      "text/plain": [
       "Generating embeddings:   0%|          | 0/1 [00:00<?, ?it/s]"
      ]
     },
     "metadata": {},
     "output_type": "display_data"
    },
    {
     "name": "stdout",
     "output_type": "stream",
     "text": [
      "312 Military operations (battle, shelling)\n",
      "['On Saturday, August 3rd, artillery shelling by RSF on El Fasher city killed at least 23 people and wounded 60 others, according to a report by local resistance committees. The Sudanese Air Force reportedly bombed RSF sites, and the RSF in retaliation fired shells towards the Sixth Infantry Division Command in the north of the city, the El Sawra neighbourhoods, and areas adjacent to the El Fasher Livestock Market.']\n"
     ]
    },
    {
     "data": {
      "application/vnd.jupyter.widget-view+json": {
       "model_id": "a16650acc7764f03a913062b2b788996",
       "version_major": 2,
       "version_minor": 0
      },
      "text/plain": [
       "Parsing nodes:   0%|          | 0/1 [00:00<?, ?it/s]"
      ]
     },
     "metadata": {},
     "output_type": "display_data"
    },
    {
     "data": {
      "application/vnd.jupyter.widget-view+json": {
       "model_id": "3ef767d2a0494009895418f6617c3be9",
       "version_major": 2,
       "version_minor": 0
      },
      "text/plain": [
       "Generating embeddings:   0%|          | 0/1 [00:00<?, ?it/s]"
      ]
     },
     "metadata": {},
     "output_type": "display_data"
    },
    {
     "name": "stdout",
     "output_type": "stream",
     "text": [
      "313 Military operations (shelling)\n",
      "['\"On Saturday, August 3rd, the SAF said it had repelled an attack by the Rapid Support Forces (RSF) in Blue Nile state, the first fighting between the two sides in the region bordering Ethiopia. The fighting occured in the Qali area of Al-Tadamun locality, a rural market town about 20 km from the Sennar State border and 95 km west of Damazin. The army reportedly destroyed RSF combat vehicles, killed dozens of fighters and seized others, whereas RSF claimed to control Al-Tadamun. According to local resistance committees, RSF fighters had entered the state on Saturday afternoon from Sennar state to the west. The fighters reached the Jariwa and Qali areas, killing and looting in Jariwa, before being repelled by the army in Qali.\"']\n"
     ]
    },
    {
     "data": {
      "application/vnd.jupyter.widget-view+json": {
       "model_id": "106bf49414f447c0b5943103ca2fa620",
       "version_major": 2,
       "version_minor": 0
      },
      "text/plain": [
       "Parsing nodes:   0%|          | 0/1 [00:00<?, ?it/s]"
      ]
     },
     "metadata": {},
     "output_type": "display_data"
    },
    {
     "data": {
      "application/vnd.jupyter.widget-view+json": {
       "model_id": "5c20553b74a742b3917c106bf65a6d8b",
       "version_major": 2,
       "version_minor": 0
      },
      "text/plain": [
       "Generating embeddings:   0%|          | 0/1 [00:00<?, ?it/s]"
      ]
     },
     "metadata": {},
     "output_type": "display_data"
    },
    {
     "name": "stdout",
     "output_type": "stream",
     "text": [
      "314 Military operations (battle, shelling)\n",
      "[\"On Saturday, August 3, 2024, in the evening, a Sudanese Army's Antonov aircraft launched airstrikes on Al Zarq, Kabkabiya, and Kutum in North Darfur. In Kutum, 136 km northwest of Al Fasher, airstrikes hit the rural hospital with three missiles, destroying several rooms but causing no human casualties. A medical source, preferring anonymity, reported that dozens of patients in nearby wards escaped safely. The source suggested that the warplanes might have intended to target wounded Rapid Support Forces members in the hospital, which was crowded with civilians. Eyewitnesses in Al-Zarq, over 180 km north of Al-Fasher, reported intensive airstrikes on empty buildings, also without casualties. In Kabkabiya, 136 km west of Al-Fasher, airstrikes again caused no civilian casualties. A Kabkabiya resident mentioned that the Rapid Support Forces banned Starlink satellite internet service locations, suspecting that individuals were providing coordinates to the warplanes. The seventh airstrike on Kabkabiya left dozens dead and wounded, with the last incident in June resulting in one woman's death.\"]\n"
     ]
    },
    {
     "data": {
      "application/vnd.jupyter.widget-view+json": {
       "model_id": "daa2ee9aad2d4908b5a14af9204d2e2a",
       "version_major": 2,
       "version_minor": 0
      },
      "text/plain": [
       "Parsing nodes:   0%|          | 0/1 [00:00<?, ?it/s]"
      ]
     },
     "metadata": {},
     "output_type": "display_data"
    },
    {
     "data": {
      "application/vnd.jupyter.widget-view+json": {
       "model_id": "9939b1f329dc4e6c85fb826fc35e1615",
       "version_major": 2,
       "version_minor": 0
      },
      "text/plain": [
       "Generating embeddings:   0%|          | 0/1 [00:00<?, ?it/s]"
      ]
     },
     "metadata": {},
     "output_type": "display_data"
    },
    {
     "name": "stdout",
     "output_type": "stream",
     "text": [
      "315 Military operations (battle, shelling)\n",
      "['Following intense fighting between the Army and the RSF, seven members of the same familled were killed in an airstrike on the El Salam Abuja camp for the displaced in the northeast part of El Fasher.']\n"
     ]
    },
    {
     "data": {
      "application/vnd.jupyter.widget-view+json": {
       "model_id": "cca67f39eb58449d84ab900fdfd37873",
       "version_major": 2,
       "version_minor": 0
      },
      "text/plain": [
       "Parsing nodes:   0%|          | 0/1 [00:00<?, ?it/s]"
      ]
     },
     "metadata": {},
     "output_type": "display_data"
    },
    {
     "data": {
      "application/vnd.jupyter.widget-view+json": {
       "model_id": "fd3becb9547b4bb58ca11e03a05730c8",
       "version_major": 2,
       "version_minor": 0
      },
      "text/plain": [
       "Generating embeddings:   0%|          | 0/1 [00:00<?, ?it/s]"
      ]
     },
     "metadata": {},
     "output_type": "display_data"
    },
    {
     "name": "stdout",
     "output_type": "stream",
     "text": [
      "316 Indiscriminate use of weapons\n",
      "['On August 4th, according to two informed military sources, the Sudanese army took control of large areas west of Omdurman, including the Mansoura, Hamad Al-Nil and Al-Nakhil neighbourhoods and parts of the Abu Saad area after violent clashes with the RSF who reportedly suffered casualites and losses.']\n"
     ]
    },
    {
     "data": {
      "application/vnd.jupyter.widget-view+json": {
       "model_id": "d781a9f1488b486c947bf3dc6798a430",
       "version_major": 2,
       "version_minor": 0
      },
      "text/plain": [
       "Parsing nodes:   0%|          | 0/1 [00:00<?, ?it/s]"
      ]
     },
     "metadata": {},
     "output_type": "display_data"
    },
    {
     "data": {
      "application/vnd.jupyter.widget-view+json": {
       "model_id": "3e9886f8f8074d2f86bf97b396de3c8d",
       "version_major": 2,
       "version_minor": 0
      },
      "text/plain": [
       "Generating embeddings:   0%|          | 0/1 [00:00<?, ?it/s]"
      ]
     },
     "metadata": {},
     "output_type": "display_data"
    },
    {
     "name": "stdout",
     "output_type": "stream",
     "text": [
      "317 Military operations (battle, shelling)\n",
      "['On Sunday, August 4th, 2024, in the evening, warplanes bombed the Zamzam IDP Camp, 17 km southwest of Al Fasher, with two explosive barrels, critically injuring four children and destroying 20 homes, including 16 homes in Labado neighborhood and 4 homes in Muhajiriya neighborhood. The Coordination and Media Office of the Zamzam IDP Camp Emergency Room reported that one of the barrels did not explode.']\n"
     ]
    },
    {
     "data": {
      "application/vnd.jupyter.widget-view+json": {
       "model_id": "5dc11f1621a24bfbb6ce453b63a0ed41",
       "version_major": 2,
       "version_minor": 0
      },
      "text/plain": [
       "Parsing nodes:   0%|          | 0/1 [00:00<?, ?it/s]"
      ]
     },
     "metadata": {},
     "output_type": "display_data"
    },
    {
     "data": {
      "application/vnd.jupyter.widget-view+json": {
       "model_id": "a97cf7ae4169459081ed3f2580d754fb",
       "version_major": 2,
       "version_minor": 0
      },
      "text/plain": [
       "Generating embeddings:   0%|          | 0/1 [00:00<?, ?it/s]"
      ]
     },
     "metadata": {},
     "output_type": "display_data"
    },
    {
     "name": "stdout",
     "output_type": "stream",
     "text": [
      "318 Indiscriminate use of weapons\n",
      "['\"On Sunday, August 4th, the Sudanese Armed Forces (SAF) continued their offensive in western Omdurman, seizing new positions after intense clashes with the Rapid Support Forces (RSF). The SAF established control over the western and northern fronts of the Engineers Corps, extending from the Bashir Bridge to the Mansoura suburb. Violent clashes occurred in the Al-Bustan and Al-Nakhil neighborhoods, causing the RSF to retreat towards Muraba‚Äôat, Al-Bank Al-Aqari, Souq Libya, and Dar Al-Salam. Artillery shells fell in several areas, but no casualties were reported. The army now controls Mansoura, a key RSF stronghold used for launching attacks. This strategic gain offers access to Dar Al-Salam, Souq Libya, Kandahar, and the Omdurman-Bara export road, a vital RSF supply route. Videos shared on pro-army pages show the army‚Äôs presence in Al-Muhandisin, Mansoura, and the capture of RSF vehicles.\"']\n"
     ]
    },
    {
     "data": {
      "application/vnd.jupyter.widget-view+json": {
       "model_id": "415de232c4d24f20af70ca6166fab294",
       "version_major": 2,
       "version_minor": 0
      },
      "text/plain": [
       "Parsing nodes:   0%|          | 0/1 [00:00<?, ?it/s]"
      ]
     },
     "metadata": {},
     "output_type": "display_data"
    },
    {
     "data": {
      "application/vnd.jupyter.widget-view+json": {
       "model_id": "ff3d0dc0f636443e9effd41baab24713",
       "version_major": 2,
       "version_minor": 0
      },
      "text/plain": [
       "Generating embeddings:   0%|          | 0/1 [00:00<?, ?it/s]"
      ]
     },
     "metadata": {},
     "output_type": "display_data"
    },
    {
     "name": "stdout",
     "output_type": "stream",
     "text": [
      "319 Military operations (battle, shelling)\n",
      "['Residents of Bargo Wadahouba, a village in the West of Sennar, who had been displaced to Sennar six months ago following fighting between the RSF and the SAF, were forced again to flee after the RSF gave a 48 hours ultimatum to leave.']\n"
     ]
    },
    {
     "data": {
      "application/vnd.jupyter.widget-view+json": {
       "model_id": "b83559d65bd94c319eadc902294d803c",
       "version_major": 2,
       "version_minor": 0
      },
      "text/plain": [
       "Parsing nodes:   0%|          | 0/1 [00:00<?, ?it/s]"
      ]
     },
     "metadata": {},
     "output_type": "display_data"
    },
    {
     "data": {
      "application/vnd.jupyter.widget-view+json": {
       "model_id": "e418e69e0ce34315b2e7721481134faf",
       "version_major": 2,
       "version_minor": 0
      },
      "text/plain": [
       "Generating embeddings:   0%|          | 0/1 [00:00<?, ?it/s]"
      ]
     },
     "metadata": {},
     "output_type": "display_data"
    },
    {
     "name": "stdout",
     "output_type": "stream",
     "text": [
      "320 Military operations (battle, shelling)\n",
      "['\" On Tuesday, August 6th, the RSF reported that the SAF conducted air raids on residential neighborhoods in Ghabish, North Kordofan State, which resulted in dozens of casualties, including the death of one young girl. \"']\n"
     ]
    },
    {
     "data": {
      "application/vnd.jupyter.widget-view+json": {
       "model_id": "1ea1e1cc43b641c4bdf39240b859e268",
       "version_major": 2,
       "version_minor": 0
      },
      "text/plain": [
       "Parsing nodes:   0%|          | 0/1 [00:00<?, ?it/s]"
      ]
     },
     "metadata": {},
     "output_type": "display_data"
    },
    {
     "data": {
      "application/vnd.jupyter.widget-view+json": {
       "model_id": "a6fed19f164143869052f65285dbadf6",
       "version_major": 2,
       "version_minor": 0
      },
      "text/plain": [
       "Generating embeddings:   0%|          | 0/1 [00:00<?, ?it/s]"
      ]
     },
     "metadata": {},
     "output_type": "display_data"
    },
    {
     "name": "stdout",
     "output_type": "stream",
     "text": [
      "321 Indiscriminate use of weapons\n",
      "['On Tuesday, August 6th, despite the pact of non-agression between Sudan and South Sudan, Sudanese warplanes crossed the border of South Sudan and bombed Khortumbak, a town in Upper Nile State, killing two civilians and injuring others. According to Maban County Commissioner Peter Alberto, the warplanes also destroyed some homes and livestock.']\n"
     ]
    },
    {
     "data": {
      "application/vnd.jupyter.widget-view+json": {
       "model_id": "bec26b8b81f2414bbf3f4bc00979e391",
       "version_major": 2,
       "version_minor": 0
      },
      "text/plain": [
       "Parsing nodes:   0%|          | 0/1 [00:00<?, ?it/s]"
      ]
     },
     "metadata": {},
     "output_type": "display_data"
    },
    {
     "data": {
      "application/vnd.jupyter.widget-view+json": {
       "model_id": "727a4f243fa8468e9257c3885dcf43af",
       "version_major": 2,
       "version_minor": 0
      },
      "text/plain": [
       "Generating embeddings:   0%|          | 0/1 [00:00<?, ?it/s]"
      ]
     },
     "metadata": {},
     "output_type": "display_data"
    },
    {
     "name": "stdout",
     "output_type": "stream",
     "text": [
      "322 Indiscriminate use of weapons\n",
      "['On August 7, artillery shelling by the Rapid Support Forces (RSF) hit the northern countryside of Omdurman, particularly affecting the El Surorab area. The attack originated from the East Nile region controlled by the RSF, killing two civilians. RSF-affiliated media released a misleading video claiming the attack targeted Shendi in River Nile state. However, an investigation revealed that the shells actually struck Wad Hamid, an extension of the El Surorab area, south of Shendi.']\n"
     ]
    },
    {
     "data": {
      "application/vnd.jupyter.widget-view+json": {
       "model_id": "789b682f77a249afa397696a8e9baf5d",
       "version_major": 2,
       "version_minor": 0
      },
      "text/plain": [
       "Parsing nodes:   0%|          | 0/1 [00:00<?, ?it/s]"
      ]
     },
     "metadata": {},
     "output_type": "display_data"
    },
    {
     "data": {
      "application/vnd.jupyter.widget-view+json": {
       "model_id": "03b9697a3a314e12930442a8c3160b82",
       "version_major": 2,
       "version_minor": 0
      },
      "text/plain": [
       "Generating embeddings:   0%|          | 0/1 [00:00<?, ?it/s]"
      ]
     },
     "metadata": {},
     "output_type": "display_data"
    },
    {
     "name": "stdout",
     "output_type": "stream",
     "text": [
      "323 Military operations (shelling)\n",
      "['Nidaa El Wasat El Gezira, a civil society organisation, reported that the RSF ‚Äúassassinated‚Äù Residents of El Aseed Wad Mousa village in eastern El Gezira state reported that the RSF killed two civilians in separate incidents, including one person in El Hasahisa.']\n"
     ]
    },
    {
     "data": {
      "application/vnd.jupyter.widget-view+json": {
       "model_id": "1f0955fa56164d88bac566a35e36d473",
       "version_major": 2,
       "version_minor": 0
      },
      "text/plain": [
       "Parsing nodes:   0%|          | 0/1 [00:00<?, ?it/s]"
      ]
     },
     "metadata": {},
     "output_type": "display_data"
    },
    {
     "data": {
      "application/vnd.jupyter.widget-view+json": {
       "model_id": "49c9b2eb8c9f4c019d4e428e5fc1ce56",
       "version_major": 2,
       "version_minor": 0
      },
      "text/plain": [
       "Generating embeddings:   0%|          | 0/1 [00:00<?, ?it/s]"
      ]
     },
     "metadata": {},
     "output_type": "display_data"
    },
    {
     "name": "stdout",
     "output_type": "stream",
     "text": [
      "324 Willful killing of civilians\n",
      "['On August 8th, in the morning, the RSF targeted several areas under the control of the SAF with artillery shelling in Omdurman.According to eyewitnesses, shells fell in the El Manara area located on the River Nile West bank, near the Halfaya Bridge whose Western and Eastern entrances are respectively controlled by the Army and the RSF.']\n"
     ]
    },
    {
     "data": {
      "application/vnd.jupyter.widget-view+json": {
       "model_id": "bac0158f64fb452e8ccadbce0c8e8847",
       "version_major": 2,
       "version_minor": 0
      },
      "text/plain": [
       "Parsing nodes:   0%|          | 0/1 [00:00<?, ?it/s]"
      ]
     },
     "metadata": {},
     "output_type": "display_data"
    },
    {
     "data": {
      "application/vnd.jupyter.widget-view+json": {
       "model_id": "43e6e59e519745ed963cea553242a377",
       "version_major": 2,
       "version_minor": 0
      },
      "text/plain": [
       "Generating embeddings:   0%|          | 0/1 [00:00<?, ?it/s]"
      ]
     },
     "metadata": {},
     "output_type": "display_data"
    },
    {
     "name": "stdout",
     "output_type": "stream",
     "text": [
      "325 Military operations (shelling)\n",
      "['\"On Thursday, August 8th, the El Fasher Resistance Committees, a group of pro-democracy activists, reported that at least 15 civilians were killed and dozens injured in an artillery attack by the RSF on El Fasher, North Darfur. The El Fasher Resistance Committees showed the damage caused by this attack to citizens\\' homes through photos circulated on their Facebook page. According to Darfur Governor Minni Minnawi, unarmed civilians were targeted in their homes, the livestock market in the western part of the city, and the Al Radif and Al-Thawra neighborhoods, killing dozens and injuring many. \"']\n"
     ]
    },
    {
     "data": {
      "application/vnd.jupyter.widget-view+json": {
       "model_id": "34e61acb9dd5425f8d87749c8dc44d9a",
       "version_major": 2,
       "version_minor": 0
      },
      "text/plain": [
       "Parsing nodes:   0%|          | 0/1 [00:00<?, ?it/s]"
      ]
     },
     "metadata": {},
     "output_type": "display_data"
    },
    {
     "data": {
      "application/vnd.jupyter.widget-view+json": {
       "model_id": "7b97d0e9d82145fd83c2c7f9a5ecbdea",
       "version_major": 2,
       "version_minor": 0
      },
      "text/plain": [
       "Generating embeddings:   0%|          | 0/1 [00:00<?, ?it/s]"
      ]
     },
     "metadata": {},
     "output_type": "display_data"
    },
    {
     "name": "stdout",
     "output_type": "stream",
     "text": [
      "326 Indiscriminate use of weapons\n",
      "['Early in the morning of August 8th, there were violent clashes between the RSF and the SAF in central Khartoum.The RSF responded with anti-aircraft guns to the SAF airstrikes on RSF positions in the Sports City, South Belt, and Soba areas.']\n"
     ]
    },
    {
     "data": {
      "application/vnd.jupyter.widget-view+json": {
       "model_id": "799f6829a47c4136b3ae616b87dfe0a6",
       "version_major": 2,
       "version_minor": 0
      },
      "text/plain": [
       "Parsing nodes:   0%|          | 0/1 [00:00<?, ?it/s]"
      ]
     },
     "metadata": {},
     "output_type": "display_data"
    },
    {
     "data": {
      "application/vnd.jupyter.widget-view+json": {
       "model_id": "cd5625d745954621a3130ca0de6f9cc0",
       "version_major": 2,
       "version_minor": 0
      },
      "text/plain": [
       "Generating embeddings:   0%|          | 0/1 [00:00<?, ?it/s]"
      ]
     },
     "metadata": {},
     "output_type": "display_data"
    },
    {
     "name": "stdout",
     "output_type": "stream",
     "text": [
      "327 Military operations (battle, shelling)\n",
      "['\" Around August 9th, residents of El Gezira reported that rogue RSF fighters have been systematically looting villages. For example, residents in the Sharafat Alhalaween village complained that RSF fighters seized people‚Äôs vehicles, and ¬´¬†dozens of fighters stormed in on motorcycles and pickup trucks, firing guns in the air. The fighters, some in uniforms, went door to door grabbing money and valuables, prompting an exodus of thousands of people¬†¬ª. These accounts of violence against civilians inwere further corroborated by ¬´¬†43 people from 20 communities - including residents, activists and RSF recruits¬†¬ª who were interviewed by Reuters and who described ¬´¬†a spiral of looting, kidnapping and killing after the group seized most of the state in December¬†¬ª \"']\n"
     ]
    },
    {
     "data": {
      "application/vnd.jupyter.widget-view+json": {
       "model_id": "d16c62d907ca4eb28297524be529fbef",
       "version_major": 2,
       "version_minor": 0
      },
      "text/plain": [
       "Parsing nodes:   0%|          | 0/1 [00:00<?, ?it/s]"
      ]
     },
     "metadata": {},
     "output_type": "display_data"
    },
    {
     "data": {
      "application/vnd.jupyter.widget-view+json": {
       "model_id": "656ecce0d72f4624bde853e627231e22",
       "version_major": 2,
       "version_minor": 0
      },
      "text/plain": [
       "Generating embeddings:   0%|          | 0/1 [00:00<?, ?it/s]"
      ]
     },
     "metadata": {},
     "output_type": "display_data"
    },
    {
     "name": "stdout",
     "output_type": "stream",
     "text": [
      "328 Violent crackdowns on protesters/opponents/civil rights abuse\n",
      "['\"On Friday, August 9th, the RSF bombed El Dayat Maternity Hospital in Omdurman just a day after it had reopened. This partly destroyed the hospital and forced the medical staff to close it and transfer to the Saudi Hospital which is also located in Omdurman. Although no casualties were reported, the incident reflects the renewed violence in Khartoum and its surrounding areas, causing many health facilities to shut down amidst ongoing clashes. \"']\n"
     ]
    },
    {
     "data": {
      "application/vnd.jupyter.widget-view+json": {
       "model_id": "76c097d33cea46fa9937f9e67263e029",
       "version_major": 2,
       "version_minor": 0
      },
      "text/plain": [
       "Parsing nodes:   0%|          | 0/1 [00:00<?, ?it/s]"
      ]
     },
     "metadata": {},
     "output_type": "display_data"
    },
    {
     "data": {
      "application/vnd.jupyter.widget-view+json": {
       "model_id": "ff7c1bf2fbc04bf6a7985e5adc6b5f7f",
       "version_major": 2,
       "version_minor": 0
      },
      "text/plain": [
       "Generating embeddings:   0%|          | 0/1 [00:00<?, ?it/s]"
      ]
     },
     "metadata": {},
     "output_type": "display_data"
    },
    {
     "name": "stdout",
     "output_type": "stream",
     "text": [
      "329 Damage or destruction of civilian critical infrastructure\n",
      "['On Saturday, August 10st, various sources, including the Sudanese army, medical sources and eyewitnesses reported that the RSF mobilized thousands of fighters and launched a massive offensive on El Fasher, North Darfur, from three directions (southern, northern and eastern axes) with intensive artillery shellings in order to take control of the city. However, the attack was repelled by the SAF who used warplanes and heavy artillery. The RSF targeted military and other strategic areas. In response, military sources told Darfur24, the Army‚Äôs ¬´¬†warplanes dropped more than 8 barrels on the eastern and northeastern neighborhoods of the city under the control of the Rapid Support Forces¬†¬ª. The Army also reported to have ¬´¬† destroyed more than 12 RSF vehicles and seized about 20 others. It also claimed that hundreds of RSF fighters were killed.¬†¬ª However, these claims could not be verified by independent sources. The fighting caused civilian casualties - at least 3 civilians were executed ‚Äî and forced many residents to flee. Some media outlets reported that at least 28 people were killed and 46 injured in the clashes.']\n"
     ]
    },
    {
     "data": {
      "application/vnd.jupyter.widget-view+json": {
       "model_id": "56842f73634a4157ba23af22dc58933a",
       "version_major": 2,
       "version_minor": 0
      },
      "text/plain": [
       "Parsing nodes:   0%|          | 0/1 [00:00<?, ?it/s]"
      ]
     },
     "metadata": {},
     "output_type": "display_data"
    },
    {
     "data": {
      "application/vnd.jupyter.widget-view+json": {
       "model_id": "a37054fd12c543b3988ebd35897b5864",
       "version_major": 2,
       "version_minor": 0
      },
      "text/plain": [
       "Generating embeddings:   0%|          | 0/1 [00:00<?, ?it/s]"
      ]
     },
     "metadata": {},
     "output_type": "display_data"
    },
    {
     "name": "stdout",
     "output_type": "stream",
     "text": [
      "330 Military operations (battle, shelling)\n",
      "['\"On Sunday, August 11th, according to a report of Sheldon Yett, UNICEF representative in Sudan, a ¬´¬†shell struck a UNICEF-supported child-friendly space in Al Hattana, Khartoum state, killing two boys and injuring at least 8 eight others.¬†¬ª \"']\n"
     ]
    },
    {
     "data": {
      "application/vnd.jupyter.widget-view+json": {
       "model_id": "e4b8db7f14754bc68227131f8c0ff73a",
       "version_major": 2,
       "version_minor": 0
      },
      "text/plain": [
       "Parsing nodes:   0%|          | 0/1 [00:00<?, ?it/s]"
      ]
     },
     "metadata": {},
     "output_type": "display_data"
    },
    {
     "data": {
      "application/vnd.jupyter.widget-view+json": {
       "model_id": "bcd4599892d54744a31375fcfe28b934",
       "version_major": 2,
       "version_minor": 0
      },
      "text/plain": [
       "Generating embeddings:   0%|          | 0/1 [00:00<?, ?it/s]"
      ]
     },
     "metadata": {},
     "output_type": "display_data"
    },
    {
     "name": "stdout",
     "output_type": "stream",
     "text": [
      "331 Indiscriminate use of weapons\n",
      "['On Sunday, August 11, The Sudanese army warplanes carried out heavy airstrikes on Al-Koma, located 76 km northeast of Al-Fasher, targeting the western neighborhood and city market with five shells. No civilian casualties were reported, and the army stated that the strikes were aimed at a Rapid Support Forces convoy led by Major General Al-Qoni Saeed. Additionally, the previous evening, air raids on Mellit, 65 km north of Al-Fasher, injured four people from the same family. The warplanes hit the western market area, causing injuries and damage without achieving any military objectives.']\n"
     ]
    },
    {
     "data": {
      "application/vnd.jupyter.widget-view+json": {
       "model_id": "6d0f405217754e328b28f52b3f4626de",
       "version_major": 2,
       "version_minor": 0
      },
      "text/plain": [
       "Parsing nodes:   0%|          | 0/1 [00:00<?, ?it/s]"
      ]
     },
     "metadata": {},
     "output_type": "display_data"
    },
    {
     "data": {
      "application/vnd.jupyter.widget-view+json": {
       "model_id": "a0889c63217c4c4dadba069fadd3ccbf",
       "version_major": 2,
       "version_minor": 0
      },
      "text/plain": [
       "Generating embeddings:   0%|          | 0/1 [00:00<?, ?it/s]"
      ]
     },
     "metadata": {},
     "output_type": "display_data"
    },
    {
     "name": "stdout",
     "output_type": "stream",
     "text": [
      "332 Military operations (shelling)\n",
      "['The MSF-supported Saudi HospitaL, the last remaining hospital in El Fasher, was attacked on Sunday, August 11. MSF announced that \"The surgical ward was hit during the bombardment, killing a patient‚Äôs caretaker, injuring five others, and damaging the maternity unit. In addition, a number of hospital offices were hit, and a nurse sustained injuries while working inside.\"']\n"
     ]
    },
    {
     "data": {
      "application/vnd.jupyter.widget-view+json": {
       "model_id": "e8743e76c27247f2bcc9014014cbfb77",
       "version_major": 2,
       "version_minor": 0
      },
      "text/plain": [
       "Parsing nodes:   0%|          | 0/1 [00:00<?, ?it/s]"
      ]
     },
     "metadata": {},
     "output_type": "display_data"
    },
    {
     "data": {
      "application/vnd.jupyter.widget-view+json": {
       "model_id": "ab3a8bcf52224da0b438d8883b4f6f80",
       "version_major": 2,
       "version_minor": 0
      },
      "text/plain": [
       "Generating embeddings:   0%|          | 0/1 [00:00<?, ?it/s]"
      ]
     },
     "metadata": {},
     "output_type": "display_data"
    },
    {
     "name": "stdout",
     "output_type": "stream",
     "text": [
      "333 Damage or destruction of civilian critical infrastructure\n",
      "['On Monday, August 12, the Sennar Youth Gathering accused the Rapid Support Forces (RSF) of a massacre in Jalqani village, south of Abu Hajar locality in Sennar State, which resulted in 15 civilian deaths. The Sennar Youth Gathering stated that villagers, mostly simple farmers, attempted to defend themselves with limited weapons but were overwhelmed by the RSF‚Äôs superior firepower. The attack left at least 15 dead and many wounded.']\n"
     ]
    },
    {
     "data": {
      "application/vnd.jupyter.widget-view+json": {
       "model_id": "03902a9c03804a41a4a7dee2f994a446",
       "version_major": 2,
       "version_minor": 0
      },
      "text/plain": [
       "Parsing nodes:   0%|          | 0/1 [00:00<?, ?it/s]"
      ]
     },
     "metadata": {},
     "output_type": "display_data"
    },
    {
     "data": {
      "application/vnd.jupyter.widget-view+json": {
       "model_id": "794a5d5b6fa3436798624e9137d67231",
       "version_major": 2,
       "version_minor": 0
      },
      "text/plain": [
       "Generating embeddings:   0%|          | 0/1 [00:00<?, ?it/s]"
      ]
     },
     "metadata": {},
     "output_type": "display_data"
    },
    {
     "name": "stdout",
     "output_type": "stream",
     "text": [
      "334 Willful killing of civilians\n",
      "['On Tuesday, August 13, The Sudanese Army‚Äôs warplanes conducted airstrikes on Kutum, 155 km northwest of El Fasher. One eyewitness said that the warplanes bombed the Al Salama West neighborhood with projectiles, causing no casualties or damage. The aircraft dropped explosive barrels on uninhabited areas west of the city.']\n"
     ]
    },
    {
     "data": {
      "application/vnd.jupyter.widget-view+json": {
       "model_id": "f8dd762a11774fc6a82f4c0f41456976",
       "version_major": 2,
       "version_minor": 0
      },
      "text/plain": [
       "Parsing nodes:   0%|          | 0/1 [00:00<?, ?it/s]"
      ]
     },
     "metadata": {},
     "output_type": "display_data"
    },
    {
     "data": {
      "application/vnd.jupyter.widget-view+json": {
       "model_id": "db6eaafcd91544acac3dd8a601d452ec",
       "version_major": 2,
       "version_minor": 0
      },
      "text/plain": [
       "Generating embeddings:   0%|          | 0/1 [00:00<?, ?it/s]"
      ]
     },
     "metadata": {},
     "output_type": "display_data"
    },
    {
     "name": "stdout",
     "output_type": "stream",
     "text": [
      "335 Military operations (battle, shelling)\n",
      "['\"On August 14, Sudan War Monitor reported that RSF fighters arrested and beat civilians in Kabkabiya, North Darfur, accusing them of collaborating with and giving information to the Sudan Armed Forces to help direct airstrikes against the city. Kabkabiya is located a few hours‚Äô drive west of El Fasher and has been under RSF control since the conflict began. (See video included) \"']\n"
     ]
    },
    {
     "data": {
      "application/vnd.jupyter.widget-view+json": {
       "model_id": "a249669cf1a7408889bcf62dfaccbc2d",
       "version_major": 2,
       "version_minor": 0
      },
      "text/plain": [
       "Parsing nodes:   0%|          | 0/1 [00:00<?, ?it/s]"
      ]
     },
     "metadata": {},
     "output_type": "display_data"
    },
    {
     "data": {
      "application/vnd.jupyter.widget-view+json": {
       "model_id": "971c8c4b8343473ca05f25dff37a76ef",
       "version_major": 2,
       "version_minor": 0
      },
      "text/plain": [
       "Generating embeddings:   0%|          | 0/1 [00:00<?, ?it/s]"
      ]
     },
     "metadata": {},
     "output_type": "display_data"
    },
    {
     "name": "stdout",
     "output_type": "stream",
     "text": [
      "336 Torture or indications of torture\n",
      "['On Thursday, August 15, the Al-Khansa Secondary School for Girls and a crowded marketplace were devastated by a bomb in El Obeid city in Kordofan state. In the school, 3 girls were killed and 20 others were injured according to UNICEF‚Äôs country representative in Sudan.']\n"
     ]
    },
    {
     "data": {
      "application/vnd.jupyter.widget-view+json": {
       "model_id": "ca3706728afe44bcb8997286e57d06c5",
       "version_major": 2,
       "version_minor": 0
      },
      "text/plain": [
       "Parsing nodes:   0%|          | 0/1 [00:00<?, ?it/s]"
      ]
     },
     "metadata": {},
     "output_type": "display_data"
    },
    {
     "data": {
      "application/vnd.jupyter.widget-view+json": {
       "model_id": "6c07ae90410e4899948bbf47c7838e73",
       "version_major": 2,
       "version_minor": 0
      },
      "text/plain": [
       "Generating embeddings:   0%|          | 0/1 [00:00<?, ?it/s]"
      ]
     },
     "metadata": {},
     "output_type": "display_data"
    },
    {
     "name": "stdout",
     "output_type": "stream",
     "text": [
      "337 Indiscriminate use of weapons\n",
      "['On Friday, August 16, at least six people were killed, and dozens were injured, when RSF paramilitaries raided the village of Beida, in the western part of Ed Dinder in Sennar state. Hillet Bir Wad Agrab in eastern Ed Dinder also witnessed attacks by RSF.']\n"
     ]
    },
    {
     "data": {
      "application/vnd.jupyter.widget-view+json": {
       "model_id": "be67d32551e64e2fb96a5b4171af7830",
       "version_major": 2,
       "version_minor": 0
      },
      "text/plain": [
       "Parsing nodes:   0%|          | 0/1 [00:00<?, ?it/s]"
      ]
     },
     "metadata": {},
     "output_type": "display_data"
    },
    {
     "data": {
      "application/vnd.jupyter.widget-view+json": {
       "model_id": "8d4ae1e344124fdcb857721997f35de0",
       "version_major": 2,
       "version_minor": 0
      },
      "text/plain": [
       "Generating embeddings:   0%|          | 0/1 [00:00<?, ?it/s]"
      ]
     },
     "metadata": {},
     "output_type": "display_data"
    },
    {
     "name": "stdout",
     "output_type": "stream",
     "text": [
      "338 Military operations (battle, shelling)\n",
      "['\" On Friday, August 16, the RSF reportedly attacked several villages of El Gezira. In El Jadeed El Sawra, RSF elements two brothers, Suheib and Nizar Bataran, in their house and drove away their car. The RSF forced residents of the villages of Wad Zalam and El Faki Hamid to flee. And the same day, RSF attacked the El Majma Goz El Naga village, killing more than 20 people, mostly children, and wounding many others.\"']\n"
     ]
    },
    {
     "data": {
      "application/vnd.jupyter.widget-view+json": {
       "model_id": "c25dbf0e7db44f67b62529c05a8ed7ab",
       "version_major": 2,
       "version_minor": 0
      },
      "text/plain": [
       "Parsing nodes:   0%|          | 0/1 [00:00<?, ?it/s]"
      ]
     },
     "metadata": {},
     "output_type": "display_data"
    },
    {
     "data": {
      "application/vnd.jupyter.widget-view+json": {
       "model_id": "bca8ef04bcb44249bbd4a24c0449067a",
       "version_major": 2,
       "version_minor": 0
      },
      "text/plain": [
       "Generating embeddings:   0%|          | 0/1 [00:00<?, ?it/s]"
      ]
     },
     "metadata": {},
     "output_type": "display_data"
    },
    {
     "name": "stdout",
     "output_type": "stream",
     "text": [
      "339 Willful killing of civilians\n",
      "['On Friday, August 16, a local resistance committee reported that four detainees from Khartoum‚Äôs Tuti Island died last May in RSF. The information was revelaed by a family member of one of the deceased to the local resistance committee.']\n"
     ]
    },
    {
     "data": {
      "application/vnd.jupyter.widget-view+json": {
       "model_id": "ef5d17521ebd4e3dabe2c19dcecdf553",
       "version_major": 2,
       "version_minor": 0
      },
      "text/plain": [
       "Parsing nodes:   0%|          | 0/1 [00:00<?, ?it/s]"
      ]
     },
     "metadata": {},
     "output_type": "display_data"
    },
    {
     "data": {
      "application/vnd.jupyter.widget-view+json": {
       "model_id": "09fc607fdced438fbfd649a8d7c216e0",
       "version_major": 2,
       "version_minor": 0
      },
      "text/plain": [
       "Generating embeddings:   0%|          | 0/1 [00:00<?, ?it/s]"
      ]
     },
     "metadata": {},
     "output_type": "display_data"
    },
    {
     "name": "stdout",
     "output_type": "stream",
     "text": [
      "340 Unlawful detention\n",
      "['On Friday, August 16th, the RSF attacked the village of Jalgini in Sennar state, killing at 80 people and torching homes. A medical source at the village hospital where the dead and injured were carried to reported to AFP: \"We received 55 dead and dozens of wounded at the hospital on Thursday, and 25 of them died on Friday, bringing the death toll to 80.\" According to a local youth leader who reported the attack to Radio Dabanga, at least 108 people were killed and the majority of the most of the 14,000 inhabitants of the village fled via the north and crossed the border to neibhoring Blue Nile region, taking their wounded relatives to Ed Damazin Hospital.']\n"
     ]
    },
    {
     "data": {
      "application/vnd.jupyter.widget-view+json": {
       "model_id": "c9d516c3004a4b318ac8a66c7870672a",
       "version_major": 2,
       "version_minor": 0
      },
      "text/plain": [
       "Parsing nodes:   0%|          | 0/1 [00:00<?, ?it/s]"
      ]
     },
     "metadata": {},
     "output_type": "display_data"
    },
    {
     "data": {
      "application/vnd.jupyter.widget-view+json": {
       "model_id": "aca85d23bf7248e2a31daa1250634b82",
       "version_major": 2,
       "version_minor": 0
      },
      "text/plain": [
       "Generating embeddings:   0%|          | 0/1 [00:00<?, ?it/s]"
      ]
     },
     "metadata": {},
     "output_type": "display_data"
    },
    {
     "name": "stdout",
     "output_type": "stream",
     "text": [
      "341 Willful killing of civilians\n",
      "['\" On Friday, August 16, a local resistance commitee reported that at least 8 people were killed as a result of an attack attributed to the RSF militia on a town of Al Jazirah state. The village of Qoz Al-Naqa in the Abu Kuta area, where there is no military presence, was specifically targeted, according to the source. \"']\n"
     ]
    },
    {
     "data": {
      "application/vnd.jupyter.widget-view+json": {
       "model_id": "1d4757da614745139f9e4a908c08b073",
       "version_major": 2,
       "version_minor": 0
      },
      "text/plain": [
       "Parsing nodes:   0%|          | 0/1 [00:00<?, ?it/s]"
      ]
     },
     "metadata": {},
     "output_type": "display_data"
    },
    {
     "data": {
      "application/vnd.jupyter.widget-view+json": {
       "model_id": "7ae47059813d437fa1a9903f8e9900be",
       "version_major": 2,
       "version_minor": 0
      },
      "text/plain": [
       "Generating embeddings:   0%|          | 0/1 [00:00<?, ?it/s]"
      ]
     },
     "metadata": {},
     "output_type": "display_data"
    },
    {
     "name": "stdout",
     "output_type": "stream",
     "text": [
      "342 Indiscriminate use of weapons\n",
      "['\"On Saturday, August 17, the Army‚Äôs warplanes, according to a report by the The Resistance Committee of the ‚ÄúAl-Abyad¬† Waldaham‚Äù areas in rural Khartoum Bahri, bombed civilian sites, including homes and facilities. The bombing left 10 civilians dead. However, military claim that the attacks targeted RSF positions rather than civilian sites. The committee reported that ‚Äúthe army‚Äôs warplanes bombed the Al-Fazarab neighbourhood in the Al-Abyad¬† Waldaha area, resulting in the deaths of 10 individuals, most of them children, and the injury of 4 others, others, in addition to the destruction of several homes.‚Äù \"']\n"
     ]
    },
    {
     "data": {
      "application/vnd.jupyter.widget-view+json": {
       "model_id": "9cb6773e009840f6a600bbb1ce9cdf90",
       "version_major": 2,
       "version_minor": 0
      },
      "text/plain": [
       "Parsing nodes:   0%|          | 0/1 [00:00<?, ?it/s]"
      ]
     },
     "metadata": {},
     "output_type": "display_data"
    },
    {
     "data": {
      "application/vnd.jupyter.widget-view+json": {
       "model_id": "9f88f39804a64f8989d90d1d845c93af",
       "version_major": 2,
       "version_minor": 0
      },
      "text/plain": [
       "Generating embeddings:   0%|          | 0/1 [00:00<?, ?it/s]"
      ]
     },
     "metadata": {},
     "output_type": "display_data"
    },
    {
     "name": "stdout",
     "output_type": "stream",
     "text": [
      "343 Willful killing of civilians\n",
      "['\"Between August 13 and 18, an attack attributed to RSF displaced about 233 households in Galgani Town, Abu Hugar locality, in in Sudan‚Äôs Sennar state. According to IOM data, the displaced households sought shelter in locations across Ed Damazine, Blue Nile. \"']\n"
     ]
    },
    {
     "data": {
      "application/vnd.jupyter.widget-view+json": {
       "model_id": "7f53dcfe77564b5fb95615017a101adb",
       "version_major": 2,
       "version_minor": 0
      },
      "text/plain": [
       "Parsing nodes:   0%|          | 0/1 [00:00<?, ?it/s]"
      ]
     },
     "metadata": {},
     "output_type": "display_data"
    },
    {
     "data": {
      "application/vnd.jupyter.widget-view+json": {
       "model_id": "dfbaaaf2f7284f8b9b56b8124f63f7cf",
       "version_major": 2,
       "version_minor": 0
      },
      "text/plain": [
       "Generating embeddings:   0%|          | 0/1 [00:00<?, ?it/s]"
      ]
     },
     "metadata": {},
     "output_type": "display_data"
    },
    {
     "name": "stdout",
     "output_type": "stream",
     "text": [
      "344 Military operations (battle, shelling)\n",
      "['\"On Monday, August 19, the RSF intensified its artillery shelling of Omdurman from their positions in Khartoum Bahri, firing over 14 shells into the Al-Shahinab district, West of the Nile. The RSF are reported to be using mortars and Katyusha rockets for their attacks, damaging infrastructure such as the Al-Shuhada transportation station. \"']\n"
     ]
    },
    {
     "data": {
      "application/vnd.jupyter.widget-view+json": {
       "model_id": "b35ad71ad0e24fd783562302ce95bcf6",
       "version_major": 2,
       "version_minor": 0
      },
      "text/plain": [
       "Parsing nodes:   0%|          | 0/1 [00:00<?, ?it/s]"
      ]
     },
     "metadata": {},
     "output_type": "display_data"
    },
    {
     "data": {
      "application/vnd.jupyter.widget-view+json": {
       "model_id": "03ae54ff11254aacbf1ea96139c9e137",
       "version_major": 2,
       "version_minor": 0
      },
      "text/plain": [
       "Generating embeddings:   0%|          | 0/1 [00:00<?, ?it/s]"
      ]
     },
     "metadata": {},
     "output_type": "display_data"
    },
    {
     "name": "stdout",
     "output_type": "stream",
     "text": [
      "345 Military operations (shelling)\n",
      "['\" On Monday, August 19, the Sudanese Army‚Äô s warplanes bombed the North Darfur towns of El Taweisha and Mellit, causing an unknown number of dead and injured in El Taweisha. In Mellit, the bombing destroyed the buildings of the Water Corporation, the Forestry Office, and several houses located in the neighborhoods. \"']\n"
     ]
    },
    {
     "data": {
      "application/vnd.jupyter.widget-view+json": {
       "model_id": "437de8650e324acaa3ef988855ab4fac",
       "version_major": 2,
       "version_minor": 0
      },
      "text/plain": [
       "Parsing nodes:   0%|          | 0/1 [00:00<?, ?it/s]"
      ]
     },
     "metadata": {},
     "output_type": "display_data"
    },
    {
     "data": {
      "application/vnd.jupyter.widget-view+json": {
       "model_id": "34c11be9f2764520816e53cee3e9a6c3",
       "version_major": 2,
       "version_minor": 0
      },
      "text/plain": [
       "Generating embeddings:   0%|          | 0/1 [00:00<?, ?it/s]"
      ]
     },
     "metadata": {},
     "output_type": "display_data"
    },
    {
     "name": "stdout",
     "output_type": "stream",
     "text": [
      "346 Military operations (battle, shelling)\n",
      "['On Tuesday, August 20, Sudanese warplanes carried out a series of deadly airstrikes in the Darfur region, targeting the cities of Al-Daien, Al-Fasher, and Al-Tawisha in Darfur. In Al-Daien, which is reported to be ¬´¬†the historical capital of the Rizeigat tribe and a stronghold of the RSF¬†¬ª, the strikes hit teaching hospital and a displacement centre, causing at least 15 deaths and dozens of injuries. Speaking to Radio Dabanga from Ed Daein, a woman reported that the Sudanese Air Force targeted the Ed Daein Teaching Hospital, the kidney dialysis centre, the city‚Äôs main market, the Grand Mosque, and El Khansaa Elementary School for Girls.']\n"
     ]
    },
    {
     "data": {
      "application/vnd.jupyter.widget-view+json": {
       "model_id": "134ac0e1db5049269012e8633d1890ba",
       "version_major": 2,
       "version_minor": 0
      },
      "text/plain": [
       "Parsing nodes:   0%|          | 0/1 [00:00<?, ?it/s]"
      ]
     },
     "metadata": {},
     "output_type": "display_data"
    },
    {
     "data": {
      "application/vnd.jupyter.widget-view+json": {
       "model_id": "512b9539f0a04996849fb313add48b6a",
       "version_major": 2,
       "version_minor": 0
      },
      "text/plain": [
       "Generating embeddings:   0%|          | 0/1 [00:00<?, ?it/s]"
      ]
     },
     "metadata": {},
     "output_type": "display_data"
    },
    {
     "name": "stdout",
     "output_type": "stream",
     "text": [
      "347 Damage or destruction of civilian critical infrastructure\n",
      "['On Tuesday, August 20, Sudanese warplanes carried out a series of deadly airstrikes in the Darfur region, targeting the cities of Al-Daien, Al-Fasher, and Al-Tawisha in Darfur, killing dozens of civilians. In response to the bombing, the RSF launched artillery strikes on civilian areas in Al-Fasher, North Darfur, which caused further deaths and injuries.']\n"
     ]
    },
    {
     "data": {
      "application/vnd.jupyter.widget-view+json": {
       "model_id": "1faea204b6eb409e9ae25be9964c79df",
       "version_major": 2,
       "version_minor": 0
      },
      "text/plain": [
       "Parsing nodes:   0%|          | 0/1 [00:00<?, ?it/s]"
      ]
     },
     "metadata": {},
     "output_type": "display_data"
    },
    {
     "data": {
      "application/vnd.jupyter.widget-view+json": {
       "model_id": "5164cd3dfc5342128d1be77abf757491",
       "version_major": 2,
       "version_minor": 0
      },
      "text/plain": [
       "Generating embeddings:   0%|          | 0/1 [00:00<?, ?it/s]"
      ]
     },
     "metadata": {},
     "output_type": "display_data"
    },
    {
     "name": "stdout",
     "output_type": "stream",
     "text": [
      "348 Indiscriminate use of weapons\n",
      "['On Tuesday, August 20, Sudanese warplanes carried out a series of deadly airstrikes in the Darfur region, targeting the cities of Al-Daien, Al-Fasher, and Al-Tawisha in Darfur, killing dozens of civilians.']\n"
     ]
    },
    {
     "data": {
      "application/vnd.jupyter.widget-view+json": {
       "model_id": "2571d30d7a7d45d4a9bb18e30bd1b317",
       "version_major": 2,
       "version_minor": 0
      },
      "text/plain": [
       "Parsing nodes:   0%|          | 0/1 [00:00<?, ?it/s]"
      ]
     },
     "metadata": {},
     "output_type": "display_data"
    },
    {
     "data": {
      "application/vnd.jupyter.widget-view+json": {
       "model_id": "54eb033e15a342aaa50161e3ea5668d8",
       "version_major": 2,
       "version_minor": 0
      },
      "text/plain": [
       "Generating embeddings:   0%|          | 0/1 [00:00<?, ?it/s]"
      ]
     },
     "metadata": {},
     "output_type": "display_data"
    },
    {
     "name": "stdout",
     "output_type": "stream",
     "text": [
      "349 Willful killing of civilians\n",
      "['\" On Tuesday, August 20, Sudanese warplanes carried out a series of deadly airstrikes in Al-Jazirah state, causing dozens of civilian casualties. One of the targeted areas was Al-Hasaheisa.\"']\n"
     ]
    },
    {
     "data": {
      "application/vnd.jupyter.widget-view+json": {
       "model_id": "b34da3252c054f68b486e644072ebba7",
       "version_major": 2,
       "version_minor": 0
      },
      "text/plain": [
       "Parsing nodes:   0%|          | 0/1 [00:00<?, ?it/s]"
      ]
     },
     "metadata": {},
     "output_type": "display_data"
    },
    {
     "data": {
      "application/vnd.jupyter.widget-view+json": {
       "model_id": "706e9dddbde64d14b798b7d09a257bbe",
       "version_major": 2,
       "version_minor": 0
      },
      "text/plain": [
       "Generating embeddings:   0%|          | 0/1 [00:00<?, ?it/s]"
      ]
     },
     "metadata": {},
     "output_type": "display_data"
    },
    {
     "name": "stdout",
     "output_type": "stream",
     "text": [
      "350 Military operations (battle, shelling)\n",
      "['According to a medical source, on Thursday, August 22, RSF shelling that targeted residential areas in Omdurman and hit villages in the northern countryide of that city, killed at least two people and injured about 15 others.']\n"
     ]
    },
    {
     "data": {
      "application/vnd.jupyter.widget-view+json": {
       "model_id": "09837dcc5f9a49c483f1c9426fe18aab",
       "version_major": 2,
       "version_minor": 0
      },
      "text/plain": [
       "Parsing nodes:   0%|          | 0/1 [00:00<?, ?it/s]"
      ]
     },
     "metadata": {},
     "output_type": "display_data"
    },
    {
     "data": {
      "application/vnd.jupyter.widget-view+json": {
       "model_id": "c4249b3ad89a416b8792a3b940b55536",
       "version_major": 2,
       "version_minor": 0
      },
      "text/plain": [
       "Generating embeddings:   0%|          | 0/1 [00:00<?, ?it/s]"
      ]
     },
     "metadata": {},
     "output_type": "display_data"
    },
    {
     "name": "stdout",
     "output_type": "stream",
     "text": [
      "351 Military operations (shelling)\n",
      "['On Thursday, August 22, the RSF reportedly intensified its shelling in El Fasher, North Darfur, targeting residential neighbourhoods, the airport and an army base.']\n"
     ]
    },
    {
     "data": {
      "application/vnd.jupyter.widget-view+json": {
       "model_id": "d826b06fe19c4402bfca8d3bf881db19",
       "version_major": 2,
       "version_minor": 0
      },
      "text/plain": [
       "Parsing nodes:   0%|          | 0/1 [00:00<?, ?it/s]"
      ]
     },
     "metadata": {},
     "output_type": "display_data"
    },
    {
     "data": {
      "application/vnd.jupyter.widget-view+json": {
       "model_id": "3cd6f5ce49e9429195b9a7622f577d8a",
       "version_major": 2,
       "version_minor": 0
      },
      "text/plain": [
       "Generating embeddings:   0%|          | 0/1 [00:00<?, ?it/s]"
      ]
     },
     "metadata": {},
     "output_type": "display_data"
    },
    {
     "name": "stdout",
     "output_type": "stream",
     "text": [
      "352 Military operations (shelling)\n",
      "['As a result of starvation and lack of medical treament caused by the aid blockade, destruction and closure of healthcare facilities following the repeated shelling of Zamzam camp and other parts of El Fasher by RSF, children have been reportedly dying in the Zamzam camp.']\n"
     ]
    },
    {
     "data": {
      "application/vnd.jupyter.widget-view+json": {
       "model_id": "29033678f1fc4b038cae7f6a971b58b1",
       "version_major": 2,
       "version_minor": 0
      },
      "text/plain": [
       "Parsing nodes:   0%|          | 0/1 [00:00<?, ?it/s]"
      ]
     },
     "metadata": {},
     "output_type": "display_data"
    },
    {
     "data": {
      "application/vnd.jupyter.widget-view+json": {
       "model_id": "c1335daa3bfc4863b73d65deb8a448ec",
       "version_major": 2,
       "version_minor": 0
      },
      "text/plain": [
       "Generating embeddings:   0%|          | 0/1 [00:00<?, ?it/s]"
      ]
     },
     "metadata": {},
     "output_type": "display_data"
    },
    {
     "name": "stdout",
     "output_type": "stream",
     "text": [
      "353 Military operations (shelling)\n",
      "['On Monday, August 26, an official of the Health Ministry reported 25 people were killed and dozens wounded after shells hit the Abu Shouk camp which has been hosting about 400,000 displaced people. Residential areas and a police hospital were also hit by shells. The shelling was attributed by some witnesses to the RSF.']\n"
     ]
    },
    {
     "data": {
      "application/vnd.jupyter.widget-view+json": {
       "model_id": "45b87ba1ca084ed7b6bb9b0595a6d624",
       "version_major": 2,
       "version_minor": 0
      },
      "text/plain": [
       "Parsing nodes:   0%|          | 0/1 [00:00<?, ?it/s]"
      ]
     },
     "metadata": {},
     "output_type": "display_data"
    },
    {
     "data": {
      "application/vnd.jupyter.widget-view+json": {
       "model_id": "d173f3078f384eb880c39e00c25a0ea1",
       "version_major": 2,
       "version_minor": 0
      },
      "text/plain": [
       "Generating embeddings:   0%|          | 0/1 [00:00<?, ?it/s]"
      ]
     },
     "metadata": {},
     "output_type": "display_data"
    },
    {
     "name": "stdout",
     "output_type": "stream",
     "text": [
      "354 Military operations (shelling)\n",
      "['On Monday, August 27, eyewitnesses reported that an RSF group from West Darfur attempted to loot the Mellit market, sparking resistance from local RSF members.']\n"
     ]
    },
    {
     "data": {
      "application/vnd.jupyter.widget-view+json": {
       "model_id": "b778062e8a804b339680408d4cb9eef2",
       "version_major": 2,
       "version_minor": 0
      },
      "text/plain": [
       "Parsing nodes:   0%|          | 0/1 [00:00<?, ?it/s]"
      ]
     },
     "metadata": {},
     "output_type": "display_data"
    },
    {
     "data": {
      "application/vnd.jupyter.widget-view+json": {
       "model_id": "35aae7a09e784d23a32e961c6794326b",
       "version_major": 2,
       "version_minor": 0
      },
      "text/plain": [
       "Generating embeddings:   0%|          | 0/1 [00:00<?, ?it/s]"
      ]
     },
     "metadata": {},
     "output_type": "display_data"
    },
    {
     "name": "stdout",
     "output_type": "stream",
     "text": [
      "355 Damage or destruction, looting, or theft of cultural heritage\n",
      "['\" On Tuesday, August 27, deadly clashes between rival factions of Sudan‚Äôs Rapid Support Forces (RSF) in Mellit, North Darfur, left seven dead from both sides, destroyed two vehicles, and heightened tensions in the region. Markets remained closed and residents confined to their homes.\"']\n"
     ]
    },
    {
     "data": {
      "application/vnd.jupyter.widget-view+json": {
       "model_id": "f4c275f790574664bbb941126d68a6b1",
       "version_major": 2,
       "version_minor": 0
      },
      "text/plain": [
       "Parsing nodes:   0%|          | 0/1 [00:00<?, ?it/s]"
      ]
     },
     "metadata": {},
     "output_type": "display_data"
    },
    {
     "data": {
      "application/vnd.jupyter.widget-view+json": {
       "model_id": "77095ce9e2954a6992d5942d5d77222f",
       "version_major": 2,
       "version_minor": 0
      },
      "text/plain": [
       "Generating embeddings:   0%|          | 0/1 [00:00<?, ?it/s]"
      ]
     },
     "metadata": {},
     "output_type": "display_data"
    },
    {
     "name": "stdout",
     "output_type": "stream",
     "text": [
      "356 Military operations (battle, shelling)\n",
      "['\"Around August 30, the SAF and the RSF released contradictory statements, with each claiming to control the Bunzuqa area, which is part of the Al-Suki locality on the eastern bank of the Nile, in Sennar state. The army also reported the capture of some localities in Sennar, including the villages of Jalqani and Al-Lukundi whereas RSF claimed that the SAF bombed the city of Al-Dinder in Sennar state, killing civilians and destroying homes.\"']\n"
     ]
    },
    {
     "data": {
      "application/vnd.jupyter.widget-view+json": {
       "model_id": "6febd96fc0274668b71d1ff1f5953a9f",
       "version_major": 2,
       "version_minor": 0
      },
      "text/plain": [
       "Parsing nodes:   0%|          | 0/1 [00:00<?, ?it/s]"
      ]
     },
     "metadata": {},
     "output_type": "display_data"
    },
    {
     "data": {
      "application/vnd.jupyter.widget-view+json": {
       "model_id": "509a91e3cd4648f6b7f0e5026dd0a02e",
       "version_major": 2,
       "version_minor": 0
      },
      "text/plain": [
       "Generating embeddings:   0%|          | 0/1 [00:00<?, ?it/s]"
      ]
     },
     "metadata": {},
     "output_type": "display_data"
    },
    {
     "name": "stdout",
     "output_type": "stream",
     "text": [
      "357 Military operations (battle, shelling)\n",
      "['On Friday, August 30, the Sudanese Health Ministry reported that¬† an artillery shelling by the RSF killed 7 people and wounded 25 others in Omdurman. The attack affected civilian-populated areas in Karari, and the northern and western parts of Omdurman, including the Bir Hammad market,¬† the Bant market, the Chinese hospital, and the Al-Thawra suburb.¬†']\n"
     ]
    },
    {
     "data": {
      "application/vnd.jupyter.widget-view+json": {
       "model_id": "d0be2d6d2078436bb9fc635baafd11f8",
       "version_major": 2,
       "version_minor": 0
      },
      "text/plain": [
       "Parsing nodes:   0%|          | 0/1 [00:00<?, ?it/s]"
      ]
     },
     "metadata": {},
     "output_type": "display_data"
    },
    {
     "data": {
      "application/vnd.jupyter.widget-view+json": {
       "model_id": "7fa464160587499b82a8a5d3c0c370c1",
       "version_major": 2,
       "version_minor": 0
      },
      "text/plain": [
       "Generating embeddings:   0%|          | 0/1 [00:00<?, ?it/s]"
      ]
     },
     "metadata": {},
     "output_type": "display_data"
    },
    {
     "name": "stdout",
     "output_type": "stream",
     "text": [
      "358 Military operations (shelling)\n",
      "['The army also the capture of some localities in Sennar, including the villages of Jalqani and Al-Lukundi whereas RSF claimed that the SAF bombed the city of Al-Dinder in Sennar state, killing civilians and destroying homes.']\n"
     ]
    },
    {
     "data": {
      "application/vnd.jupyter.widget-view+json": {
       "model_id": "8744d18c401c47b791fc2d2c6409745a",
       "version_major": 2,
       "version_minor": 0
      },
      "text/plain": [
       "Parsing nodes:   0%|          | 0/1 [00:00<?, ?it/s]"
      ]
     },
     "metadata": {},
     "output_type": "display_data"
    },
    {
     "data": {
      "application/vnd.jupyter.widget-view+json": {
       "model_id": "835523fbefce45c2b5a2fce3a60ecbda",
       "version_major": 2,
       "version_minor": 0
      },
      "text/plain": [
       "Generating embeddings:   0%|          | 0/1 [00:00<?, ?it/s]"
      ]
     },
     "metadata": {},
     "output_type": "display_data"
    },
    {
     "name": "stdout",
     "output_type": "stream",
     "text": [
      "359 Military operations (battle, shelling)\n",
      "['The army reportedly captured some localities in Sennar, including the villages of Jalqani and Al-Lukundi whereas RSF claimed that the SAF bombed the city of Al-Dinder in Sennar state, killing civilians and destroying homes.']\n"
     ]
    },
    {
     "data": {
      "application/vnd.jupyter.widget-view+json": {
       "model_id": "6e7fb07d9fcc4c33a2976a5640484c8c",
       "version_major": 2,
       "version_minor": 0
      },
      "text/plain": [
       "Parsing nodes:   0%|          | 0/1 [00:00<?, ?it/s]"
      ]
     },
     "metadata": {},
     "output_type": "display_data"
    },
    {
     "data": {
      "application/vnd.jupyter.widget-view+json": {
       "model_id": "7fad203901d0413abf22ace1fcc2291c",
       "version_major": 2,
       "version_minor": 0
      },
      "text/plain": [
       "Generating embeddings:   0%|          | 0/1 [00:00<?, ?it/s]"
      ]
     },
     "metadata": {},
     "output_type": "display_data"
    },
    {
     "name": "stdout",
     "output_type": "stream",
     "text": [
      "360 Military operations (battle, shelling)\n",
      "['On Saturday, August 31, at 8:30 pm,¬† SAF warplanes launched an airstrike on Jabrat El Sheikh, 160 km north of¬† El Obeid, the capital city of North Kordofan. No casualties were reported, but¬† the airstrikes damaged at least two homes and public facilities. The airstrikes targeted also official buildings such as the offices of Jabrat El Sheikh locality, the courthouse and the police station in the northeastern part of the town that the RSF have been using as headquarters.']\n"
     ]
    },
    {
     "data": {
      "application/vnd.jupyter.widget-view+json": {
       "model_id": "4f3f33b0bed84138b7358aec7969538d",
       "version_major": 2,
       "version_minor": 0
      },
      "text/plain": [
       "Parsing nodes:   0%|          | 0/1 [00:00<?, ?it/s]"
      ]
     },
     "metadata": {},
     "output_type": "display_data"
    },
    {
     "data": {
      "application/vnd.jupyter.widget-view+json": {
       "model_id": "1c616a627ce74c2d9a10f5fc7d219cf7",
       "version_major": 2,
       "version_minor": 0
      },
      "text/plain": [
       "Generating embeddings:   0%|          | 0/1 [00:00<?, ?it/s]"
      ]
     },
     "metadata": {},
     "output_type": "display_data"
    },
    {
     "name": "stdout",
     "output_type": "stream",
     "text": [
      "361 Military operations (battle, shelling)\n",
      "['On Saturday, August 31, several¬† neighborhoods and RSF positions in Mellit were reportedly hit by bombs dropped by the SAF warplanes, leaving at least 11 people dead and 9 others injured.¬†']\n"
     ]
    },
    {
     "data": {
      "application/vnd.jupyter.widget-view+json": {
       "model_id": "92e5ec16e27e42e782993fbb15a0181d",
       "version_major": 2,
       "version_minor": 0
      },
      "text/plain": [
       "Parsing nodes:   0%|          | 0/1 [00:00<?, ?it/s]"
      ]
     },
     "metadata": {},
     "output_type": "display_data"
    },
    {
     "data": {
      "application/vnd.jupyter.widget-view+json": {
       "model_id": "b5f372e20c914ca0ab2e9b994b6c5a32",
       "version_major": 2,
       "version_minor": 0
      },
      "text/plain": [
       "Generating embeddings:   0%|          | 0/1 [00:00<?, ?it/s]"
      ]
     },
     "metadata": {},
     "output_type": "display_data"
    },
    {
     "name": "stdout",
     "output_type": "stream",
     "text": [
      "362 Indiscriminate use of weapons\n",
      "['On Saturday, August 31 in the morning,¬† SAF warplanes bombed¬† the wholesale market, Es Soug El Markazi,¬† in the southern part of the Wad Madani, capital of El Gezira, which is under RSF control. Even though, an RSF position seems to have been targeted, the aerial bombardment caused much destruction in the area and casualties among civilians, including street vendors, tea and coffee sellers along the roads near the market.']\n"
     ]
    },
    {
     "data": {
      "application/vnd.jupyter.widget-view+json": {
       "model_id": "f02bd59fd916433da8c99e2541b1230f",
       "version_major": 2,
       "version_minor": 0
      },
      "text/plain": [
       "Parsing nodes:   0%|          | 0/1 [00:00<?, ?it/s]"
      ]
     },
     "metadata": {},
     "output_type": "display_data"
    },
    {
     "data": {
      "application/vnd.jupyter.widget-view+json": {
       "model_id": "64337b25888c48e2b9f9a341d99b8297",
       "version_major": 2,
       "version_minor": 0
      },
      "text/plain": [
       "Generating embeddings:   0%|          | 0/1 [00:00<?, ?it/s]"
      ]
     },
     "metadata": {},
     "output_type": "display_data"
    },
    {
     "name": "stdout",
     "output_type": "stream",
     "text": [
      "363 Military operations (battle, shelling)\n",
      "['On Saturday, August 31, at around 10:00pm, the Sudanese Air Force bombed several areas of Zalingei, the capital city of Central Darfur, which is under RSF control. The sites affected by the bombing include the Khamsa Dagayed camp for displaced people, the Karnak neighbourhood in the centre of the city, and an area near the Zalingei Grand Market. At least 5 people were killed and six injured.']\n"
     ]
    },
    {
     "data": {
      "application/vnd.jupyter.widget-view+json": {
       "model_id": "2203fbb51b7442db99c8aeb7b1c4df3d",
       "version_major": 2,
       "version_minor": 0
      },
      "text/plain": [
       "Parsing nodes:   0%|          | 0/1 [00:00<?, ?it/s]"
      ]
     },
     "metadata": {},
     "output_type": "display_data"
    },
    {
     "data": {
      "application/vnd.jupyter.widget-view+json": {
       "model_id": "91bba593f2884369b3bf2fab8af7591e",
       "version_major": 2,
       "version_minor": 0
      },
      "text/plain": [
       "Generating embeddings:   0%|          | 0/1 [00:00<?, ?it/s]"
      ]
     },
     "metadata": {},
     "output_type": "display_data"
    },
    {
     "name": "stdout",
     "output_type": "stream",
     "text": [
      "364 Military operations (battle, shelling)\n",
      "['On Monday, September 2nd, at least 10 people were killed and more than 40 injured as a result of the Sudanese Army‚Äôs airstrikes on Mellit, a city of North Darfur that is under the RSF control.Out of 10 bombs dropped by a warplane, a witness reported that ¬´¬†eight hit the al-Nasr and al-Qubba neighbourhoods and destroyed four houses¬†¬ª while ¬´¬†two bombs fell in the al-Aish and al-Tawahin market, causing deaths, injuries and extensive damage.¬ª']\n"
     ]
    },
    {
     "data": {
      "application/vnd.jupyter.widget-view+json": {
       "model_id": "6b2ba7faaf9f4c7c927d3065cef122df",
       "version_major": 2,
       "version_minor": 0
      },
      "text/plain": [
       "Parsing nodes:   0%|          | 0/1 [00:00<?, ?it/s]"
      ]
     },
     "metadata": {},
     "output_type": "display_data"
    },
    {
     "data": {
      "application/vnd.jupyter.widget-view+json": {
       "model_id": "6008af345fe44641b996ab2710e31962",
       "version_major": 2,
       "version_minor": 0
      },
      "text/plain": [
       "Generating embeddings:   0%|          | 0/1 [00:00<?, ?it/s]"
      ]
     },
     "metadata": {},
     "output_type": "display_data"
    },
    {
     "name": "stdout",
     "output_type": "stream",
     "text": [
      "365 Indiscriminate use of weapons\n",
      "['On Monday, September 2nd, in Mellit, North Darfur, the RSF reportedly arrested more than 30 people, including traders and members of an emergency committee whom they accused of collaborating with the army and providing coordinates for the air strikes.']\n"
     ]
    },
    {
     "data": {
      "application/vnd.jupyter.widget-view+json": {
       "model_id": "a4070ea754064ffe8e719aff8fb35374",
       "version_major": 2,
       "version_minor": 0
      },
      "text/plain": [
       "Parsing nodes:   0%|          | 0/1 [00:00<?, ?it/s]"
      ]
     },
     "metadata": {},
     "output_type": "display_data"
    },
    {
     "data": {
      "application/vnd.jupyter.widget-view+json": {
       "model_id": "a517aa874e754c60a2a8b409e6f06dad",
       "version_major": 2,
       "version_minor": 0
      },
      "text/plain": [
       "Generating embeddings:   0%|          | 0/1 [00:00<?, ?it/s]"
      ]
     },
     "metadata": {},
     "output_type": "display_data"
    },
    {
     "name": "stdout",
     "output_type": "stream",
     "text": [
      "366 Unlawful detention\n",
      "['\" On Monday, September 2nd, after several hours of fighting in Khartoum Bahri, the SAF declared that they repelled an RSF attack on the Khattab and Kadaro bases, which are located in that area. While the RSF claimed to have taken control of the Khattab area after inflicting heavy losses on the army, the army maintained that it repelled the attacks, killed dozens of soldiers, destroyed military vehicles and seized others in good condition.\"']\n"
     ]
    },
    {
     "data": {
      "application/vnd.jupyter.widget-view+json": {
       "model_id": "7ec8c6b1ca5145108932c98987c8a60f",
       "version_major": 2,
       "version_minor": 0
      },
      "text/plain": [
       "Parsing nodes:   0%|          | 0/1 [00:00<?, ?it/s]"
      ]
     },
     "metadata": {},
     "output_type": "display_data"
    },
    {
     "data": {
      "application/vnd.jupyter.widget-view+json": {
       "model_id": "0fbad9bbf0dd4908a87ee9ee91566a46",
       "version_major": 2,
       "version_minor": 0
      },
      "text/plain": [
       "Generating embeddings:   0%|          | 0/1 [00:00<?, ?it/s]"
      ]
     },
     "metadata": {},
     "output_type": "display_data"
    },
    {
     "name": "stdout",
     "output_type": "stream",
     "text": [
      "367 Military operations (battle, shelling)\n",
      "['On September 2, 2024, a video posted by the Rapid Support Forces (RSF) shows RSF members beating civilian-dressed prisoners with sticks and whips near the Hattab Reconnaissance Camp in Khartoum State. The RSF claims the prisoners are militants, but no evidence confirms this. A separate video shows rockets being fired from a Katyusha launcher toward the Hattab camp.']\n"
     ]
    },
    {
     "data": {
      "application/vnd.jupyter.widget-view+json": {
       "model_id": "44f3017473df43f990af2611254cc27f",
       "version_major": 2,
       "version_minor": 0
      },
      "text/plain": [
       "Parsing nodes:   0%|          | 0/1 [00:00<?, ?it/s]"
      ]
     },
     "metadata": {},
     "output_type": "display_data"
    },
    {
     "data": {
      "application/vnd.jupyter.widget-view+json": {
       "model_id": "74714ea207574aaf8856d500efae5d7e",
       "version_major": 2,
       "version_minor": 0
      },
      "text/plain": [
       "Generating embeddings:   0%|          | 0/1 [00:00<?, ?it/s]"
      ]
     },
     "metadata": {},
     "output_type": "display_data"
    },
    {
     "name": "stdout",
     "output_type": "stream",
     "text": [
      "368 Torture or indications of torture\n",
      "['\"Early in the morning of Tuesday, September 3, Sudanese army warplanes conducted airstrikes on RSF positions in the eastern neighborhoods of El Fasher, North Darfur. According to the El Fasher Resistance Committees Coordination, the RSF responded with artillery shelling and at least two people were killed and dozens injured. As a result of indiscriminate shelling and a blockade, the El Fasher population experience severe shortages of drinking water and food and flee the city. \"']\n"
     ]
    },
    {
     "data": {
      "application/vnd.jupyter.widget-view+json": {
       "model_id": "52b018524b3b4da8a475fda1ac0d2300",
       "version_major": 2,
       "version_minor": 0
      },
      "text/plain": [
       "Parsing nodes:   0%|          | 0/1 [00:00<?, ?it/s]"
      ]
     },
     "metadata": {},
     "output_type": "display_data"
    },
    {
     "data": {
      "application/vnd.jupyter.widget-view+json": {
       "model_id": "997c3f5f49be4bc69f2b5479b6bae625",
       "version_major": 2,
       "version_minor": 0
      },
      "text/plain": [
       "Generating embeddings:   0%|          | 0/1 [00:00<?, ?it/s]"
      ]
     },
     "metadata": {},
     "output_type": "display_data"
    },
    {
     "name": "stdout",
     "output_type": "stream",
     "text": [
      "369 Military operations (battle, shelling)\n",
      "['A drone targeting the headquarters of the Security and Intelligence Service in Gedaref State was responded to using ground anti-aircraft guns. There is no news yet about any casualties among civilians.']\n"
     ]
    },
    {
     "data": {
      "application/vnd.jupyter.widget-view+json": {
       "model_id": "0f7a5ab0bd90492fb29553fafb3da74d",
       "version_major": 2,
       "version_minor": 0
      },
      "text/plain": [
       "Parsing nodes:   0%|          | 0/1 [00:00<?, ?it/s]"
      ]
     },
     "metadata": {},
     "output_type": "display_data"
    },
    {
     "data": {
      "application/vnd.jupyter.widget-view+json": {
       "model_id": "57a8a01c6ca24f10b337b70bd70626f0",
       "version_major": 2,
       "version_minor": 0
      },
      "text/plain": [
       "Generating embeddings:   0%|          | 0/1 [00:00<?, ?it/s]"
      ]
     },
     "metadata": {},
     "output_type": "display_data"
    },
    {
     "name": "stdout",
     "output_type": "stream",
     "text": [
      "370 Military operations (battle, shelling)\n",
      "['On Wednesday, September 4th, after clashing with the army and the withdrawal of the latter, the RSF reportedly shot dead seven civilians in the Salama North area of Khartoum Bahri, according to some residents and activists.']\n"
     ]
    },
    {
     "data": {
      "application/vnd.jupyter.widget-view+json": {
       "model_id": "8fd02ce1e82e4bdc9c5fa48ec6255c0e",
       "version_major": 2,
       "version_minor": 0
      },
      "text/plain": [
       "Parsing nodes:   0%|          | 0/1 [00:00<?, ?it/s]"
      ]
     },
     "metadata": {},
     "output_type": "display_data"
    },
    {
     "data": {
      "application/vnd.jupyter.widget-view+json": {
       "model_id": "0ca897aa1b84458794f5cb939078de37",
       "version_major": 2,
       "version_minor": 0
      },
      "text/plain": [
       "Generating embeddings:   0%|          | 0/1 [00:00<?, ?it/s]"
      ]
     },
     "metadata": {},
     "output_type": "display_data"
    },
    {
     "name": "stdout",
     "output_type": "stream",
     "text": [
      "371 Willful killing of civilians\n",
      "['On September 5, the Sudan Liberation Movement-Transitional Council accused the Sudanese army of bombing the Korma area, which is located in the South west of El Fasher and hosts the headquarters of the armed movement.']\n"
     ]
    },
    {
     "data": {
      "application/vnd.jupyter.widget-view+json": {
       "model_id": "5d5765135a7d4b499d9cf23c22f101e5",
       "version_major": 2,
       "version_minor": 0
      },
      "text/plain": [
       "Parsing nodes:   0%|          | 0/1 [00:00<?, ?it/s]"
      ]
     },
     "metadata": {},
     "output_type": "display_data"
    },
    {
     "data": {
      "application/vnd.jupyter.widget-view+json": {
       "model_id": "2d0aad12960a47fdb2b68a926a92f647",
       "version_major": 2,
       "version_minor": 0
      },
      "text/plain": [
       "Generating embeddings:   0%|          | 0/1 [00:00<?, ?it/s]"
      ]
     },
     "metadata": {},
     "output_type": "display_data"
    },
    {
     "name": "stdout",
     "output_type": "stream",
     "text": [
      "372 Military operations (battle, shelling)\n",
      "['On Thursday, September 5, early in the morning, the Sudanese air force conducted airstrikes on RSF positions in Khartoum, especially in ¬† Riyadh, Al-Manshiya, Arkoit and Burri. Residents reported sounds of anti-aircraft missiles in these areas and strong explosions throughout the city.']\n"
     ]
    },
    {
     "data": {
      "application/vnd.jupyter.widget-view+json": {
       "model_id": "afba32287a7f4e35b9b6ea411edcb3d5",
       "version_major": 2,
       "version_minor": 0
      },
      "text/plain": [
       "Parsing nodes:   0%|          | 0/1 [00:00<?, ?it/s]"
      ]
     },
     "metadata": {},
     "output_type": "display_data"
    },
    {
     "data": {
      "application/vnd.jupyter.widget-view+json": {
       "model_id": "5115ffee97a8417ab0e6c24d57b7456c",
       "version_major": 2,
       "version_minor": 0
      },
      "text/plain": [
       "Generating embeddings:   0%|          | 0/1 [00:00<?, ?it/s]"
      ]
     },
     "metadata": {},
     "output_type": "display_data"
    },
    {
     "name": "stdout",
     "output_type": "stream",
     "text": [
      "373 Military operations (battle, shelling)\n",
      "['On Thursday, September 5, the presence of the Rapid Support Forces (RSF) was confirmed in some localities of South Sudan, especially Radom, Kafia Kinji, Sungu, and Hofra Al Nahas which are all part of Raja county. This incursion of the RSF into South Sudanese territory has raised concerns among local residents and authorities about potential military clashes. The RSF reportedly have started to exploit mineral resources in some areas.']\n"
     ]
    },
    {
     "data": {
      "application/vnd.jupyter.widget-view+json": {
       "model_id": "07a2d79779c740da9dab31039ccdba85",
       "version_major": 2,
       "version_minor": 0
      },
      "text/plain": [
       "Parsing nodes:   0%|          | 0/1 [00:00<?, ?it/s]"
      ]
     },
     "metadata": {},
     "output_type": "display_data"
    },
    {
     "data": {
      "application/vnd.jupyter.widget-view+json": {
       "model_id": "5385fa1f907342cc95529ac5e10d4e6e",
       "version_major": 2,
       "version_minor": 0
      },
      "text/plain": [
       "Generating embeddings:   0%|          | 0/1 [00:00<?, ?it/s]"
      ]
     },
     "metadata": {},
     "output_type": "display_data"
    },
    {
     "name": "stdout",
     "output_type": "stream",
     "text": [
      "374 Movement of military, paramilitary, or other troops and equipment\n",
      "['Early in the morning of Saturday, September 7, eyewitnesses reported violent clashes between the SAF and the RSF in the Armored Corps area, south of Khartoum, where repeated explosions were heard in the neighborhoods of Al-Shajara, Jabrah,¬†Al-Sahafa, Al-Azhari, Al-Muqrin, and Tuti, in addition to the Sports City.']\n"
     ]
    },
    {
     "data": {
      "application/vnd.jupyter.widget-view+json": {
       "model_id": "7343601f48ab4900b2f3e185b97eb783",
       "version_major": 2,
       "version_minor": 0
      },
      "text/plain": [
       "Parsing nodes:   0%|          | 0/1 [00:00<?, ?it/s]"
      ]
     },
     "metadata": {},
     "output_type": "display_data"
    },
    {
     "data": {
      "application/vnd.jupyter.widget-view+json": {
       "model_id": "12cfed9a4b7e4487947e681a5cf899b8",
       "version_major": 2,
       "version_minor": 0
      },
      "text/plain": [
       "Generating embeddings:   0%|          | 0/1 [00:00<?, ?it/s]"
      ]
     },
     "metadata": {},
     "output_type": "display_data"
    },
    {
     "name": "stdout",
     "output_type": "stream",
     "text": [
      "375 Military operations (battle, shelling)\n",
      "['\"On September 7, the Sudanese Army warplanes bombed Rapid Support Forces positions in the North and East of El Fasher, North Darfur, causing casualties and equipment losses. \"']\n"
     ]
    },
    {
     "data": {
      "application/vnd.jupyter.widget-view+json": {
       "model_id": "08872a889e874f029b3b907f962f3c34",
       "version_major": 2,
       "version_minor": 0
      },
      "text/plain": [
       "Parsing nodes:   0%|          | 0/1 [00:00<?, ?it/s]"
      ]
     },
     "metadata": {},
     "output_type": "display_data"
    },
    {
     "data": {
      "application/vnd.jupyter.widget-view+json": {
       "model_id": "8a1e4001900f48a8913dc1daae81d7af",
       "version_major": 2,
       "version_minor": 0
      },
      "text/plain": [
       "Generating embeddings:   0%|          | 0/1 [00:00<?, ?it/s]"
      ]
     },
     "metadata": {},
     "output_type": "display_data"
    },
    {
     "name": "stdout",
     "output_type": "stream",
     "text": [
      "376 Military operations (battle, shelling)\n",
      "['On September 7, Sudanese ¬†Special Forces reportedly confirmed their progress along the Managil axis in Al-Jazeera State, where they carried out raids with missiles on several RSF positions.']\n"
     ]
    },
    {
     "data": {
      "application/vnd.jupyter.widget-view+json": {
       "model_id": "b0184ea1dce743efa7b04e10cfc99463",
       "version_major": 2,
       "version_minor": 0
      },
      "text/plain": [
       "Parsing nodes:   0%|          | 0/1 [00:00<?, ?it/s]"
      ]
     },
     "metadata": {},
     "output_type": "display_data"
    },
    {
     "data": {
      "application/vnd.jupyter.widget-view+json": {
       "model_id": "31e74595cfdb48678b88fdddf0913e17",
       "version_major": 2,
       "version_minor": 0
      },
      "text/plain": [
       "Generating embeddings:   0%|          | 0/1 [00:00<?, ?it/s]"
      ]
     },
     "metadata": {},
     "output_type": "display_data"
    },
    {
     "name": "stdout",
     "output_type": "stream",
     "text": [
      "377 Military operations (battle, shelling)\n",
      "['\" On Saturday, September 7th, fighting intensified between the Sudanese Army and RSF around the Hattab military base in Bahri, Khartoum North, forcing hundreds of families to flee. \"']\n"
     ]
    },
    {
     "data": {
      "application/vnd.jupyter.widget-view+json": {
       "model_id": "a684cbaad669434c99b3a14c25510bd2",
       "version_major": 2,
       "version_minor": 0
      },
      "text/plain": [
       "Parsing nodes:   0%|          | 0/1 [00:00<?, ?it/s]"
      ]
     },
     "metadata": {},
     "output_type": "display_data"
    },
    {
     "data": {
      "application/vnd.jupyter.widget-view+json": {
       "model_id": "da62b614495943099509120d31db6e58",
       "version_major": 2,
       "version_minor": 0
      },
      "text/plain": [
       "Generating embeddings:   0%|          | 0/1 [00:00<?, ?it/s]"
      ]
     },
     "metadata": {},
     "output_type": "display_data"
    },
    {
     "name": "stdout",
     "output_type": "stream",
     "text": [
      "378 Military operations (battle, shelling)\n",
      "['On Sunday, September 8th, a heavy artillery shelling reportedly emanating from RSF in response to the Sudanese Army‚Äôs airstrikes, killed at least 21 people and injured more than 70 in the main market of Sennar city, the capital city of Sennar, which is under RSF control. According to witnesses and military sources, there might be more than 150 dead because the shelling hit the vegetable and fish markets, a public transport station and residential areas.']\n"
     ]
    },
    {
     "data": {
      "application/vnd.jupyter.widget-view+json": {
       "model_id": "817107d87ca84b88af3675c6757a09e5",
       "version_major": 2,
       "version_minor": 0
      },
      "text/plain": [
       "Parsing nodes:   0%|          | 0/1 [00:00<?, ?it/s]"
      ]
     },
     "metadata": {},
     "output_type": "display_data"
    },
    {
     "data": {
      "application/vnd.jupyter.widget-view+json": {
       "model_id": "f7ca4520a04e42cb9ff88def8b40eb2c",
       "version_major": 2,
       "version_minor": 0
      },
      "text/plain": [
       "Generating embeddings:   0%|          | 0/1 [00:00<?, ?it/s]"
      ]
     },
     "metadata": {},
     "output_type": "display_data"
    },
    {
     "name": "stdout",
     "output_type": "stream",
     "text": [
      "379 Military operations (shelling)\n",
      "['\"On Sunday, September 8, the RSF launched a large drone attack on El Fasher, North Darfur, but the attack was repelled by the Sudanese Army and allied forces who destroyed 30 drones. \"']\n"
     ]
    },
    {
     "data": {
      "application/vnd.jupyter.widget-view+json": {
       "model_id": "f3e7240f1e9241f486489281573566ae",
       "version_major": 2,
       "version_minor": 0
      },
      "text/plain": [
       "Parsing nodes:   0%|          | 0/1 [00:00<?, ?it/s]"
      ]
     },
     "metadata": {},
     "output_type": "display_data"
    },
    {
     "data": {
      "application/vnd.jupyter.widget-view+json": {
       "model_id": "468fb40b60cc4ded87094043c623e99d",
       "version_major": 2,
       "version_minor": 0
      },
      "text/plain": [
       "Generating embeddings:   0%|          | 0/1 [00:00<?, ?it/s]"
      ]
     },
     "metadata": {},
     "output_type": "display_data"
    },
    {
     "name": "stdout",
     "output_type": "stream",
     "text": [
      "380 Military operations (battle, shelling)\n",
      "['On Monday, September 9, a day after the shelling at a market in Sennar city, Sennar State, paramilitary gunfire was reported in the city. Activists and witnesses attributed the attack to the RSF, though further casualties from the renewed gunfire were not immediately known.']\n"
     ]
    },
    {
     "data": {
      "application/vnd.jupyter.widget-view+json": {
       "model_id": "c34d53f6d612445e941a1dc3cf64aa5f",
       "version_major": 2,
       "version_minor": 0
      },
      "text/plain": [
       "Parsing nodes:   0%|          | 0/1 [00:00<?, ?it/s]"
      ]
     },
     "metadata": {},
     "output_type": "display_data"
    },
    {
     "data": {
      "application/vnd.jupyter.widget-view+json": {
       "model_id": "3c3bf7271f0f4cf18694ec1e0f10a674",
       "version_major": 2,
       "version_minor": 0
      },
      "text/plain": [
       "Generating embeddings:   0%|          | 0/1 [00:00<?, ?it/s]"
      ]
     },
     "metadata": {},
     "output_type": "display_data"
    },
    {
     "name": "stdout",
     "output_type": "stream",
     "text": [
      "381 Military operations (shelling)\n",
      "['\" On Monday, September 9th, in the evening, Hamar tribal fighters allied with the SAF clashed with the RSF in Al-Khowi, East of An-Nahud in West Kordofan.\"']\n"
     ]
    },
    {
     "data": {
      "application/vnd.jupyter.widget-view+json": {
       "model_id": "be63bf61ef10438ab9f8528ac94e56e9",
       "version_major": 2,
       "version_minor": 0
      },
      "text/plain": [
       "Parsing nodes:   0%|          | 0/1 [00:00<?, ?it/s]"
      ]
     },
     "metadata": {},
     "output_type": "display_data"
    },
    {
     "data": {
      "application/vnd.jupyter.widget-view+json": {
       "model_id": "af8da0045eb04646b1a2dd8113f30694",
       "version_major": 2,
       "version_minor": 0
      },
      "text/plain": [
       "Generating embeddings:   0%|          | 0/1 [00:00<?, ?it/s]"
      ]
     },
     "metadata": {},
     "output_type": "display_data"
    },
    {
     "name": "stdout",
     "output_type": "stream",
     "text": [
      "382 Military operations (battle, shelling)\n",
      "['\"On Tuesday, September 10th, Sudan News Agency reported that the Atbara General Criminal Court sentenced to death by hanging an alleged collaborator of the RSF. \"']\n"
     ]
    },
    {
     "data": {
      "application/vnd.jupyter.widget-view+json": {
       "model_id": "609dea261cef433db996fd45d7016f83",
       "version_major": 2,
       "version_minor": 0
      },
      "text/plain": [
       "Parsing nodes:   0%|          | 0/1 [00:00<?, ?it/s]"
      ]
     },
     "metadata": {},
     "output_type": "display_data"
    },
    {
     "data": {
      "application/vnd.jupyter.widget-view+json": {
       "model_id": "d50168de270045bc833bad6063b3e4fb",
       "version_major": 2,
       "version_minor": 0
      },
      "text/plain": [
       "Generating embeddings:   0%|          | 0/1 [00:00<?, ?it/s]"
      ]
     },
     "metadata": {},
     "output_type": "display_data"
    },
    {
     "name": "stdout",
     "output_type": "stream",
     "text": [
      "383 Extrajudicial killing\n",
      "['\"On Wednesday, September 11, there was fighting between the RSF and SAF in Omdurman and Khartoum North. The RSF accused the SAF of bombing with drones that day in the morning the El Aylafoun oil pumping station, east of Khartoum, causing extensive damage and injuring some workers. This station, which was under RSF control reportedly leads South Sudanese and Sudanese oil through pipelines to Red Sea ports. \"']\n"
     ]
    },
    {
     "data": {
      "application/vnd.jupyter.widget-view+json": {
       "model_id": "4ac5e7a8213e4b0ca4a40cdca698f29d",
       "version_major": 2,
       "version_minor": 0
      },
      "text/plain": [
       "Parsing nodes:   0%|          | 0/1 [00:00<?, ?it/s]"
      ]
     },
     "metadata": {},
     "output_type": "display_data"
    },
    {
     "data": {
      "application/vnd.jupyter.widget-view+json": {
       "model_id": "8e3db2d8b16a4872ae20ae5cae3ffb47",
       "version_major": 2,
       "version_minor": 0
      },
      "text/plain": [
       "Generating embeddings:   0%|          | 0/1 [00:00<?, ?it/s]"
      ]
     },
     "metadata": {},
     "output_type": "display_data"
    },
    {
     "name": "stdout",
     "output_type": "stream",
     "text": [
      "384 Military operations (battle, shelling)\n",
      "['On Monday, September 11, in the evening, a SAF airstrike killed 5 civilians, including three women, and injured 5 other persons in Ed Daien in East Darfur State.']\n"
     ]
    },
    {
     "data": {
      "application/vnd.jupyter.widget-view+json": {
       "model_id": "143738e7213c46adb17e7868b4276707",
       "version_major": 2,
       "version_minor": 0
      },
      "text/plain": [
       "Parsing nodes:   0%|          | 0/1 [00:00<?, ?it/s]"
      ]
     },
     "metadata": {},
     "output_type": "display_data"
    },
    {
     "data": {
      "application/vnd.jupyter.widget-view+json": {
       "model_id": "aa593d1adc2e42149456438e2ab9d9e1",
       "version_major": 2,
       "version_minor": 0
      },
      "text/plain": [
       "Generating embeddings:   0%|          | 0/1 [00:00<?, ?it/s]"
      ]
     },
     "metadata": {},
     "output_type": "display_data"
    },
    {
     "name": "stdout",
     "output_type": "stream",
     "text": [
      "385 Willful killing of civilians\n",
      "['\" On September 11, according to local sources who spoke to Radio Dabanga, three women were killed and four other persons injured by ¬´¬†an RSF anti-aircraft missile that hit the Ahmed Zeinelabdin Schools shelter¬†in the Kafout neighbourhood east of the El Fasher Grand Market.¬ª \"']\n"
     ]
    },
    {
     "data": {
      "application/vnd.jupyter.widget-view+json": {
       "model_id": "9d6a0487894542cbac85c0eee5c240d7",
       "version_major": 2,
       "version_minor": 0
      },
      "text/plain": [
       "Parsing nodes:   0%|          | 0/1 [00:00<?, ?it/s]"
      ]
     },
     "metadata": {},
     "output_type": "display_data"
    },
    {
     "data": {
      "application/vnd.jupyter.widget-view+json": {
       "model_id": "6bf8ffbec94342d195bd0ed0e18d5a19",
       "version_major": 2,
       "version_minor": 0
      },
      "text/plain": [
       "Generating embeddings:   0%|          | 0/1 [00:00<?, ?it/s]"
      ]
     },
     "metadata": {},
     "output_type": "display_data"
    },
    {
     "name": "stdout",
     "output_type": "stream",
     "text": [
      "386 Indiscriminate use of weapons\n",
      "['On September 11, 2024, the Rapid Support (RSF) arrested dozens of traders outside Zamzam camp in southern El Fasher, North Darfur, because they were suspected of smuggling supplies, including food, medecine, and fuel, into the camp in order to relieve the dire humanitarian situation.']\n"
     ]
    },
    {
     "data": {
      "application/vnd.jupyter.widget-view+json": {
       "model_id": "5957c518e44e47fd809212f000c2df64",
       "version_major": 2,
       "version_minor": 0
      },
      "text/plain": [
       "Parsing nodes:   0%|          | 0/1 [00:00<?, ?it/s]"
      ]
     },
     "metadata": {},
     "output_type": "display_data"
    },
    {
     "data": {
      "application/vnd.jupyter.widget-view+json": {
       "model_id": "5915806349a7408d9ea7747ccd8d8cb0",
       "version_major": 2,
       "version_minor": 0
      },
      "text/plain": [
       "Generating embeddings:   0%|          | 0/1 [00:00<?, ?it/s]"
      ]
     },
     "metadata": {},
     "output_type": "display_data"
    },
    {
     "name": "stdout",
     "output_type": "stream",
     "text": [
      "387 Violent crackdowns on protesters/opponents/civil rights abuse\n",
      "['On September 11, the Bureau of African Affairs announced that a local guard force member, Tarig Hassan Ahmed, who worked at the U.S. Embassy in¬†Sudan¬†died while in RSF custody. The Bureau was ¬´¬†deeply saddened and disturbed¬†¬ª by the killing of this man who was described as ¬´ dedicated\" and \"respected\" colleague and friend to many in embassy community¬†¬ª']\n"
     ]
    },
    {
     "data": {
      "application/vnd.jupyter.widget-view+json": {
       "model_id": "6ebbe2f75a574133aa883bb3856b26ca",
       "version_major": 2,
       "version_minor": 0
      },
      "text/plain": [
       "Parsing nodes:   0%|          | 0/1 [00:00<?, ?it/s]"
      ]
     },
     "metadata": {},
     "output_type": "display_data"
    },
    {
     "data": {
      "application/vnd.jupyter.widget-view+json": {
       "model_id": "36ec242222424a25b62b3d106332d73b",
       "version_major": 2,
       "version_minor": 0
      },
      "text/plain": [
       "Generating embeddings:   0%|          | 0/1 [00:00<?, ?it/s]"
      ]
     },
     "metadata": {},
     "output_type": "display_data"
    },
    {
     "name": "stdout",
     "output_type": "stream",
     "text": [
      "388 Extrajudicial killing\n",
      "['On September 11, Sudan War Monitor reported, based on videos filmed by RSF combatants, that the RSF clashed with SAF along the border of Blue Nile State, between Guli and Gireiwa (very approximately at 11.78, 33.50), seizing a handful of prisoners and some equipment.']\n"
     ]
    },
    {
     "data": {
      "application/vnd.jupyter.widget-view+json": {
       "model_id": "431adff31af84db29d9534ae84cffea3",
       "version_major": 2,
       "version_minor": 0
      },
      "text/plain": [
       "Parsing nodes:   0%|          | 0/1 [00:00<?, ?it/s]"
      ]
     },
     "metadata": {},
     "output_type": "display_data"
    },
    {
     "data": {
      "application/vnd.jupyter.widget-view+json": {
       "model_id": "3bf23b68625c454fb0413c7dfb8ffe0f",
       "version_major": 2,
       "version_minor": 0
      },
      "text/plain": [
       "Generating embeddings:   0%|          | 0/1 [00:00<?, ?it/s]"
      ]
     },
     "metadata": {},
     "output_type": "display_data"
    },
    {
     "name": "stdout",
     "output_type": "stream",
     "text": [
      "389 Military operations (battle, shelling)\n",
      "['On Wednesday, September 11, Sudanese army (SAF) airstrikes killed 11 people in Mellit, the Jebel Amer Gold Mine, and Al Daein in North and East Darfur. Eyewitnesses reported that airstrikes targeted civilian areas, destroying homes and killing civilians, including children and women.']\n"
     ]
    },
    {
     "data": {
      "application/vnd.jupyter.widget-view+json": {
       "model_id": "ded5f459d90a4aeab55aa845d5aaf001",
       "version_major": 2,
       "version_minor": 0
      },
      "text/plain": [
       "Parsing nodes:   0%|          | 0/1 [00:00<?, ?it/s]"
      ]
     },
     "metadata": {},
     "output_type": "display_data"
    },
    {
     "data": {
      "application/vnd.jupyter.widget-view+json": {
       "model_id": "f4197fe0638d464c8d05baa22c4494fb",
       "version_major": 2,
       "version_minor": 0
      },
      "text/plain": [
       "Generating embeddings:   0%|          | 0/1 [00:00<?, ?it/s]"
      ]
     },
     "metadata": {},
     "output_type": "display_data"
    },
    {
     "name": "stdout",
     "output_type": "stream",
     "text": [
      "390 Indiscriminate use of weapons\n",
      "['\"On Thursday, September 12 at dawn, a shelling attributed to RSF hit El Shahinab in the northern countryside of Omdurman, killing one father and two of this children. \"']\n"
     ]
    },
    {
     "data": {
      "application/vnd.jupyter.widget-view+json": {
       "model_id": "01f99d89f00c47d5882a6a1c0556622c",
       "version_major": 2,
       "version_minor": 0
      },
      "text/plain": [
       "Parsing nodes:   0%|          | 0/1 [00:00<?, ?it/s]"
      ]
     },
     "metadata": {},
     "output_type": "display_data"
    },
    {
     "data": {
      "application/vnd.jupyter.widget-view+json": {
       "model_id": "79542c95a59c4f76942e3741aae90135",
       "version_major": 2,
       "version_minor": 0
      },
      "text/plain": [
       "Generating embeddings:   0%|          | 0/1 [00:00<?, ?it/s]"
      ]
     },
     "metadata": {},
     "output_type": "display_data"
    },
    {
     "name": "stdout",
     "output_type": "stream",
     "text": [
      "391 Indiscriminate use of weapons\n",
      "['On September 12, at dawn, the SAF bombed the eastern parts of El Fasher, occupied by the RSF. The bombing was followed by ‚Äúa violent exchange of artillery shelling in the southeastern neighbourhoods,‚Äù according to local sources who spoke to Radio Dabanga.']\n"
     ]
    },
    {
     "data": {
      "application/vnd.jupyter.widget-view+json": {
       "model_id": "1ee2ab56f73e4fbeb094ee056f43180a",
       "version_major": 2,
       "version_minor": 0
      },
      "text/plain": [
       "Parsing nodes:   0%|          | 0/1 [00:00<?, ?it/s]"
      ]
     },
     "metadata": {},
     "output_type": "display_data"
    },
    {
     "data": {
      "application/vnd.jupyter.widget-view+json": {
       "model_id": "66b127db80d74e4db09183f87188da87",
       "version_major": 2,
       "version_minor": 0
      },
      "text/plain": [
       "Generating embeddings:   0%|          | 0/1 [00:00<?, ?it/s]"
      ]
     },
     "metadata": {},
     "output_type": "display_data"
    },
    {
     "name": "stdout",
     "output_type": "stream",
     "text": [
      "392 Military operations (battle, shelling)\n",
      "['On Thursday evening, September 12, the Sudanese army (SAF) resumed airstrikes on Nyala, South Darfur, after a month-long pause. An Antonov aircraft dropped explosive barrels in the eastern part of Al-Jir neighborhood and south of the city, causing panic and leading to the evacuation of patients from hospitals, though no injuries were reported. The RSF Intelligence Service had recently arrested individuals accused of identifying bombing targets in Nyala.']\n"
     ]
    },
    {
     "data": {
      "application/vnd.jupyter.widget-view+json": {
       "model_id": "de28fc280d624b45a12354d9a4631bd7",
       "version_major": 2,
       "version_minor": 0
      },
      "text/plain": [
       "Parsing nodes:   0%|          | 0/1 [00:00<?, ?it/s]"
      ]
     },
     "metadata": {},
     "output_type": "display_data"
    },
    {
     "data": {
      "application/vnd.jupyter.widget-view+json": {
       "model_id": "dfc7097a18d243a6a2d1c95435c85a5d",
       "version_major": 2,
       "version_minor": 0
      },
      "text/plain": [
       "Generating embeddings:   0%|          | 0/1 [00:00<?, ?it/s]"
      ]
     },
     "metadata": {},
     "output_type": "display_data"
    },
    {
     "name": "stdout",
     "output_type": "stream",
     "text": [
      "393 Military operations (battle, shelling)\n",
      "['On Thursday, September 12, the Sudanese army (SAF) repelled a major RSF assault on the northern, northeastern, and southern parts of El Fasher, with intense fighting in the Al-Salam, Al-Inqaz, and Al-Wahda neighborhoods. Over 80 RSF fighters, including key commanders, were killed, and more than 20 military vehicles were destroyed, and ten in good condition seized. Despite international calls for humanitarian access, the RSF continues to block aid routes to the city, which remains one of the few in Darfur not under their control.']\n"
     ]
    },
    {
     "data": {
      "application/vnd.jupyter.widget-view+json": {
       "model_id": "1504c2d14f6a42f58aa1cb8b65f14990",
       "version_major": 2,
       "version_minor": 0
      },
      "text/plain": [
       "Parsing nodes:   0%|          | 0/1 [00:00<?, ?it/s]"
      ]
     },
     "metadata": {},
     "output_type": "display_data"
    },
    {
     "data": {
      "application/vnd.jupyter.widget-view+json": {
       "model_id": "c8c128fc25054a7db2747efd5b590876",
       "version_major": 2,
       "version_minor": 0
      },
      "text/plain": [
       "Generating embeddings:   0%|          | 0/1 [00:00<?, ?it/s]"
      ]
     },
     "metadata": {},
     "output_type": "display_data"
    },
    {
     "name": "stdout",
     "output_type": "stream",
     "text": [
      "394 Military operations (battle, shelling)\n",
      "[\"On Thursday, September 12, in Al-Sayah, 100 km northwest of El Fasher, fierce clashes erupted between the Rapid Support Forces (RSF) and allied forces. The RSF launched an early morning attack with 30 vehicles, attempting to assert control over the town. The allied forces initially repelled the RSF. However, the RSF captured several allied soldiers before returning with reinforcements of 100 vehicles from Al-Koma. Following their return, the town's market was looted, and the fighting resulted in numerous civilian and military casualties. Gunfire was heard throughout the city until late into the evening.\"]\n"
     ]
    },
    {
     "data": {
      "application/vnd.jupyter.widget-view+json": {
       "model_id": "a458910715d24f26a1c1bf7431e99c19",
       "version_major": 2,
       "version_minor": 0
      },
      "text/plain": [
       "Parsing nodes:   0%|          | 0/1 [00:00<?, ?it/s]"
      ]
     },
     "metadata": {},
     "output_type": "display_data"
    },
    {
     "data": {
      "application/vnd.jupyter.widget-view+json": {
       "model_id": "d5e2f25f8ff4410f83ecb380d0359861",
       "version_major": 2,
       "version_minor": 0
      },
      "text/plain": [
       "Generating embeddings:   0%|          | 0/1 [00:00<?, ?it/s]"
      ]
     },
     "metadata": {},
     "output_type": "display_data"
    },
    {
     "name": "stdout",
     "output_type": "stream",
     "text": [
      "395 Military operations (battle, shelling)\n",
      "['\" Based on reports of widespread looting of heritage sites, archaeological sites, and museums, especially the National Museum of Khartoum by RSF fighters, UNESCO issued a statement on September 13 strongly condemning the looting and calling on the international community ¬´¬† to do its utmost to protect Sudan\\'s heritage from destruction and illicit trafficking¬†¬ª. \"']\n"
     ]
    },
    {
     "data": {
      "application/vnd.jupyter.widget-view+json": {
       "model_id": "1bc96029c49c4b22bd0f2baf1640323a",
       "version_major": 2,
       "version_minor": 0
      },
      "text/plain": [
       "Parsing nodes:   0%|          | 0/1 [00:00<?, ?it/s]"
      ]
     },
     "metadata": {},
     "output_type": "display_data"
    },
    {
     "data": {
      "application/vnd.jupyter.widget-view+json": {
       "model_id": "b419c90c9c924f039c222a645f6c26a3",
       "version_major": 2,
       "version_minor": 0
      },
      "text/plain": [
       "Generating embeddings:   0%|          | 0/1 [00:00<?, ?it/s]"
      ]
     },
     "metadata": {},
     "output_type": "display_data"
    },
    {
     "name": "stdout",
     "output_type": "stream",
     "text": [
      "396 Damage or destruction, looting, or theft of cultural heritage\n",
      "['On Friday, September 13, violent clashes continued between the warring parties in in the south and eastern parts of El Fasher. The SAF and the allied forces repelled the RSF attack and reclaimed the southern hospital after besieging and storming the building.']\n"
     ]
    },
    {
     "data": {
      "application/vnd.jupyter.widget-view+json": {
       "model_id": "1c00493713ee42abb541dc5bbb19fbab",
       "version_major": 2,
       "version_minor": 0
      },
      "text/plain": [
       "Parsing nodes:   0%|          | 0/1 [00:00<?, ?it/s]"
      ]
     },
     "metadata": {},
     "output_type": "display_data"
    },
    {
     "data": {
      "application/vnd.jupyter.widget-view+json": {
       "model_id": "43b3c0c830e649f9b3cc2ccb38348186",
       "version_major": 2,
       "version_minor": 0
      },
      "text/plain": [
       "Generating embeddings:   0%|          | 0/1 [00:00<?, ?it/s]"
      ]
     },
     "metadata": {},
     "output_type": "display_data"
    },
    {
     "name": "stdout",
     "output_type": "stream",
     "text": [
      "397 Military operations (battle, shelling)\n",
      "['\" On September 13, Radio Dabanga reported that the SAF and the RSF have been exchanging shelling on a daily basis in the Khartoum area. The RSF reportedly shell Omdurman and the Army responds by shelling the he neighbourhoods of ‚ÄúShambat, El Shaabiya, El Mazad‚Äù and others, leaving dead and injured on an almost daily basis. \"']\n"
     ]
    },
    {
     "data": {
      "application/vnd.jupyter.widget-view+json": {
       "model_id": "f50251746b0a4199be8514bb891df636",
       "version_major": 2,
       "version_minor": 0
      },
      "text/plain": [
       "Parsing nodes:   0%|          | 0/1 [00:00<?, ?it/s]"
      ]
     },
     "metadata": {},
     "output_type": "display_data"
    },
    {
     "data": {
      "application/vnd.jupyter.widget-view+json": {
       "model_id": "1806cd97e8f943be9c3d72cfed69d988",
       "version_major": 2,
       "version_minor": 0
      },
      "text/plain": [
       "Generating embeddings:   0%|          | 0/1 [00:00<?, ?it/s]"
      ]
     },
     "metadata": {},
     "output_type": "display_data"
    },
    {
     "name": "stdout",
     "output_type": "stream",
     "text": [
      "398 Military operations (shelling)\n",
      "['On Saturday, September 14, a Sudanese army warplane accidentally bombed its own Sixth Infantry Division headquarters in El Fasher, killing five soldiers and injuring nine. The strike, meant to target Rapid Support Forces (RSF), was blamed on \"high interference.\" The military denied reports that weapon depots were targeted or that the attack was intentional.']\n"
     ]
    },
    {
     "data": {
      "application/vnd.jupyter.widget-view+json": {
       "model_id": "e50fe09d9d6f4d0d801d4779db7a8827",
       "version_major": 2,
       "version_minor": 0
      },
      "text/plain": [
       "Parsing nodes:   0%|          | 0/1 [00:00<?, ?it/s]"
      ]
     },
     "metadata": {},
     "output_type": "display_data"
    },
    {
     "data": {
      "application/vnd.jupyter.widget-view+json": {
       "model_id": "40e2346ca19a4db198b9b40a4c40ddab",
       "version_major": 2,
       "version_minor": 0
      },
      "text/plain": [
       "Generating embeddings:   0%|          | 0/1 [00:00<?, ?it/s]"
      ]
     },
     "metadata": {},
     "output_type": "display_data"
    },
    {
     "name": "stdout",
     "output_type": "stream",
     "text": [
      "399 Military operations (battle, shelling)\n",
      "['On Monday, September 16, a Sudanese army‚Äôs airstrike killed 8 people, including a woman and her baby who were at at a rickshaw station near the intelligence services building in Nyala, South Darfur.']\n"
     ]
    },
    {
     "data": {
      "application/vnd.jupyter.widget-view+json": {
       "model_id": "63e4de0d55ee49278ea682ef3731a43e",
       "version_major": 2,
       "version_minor": 0
      },
      "text/plain": [
       "Parsing nodes:   0%|          | 0/1 [00:00<?, ?it/s]"
      ]
     },
     "metadata": {},
     "output_type": "display_data"
    },
    {
     "data": {
      "application/vnd.jupyter.widget-view+json": {
       "model_id": "e7963ac26cff4aaa8938ff1e423da836",
       "version_major": 2,
       "version_minor": 0
      },
      "text/plain": [
       "Generating embeddings:   0%|          | 0/1 [00:00<?, ?it/s]"
      ]
     },
     "metadata": {},
     "output_type": "display_data"
    },
    {
     "name": "stdout",
     "output_type": "stream",
     "text": [
      "400 Willful killing of civilians\n",
      "['Several civilians, including Dr. Ibrahim Abaker Shogar, a former civili servant at the Ministry of Social Welfare, Women and Child Affairs, and Suleiman Ahmed Ali Krinik, a retired member of the General Intelligence Service, were reportedly arrested in Nyala, South Darfur, and detained by the RSF who suspect some of them to collaborate with the SAF.']\n"
     ]
    },
    {
     "data": {
      "application/vnd.jupyter.widget-view+json": {
       "model_id": "881cb4eb454a4a5eb119aae6071ad947",
       "version_major": 2,
       "version_minor": 0
      },
      "text/plain": [
       "Parsing nodes:   0%|          | 0/1 [00:00<?, ?it/s]"
      ]
     },
     "metadata": {},
     "output_type": "display_data"
    },
    {
     "data": {
      "application/vnd.jupyter.widget-view+json": {
       "model_id": "c5a9971046cb40e7b14d52235f629ab5",
       "version_major": 2,
       "version_minor": 0
      },
      "text/plain": [
       "Generating embeddings:   0%|          | 0/1 [00:00<?, ?it/s]"
      ]
     },
     "metadata": {},
     "output_type": "display_data"
    },
    {
     "name": "stdout",
     "output_type": "stream",
     "text": [
      "401 Unlawful detention\n",
      "['\"On Wednesday, September 18, a passenger bus that had been travelling from Rabak‚Äôs popular market in White Nile state towards Khartoum was hit by a drone strike in the Taiba El Hasnab area. The bombing left 45 civilians dead. The bus passed through checkpoints controlled by both the SAF and the RSF, and the origin of the drone strike remains unclear. \"']\n"
     ]
    },
    {
     "data": {
      "application/vnd.jupyter.widget-view+json": {
       "model_id": "7b7d9ddf00cc40c4a90c1632394efa68",
       "version_major": 2,
       "version_minor": 0
      },
      "text/plain": [
       "Parsing nodes:   0%|          | 0/1 [00:00<?, ?it/s]"
      ]
     },
     "metadata": {},
     "output_type": "display_data"
    },
    {
     "data": {
      "application/vnd.jupyter.widget-view+json": {
       "model_id": "a430237c1f3d43a6ba90285d1e11e887",
       "version_major": 2,
       "version_minor": 0
      },
      "text/plain": [
       "Generating embeddings:   0%|          | 0/1 [00:00<?, ?it/s]"
      ]
     },
     "metadata": {},
     "output_type": "display_data"
    },
    {
     "name": "stdout",
     "output_type": "stream",
     "text": [
      "402 Indiscriminate use of weapons\n",
      "['On Friday, September 20, eight people were killed as a result of an artillery shelling by the RSF on the ¬†the Hajar Gaddo market in El Fasher, North Darfur.']\n"
     ]
    },
    {
     "data": {
      "application/vnd.jupyter.widget-view+json": {
       "model_id": "3eb09a4e526f46f69b28ba8332e86779",
       "version_major": 2,
       "version_minor": 0
      },
      "text/plain": [
       "Parsing nodes:   0%|          | 0/1 [00:00<?, ?it/s]"
      ]
     },
     "metadata": {},
     "output_type": "display_data"
    },
    {
     "data": {
      "application/vnd.jupyter.widget-view+json": {
       "model_id": "1722a04fda0b49438e1fa87e815cbace",
       "version_major": 2,
       "version_minor": 0
      },
      "text/plain": [
       "Generating embeddings:   0%|          | 0/1 [00:00<?, ?it/s]"
      ]
     },
     "metadata": {},
     "output_type": "display_data"
    },
    {
     "name": "stdout",
     "output_type": "stream",
     "text": [
      "403 Indiscriminate use of weapons\n",
      "['On Saturday, Septemer 21, the Rapid Support Forces (RSF) advanced into central El Fasher, breaching Sudan Armed Forces (SAF) defenses near the Grand Market and the 6th Infantry Division Headquarters. Despite RSF gains, SAF and allied militias repelled the attack. Heavy civilian casualties were reported, particularly near Hajar Gardo market. The fighting triggered mass displacement, with many fleeing to Zamzam Camp. An unidentified plane also landed at Nyala Airport, delivering a shipment to RSF forces.']\n"
     ]
    },
    {
     "data": {
      "application/vnd.jupyter.widget-view+json": {
       "model_id": "618d093193a44d3fb7899eeea46ff002",
       "version_major": 2,
       "version_minor": 0
      },
      "text/plain": [
       "Parsing nodes:   0%|          | 0/1 [00:00<?, ?it/s]"
      ]
     },
     "metadata": {},
     "output_type": "display_data"
    },
    {
     "data": {
      "application/vnd.jupyter.widget-view+json": {
       "model_id": "d2fe91dc8b1c4927b4e79b8ee4c95856",
       "version_major": 2,
       "version_minor": 0
      },
      "text/plain": [
       "Generating embeddings:   0%|          | 0/1 [00:00<?, ?it/s]"
      ]
     },
     "metadata": {},
     "output_type": "display_data"
    },
    {
     "name": "stdout",
     "output_type": "stream",
     "text": [
      "404 Military operations (battle, shelling)\n",
      "['\"On Saturday, September 21, the RSF attacked El Fasher, the capital of North Darfur with artillery and drone strikes, followed by a ground assault from the north and southeast. According to a statement of the Sudanese Army, the attack was repelled by the army and allied forces who killed hundreds of RSF fighters and destroyed many vehicles. At least 14 people were killed in the attack according to a medical source at the Saudi Hospital in El Fasher. \"']\n"
     ]
    },
    {
     "data": {
      "application/vnd.jupyter.widget-view+json": {
       "model_id": "72a8385480fd4f54a658b987bbb127a2",
       "version_major": 2,
       "version_minor": 0
      },
      "text/plain": [
       "Parsing nodes:   0%|          | 0/1 [00:00<?, ?it/s]"
      ]
     },
     "metadata": {},
     "output_type": "display_data"
    },
    {
     "data": {
      "application/vnd.jupyter.widget-view+json": {
       "model_id": "50553fa11fc948c4b945e44be22660b7",
       "version_major": 2,
       "version_minor": 0
      },
      "text/plain": [
       "Generating embeddings:   0%|          | 0/1 [00:00<?, ?it/s]"
      ]
     },
     "metadata": {},
     "output_type": "display_data"
    },
    {
     "name": "stdout",
     "output_type": "stream",
     "text": [
      "405 Military operations (battle, shelling)\n",
      "['On September 21, the Sudan Health Ministry reported that artillery shelling by the RSF killed four people and injured dozens in Omburman. The shelling also hit several neighborhoods in Karari as well as the Omdurman Technical School in Al-Thawra.']\n"
     ]
    },
    {
     "data": {
      "application/vnd.jupyter.widget-view+json": {
       "model_id": "1b00e753b9ac4fbc843a5b768392b573",
       "version_major": 2,
       "version_minor": 0
      },
      "text/plain": [
       "Parsing nodes:   0%|          | 0/1 [00:00<?, ?it/s]"
      ]
     },
     "metadata": {},
     "output_type": "display_data"
    },
    {
     "data": {
      "application/vnd.jupyter.widget-view+json": {
       "model_id": "091a584ff1064df9874ff451ca6b283d",
       "version_major": 2,
       "version_minor": 0
      },
      "text/plain": [
       "Generating embeddings:   0%|          | 0/1 [00:00<?, ?it/s]"
      ]
     },
     "metadata": {},
     "output_type": "display_data"
    },
    {
     "name": "stdout",
     "output_type": "stream",
     "text": [
      "406 Military operations (shelling)\n",
      "['On Saturday, September 21,¬† an artillery shelling by the RSF on the Hajar Gaddo market in El Fasher, North Darfur, letft 17 people dead.']\n"
     ]
    },
    {
     "data": {
      "application/vnd.jupyter.widget-view+json": {
       "model_id": "d2f94877cf1943e98814717ad81f1e8d",
       "version_major": 2,
       "version_minor": 0
      },
      "text/plain": [
       "Parsing nodes:   0%|          | 0/1 [00:00<?, ?it/s]"
      ]
     },
     "metadata": {},
     "output_type": "display_data"
    },
    {
     "data": {
      "application/vnd.jupyter.widget-view+json": {
       "model_id": "98b0e35cd1dc405588e08ae026b2817d",
       "version_major": 2,
       "version_minor": 0
      },
      "text/plain": [
       "Generating embeddings:   0%|          | 0/1 [00:00<?, ?it/s]"
      ]
     },
     "metadata": {},
     "output_type": "display_data"
    },
    {
     "name": "stdout",
     "output_type": "stream",
     "text": [
      "407 Indiscriminate use of weapons\n",
      "['On Sunday, September 22, two people were also killed by an artillery shelling attributed to the RSF on the ¬†the Hajar Gaddo market in El Fasher, North Darfur. Dozens of people were wounded and received at the Saudi Hospital and the Medical Corps.']\n"
     ]
    },
    {
     "data": {
      "application/vnd.jupyter.widget-view+json": {
       "model_id": "44c3901c3ff74845833938056aaaf103",
       "version_major": 2,
       "version_minor": 0
      },
      "text/plain": [
       "Parsing nodes:   0%|          | 0/1 [00:00<?, ?it/s]"
      ]
     },
     "metadata": {},
     "output_type": "display_data"
    },
    {
     "data": {
      "application/vnd.jupyter.widget-view+json": {
       "model_id": "e78f5d6355c24664ac1a7d5b7145a5bc",
       "version_major": 2,
       "version_minor": 0
      },
      "text/plain": [
       "Generating embeddings:   0%|          | 0/1 [00:00<?, ?it/s]"
      ]
     },
     "metadata": {},
     "output_type": "display_data"
    },
    {
     "name": "stdout",
     "output_type": "stream",
     "text": [
      "408 Indiscriminate use of weapons\n",
      "['\"On September 24, Radio Dabanga reported that an an ‚Äúarmed group on camels and motorcycles‚Äù intercepted two girls, aged 14 and 17, and raped them between the towns of Kadarik and Tabit, in North Darfur. The assailants reportedly killed a Quran teacher who attempted to rescue the girls. \"']\n"
     ]
    },
    {
     "data": {
      "application/vnd.jupyter.widget-view+json": {
       "model_id": "65c88dc4f2dd4601b67b8c9e6da9b5d9",
       "version_major": 2,
       "version_minor": 0
      },
      "text/plain": [
       "Parsing nodes:   0%|          | 0/1 [00:00<?, ?it/s]"
      ]
     },
     "metadata": {},
     "output_type": "display_data"
    },
    {
     "data": {
      "application/vnd.jupyter.widget-view+json": {
       "model_id": "4de690bb569840188760e40167dcf871",
       "version_major": 2,
       "version_minor": 0
      },
      "text/plain": [
       "Generating embeddings:   0%|          | 0/1 [00:00<?, ?it/s]"
      ]
     },
     "metadata": {},
     "output_type": "display_data"
    },
    {
     "name": "stdout",
     "output_type": "stream",
     "text": [
      "409 Gender-based or other conflict-related sexual violence\n",
      "['\"On Tuesday, September 24, the Sudanese Army bombed the airport of Nyala, South Darfur, causing the destruction of the runway, control tower, halls, and offices, as well as the headquarters of the 16th Infantry Division which are under RSF control. The Sudanese Army justified the bombing claiming that they targeted ¬´¬†military supplies‚Ä¶ sent from the United Arab Emirates to the RSF in the capital of South Darfur before being transported to theatres of operations in Khartoum and other areas¬†¬ª. According to various sources, shipments of heavy weapons were recently unloaded by a large cargo. The bombing killed many civilians and also destroyed several homes. \"']\n"
     ]
    },
    {
     "data": {
      "application/vnd.jupyter.widget-view+json": {
       "model_id": "7746665dd5024d39b4db60d336287e5b",
       "version_major": 2,
       "version_minor": 0
      },
      "text/plain": [
       "Parsing nodes:   0%|          | 0/1 [00:00<?, ?it/s]"
      ]
     },
     "metadata": {},
     "output_type": "display_data"
    },
    {
     "data": {
      "application/vnd.jupyter.widget-view+json": {
       "model_id": "1613eda1933a46d5ab14acf35126c5df",
       "version_major": 2,
       "version_minor": 0
      },
      "text/plain": [
       "Generating embeddings:   0%|          | 0/1 [00:00<?, ?it/s]"
      ]
     },
     "metadata": {},
     "output_type": "display_data"
    },
    {
     "name": "stdout",
     "output_type": "stream",
     "text": [
      "410 Military operations (battle, shelling)\n",
      "['On Wednesday, September 25, around 2:00 am, the Sudanese Army launched a major offensive against the Rapid Support Forces (RSF) in several areas of Khartoum. Targeted or affected areas include the vicinity of the Armored Corps, the Al-Istritagia‚Äù headquarters in Al-Muqrin, the Arab Market, the army‚Äôs General Command headquarters, and near the army‚Äôs Signal Corps south of Khartoum Bahri, the Al-Muhandisin area, and he Al-Azariqab and Halfaya areas in northern Khartoum Bahri.']\n"
     ]
    },
    {
     "data": {
      "application/vnd.jupyter.widget-view+json": {
       "model_id": "1b78c51e889a4fdf8843996fd6647f2c",
       "version_major": 2,
       "version_minor": 0
      },
      "text/plain": [
       "Parsing nodes:   0%|          | 0/1 [00:00<?, ?it/s]"
      ]
     },
     "metadata": {},
     "output_type": "display_data"
    },
    {
     "data": {
      "application/vnd.jupyter.widget-view+json": {
       "model_id": "06facb69ca0e412686a44c9fe2d6edf2",
       "version_major": 2,
       "version_minor": 0
      },
      "text/plain": [
       "Generating embeddings:   0%|          | 0/1 [00:00<?, ?it/s]"
      ]
     },
     "metadata": {},
     "output_type": "display_data"
    },
    {
     "name": "stdout",
     "output_type": "stream",
     "text": [
      "411 Military operations (battle, shelling)\n",
      "['On September 25, WhatsApp and Telegram groups affiliated with the SAF reported a ground attack of the Army against RSF in Singa, the capital of Sennar State.']\n"
     ]
    },
    {
     "data": {
      "application/vnd.jupyter.widget-view+json": {
       "model_id": "188ac4bf4a504ff4a5bbf46b2383e738",
       "version_major": 2,
       "version_minor": 0
      },
      "text/plain": [
       "Parsing nodes:   0%|          | 0/1 [00:00<?, ?it/s]"
      ]
     },
     "metadata": {},
     "output_type": "display_data"
    },
    {
     "data": {
      "application/vnd.jupyter.widget-view+json": {
       "model_id": "ed577d36954b4c089713dec56e815168",
       "version_major": 2,
       "version_minor": 0
      },
      "text/plain": [
       "Generating embeddings:   0%|          | 0/1 [00:00<?, ?it/s]"
      ]
     },
     "metadata": {},
     "output_type": "display_data"
    },
    {
     "name": "stdout",
     "output_type": "stream",
     "text": [
      "412 Military operations (battle, shelling)\n",
      "['On September 25, WhatsApp and Telegram groups affiliated with the SAF reported airstrikes by the Sudanese Army on Al-Damazin, East Darfur, which is considered an RSF stronghold.']\n"
     ]
    },
    {
     "data": {
      "application/vnd.jupyter.widget-view+json": {
       "model_id": "086725d2988d4ef5874f9b313a69ce2f",
       "version_major": 2,
       "version_minor": 0
      },
      "text/plain": [
       "Parsing nodes:   0%|          | 0/1 [00:00<?, ?it/s]"
      ]
     },
     "metadata": {},
     "output_type": "display_data"
    },
    {
     "data": {
      "application/vnd.jupyter.widget-view+json": {
       "model_id": "168b16b58be04427ba0c2066d98ff2f7",
       "version_major": 2,
       "version_minor": 0
      },
      "text/plain": [
       "Generating embeddings:   0%|          | 0/1 [00:00<?, ?it/s]"
      ]
     },
     "metadata": {},
     "output_type": "display_data"
    },
    {
     "name": "stdout",
     "output_type": "stream",
     "text": [
      "413 Military operations (battle, shelling)\n",
      "['On Thursday, September 26, at least 18 people were killed and more than 40 wounded when shells hit a busy market in El Fasher, North Darfur. Noone claimed responsibility for the attack. However, the RSF has been blamed by residents.']\n"
     ]
    },
    {
     "data": {
      "application/vnd.jupyter.widget-view+json": {
       "model_id": "9ec5bed765e0430292998b9f4070d0bb",
       "version_major": 2,
       "version_minor": 0
      },
      "text/plain": [
       "Parsing nodes:   0%|          | 0/1 [00:00<?, ?it/s]"
      ]
     },
     "metadata": {},
     "output_type": "display_data"
    },
    {
     "data": {
      "application/vnd.jupyter.widget-view+json": {
       "model_id": "734a845c91bc404e950f986bed24043d",
       "version_major": 2,
       "version_minor": 0
      },
      "text/plain": [
       "Generating embeddings:   0%|          | 0/1 [00:00<?, ?it/s]"
      ]
     },
     "metadata": {},
     "output_type": "display_data"
    },
    {
     "name": "stdout",
     "output_type": "stream",
     "text": [
      "414 Indiscriminate use of weapons\n",
      "['In the morning of Thursday, September 26, according a report by the Sudanese Ministry of Health in Khartoum, 4 civilians were killed and 14 others were injured as a result an artillery shelling attributed to RSF in residential neighborhoods in Karrari, which is located in Omdurman.']\n"
     ]
    },
    {
     "data": {
      "application/vnd.jupyter.widget-view+json": {
       "model_id": "ef33e24ef630492c9d640c8a8f2ea378",
       "version_major": 2,
       "version_minor": 0
      },
      "text/plain": [
       "Parsing nodes:   0%|          | 0/1 [00:00<?, ?it/s]"
      ]
     },
     "metadata": {},
     "output_type": "display_data"
    },
    {
     "data": {
      "application/vnd.jupyter.widget-view+json": {
       "model_id": "2bb02c118a2c4dd181697418b19b49c6",
       "version_major": 2,
       "version_minor": 0
      },
      "text/plain": [
       "Generating embeddings:   0%|          | 0/1 [00:00<?, ?it/s]"
      ]
     },
     "metadata": {},
     "output_type": "display_data"
    },
    {
     "name": "stdout",
     "output_type": "stream",
     "text": [
      "415 Military operations (shelling)\n",
      "['\"On September 27, continued fierce fighting between the two warring parties and their supporters for the control of El Fasher, North Darfur. Radio Dabanga reported that, 19 people were killed and dozens injured by continued RSF artillery shelling on the city. The El Fasher livestock market was also reported hit by bombing. \"']\n"
     ]
    },
    {
     "data": {
      "application/vnd.jupyter.widget-view+json": {
       "model_id": "145d8067b22348b6a9d5176b2bc8895a",
       "version_major": 2,
       "version_minor": 0
      },
      "text/plain": [
       "Parsing nodes:   0%|          | 0/1 [00:00<?, ?it/s]"
      ]
     },
     "metadata": {},
     "output_type": "display_data"
    },
    {
     "data": {
      "application/vnd.jupyter.widget-view+json": {
       "model_id": "245e26e03f954266985338cbb248a47c",
       "version_major": 2,
       "version_minor": 0
      },
      "text/plain": [
       "Generating embeddings:   0%|          | 0/1 [00:00<?, ?it/s]"
      ]
     },
     "metadata": {},
     "output_type": "display_data"
    },
    {
     "name": "stdout",
     "output_type": "stream",
     "text": [
      "416 Military operations (battle, shelling)\n",
      "['\"On September 27, fighting between the SAF and RSF occured in El Fao locality in El Gedaref, near El Gezira. Sources reported violent clashes in the areas of Um El Gura and El Buweida after RSF ‚Äúin a large number of combat vehicles‚Äù attacked several army sites. The Sudanese Air Force, in response, ‚Äúlaunched extensive air raids against the RSF force. \"']\n"
     ]
    },
    {
     "data": {
      "application/vnd.jupyter.widget-view+json": {
       "model_id": "60787ff92b8d475dbd0fe6314614b336",
       "version_major": 2,
       "version_minor": 0
      },
      "text/plain": [
       "Parsing nodes:   0%|          | 0/1 [00:00<?, ?it/s]"
      ]
     },
     "metadata": {},
     "output_type": "display_data"
    },
    {
     "data": {
      "application/vnd.jupyter.widget-view+json": {
       "model_id": "b0d8c57b9be249ea9f7eb3a4b232f8d5",
       "version_major": 2,
       "version_minor": 0
      },
      "text/plain": [
       "Generating embeddings:   0%|          | 0/1 [00:00<?, ?it/s]"
      ]
     },
     "metadata": {},
     "output_type": "display_data"
    },
    {
     "name": "stdout",
     "output_type": "stream",
     "text": [
      "417 Military operations (battle, shelling)\n",
      "['On September 27, battles between the SAF and the RSF continued for the second day in a row in Khartoum state, with the SAF launching intensive air strikes on RSF sites in Khartoum and Khartoum North (Bahri). Specific areas affected include El Mogran in northwest Khartoum, El Halfaya, and El Kadaro in Khartoum North.']\n"
     ]
    },
    {
     "data": {
      "application/vnd.jupyter.widget-view+json": {
       "model_id": "3912a62a6cb04aca90cb37a37628057b",
       "version_major": 2,
       "version_minor": 0
      },
      "text/plain": [
       "Parsing nodes:   0%|          | 0/1 [00:00<?, ?it/s]"
      ]
     },
     "metadata": {},
     "output_type": "display_data"
    },
    {
     "data": {
      "application/vnd.jupyter.widget-view+json": {
       "model_id": "46b8feb190454f18ba130b1ddf44feb7",
       "version_major": 2,
       "version_minor": 0
      },
      "text/plain": [
       "Generating embeddings:   0%|          | 0/1 [00:00<?, ?it/s]"
      ]
     },
     "metadata": {},
     "output_type": "display_data"
    },
    {
     "name": "stdout",
     "output_type": "stream",
     "text": [
      "418 Military operations (battle, shelling)\n",
      "['On Sunday, September 29, Mohamed Kindasha, a spokesperson for the South Belt Emergency Room, reported that an airstrike killed at least six people and wounded ten others in residential areas south of Khartoum. The airstrike was attributed by the source to the SAF and hit the ¬†Al-Azhari and Al-Ingaz districts.']\n"
     ]
    },
    {
     "data": {
      "application/vnd.jupyter.widget-view+json": {
       "model_id": "5d6b73b05dc74f769f9ae0e8f533e822",
       "version_major": 2,
       "version_minor": 0
      },
      "text/plain": [
       "Parsing nodes:   0%|          | 0/1 [00:00<?, ?it/s]"
      ]
     },
     "metadata": {},
     "output_type": "display_data"
    },
    {
     "data": {
      "application/vnd.jupyter.widget-view+json": {
       "model_id": "a8886cede9fa48109317aac3a9e702e1",
       "version_major": 2,
       "version_minor": 0
      },
      "text/plain": [
       "Generating embeddings:   0%|          | 0/1 [00:00<?, ?it/s]"
      ]
     },
     "metadata": {},
     "output_type": "display_data"
    },
    {
     "name": "stdout",
     "output_type": "stream",
     "text": [
      "419 Indiscriminate use of weapons\n",
      "['On September 30, the United Arab Emirates (UAE) accused the Sudanese Armed Forces (SAF) of launching an airstrike on its ambassador‚Äôs residence in southern Khartoum on September 29. The airstrike reportedly significantly damaged the residence but caused no casualty. The SAF denied responsibility for the attack']\n"
     ]
    },
    {
     "data": {
      "application/vnd.jupyter.widget-view+json": {
       "model_id": "39957833e0ef4e59bae68ad9d7076436",
       "version_major": 2,
       "version_minor": 0
      },
      "text/plain": [
       "Parsing nodes:   0%|          | 0/1 [00:00<?, ?it/s]"
      ]
     },
     "metadata": {},
     "output_type": "display_data"
    },
    {
     "data": {
      "application/vnd.jupyter.widget-view+json": {
       "model_id": "7cb7c43be9a24ce9bf50c7aba3e4d7f2",
       "version_major": 2,
       "version_minor": 0
      },
      "text/plain": [
       "Generating embeddings:   0%|          | 0/1 [00:00<?, ?it/s]"
      ]
     },
     "metadata": {},
     "output_type": "display_data"
    },
    {
     "name": "stdout",
     "output_type": "stream",
     "text": [
      "420 Military operations (battle, shelling)\n",
      "['As an extension of the Rapid Support Militia‚Äôs violations inside the city of Rifa‚Äôah, and due to the indiscriminate firing of bullets aimed at destabilizing and spreading terror among citizens, a militia member injured one of the girls with a live bullet, causing her internal bleeding and leading to her death.']\n"
     ]
    },
    {
     "data": {
      "application/vnd.jupyter.widget-view+json": {
       "model_id": "249008b80c1f44f1b0093cfbafb0f7c6",
       "version_major": 2,
       "version_minor": 0
      },
      "text/plain": [
       "Parsing nodes:   0%|          | 0/1 [00:00<?, ?it/s]"
      ]
     },
     "metadata": {},
     "output_type": "display_data"
    },
    {
     "data": {
      "application/vnd.jupyter.widget-view+json": {
       "model_id": "8534255590e049f19493f96785c544e5",
       "version_major": 2,
       "version_minor": 0
      },
      "text/plain": [
       "Generating embeddings:   0%|          | 0/1 [00:00<?, ?it/s]"
      ]
     },
     "metadata": {},
     "output_type": "display_data"
    },
    {
     "name": "stdout",
     "output_type": "stream",
     "text": [
      "421 Indiscriminate use of weapons\n",
      "['A random artillery fire from the Rapid Support militia on the cliff east of the Hab Al-Nasim neighborhood, after the sunset prayer, resulted in the martyrdom of seven citizens from the same families who have been confirmed to us so far:\\n\\n- Hassan Rahmatullah Musa\\n- His wife, Umm Henna Mustafa Muhammad\\n- Their daughter\\n- Ashwaq Mustafa Muhammad Al-Mubarak\\n- Salwa Mustafa Muhammad Al-Mubarak\\n- Ashwaq Mustafa‚Äôs daughter\\n- And her father, friend Nair']\n"
     ]
    },
    {
     "data": {
      "application/vnd.jupyter.widget-view+json": {
       "model_id": "25e379b8ecba4c6396c6d56be574e6f0",
       "version_major": 2,
       "version_minor": 0
      },
      "text/plain": [
       "Parsing nodes:   0%|          | 0/1 [00:00<?, ?it/s]"
      ]
     },
     "metadata": {},
     "output_type": "display_data"
    },
    {
     "data": {
      "application/vnd.jupyter.widget-view+json": {
       "model_id": "29752d4d6c15481fb0113a765850db17",
       "version_major": 2,
       "version_minor": 0
      },
      "text/plain": [
       "Generating embeddings:   0%|          | 0/1 [00:00<?, ?it/s]"
      ]
     },
     "metadata": {},
     "output_type": "display_data"
    },
    {
     "name": "stdout",
     "output_type": "stream",
     "text": [
      "422 Indiscriminate use of weapons\n"
     ]
    }
   ],
   "source": [
    "import pandas as pd\n",
    "from llama_index.core import VectorStoreIndex, Document\n",
    "from llama_index.llms.openai import OpenAI\n",
    "from llama_index.vector_stores.faiss import FaissVectorStore\n",
    "from llama_index.core import StorageContext\n",
    "\n",
    "\n",
    "with open(r'clean_ground_truth_classificationn.csv', 'r', encoding='utf-8', errors='replace') as file:\n",
    "    df = pd.read_csv(file)\n",
    "\n",
    "df['LLM Output']=None\n",
    "for i, row in df.iterrows(): \n",
    "    faiss_index = faiss.IndexFlatL2(d)\n",
    "    text = str(row['Incident Narrative'])\n",
    "    text_list=[text]\n",
    "    print(text_list)\n",
    "    documents = [Document(text=t) for t in text_list]\n",
    "    \n",
    "    vector_store = FaissVectorStore(faiss_index=faiss_index)\n",
    "    storage_context = StorageContext.from_defaults(vector_store=vector_store)\n",
    "    index = VectorStoreIndex.from_documents(documents, storage_context=storage_context, show_progress=True)\n",
    "    query = \"\"\"\n",
    "    Your task is to classify each news article into one or more of the following categories listed below. The output must be strictly in Comma-Seperated-List format with no explanations or additional output. The categories are:\n",
    "\n",
    "    Unlawful detention\n",
    "    Human trafficking\n",
    "    Enslavement\n",
    "    Willful killing of civilians\n",
    "    Mass execution\n",
    "    Kidnapping\n",
    "    Extrajudicial killing\n",
    "    Forced disappearance\n",
    "    Damage or destruction of civilian critical infrastructure\n",
    "    Damage or destruction, looting, or theft of cultural heritage\n",
    "    Military operations (battle, shelling)\n",
    "    Gender-based or other conflict-related sexual violence\n",
    "    Violent crackdowns on protesters/opponents/civil rights abuse\n",
    "    Indiscriminate use of weapons\n",
    "    Torture or indications of torture\n",
    "    Persecution based on political, racial, ethnic, gender, or sexual orientation\n",
    "    Movement of military, paramilitary, or other troops and equipment\n",
    "    \"\"\"\n",
    "\n",
    "\n",
    "    response = index.as_query_engine(similarity_top_k=1).query(query)\n",
    "    article_metadata_detected_str = response.response\n",
    "\n",
    "    print(str(i) + \" \"+ article_metadata_detected_str)\n",
    "    df.at[i,'LLM Output'] = article_metadata_detected_str\n",
    "\n",
    "df.to_csv('Sudan_Conflict_MLC_llama3.1-70b.csv', index=False, encoding='utf-8')\n",
    "\n",
    "\n",
    "\n"
   ]
  },
  {
   "cell_type": "code",
   "execution_count": null,
   "metadata": {},
   "outputs": [],
   "source": []
  },
  {
   "cell_type": "code",
   "execution_count": null,
   "metadata": {},
   "outputs": [],
   "source": []
  },
  {
   "cell_type": "code",
   "execution_count": null,
   "metadata": {},
   "outputs": [],
   "source": []
  },
  {
   "cell_type": "code",
   "execution_count": null,
   "metadata": {},
   "outputs": [],
   "source": []
  }
 ],
 "metadata": {
  "kernelspec": {
   "display_name": ".RAGvenv",
   "language": "python",
   "name": "python3"
  },
  "language_info": {
   "codemirror_mode": {
    "name": "ipython",
    "version": 3
   },
   "file_extension": ".py",
   "mimetype": "text/x-python",
   "name": "python",
   "nbconvert_exporter": "python",
   "pygments_lexer": "ipython3",
   "version": "3.11.9"
  }
 },
 "nbformat": 4,
 "nbformat_minor": 2
}
