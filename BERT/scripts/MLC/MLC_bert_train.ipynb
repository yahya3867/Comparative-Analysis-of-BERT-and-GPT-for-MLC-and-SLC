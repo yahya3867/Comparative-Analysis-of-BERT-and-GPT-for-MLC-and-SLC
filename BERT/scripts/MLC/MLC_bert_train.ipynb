{
 "cells": [
  {
   "cell_type": "code",
   "execution_count": 9,
   "metadata": {},
   "outputs": [
    {
     "name": "stderr",
     "output_type": "stream",
     "text": [
      "c:\\Users\\ymasr\\OneDrive\\Desktop\\projects\\BERT_GMU_Classiifcation\\.venv\\Lib\\site-packages\\tqdm\\auto.py:21: TqdmWarning: IProgress not found. Please update jupyter and ipywidgets. See https://ipywidgets.readthedocs.io/en/stable/user_install.html\n",
      "  from .autonotebook import tqdm as notebook_tqdm\n"
     ]
    }
   ],
   "source": [
    "import torch\n",
    "from torch.utils.data import Dataset, DataLoader\n",
    "import pandas as pd\n",
    "import numpy as np\n",
    "\n",
    "from transformers import BertTokenizer, BertForSequenceClassification, Trainer, TrainingArguments\n",
    "\n",
    "from sklearn.metrics import accuracy_score, precision_recall_fscore_support\n",
    "\n",
    "category_columns = [\n",
    "    \"Unlawful detention\",\n",
    "    \"Human trafficking\",\n",
    "    \"Enslavement\",\n",
    "    \"Willful killing of civilians\",\n",
    "    \"Mass execution\",\n",
    "    \"Kidnapping\",\n",
    "    \"Extrajudicial killing\",\n",
    "    \"Forced disappearance\",\n",
    "    \"Damage or destruction of civilian critical infrastructure\",\n",
    "    \"Damage or destruction, looting, or theft of cultural heritage\",\n",
    "    \"Military operations (battle, shelling)\",\n",
    "    \"Gender-based or other conflict-related sexual violence\",\n",
    "    \"Violent crackdowns on protesters/opponents/civil rights abuse\",\n",
    "    \"Indiscriminate use of weapons\",\n",
    "    \"Torture or indications of torture\",\n",
    "    \"Persecution based on political, racial, ethnic, gender, or sexual orientation\",\n",
    "    \"Movement of military, paramilitary, or other troops and equipment\"\n",
    "]\n",
    "\n",
    "# 2) Custom Dataset class for articles\n",
    "class ArticleDataset(Dataset):\n",
    "    def __init__(self, encodings, labels):\n",
    "        self.encodings = encodings\n",
    "        self.labels = labels\n",
    "\n",
    "    def __getitem__(self, idx):\n",
    "        item = {key: torch.tensor(val[idx]) for key, val in self.encodings.items()}\n",
    "        item['labels'] = torch.tensor(self.labels[idx], dtype=torch.float)\n",
    "        return item\n",
    "\n",
    "    def __len__(self):\n",
    "        return len(self.labels)\n"
   ]
  },
  {
   "cell_type": "code",
   "execution_count": 10,
   "metadata": {},
   "outputs": [],
   "source": [
    "train_df = pd.read_csv(\"train.csv\")  \n",
    "val_df   = pd.read_csv(\"val.csv\")    \n",
    "test_df  = pd.read_csv(\"test.csv\")  \n",
    "\n",
    "# Load the tokenizer\n",
    "tokenizer = BertTokenizer.from_pretrained(\"bert-base-uncased\")\n",
    "\n",
    "# Tokenize the text columns\n",
    "train_encodings = tokenizer(\n",
    "    list(train_df[\"Incident Narrative\"].values),\n",
    "    truncation=True,\n",
    "    padding=True\n",
    ")\n",
    "val_encodings   = tokenizer(\n",
    "    list(val_df[\"Incident Narrative\"].values),\n",
    "    truncation=True,\n",
    "    padding=True\n",
    ")\n",
    "test_encodings  = tokenizer(\n",
    "    list(test_df[\"Incident Narrative\"].values),\n",
    "    truncation=True,\n",
    "    padding=True\n",
    ")\n",
    "\n",
    "# Extract labels (multi-label targets in your category columns)\n",
    "train_labels = train_df[category_columns].values\n",
    "val_labels   = val_df[category_columns].values\n",
    "test_labels  = test_df[category_columns].values\n",
    "\n",
    "# Create Dataset objects\n",
    "train_dataset = ArticleDataset(train_encodings, train_labels)\n",
    "val_dataset   = ArticleDataset(val_encodings, val_labels)\n",
    "test_dataset  = ArticleDataset(test_encodings, test_labels)\n"
   ]
  },
  {
   "cell_type": "code",
   "execution_count": 11,
   "metadata": {},
   "outputs": [
    {
     "name": "stderr",
     "output_type": "stream",
     "text": [
      "Some weights of BertForSequenceClassification were not initialized from the model checkpoint at bert-base-uncased and are newly initialized: ['classifier.bias', 'classifier.weight']\n",
      "You should probably TRAIN this model on a down-stream task to be able to use it for predictions and inference.\n",
      "  2%|▏         | 21/1260 [00:14<10:04,  2.05it/s]c:\\Users\\ymasr\\OneDrive\\Desktop\\projects\\BERT_GMU_Classiifcation\\.venv\\Lib\\site-packages\\sklearn\\metrics\\_classification.py:1565: UndefinedMetricWarning: Precision is ill-defined and being set to 0.0 in labels with no predicted samples. Use `zero_division` parameter to control this behavior.\n",
      "  _warn_prf(average, modifier, f\"{metric.capitalize()} is\", len(result))\n",
      "c:\\Users\\ymasr\\OneDrive\\Desktop\\projects\\BERT_GMU_Classiifcation\\.venv\\Lib\\site-packages\\sklearn\\metrics\\_classification.py:1565: UndefinedMetricWarning: Recall is ill-defined and being set to 0.0 in labels with no true samples. Use `zero_division` parameter to control this behavior.\n",
      "  _warn_prf(average, modifier, f\"{metric.capitalize()} is\", len(result))\n",
      "c:\\Users\\ymasr\\OneDrive\\Desktop\\projects\\BERT_GMU_Classiifcation\\.venv\\Lib\\site-packages\\sklearn\\metrics\\_classification.py:1565: UndefinedMetricWarning: F-score is ill-defined and being set to 0.0 in labels with no true nor predicted samples. Use `zero_division` parameter to control this behavior.\n",
      "  _warn_prf(average, modifier, f\"{metric.capitalize()} is\", len(result))\n",
      "                                                 \n",
      "  2%|▏         | 21/1260 [00:14<10:04,  2.05it/s]"
     ]
    },
    {
     "name": "stdout",
     "output_type": "stream",
     "text": [
      "{'eval_loss': 0.44863569736480713, 'eval_accuracy': 0.05263157894736842, 'eval_f1': 0.2951841065113377, 'eval_precision': 0.2799389778794813, 'eval_recall': 0.3565217391304348, 'eval_runtime': 0.7557, 'eval_samples_per_second': 75.429, 'eval_steps_per_second': 5.293, 'epoch': 1.0}\n"
     ]
    },
    {
     "name": "stderr",
     "output_type": "stream",
     "text": [
      "  3%|▎         | 42/1260 [00:30<10:07,  2.00it/s]c:\\Users\\ymasr\\OneDrive\\Desktop\\projects\\BERT_GMU_Classiifcation\\.venv\\Lib\\site-packages\\sklearn\\metrics\\_classification.py:1565: UndefinedMetricWarning: Precision is ill-defined and being set to 0.0 in labels with no predicted samples. Use `zero_division` parameter to control this behavior.\n",
      "  _warn_prf(average, modifier, f\"{metric.capitalize()} is\", len(result))\n",
      "c:\\Users\\ymasr\\OneDrive\\Desktop\\projects\\BERT_GMU_Classiifcation\\.venv\\Lib\\site-packages\\sklearn\\metrics\\_classification.py:1565: UndefinedMetricWarning: Recall is ill-defined and being set to 0.0 in labels with no true samples. Use `zero_division` parameter to control this behavior.\n",
      "  _warn_prf(average, modifier, f\"{metric.capitalize()} is\", len(result))\n",
      "c:\\Users\\ymasr\\OneDrive\\Desktop\\projects\\BERT_GMU_Classiifcation\\.venv\\Lib\\site-packages\\sklearn\\metrics\\_classification.py:1565: UndefinedMetricWarning: F-score is ill-defined and being set to 0.0 in labels with no true nor predicted samples. Use `zero_division` parameter to control this behavior.\n",
      "  _warn_prf(average, modifier, f\"{metric.capitalize()} is\", len(result))\n",
      "                                                 \n",
      "  3%|▎         | 42/1260 [00:31<10:07,  2.00it/s]"
     ]
    },
    {
     "name": "stdout",
     "output_type": "stream",
     "text": [
      "{'eval_loss': 0.34153708815574646, 'eval_accuracy': 0.017543859649122806, 'eval_f1': 0.23878215930794291, 'eval_precision': 0.3019367588932806, 'eval_recall': 0.2956521739130435, 'eval_runtime': 0.7158, 'eval_samples_per_second': 79.626, 'eval_steps_per_second': 5.588, 'epoch': 2.0}\n"
     ]
    },
    {
     "name": "stderr",
     "output_type": "stream",
     "text": [
      "  5%|▌         | 63/1260 [00:49<09:47,  2.04it/s]c:\\Users\\ymasr\\OneDrive\\Desktop\\projects\\BERT_GMU_Classiifcation\\.venv\\Lib\\site-packages\\sklearn\\metrics\\_classification.py:1565: UndefinedMetricWarning: Precision is ill-defined and being set to 0.0 in labels with no predicted samples. Use `zero_division` parameter to control this behavior.\n",
      "  _warn_prf(average, modifier, f\"{metric.capitalize()} is\", len(result))\n",
      "c:\\Users\\ymasr\\OneDrive\\Desktop\\projects\\BERT_GMU_Classiifcation\\.venv\\Lib\\site-packages\\sklearn\\metrics\\_classification.py:1565: UndefinedMetricWarning: Recall is ill-defined and being set to 0.0 in labels with no true samples. Use `zero_division` parameter to control this behavior.\n",
      "  _warn_prf(average, modifier, f\"{metric.capitalize()} is\", len(result))\n",
      "c:\\Users\\ymasr\\OneDrive\\Desktop\\projects\\BERT_GMU_Classiifcation\\.venv\\Lib\\site-packages\\sklearn\\metrics\\_classification.py:1565: UndefinedMetricWarning: F-score is ill-defined and being set to 0.0 in labels with no true nor predicted samples. Use `zero_division` parameter to control this behavior.\n",
      "  _warn_prf(average, modifier, f\"{metric.capitalize()} is\", len(result))\n",
      "                                                 \n",
      "  5%|▌         | 63/1260 [00:49<09:47,  2.04it/s]"
     ]
    },
    {
     "name": "stdout",
     "output_type": "stream",
     "text": [
      "{'eval_loss': 0.2994852662086487, 'eval_accuracy': 0.08771929824561403, 'eval_f1': 0.3151808711029101, 'eval_precision': 0.2992236024844721, 'eval_recall': 0.3739130434782609, 'eval_runtime': 0.7258, 'eval_samples_per_second': 78.532, 'eval_steps_per_second': 5.511, 'epoch': 3.0}\n"
     ]
    },
    {
     "name": "stderr",
     "output_type": "stream",
     "text": [
      "  7%|▋         | 84/1260 [01:07<09:36,  2.04it/s]c:\\Users\\ymasr\\OneDrive\\Desktop\\projects\\BERT_GMU_Classiifcation\\.venv\\Lib\\site-packages\\sklearn\\metrics\\_classification.py:1565: UndefinedMetricWarning: Precision is ill-defined and being set to 0.0 in labels with no predicted samples. Use `zero_division` parameter to control this behavior.\n",
      "  _warn_prf(average, modifier, f\"{metric.capitalize()} is\", len(result))\n",
      "c:\\Users\\ymasr\\OneDrive\\Desktop\\projects\\BERT_GMU_Classiifcation\\.venv\\Lib\\site-packages\\sklearn\\metrics\\_classification.py:1565: UndefinedMetricWarning: Recall is ill-defined and being set to 0.0 in labels with no true samples. Use `zero_division` parameter to control this behavior.\n",
      "  _warn_prf(average, modifier, f\"{metric.capitalize()} is\", len(result))\n",
      "c:\\Users\\ymasr\\OneDrive\\Desktop\\projects\\BERT_GMU_Classiifcation\\.venv\\Lib\\site-packages\\sklearn\\metrics\\_classification.py:1565: UndefinedMetricWarning: F-score is ill-defined and being set to 0.0 in labels with no true nor predicted samples. Use `zero_division` parameter to control this behavior.\n",
      "  _warn_prf(average, modifier, f\"{metric.capitalize()} is\", len(result))\n",
      "                                                 \n",
      "  7%|▋         | 84/1260 [01:07<09:36,  2.04it/s]"
     ]
    },
    {
     "name": "stdout",
     "output_type": "stream",
     "text": [
      "{'eval_loss': 0.27817434072494507, 'eval_accuracy': 0.08771929824561403, 'eval_f1': 0.3688308226838961, 'eval_precision': 0.5605072463768116, 'eval_recall': 0.3130434782608696, 'eval_runtime': 0.7124, 'eval_samples_per_second': 80.011, 'eval_steps_per_second': 5.615, 'epoch': 4.0}\n"
     ]
    },
    {
     "name": "stderr",
     "output_type": "stream",
     "text": [
      "  8%|▊         | 105/1260 [01:24<09:24,  2.04it/s]c:\\Users\\ymasr\\OneDrive\\Desktop\\projects\\BERT_GMU_Classiifcation\\.venv\\Lib\\site-packages\\sklearn\\metrics\\_classification.py:1565: UndefinedMetricWarning: Precision is ill-defined and being set to 0.0 in labels with no predicted samples. Use `zero_division` parameter to control this behavior.\n",
      "  _warn_prf(average, modifier, f\"{metric.capitalize()} is\", len(result))\n",
      "c:\\Users\\ymasr\\OneDrive\\Desktop\\projects\\BERT_GMU_Classiifcation\\.venv\\Lib\\site-packages\\sklearn\\metrics\\_classification.py:1565: UndefinedMetricWarning: Recall is ill-defined and being set to 0.0 in labels with no true samples. Use `zero_division` parameter to control this behavior.\n",
      "  _warn_prf(average, modifier, f\"{metric.capitalize()} is\", len(result))\n",
      "c:\\Users\\ymasr\\OneDrive\\Desktop\\projects\\BERT_GMU_Classiifcation\\.venv\\Lib\\site-packages\\sklearn\\metrics\\_classification.py:1565: UndefinedMetricWarning: F-score is ill-defined and being set to 0.0 in labels with no true nor predicted samples. Use `zero_division` parameter to control this behavior.\n",
      "  _warn_prf(average, modifier, f\"{metric.capitalize()} is\", len(result))\n",
      "                                                  \n",
      "  8%|▊         | 105/1260 [01:25<09:24,  2.04it/s]"
     ]
    },
    {
     "name": "stdout",
     "output_type": "stream",
     "text": [
      "{'eval_loss': 0.26534804701805115, 'eval_accuracy': 0.15789473684210525, 'eval_f1': 0.45729042039057605, 'eval_precision': 0.5534161490683229, 'eval_recall': 0.45217391304347826, 'eval_runtime': 0.7165, 'eval_samples_per_second': 79.553, 'eval_steps_per_second': 5.583, 'epoch': 5.0}\n"
     ]
    },
    {
     "name": "stderr",
     "output_type": "stream",
     "text": [
      " 10%|█         | 126/1260 [01:42<09:17,  2.04it/s]c:\\Users\\ymasr\\OneDrive\\Desktop\\projects\\BERT_GMU_Classiifcation\\.venv\\Lib\\site-packages\\sklearn\\metrics\\_classification.py:1565: UndefinedMetricWarning: Precision is ill-defined and being set to 0.0 in labels with no predicted samples. Use `zero_division` parameter to control this behavior.\n",
      "  _warn_prf(average, modifier, f\"{metric.capitalize()} is\", len(result))\n",
      "c:\\Users\\ymasr\\OneDrive\\Desktop\\projects\\BERT_GMU_Classiifcation\\.venv\\Lib\\site-packages\\sklearn\\metrics\\_classification.py:1565: UndefinedMetricWarning: Recall is ill-defined and being set to 0.0 in labels with no true samples. Use `zero_division` parameter to control this behavior.\n",
      "  _warn_prf(average, modifier, f\"{metric.capitalize()} is\", len(result))\n",
      "c:\\Users\\ymasr\\OneDrive\\Desktop\\projects\\BERT_GMU_Classiifcation\\.venv\\Lib\\site-packages\\sklearn\\metrics\\_classification.py:1565: UndefinedMetricWarning: F-score is ill-defined and being set to 0.0 in labels with no true nor predicted samples. Use `zero_division` parameter to control this behavior.\n",
      "  _warn_prf(average, modifier, f\"{metric.capitalize()} is\", len(result))\n",
      "                                                  \n",
      " 10%|█         | 126/1260 [01:43<09:17,  2.04it/s]"
     ]
    },
    {
     "name": "stdout",
     "output_type": "stream",
     "text": [
      "{'eval_loss': 0.25428733229637146, 'eval_accuracy': 0.21052631578947367, 'eval_f1': 0.4723389501421539, 'eval_precision': 0.5125465838509317, 'eval_recall': 0.45217391304347826, 'eval_runtime': 0.7407, 'eval_samples_per_second': 76.952, 'eval_steps_per_second': 5.4, 'epoch': 6.0}\n"
     ]
    },
    {
     "name": "stderr",
     "output_type": "stream",
     "text": [
      " 12%|█▏        | 147/1260 [02:00<09:05,  2.04it/s]c:\\Users\\ymasr\\OneDrive\\Desktop\\projects\\BERT_GMU_Classiifcation\\.venv\\Lib\\site-packages\\sklearn\\metrics\\_classification.py:1565: UndefinedMetricWarning: Precision is ill-defined and being set to 0.0 in labels with no predicted samples. Use `zero_division` parameter to control this behavior.\n",
      "  _warn_prf(average, modifier, f\"{metric.capitalize()} is\", len(result))\n",
      "c:\\Users\\ymasr\\OneDrive\\Desktop\\projects\\BERT_GMU_Classiifcation\\.venv\\Lib\\site-packages\\sklearn\\metrics\\_classification.py:1565: UndefinedMetricWarning: Recall is ill-defined and being set to 0.0 in labels with no true samples. Use `zero_division` parameter to control this behavior.\n",
      "  _warn_prf(average, modifier, f\"{metric.capitalize()} is\", len(result))\n",
      "c:\\Users\\ymasr\\OneDrive\\Desktop\\projects\\BERT_GMU_Classiifcation\\.venv\\Lib\\site-packages\\sklearn\\metrics\\_classification.py:1565: UndefinedMetricWarning: F-score is ill-defined and being set to 0.0 in labels with no true nor predicted samples. Use `zero_division` parameter to control this behavior.\n",
      "  _warn_prf(average, modifier, f\"{metric.capitalize()} is\", len(result))\n",
      "                                                  \n",
      " 12%|█▏        | 147/1260 [02:01<09:05,  2.04it/s]"
     ]
    },
    {
     "name": "stdout",
     "output_type": "stream",
     "text": [
      "{'eval_loss': 0.24289239943027496, 'eval_accuracy': 0.24561403508771928, 'eval_f1': 0.5120114950443688, 'eval_precision': 0.5228245411877125, 'eval_recall': 0.5130434782608696, 'eval_runtime': 0.7135, 'eval_samples_per_second': 79.887, 'eval_steps_per_second': 5.606, 'epoch': 7.0}\n"
     ]
    },
    {
     "name": "stderr",
     "output_type": "stream",
     "text": [
      " 13%|█▎        | 168/1260 [02:18<08:53,  2.05it/s]c:\\Users\\ymasr\\OneDrive\\Desktop\\projects\\BERT_GMU_Classiifcation\\.venv\\Lib\\site-packages\\sklearn\\metrics\\_classification.py:1565: UndefinedMetricWarning: Precision is ill-defined and being set to 0.0 in labels with no predicted samples. Use `zero_division` parameter to control this behavior.\n",
      "  _warn_prf(average, modifier, f\"{metric.capitalize()} is\", len(result))\n",
      "c:\\Users\\ymasr\\OneDrive\\Desktop\\projects\\BERT_GMU_Classiifcation\\.venv\\Lib\\site-packages\\sklearn\\metrics\\_classification.py:1565: UndefinedMetricWarning: Recall is ill-defined and being set to 0.0 in labels with no true samples. Use `zero_division` parameter to control this behavior.\n",
      "  _warn_prf(average, modifier, f\"{metric.capitalize()} is\", len(result))\n",
      "c:\\Users\\ymasr\\OneDrive\\Desktop\\projects\\BERT_GMU_Classiifcation\\.venv\\Lib\\site-packages\\sklearn\\metrics\\_classification.py:1565: UndefinedMetricWarning: F-score is ill-defined and being set to 0.0 in labels with no true nor predicted samples. Use `zero_division` parameter to control this behavior.\n",
      "  _warn_prf(average, modifier, f\"{metric.capitalize()} is\", len(result))\n",
      "                                                  \n",
      " 13%|█▎        | 168/1260 [02:19<08:53,  2.05it/s]"
     ]
    },
    {
     "name": "stdout",
     "output_type": "stream",
     "text": [
      "{'eval_loss': 0.23462191224098206, 'eval_accuracy': 0.3157894736842105, 'eval_f1': 0.5351395140697182, 'eval_precision': 0.5120760672295431, 'eval_recall': 0.5739130434782609, 'eval_runtime': 0.7137, 'eval_samples_per_second': 79.865, 'eval_steps_per_second': 5.605, 'epoch': 8.0}\n"
     ]
    },
    {
     "name": "stderr",
     "output_type": "stream",
     "text": [
      " 15%|█▌        | 189/1260 [02:36<08:42,  2.05it/s]c:\\Users\\ymasr\\OneDrive\\Desktop\\projects\\BERT_GMU_Classiifcation\\.venv\\Lib\\site-packages\\sklearn\\metrics\\_classification.py:1565: UndefinedMetricWarning: Precision is ill-defined and being set to 0.0 in labels with no predicted samples. Use `zero_division` parameter to control this behavior.\n",
      "  _warn_prf(average, modifier, f\"{metric.capitalize()} is\", len(result))\n",
      "c:\\Users\\ymasr\\OneDrive\\Desktop\\projects\\BERT_GMU_Classiifcation\\.venv\\Lib\\site-packages\\sklearn\\metrics\\_classification.py:1565: UndefinedMetricWarning: Recall is ill-defined and being set to 0.0 in labels with no true samples. Use `zero_division` parameter to control this behavior.\n",
      "  _warn_prf(average, modifier, f\"{metric.capitalize()} is\", len(result))\n",
      "c:\\Users\\ymasr\\OneDrive\\Desktop\\projects\\BERT_GMU_Classiifcation\\.venv\\Lib\\site-packages\\sklearn\\metrics\\_classification.py:1565: UndefinedMetricWarning: F-score is ill-defined and being set to 0.0 in labels with no true nor predicted samples. Use `zero_division` parameter to control this behavior.\n",
      "  _warn_prf(average, modifier, f\"{metric.capitalize()} is\", len(result))\n",
      "                                                  \n",
      " 15%|█▌        | 189/1260 [02:37<08:42,  2.05it/s]"
     ]
    },
    {
     "name": "stdout",
     "output_type": "stream",
     "text": [
      "{'eval_loss': 0.22411537170410156, 'eval_accuracy': 0.2631578947368421, 'eval_f1': 0.5207155163676903, 'eval_precision': 0.5473291925465837, 'eval_recall': 0.5130434782608696, 'eval_runtime': 0.7149, 'eval_samples_per_second': 79.73, 'eval_steps_per_second': 5.595, 'epoch': 9.0}\n"
     ]
    },
    {
     "name": "stderr",
     "output_type": "stream",
     "text": [
      " 17%|█▋        | 210/1260 [02:55<08:48,  1.99it/s]c:\\Users\\ymasr\\OneDrive\\Desktop\\projects\\BERT_GMU_Classiifcation\\.venv\\Lib\\site-packages\\sklearn\\metrics\\_classification.py:1565: UndefinedMetricWarning: Precision is ill-defined and being set to 0.0 in labels with no predicted samples. Use `zero_division` parameter to control this behavior.\n",
      "  _warn_prf(average, modifier, f\"{metric.capitalize()} is\", len(result))\n",
      "c:\\Users\\ymasr\\OneDrive\\Desktop\\projects\\BERT_GMU_Classiifcation\\.venv\\Lib\\site-packages\\sklearn\\metrics\\_classification.py:1565: UndefinedMetricWarning: Recall is ill-defined and being set to 0.0 in labels with no true samples. Use `zero_division` parameter to control this behavior.\n",
      "  _warn_prf(average, modifier, f\"{metric.capitalize()} is\", len(result))\n",
      "c:\\Users\\ymasr\\OneDrive\\Desktop\\projects\\BERT_GMU_Classiifcation\\.venv\\Lib\\site-packages\\sklearn\\metrics\\_classification.py:1565: UndefinedMetricWarning: F-score is ill-defined and being set to 0.0 in labels with no true nor predicted samples. Use `zero_division` parameter to control this behavior.\n",
      "  _warn_prf(average, modifier, f\"{metric.capitalize()} is\", len(result))\n",
      "                                                  \n",
      " 17%|█▋        | 210/1260 [02:55<08:48,  1.99it/s]"
     ]
    },
    {
     "name": "stdout",
     "output_type": "stream",
     "text": [
      "{'eval_loss': 0.21607302129268646, 'eval_accuracy': 0.24561403508771928, 'eval_f1': 0.528358695652174, 'eval_precision': 0.5033501120457643, 'eval_recall': 0.5565217391304348, 'eval_runtime': 0.757, 'eval_samples_per_second': 75.296, 'eval_steps_per_second': 5.284, 'epoch': 10.0}\n"
     ]
    },
    {
     "name": "stderr",
     "output_type": "stream",
     "text": [
      " 18%|█▊        | 231/1260 [03:13<08:29,  2.02it/s]c:\\Users\\ymasr\\OneDrive\\Desktop\\projects\\BERT_GMU_Classiifcation\\.venv\\Lib\\site-packages\\sklearn\\metrics\\_classification.py:1565: UndefinedMetricWarning: Precision is ill-defined and being set to 0.0 in labels with no predicted samples. Use `zero_division` parameter to control this behavior.\n",
      "  _warn_prf(average, modifier, f\"{metric.capitalize()} is\", len(result))\n",
      "c:\\Users\\ymasr\\OneDrive\\Desktop\\projects\\BERT_GMU_Classiifcation\\.venv\\Lib\\site-packages\\sklearn\\metrics\\_classification.py:1565: UndefinedMetricWarning: Recall is ill-defined and being set to 0.0 in labels with no true samples. Use `zero_division` parameter to control this behavior.\n",
      "  _warn_prf(average, modifier, f\"{metric.capitalize()} is\", len(result))\n",
      "c:\\Users\\ymasr\\OneDrive\\Desktop\\projects\\BERT_GMU_Classiifcation\\.venv\\Lib\\site-packages\\sklearn\\metrics\\_classification.py:1565: UndefinedMetricWarning: F-score is ill-defined and being set to 0.0 in labels with no true nor predicted samples. Use `zero_division` parameter to control this behavior.\n",
      "  _warn_prf(average, modifier, f\"{metric.capitalize()} is\", len(result))\n",
      "                                                  \n",
      " 18%|█▊        | 231/1260 [03:14<08:29,  2.02it/s]"
     ]
    },
    {
     "name": "stdout",
     "output_type": "stream",
     "text": [
      "{'eval_loss': 0.20978175103664398, 'eval_accuracy': 0.24561403508771928, 'eval_f1': 0.5392258993769679, 'eval_precision': 0.6136521739130434, 'eval_recall': 0.5304347826086957, 'eval_runtime': 0.73, 'eval_samples_per_second': 78.079, 'eval_steps_per_second': 5.479, 'epoch': 11.0}\n"
     ]
    },
    {
     "name": "stderr",
     "output_type": "stream",
     "text": [
      " 20%|██        | 252/1260 [03:32<08:23,  2.00it/s]c:\\Users\\ymasr\\OneDrive\\Desktop\\projects\\BERT_GMU_Classiifcation\\.venv\\Lib\\site-packages\\sklearn\\metrics\\_classification.py:1565: UndefinedMetricWarning: Precision is ill-defined and being set to 0.0 in labels with no predicted samples. Use `zero_division` parameter to control this behavior.\n",
      "  _warn_prf(average, modifier, f\"{metric.capitalize()} is\", len(result))\n",
      "c:\\Users\\ymasr\\OneDrive\\Desktop\\projects\\BERT_GMU_Classiifcation\\.venv\\Lib\\site-packages\\sklearn\\metrics\\_classification.py:1565: UndefinedMetricWarning: Recall is ill-defined and being set to 0.0 in labels with no true samples. Use `zero_division` parameter to control this behavior.\n",
      "  _warn_prf(average, modifier, f\"{metric.capitalize()} is\", len(result))\n",
      "c:\\Users\\ymasr\\OneDrive\\Desktop\\projects\\BERT_GMU_Classiifcation\\.venv\\Lib\\site-packages\\sklearn\\metrics\\_classification.py:1565: UndefinedMetricWarning: F-score is ill-defined and being set to 0.0 in labels with no true nor predicted samples. Use `zero_division` parameter to control this behavior.\n",
      "  _warn_prf(average, modifier, f\"{metric.capitalize()} is\", len(result))\n",
      "                                                  \n",
      " 20%|██        | 252/1260 [03:32<08:23,  2.00it/s]"
     ]
    },
    {
     "name": "stdout",
     "output_type": "stream",
     "text": [
      "{'eval_loss': 0.2058655321598053, 'eval_accuracy': 0.2631578947368421, 'eval_f1': 0.5725047387863076, 'eval_precision': 0.6790460956812563, 'eval_recall': 0.5478260869565217, 'eval_runtime': 0.7219, 'eval_samples_per_second': 78.954, 'eval_steps_per_second': 5.541, 'epoch': 12.0}\n"
     ]
    },
    {
     "name": "stderr",
     "output_type": "stream",
     "text": [
      " 22%|██▏       | 273/1260 [03:50<08:10,  2.01it/s]c:\\Users\\ymasr\\OneDrive\\Desktop\\projects\\BERT_GMU_Classiifcation\\.venv\\Lib\\site-packages\\sklearn\\metrics\\_classification.py:1565: UndefinedMetricWarning: Precision is ill-defined and being set to 0.0 in labels with no predicted samples. Use `zero_division` parameter to control this behavior.\n",
      "  _warn_prf(average, modifier, f\"{metric.capitalize()} is\", len(result))\n",
      "c:\\Users\\ymasr\\OneDrive\\Desktop\\projects\\BERT_GMU_Classiifcation\\.venv\\Lib\\site-packages\\sklearn\\metrics\\_classification.py:1565: UndefinedMetricWarning: Recall is ill-defined and being set to 0.0 in labels with no true samples. Use `zero_division` parameter to control this behavior.\n",
      "  _warn_prf(average, modifier, f\"{metric.capitalize()} is\", len(result))\n",
      "c:\\Users\\ymasr\\OneDrive\\Desktop\\projects\\BERT_GMU_Classiifcation\\.venv\\Lib\\site-packages\\sklearn\\metrics\\_classification.py:1565: UndefinedMetricWarning: F-score is ill-defined and being set to 0.0 in labels with no true nor predicted samples. Use `zero_division` parameter to control this behavior.\n",
      "  _warn_prf(average, modifier, f\"{metric.capitalize()} is\", len(result))\n",
      "                                                  \n",
      " 22%|██▏       | 273/1260 [03:50<08:10,  2.01it/s]"
     ]
    },
    {
     "name": "stdout",
     "output_type": "stream",
     "text": [
      "{'eval_loss': 0.20015521347522736, 'eval_accuracy': 0.24561403508771928, 'eval_f1': 0.5650793650793651, 'eval_precision': 0.6439481605351169, 'eval_recall': 0.5652173913043478, 'eval_runtime': 0.7256, 'eval_samples_per_second': 78.556, 'eval_steps_per_second': 5.513, 'epoch': 13.0}\n"
     ]
    },
    {
     "name": "stderr",
     "output_type": "stream",
     "text": [
      " 23%|██▎       | 294/1260 [04:08<08:38,  1.86it/s]c:\\Users\\ymasr\\OneDrive\\Desktop\\projects\\BERT_GMU_Classiifcation\\.venv\\Lib\\site-packages\\sklearn\\metrics\\_classification.py:1565: UndefinedMetricWarning: Precision is ill-defined and being set to 0.0 in labels with no predicted samples. Use `zero_division` parameter to control this behavior.\n",
      "  _warn_prf(average, modifier, f\"{metric.capitalize()} is\", len(result))\n",
      "c:\\Users\\ymasr\\OneDrive\\Desktop\\projects\\BERT_GMU_Classiifcation\\.venv\\Lib\\site-packages\\sklearn\\metrics\\_classification.py:1565: UndefinedMetricWarning: Recall is ill-defined and being set to 0.0 in labels with no true samples. Use `zero_division` parameter to control this behavior.\n",
      "  _warn_prf(average, modifier, f\"{metric.capitalize()} is\", len(result))\n",
      "c:\\Users\\ymasr\\OneDrive\\Desktop\\projects\\BERT_GMU_Classiifcation\\.venv\\Lib\\site-packages\\sklearn\\metrics\\_classification.py:1565: UndefinedMetricWarning: F-score is ill-defined and being set to 0.0 in labels with no true nor predicted samples. Use `zero_division` parameter to control this behavior.\n",
      "  _warn_prf(average, modifier, f\"{metric.capitalize()} is\", len(result))\n",
      "                                                  \n",
      " 23%|██▎       | 294/1260 [04:09<08:38,  1.86it/s]"
     ]
    },
    {
     "name": "stdout",
     "output_type": "stream",
     "text": [
      "{'eval_loss': 0.20107874274253845, 'eval_accuracy': 0.24561403508771928, 'eval_f1': 0.5798498396013925, 'eval_precision': 0.6600853419444124, 'eval_recall': 0.5652173913043478, 'eval_runtime': 0.7826, 'eval_samples_per_second': 72.838, 'eval_steps_per_second': 5.111, 'epoch': 14.0}\n"
     ]
    },
    {
     "name": "stderr",
     "output_type": "stream",
     "text": [
      " 25%|██▌       | 315/1260 [04:27<08:33,  1.84it/s]c:\\Users\\ymasr\\OneDrive\\Desktop\\projects\\BERT_GMU_Classiifcation\\.venv\\Lib\\site-packages\\sklearn\\metrics\\_classification.py:1565: UndefinedMetricWarning: Precision is ill-defined and being set to 0.0 in labels with no predicted samples. Use `zero_division` parameter to control this behavior.\n",
      "  _warn_prf(average, modifier, f\"{metric.capitalize()} is\", len(result))\n",
      "c:\\Users\\ymasr\\OneDrive\\Desktop\\projects\\BERT_GMU_Classiifcation\\.venv\\Lib\\site-packages\\sklearn\\metrics\\_classification.py:1565: UndefinedMetricWarning: Recall is ill-defined and being set to 0.0 in labels with no true samples. Use `zero_division` parameter to control this behavior.\n",
      "  _warn_prf(average, modifier, f\"{metric.capitalize()} is\", len(result))\n",
      "c:\\Users\\ymasr\\OneDrive\\Desktop\\projects\\BERT_GMU_Classiifcation\\.venv\\Lib\\site-packages\\sklearn\\metrics\\_classification.py:1565: UndefinedMetricWarning: F-score is ill-defined and being set to 0.0 in labels with no true nor predicted samples. Use `zero_division` parameter to control this behavior.\n",
      "  _warn_prf(average, modifier, f\"{metric.capitalize()} is\", len(result))\n",
      "                                                  \n",
      " 25%|██▌       | 315/1260 [04:28<08:33,  1.84it/s]"
     ]
    },
    {
     "name": "stdout",
     "output_type": "stream",
     "text": [
      "{'eval_loss': 0.19547012448310852, 'eval_accuracy': 0.2631578947368421, 'eval_f1': 0.5934763076436069, 'eval_precision': 0.6746727878296876, 'eval_recall': 0.5826086956521739, 'eval_runtime': 0.7763, 'eval_samples_per_second': 73.427, 'eval_steps_per_second': 5.153, 'epoch': 15.0}\n"
     ]
    },
    {
     "name": "stderr",
     "output_type": "stream",
     "text": [
      " 27%|██▋       | 336/1260 [04:46<08:42,  1.77it/s]c:\\Users\\ymasr\\OneDrive\\Desktop\\projects\\BERT_GMU_Classiifcation\\.venv\\Lib\\site-packages\\sklearn\\metrics\\_classification.py:1565: UndefinedMetricWarning: Precision is ill-defined and being set to 0.0 in labels with no predicted samples. Use `zero_division` parameter to control this behavior.\n",
      "  _warn_prf(average, modifier, f\"{metric.capitalize()} is\", len(result))\n",
      "c:\\Users\\ymasr\\OneDrive\\Desktop\\projects\\BERT_GMU_Classiifcation\\.venv\\Lib\\site-packages\\sklearn\\metrics\\_classification.py:1565: UndefinedMetricWarning: Recall is ill-defined and being set to 0.0 in labels with no true samples. Use `zero_division` parameter to control this behavior.\n",
      "  _warn_prf(average, modifier, f\"{metric.capitalize()} is\", len(result))\n",
      "c:\\Users\\ymasr\\OneDrive\\Desktop\\projects\\BERT_GMU_Classiifcation\\.venv\\Lib\\site-packages\\sklearn\\metrics\\_classification.py:1565: UndefinedMetricWarning: F-score is ill-defined and being set to 0.0 in labels with no true nor predicted samples. Use `zero_division` parameter to control this behavior.\n",
      "  _warn_prf(average, modifier, f\"{metric.capitalize()} is\", len(result))\n",
      "                                                  \n",
      " 27%|██▋       | 336/1260 [04:47<08:42,  1.77it/s]"
     ]
    },
    {
     "name": "stdout",
     "output_type": "stream",
     "text": [
      "{'eval_loss': 0.1910184621810913, 'eval_accuracy': 0.2807017543859649, 'eval_f1': 0.6151786019392516, 'eval_precision': 0.6891885458237066, 'eval_recall': 0.6, 'eval_runtime': 0.7819, 'eval_samples_per_second': 72.9, 'eval_steps_per_second': 5.116, 'epoch': 16.0}\n"
     ]
    },
    {
     "name": "stderr",
     "output_type": "stream",
     "text": [
      " 28%|██▊       | 357/1260 [05:07<08:33,  1.76it/s]c:\\Users\\ymasr\\OneDrive\\Desktop\\projects\\BERT_GMU_Classiifcation\\.venv\\Lib\\site-packages\\sklearn\\metrics\\_classification.py:1565: UndefinedMetricWarning: Precision is ill-defined and being set to 0.0 in labels with no predicted samples. Use `zero_division` parameter to control this behavior.\n",
      "  _warn_prf(average, modifier, f\"{metric.capitalize()} is\", len(result))\n",
      "c:\\Users\\ymasr\\OneDrive\\Desktop\\projects\\BERT_GMU_Classiifcation\\.venv\\Lib\\site-packages\\sklearn\\metrics\\_classification.py:1565: UndefinedMetricWarning: Recall is ill-defined and being set to 0.0 in labels with no true samples. Use `zero_division` parameter to control this behavior.\n",
      "  _warn_prf(average, modifier, f\"{metric.capitalize()} is\", len(result))\n",
      "c:\\Users\\ymasr\\OneDrive\\Desktop\\projects\\BERT_GMU_Classiifcation\\.venv\\Lib\\site-packages\\sklearn\\metrics\\_classification.py:1565: UndefinedMetricWarning: F-score is ill-defined and being set to 0.0 in labels with no true nor predicted samples. Use `zero_division` parameter to control this behavior.\n",
      "  _warn_prf(average, modifier, f\"{metric.capitalize()} is\", len(result))\n",
      "                                                  \n",
      " 28%|██▊       | 357/1260 [05:08<08:33,  1.76it/s]"
     ]
    },
    {
     "name": "stdout",
     "output_type": "stream",
     "text": [
      "{'eval_loss': 0.18763896822929382, 'eval_accuracy': 0.2631578947368421, 'eval_f1': 0.6224953379439966, 'eval_precision': 0.6541036546943918, 'eval_recall': 0.6086956521739131, 'eval_runtime': 0.818, 'eval_samples_per_second': 69.685, 'eval_steps_per_second': 4.89, 'epoch': 17.0}\n"
     ]
    },
    {
     "name": "stderr",
     "output_type": "stream",
     "text": [
      " 30%|███       | 378/1260 [05:25<07:18,  2.01it/s]c:\\Users\\ymasr\\OneDrive\\Desktop\\projects\\BERT_GMU_Classiifcation\\.venv\\Lib\\site-packages\\sklearn\\metrics\\_classification.py:1565: UndefinedMetricWarning: Precision is ill-defined and being set to 0.0 in labels with no predicted samples. Use `zero_division` parameter to control this behavior.\n",
      "  _warn_prf(average, modifier, f\"{metric.capitalize()} is\", len(result))\n",
      "c:\\Users\\ymasr\\OneDrive\\Desktop\\projects\\BERT_GMU_Classiifcation\\.venv\\Lib\\site-packages\\sklearn\\metrics\\_classification.py:1565: UndefinedMetricWarning: Recall is ill-defined and being set to 0.0 in labels with no true samples. Use `zero_division` parameter to control this behavior.\n",
      "  _warn_prf(average, modifier, f\"{metric.capitalize()} is\", len(result))\n",
      "c:\\Users\\ymasr\\OneDrive\\Desktop\\projects\\BERT_GMU_Classiifcation\\.venv\\Lib\\site-packages\\sklearn\\metrics\\_classification.py:1565: UndefinedMetricWarning: F-score is ill-defined and being set to 0.0 in labels with no true nor predicted samples. Use `zero_division` parameter to control this behavior.\n",
      "  _warn_prf(average, modifier, f\"{metric.capitalize()} is\", len(result))\n",
      "                                                  \n",
      " 30%|███       | 378/1260 [05:26<07:18,  2.01it/s]"
     ]
    },
    {
     "name": "stdout",
     "output_type": "stream",
     "text": [
      "{'eval_loss': 0.1872773915529251, 'eval_accuracy': 0.2631578947368421, 'eval_f1': 0.6255215977037877, 'eval_precision': 0.6945109786244001, 'eval_recall': 0.591304347826087, 'eval_runtime': 0.7245, 'eval_samples_per_second': 78.68, 'eval_steps_per_second': 5.521, 'epoch': 18.0}\n"
     ]
    },
    {
     "name": "stderr",
     "output_type": "stream",
     "text": [
      " 32%|███▏      | 399/1260 [05:44<08:15,  1.74it/s]c:\\Users\\ymasr\\OneDrive\\Desktop\\projects\\BERT_GMU_Classiifcation\\.venv\\Lib\\site-packages\\sklearn\\metrics\\_classification.py:1565: UndefinedMetricWarning: Precision is ill-defined and being set to 0.0 in labels with no predicted samples. Use `zero_division` parameter to control this behavior.\n",
      "  _warn_prf(average, modifier, f\"{metric.capitalize()} is\", len(result))\n",
      "c:\\Users\\ymasr\\OneDrive\\Desktop\\projects\\BERT_GMU_Classiifcation\\.venv\\Lib\\site-packages\\sklearn\\metrics\\_classification.py:1565: UndefinedMetricWarning: Recall is ill-defined and being set to 0.0 in labels with no true samples. Use `zero_division` parameter to control this behavior.\n",
      "  _warn_prf(average, modifier, f\"{metric.capitalize()} is\", len(result))\n",
      "c:\\Users\\ymasr\\OneDrive\\Desktop\\projects\\BERT_GMU_Classiifcation\\.venv\\Lib\\site-packages\\sklearn\\metrics\\_classification.py:1565: UndefinedMetricWarning: F-score is ill-defined and being set to 0.0 in labels with no true nor predicted samples. Use `zero_division` parameter to control this behavior.\n",
      "  _warn_prf(average, modifier, f\"{metric.capitalize()} is\", len(result))\n",
      "                                                  \n",
      " 32%|███▏      | 399/1260 [05:45<08:15,  1.74it/s]"
     ]
    },
    {
     "name": "stdout",
     "output_type": "stream",
     "text": [
      "{'eval_loss': 0.18535009026527405, 'eval_accuracy': 0.2982456140350877, 'eval_f1': 0.6278152086184511, 'eval_precision': 0.6999130434782608, 'eval_recall': 0.6, 'eval_runtime': 0.8318, 'eval_samples_per_second': 68.528, 'eval_steps_per_second': 4.809, 'epoch': 19.0}\n"
     ]
    },
    {
     "name": "stderr",
     "output_type": "stream",
     "text": [
      " 33%|███▎      | 420/1260 [06:05<08:11,  1.71it/s]c:\\Users\\ymasr\\OneDrive\\Desktop\\projects\\BERT_GMU_Classiifcation\\.venv\\Lib\\site-packages\\sklearn\\metrics\\_classification.py:1565: UndefinedMetricWarning: Precision is ill-defined and being set to 0.0 in labels with no predicted samples. Use `zero_division` parameter to control this behavior.\n",
      "  _warn_prf(average, modifier, f\"{metric.capitalize()} is\", len(result))\n",
      "c:\\Users\\ymasr\\OneDrive\\Desktop\\projects\\BERT_GMU_Classiifcation\\.venv\\Lib\\site-packages\\sklearn\\metrics\\_classification.py:1565: UndefinedMetricWarning: Recall is ill-defined and being set to 0.0 in labels with no true samples. Use `zero_division` parameter to control this behavior.\n",
      "  _warn_prf(average, modifier, f\"{metric.capitalize()} is\", len(result))\n",
      "c:\\Users\\ymasr\\OneDrive\\Desktop\\projects\\BERT_GMU_Classiifcation\\.venv\\Lib\\site-packages\\sklearn\\metrics\\_classification.py:1565: UndefinedMetricWarning: F-score is ill-defined and being set to 0.0 in labels with no true nor predicted samples. Use `zero_division` parameter to control this behavior.\n",
      "  _warn_prf(average, modifier, f\"{metric.capitalize()} is\", len(result))\n",
      "                                                  \n",
      " 33%|███▎      | 420/1260 [06:05<08:11,  1.71it/s]"
     ]
    },
    {
     "name": "stdout",
     "output_type": "stream",
     "text": [
      "{'eval_loss': 0.18538178503513336, 'eval_accuracy': 0.2631578947368421, 'eval_f1': 0.6117276215470948, 'eval_precision': 0.6833684400036006, 'eval_recall': 0.6, 'eval_runtime': 0.779, 'eval_samples_per_second': 73.175, 'eval_steps_per_second': 5.135, 'epoch': 20.0}\n"
     ]
    },
    {
     "name": "stderr",
     "output_type": "stream",
     "text": [
      " 35%|███▌      | 441/1260 [06:24<07:09,  1.91it/s]c:\\Users\\ymasr\\OneDrive\\Desktop\\projects\\BERT_GMU_Classiifcation\\.venv\\Lib\\site-packages\\sklearn\\metrics\\_classification.py:1565: UndefinedMetricWarning: Precision is ill-defined and being set to 0.0 in labels with no predicted samples. Use `zero_division` parameter to control this behavior.\n",
      "  _warn_prf(average, modifier, f\"{metric.capitalize()} is\", len(result))\n",
      "c:\\Users\\ymasr\\OneDrive\\Desktop\\projects\\BERT_GMU_Classiifcation\\.venv\\Lib\\site-packages\\sklearn\\metrics\\_classification.py:1565: UndefinedMetricWarning: Recall is ill-defined and being set to 0.0 in labels with no true samples. Use `zero_division` parameter to control this behavior.\n",
      "  _warn_prf(average, modifier, f\"{metric.capitalize()} is\", len(result))\n",
      "c:\\Users\\ymasr\\OneDrive\\Desktop\\projects\\BERT_GMU_Classiifcation\\.venv\\Lib\\site-packages\\sklearn\\metrics\\_classification.py:1565: UndefinedMetricWarning: F-score is ill-defined and being set to 0.0 in labels with no true nor predicted samples. Use `zero_division` parameter to control this behavior.\n",
      "  _warn_prf(average, modifier, f\"{metric.capitalize()} is\", len(result))\n",
      "                                                  \n",
      " 35%|███▌      | 441/1260 [06:24<07:09,  1.91it/s]"
     ]
    },
    {
     "name": "stdout",
     "output_type": "stream",
     "text": [
      "{'eval_loss': 0.18566496670246124, 'eval_accuracy': 0.2807017543859649, 'eval_f1': 0.6088636149542718, 'eval_precision': 0.6960051375278545, 'eval_recall': 0.591304347826087, 'eval_runtime': 0.7739, 'eval_samples_per_second': 73.652, 'eval_steps_per_second': 5.169, 'epoch': 21.0}\n"
     ]
    },
    {
     "name": "stderr",
     "output_type": "stream",
     "text": [
      " 37%|███▋      | 462/1260 [06:40<06:25,  2.07it/s]c:\\Users\\ymasr\\OneDrive\\Desktop\\projects\\BERT_GMU_Classiifcation\\.venv\\Lib\\site-packages\\sklearn\\metrics\\_classification.py:1565: UndefinedMetricWarning: Precision is ill-defined and being set to 0.0 in labels with no predicted samples. Use `zero_division` parameter to control this behavior.\n",
      "  _warn_prf(average, modifier, f\"{metric.capitalize()} is\", len(result))\n",
      "c:\\Users\\ymasr\\OneDrive\\Desktop\\projects\\BERT_GMU_Classiifcation\\.venv\\Lib\\site-packages\\sklearn\\metrics\\_classification.py:1565: UndefinedMetricWarning: Recall is ill-defined and being set to 0.0 in labels with no true samples. Use `zero_division` parameter to control this behavior.\n",
      "  _warn_prf(average, modifier, f\"{metric.capitalize()} is\", len(result))\n",
      "c:\\Users\\ymasr\\OneDrive\\Desktop\\projects\\BERT_GMU_Classiifcation\\.venv\\Lib\\site-packages\\sklearn\\metrics\\_classification.py:1565: UndefinedMetricWarning: F-score is ill-defined and being set to 0.0 in labels with no true nor predicted samples. Use `zero_division` parameter to control this behavior.\n",
      "  _warn_prf(average, modifier, f\"{metric.capitalize()} is\", len(result))\n",
      "                                                  \n",
      " 37%|███▋      | 462/1260 [06:41<06:25,  2.07it/s]"
     ]
    },
    {
     "name": "stdout",
     "output_type": "stream",
     "text": [
      "{'eval_loss': 0.17975933849811554, 'eval_accuracy': 0.2807017543859649, 'eval_f1': 0.617155657701427, 'eval_precision': 0.6519420289855072, 'eval_recall': 0.6, 'eval_runtime': 0.7199, 'eval_samples_per_second': 79.175, 'eval_steps_per_second': 5.556, 'epoch': 22.0}\n"
     ]
    },
    {
     "name": "stderr",
     "output_type": "stream",
     "text": [
      " 38%|███▊      | 483/1260 [07:00<06:54,  1.88it/s]c:\\Users\\ymasr\\OneDrive\\Desktop\\projects\\BERT_GMU_Classiifcation\\.venv\\Lib\\site-packages\\sklearn\\metrics\\_classification.py:1565: UndefinedMetricWarning: Precision is ill-defined and being set to 0.0 in labels with no predicted samples. Use `zero_division` parameter to control this behavior.\n",
      "  _warn_prf(average, modifier, f\"{metric.capitalize()} is\", len(result))\n",
      "c:\\Users\\ymasr\\OneDrive\\Desktop\\projects\\BERT_GMU_Classiifcation\\.venv\\Lib\\site-packages\\sklearn\\metrics\\_classification.py:1565: UndefinedMetricWarning: Recall is ill-defined and being set to 0.0 in labels with no true samples. Use `zero_division` parameter to control this behavior.\n",
      "  _warn_prf(average, modifier, f\"{metric.capitalize()} is\", len(result))\n",
      "c:\\Users\\ymasr\\OneDrive\\Desktop\\projects\\BERT_GMU_Classiifcation\\.venv\\Lib\\site-packages\\sklearn\\metrics\\_classification.py:1565: UndefinedMetricWarning: F-score is ill-defined and being set to 0.0 in labels with no true nor predicted samples. Use `zero_division` parameter to control this behavior.\n",
      "  _warn_prf(average, modifier, f\"{metric.capitalize()} is\", len(result))\n",
      "                                                  \n",
      " 38%|███▊      | 483/1260 [07:01<06:54,  1.88it/s]"
     ]
    },
    {
     "name": "stdout",
     "output_type": "stream",
     "text": [
      "{'eval_loss': 0.18113550543785095, 'eval_accuracy': 0.2807017543859649, 'eval_f1': 0.6266203131288153, 'eval_precision': 0.6886510590858417, 'eval_recall': 0.6086956521739131, 'eval_runtime': 0.773, 'eval_samples_per_second': 73.736, 'eval_steps_per_second': 5.174, 'epoch': 23.0}\n"
     ]
    },
    {
     "name": "stderr",
     "output_type": "stream",
     "text": [
      " 40%|███▉      | 500/1260 [07:14<08:38,  1.47it/s]"
     ]
    },
    {
     "name": "stdout",
     "output_type": "stream",
     "text": [
      "{'loss': 0.1993, 'grad_norm': 0.3011831045150757, 'learning_rate': 1.2063492063492064e-05, 'epoch': 23.81}\n"
     ]
    },
    {
     "name": "stderr",
     "output_type": "stream",
     "text": [
      " 40%|████      | 504/1260 [07:16<06:41,  1.88it/s]c:\\Users\\ymasr\\OneDrive\\Desktop\\projects\\BERT_GMU_Classiifcation\\.venv\\Lib\\site-packages\\sklearn\\metrics\\_classification.py:1565: UndefinedMetricWarning: Precision is ill-defined and being set to 0.0 in labels with no predicted samples. Use `zero_division` parameter to control this behavior.\n",
      "  _warn_prf(average, modifier, f\"{metric.capitalize()} is\", len(result))\n",
      "c:\\Users\\ymasr\\OneDrive\\Desktop\\projects\\BERT_GMU_Classiifcation\\.venv\\Lib\\site-packages\\sklearn\\metrics\\_classification.py:1565: UndefinedMetricWarning: Recall is ill-defined and being set to 0.0 in labels with no true samples. Use `zero_division` parameter to control this behavior.\n",
      "  _warn_prf(average, modifier, f\"{metric.capitalize()} is\", len(result))\n",
      "c:\\Users\\ymasr\\OneDrive\\Desktop\\projects\\BERT_GMU_Classiifcation\\.venv\\Lib\\site-packages\\sklearn\\metrics\\_classification.py:1565: UndefinedMetricWarning: F-score is ill-defined and being set to 0.0 in labels with no true nor predicted samples. Use `zero_division` parameter to control this behavior.\n",
      "  _warn_prf(average, modifier, f\"{metric.capitalize()} is\", len(result))\n",
      "                                                  \n",
      " 40%|████      | 504/1260 [07:17<06:41,  1.88it/s]"
     ]
    },
    {
     "name": "stdout",
     "output_type": "stream",
     "text": [
      "{'eval_loss': 0.1799945831298828, 'eval_accuracy': 0.2982456140350877, 'eval_f1': 0.64028326236655, 'eval_precision': 0.7163456656764785, 'eval_recall': 0.6086956521739131, 'eval_runtime': 0.7685, 'eval_samples_per_second': 74.173, 'eval_steps_per_second': 5.205, 'epoch': 24.0}\n"
     ]
    },
    {
     "name": "stderr",
     "output_type": "stream",
     "text": [
      " 42%|████▏     | 525/1260 [07:50<06:26,  1.90it/s]  c:\\Users\\ymasr\\OneDrive\\Desktop\\projects\\BERT_GMU_Classiifcation\\.venv\\Lib\\site-packages\\sklearn\\metrics\\_classification.py:1565: UndefinedMetricWarning: Precision is ill-defined and being set to 0.0 in labels with no predicted samples. Use `zero_division` parameter to control this behavior.\n",
      "  _warn_prf(average, modifier, f\"{metric.capitalize()} is\", len(result))\n",
      "c:\\Users\\ymasr\\OneDrive\\Desktop\\projects\\BERT_GMU_Classiifcation\\.venv\\Lib\\site-packages\\sklearn\\metrics\\_classification.py:1565: UndefinedMetricWarning: Recall is ill-defined and being set to 0.0 in labels with no true samples. Use `zero_division` parameter to control this behavior.\n",
      "  _warn_prf(average, modifier, f\"{metric.capitalize()} is\", len(result))\n",
      "c:\\Users\\ymasr\\OneDrive\\Desktop\\projects\\BERT_GMU_Classiifcation\\.venv\\Lib\\site-packages\\sklearn\\metrics\\_classification.py:1565: UndefinedMetricWarning: F-score is ill-defined and being set to 0.0 in labels with no true nor predicted samples. Use `zero_division` parameter to control this behavior.\n",
      "  _warn_prf(average, modifier, f\"{metric.capitalize()} is\", len(result))\n",
      "                                                  \n",
      " 42%|████▏     | 525/1260 [07:51<06:26,  1.90it/s]"
     ]
    },
    {
     "name": "stdout",
     "output_type": "stream",
     "text": [
      "{'eval_loss': 0.179915189743042, 'eval_accuracy': 0.2807017543859649, 'eval_f1': 0.6365417657679106, 'eval_precision': 0.7095764349072479, 'eval_recall': 0.6086956521739131, 'eval_runtime': 0.7723, 'eval_samples_per_second': 73.807, 'eval_steps_per_second': 5.179, 'epoch': 25.0}\n"
     ]
    },
    {
     "name": "stderr",
     "output_type": "stream",
     "text": [
      " 43%|████▎     | 546/1260 [08:06<06:13,  1.91it/s]c:\\Users\\ymasr\\OneDrive\\Desktop\\projects\\BERT_GMU_Classiifcation\\.venv\\Lib\\site-packages\\sklearn\\metrics\\_classification.py:1565: UndefinedMetricWarning: Precision is ill-defined and being set to 0.0 in labels with no predicted samples. Use `zero_division` parameter to control this behavior.\n",
      "  _warn_prf(average, modifier, f\"{metric.capitalize()} is\", len(result))\n",
      "c:\\Users\\ymasr\\OneDrive\\Desktop\\projects\\BERT_GMU_Classiifcation\\.venv\\Lib\\site-packages\\sklearn\\metrics\\_classification.py:1565: UndefinedMetricWarning: Recall is ill-defined and being set to 0.0 in labels with no true samples. Use `zero_division` parameter to control this behavior.\n",
      "  _warn_prf(average, modifier, f\"{metric.capitalize()} is\", len(result))\n",
      "c:\\Users\\ymasr\\OneDrive\\Desktop\\projects\\BERT_GMU_Classiifcation\\.venv\\Lib\\site-packages\\sklearn\\metrics\\_classification.py:1565: UndefinedMetricWarning: F-score is ill-defined and being set to 0.0 in labels with no true nor predicted samples. Use `zero_division` parameter to control this behavior.\n",
      "  _warn_prf(average, modifier, f\"{metric.capitalize()} is\", len(result))\n",
      "                                                  \n",
      " 43%|████▎     | 546/1260 [08:07<06:13,  1.91it/s]"
     ]
    },
    {
     "name": "stdout",
     "output_type": "stream",
     "text": [
      "{'eval_loss': 0.1775854080915451, 'eval_accuracy': 0.2982456140350877, 'eval_f1': 0.6408537218176754, 'eval_precision': 0.7168737060041408, 'eval_recall': 0.6086956521739131, 'eval_runtime': 0.7588, 'eval_samples_per_second': 75.114, 'eval_steps_per_second': 5.271, 'epoch': 26.0}\n"
     ]
    },
    {
     "name": "stderr",
     "output_type": "stream",
     "text": [
      " 45%|████▌     | 567/1260 [08:22<06:03,  1.91it/s]c:\\Users\\ymasr\\OneDrive\\Desktop\\projects\\BERT_GMU_Classiifcation\\.venv\\Lib\\site-packages\\sklearn\\metrics\\_classification.py:1565: UndefinedMetricWarning: Precision is ill-defined and being set to 0.0 in labels with no predicted samples. Use `zero_division` parameter to control this behavior.\n",
      "  _warn_prf(average, modifier, f\"{metric.capitalize()} is\", len(result))\n",
      "c:\\Users\\ymasr\\OneDrive\\Desktop\\projects\\BERT_GMU_Classiifcation\\.venv\\Lib\\site-packages\\sklearn\\metrics\\_classification.py:1565: UndefinedMetricWarning: Recall is ill-defined and being set to 0.0 in labels with no true samples. Use `zero_division` parameter to control this behavior.\n",
      "  _warn_prf(average, modifier, f\"{metric.capitalize()} is\", len(result))\n",
      "c:\\Users\\ymasr\\OneDrive\\Desktop\\projects\\BERT_GMU_Classiifcation\\.venv\\Lib\\site-packages\\sklearn\\metrics\\_classification.py:1565: UndefinedMetricWarning: F-score is ill-defined and being set to 0.0 in labels with no true nor predicted samples. Use `zero_division` parameter to control this behavior.\n",
      "  _warn_prf(average, modifier, f\"{metric.capitalize()} is\", len(result))\n",
      "                                                  \n",
      " 45%|████▌     | 567/1260 [08:23<06:03,  1.91it/s]"
     ]
    },
    {
     "name": "stdout",
     "output_type": "stream",
     "text": [
      "{'eval_loss': 0.18057061731815338, 'eval_accuracy': 0.2982456140350877, 'eval_f1': 0.6238121250538503, 'eval_precision': 0.6936812994468949, 'eval_recall': 0.6, 'eval_runtime': 0.7528, 'eval_samples_per_second': 75.72, 'eval_steps_per_second': 5.314, 'epoch': 27.0}\n"
     ]
    },
    {
     "name": "stderr",
     "output_type": "stream",
     "text": [
      " 47%|████▋     | 588/1260 [08:38<05:52,  1.91it/s]c:\\Users\\ymasr\\OneDrive\\Desktop\\projects\\BERT_GMU_Classiifcation\\.venv\\Lib\\site-packages\\sklearn\\metrics\\_classification.py:1565: UndefinedMetricWarning: Precision is ill-defined and being set to 0.0 in labels with no predicted samples. Use `zero_division` parameter to control this behavior.\n",
      "  _warn_prf(average, modifier, f\"{metric.capitalize()} is\", len(result))\n",
      "c:\\Users\\ymasr\\OneDrive\\Desktop\\projects\\BERT_GMU_Classiifcation\\.venv\\Lib\\site-packages\\sklearn\\metrics\\_classification.py:1565: UndefinedMetricWarning: Recall is ill-defined and being set to 0.0 in labels with no true samples. Use `zero_division` parameter to control this behavior.\n",
      "  _warn_prf(average, modifier, f\"{metric.capitalize()} is\", len(result))\n",
      "c:\\Users\\ymasr\\OneDrive\\Desktop\\projects\\BERT_GMU_Classiifcation\\.venv\\Lib\\site-packages\\sklearn\\metrics\\_classification.py:1565: UndefinedMetricWarning: F-score is ill-defined and being set to 0.0 in labels with no true nor predicted samples. Use `zero_division` parameter to control this behavior.\n",
      "  _warn_prf(average, modifier, f\"{metric.capitalize()} is\", len(result))\n",
      "                                                  \n",
      " 47%|████▋     | 588/1260 [08:39<05:52,  1.91it/s]"
     ]
    },
    {
     "name": "stdout",
     "output_type": "stream",
     "text": [
      "{'eval_loss': 0.1787862926721573, 'eval_accuracy': 0.2807017543859649, 'eval_f1': 0.6002717696411151, 'eval_precision': 0.6370146327802283, 'eval_recall': 0.591304347826087, 'eval_runtime': 0.7555, 'eval_samples_per_second': 75.447, 'eval_steps_per_second': 5.295, 'epoch': 28.0}\n"
     ]
    },
    {
     "name": "stderr",
     "output_type": "stream",
     "text": [
      " 48%|████▊     | 609/1260 [08:54<05:41,  1.91it/s]c:\\Users\\ymasr\\OneDrive\\Desktop\\projects\\BERT_GMU_Classiifcation\\.venv\\Lib\\site-packages\\sklearn\\metrics\\_classification.py:1565: UndefinedMetricWarning: Precision is ill-defined and being set to 0.0 in labels with no predicted samples. Use `zero_division` parameter to control this behavior.\n",
      "  _warn_prf(average, modifier, f\"{metric.capitalize()} is\", len(result))\n",
      "c:\\Users\\ymasr\\OneDrive\\Desktop\\projects\\BERT_GMU_Classiifcation\\.venv\\Lib\\site-packages\\sklearn\\metrics\\_classification.py:1565: UndefinedMetricWarning: Recall is ill-defined and being set to 0.0 in labels with no true samples. Use `zero_division` parameter to control this behavior.\n",
      "  _warn_prf(average, modifier, f\"{metric.capitalize()} is\", len(result))\n",
      "c:\\Users\\ymasr\\OneDrive\\Desktop\\projects\\BERT_GMU_Classiifcation\\.venv\\Lib\\site-packages\\sklearn\\metrics\\_classification.py:1565: UndefinedMetricWarning: F-score is ill-defined and being set to 0.0 in labels with no true nor predicted samples. Use `zero_division` parameter to control this behavior.\n",
      "  _warn_prf(average, modifier, f\"{metric.capitalize()} is\", len(result))\n",
      "                                                  \n",
      " 48%|████▊     | 609/1260 [08:55<05:41,  1.91it/s]"
     ]
    },
    {
     "name": "stdout",
     "output_type": "stream",
     "text": [
      "{'eval_loss': 0.17692343890666962, 'eval_accuracy': 0.2982456140350877, 'eval_f1': 0.64028326236655, 'eval_precision': 0.7163456656764785, 'eval_recall': 0.6086956521739131, 'eval_runtime': 0.7815, 'eval_samples_per_second': 72.94, 'eval_steps_per_second': 5.119, 'epoch': 29.0}\n"
     ]
    },
    {
     "name": "stderr",
     "output_type": "stream",
     "text": [
      " 50%|█████     | 630/1260 [09:28<05:31,  1.90it/s]  c:\\Users\\ymasr\\OneDrive\\Desktop\\projects\\BERT_GMU_Classiifcation\\.venv\\Lib\\site-packages\\sklearn\\metrics\\_classification.py:1565: UndefinedMetricWarning: Precision is ill-defined and being set to 0.0 in labels with no predicted samples. Use `zero_division` parameter to control this behavior.\n",
      "  _warn_prf(average, modifier, f\"{metric.capitalize()} is\", len(result))\n",
      "c:\\Users\\ymasr\\OneDrive\\Desktop\\projects\\BERT_GMU_Classiifcation\\.venv\\Lib\\site-packages\\sklearn\\metrics\\_classification.py:1565: UndefinedMetricWarning: Recall is ill-defined and being set to 0.0 in labels with no true samples. Use `zero_division` parameter to control this behavior.\n",
      "  _warn_prf(average, modifier, f\"{metric.capitalize()} is\", len(result))\n",
      "c:\\Users\\ymasr\\OneDrive\\Desktop\\projects\\BERT_GMU_Classiifcation\\.venv\\Lib\\site-packages\\sklearn\\metrics\\_classification.py:1565: UndefinedMetricWarning: F-score is ill-defined and being set to 0.0 in labels with no true nor predicted samples. Use `zero_division` parameter to control this behavior.\n",
      "  _warn_prf(average, modifier, f\"{metric.capitalize()} is\", len(result))\n",
      "                                                  \n",
      " 50%|█████     | 630/1260 [09:29<05:31,  1.90it/s]"
     ]
    },
    {
     "name": "stdout",
     "output_type": "stream",
     "text": [
      "{'eval_loss': 0.17550718784332275, 'eval_accuracy': 0.2807017543859649, 'eval_f1': 0.6390574619013678, 'eval_precision': 0.7041159420289854, 'eval_recall': 0.6173913043478261, 'eval_runtime': 0.7511, 'eval_samples_per_second': 75.888, 'eval_steps_per_second': 5.325, 'epoch': 30.0}\n"
     ]
    },
    {
     "name": "stderr",
     "output_type": "stream",
     "text": [
      " 52%|█████▏    | 651/1260 [09:44<05:19,  1.91it/s]c:\\Users\\ymasr\\OneDrive\\Desktop\\projects\\BERT_GMU_Classiifcation\\.venv\\Lib\\site-packages\\sklearn\\metrics\\_classification.py:1565: UndefinedMetricWarning: Precision is ill-defined and being set to 0.0 in labels with no predicted samples. Use `zero_division` parameter to control this behavior.\n",
      "  _warn_prf(average, modifier, f\"{metric.capitalize()} is\", len(result))\n",
      "c:\\Users\\ymasr\\OneDrive\\Desktop\\projects\\BERT_GMU_Classiifcation\\.venv\\Lib\\site-packages\\sklearn\\metrics\\_classification.py:1565: UndefinedMetricWarning: Recall is ill-defined and being set to 0.0 in labels with no true samples. Use `zero_division` parameter to control this behavior.\n",
      "  _warn_prf(average, modifier, f\"{metric.capitalize()} is\", len(result))\n",
      "c:\\Users\\ymasr\\OneDrive\\Desktop\\projects\\BERT_GMU_Classiifcation\\.venv\\Lib\\site-packages\\sklearn\\metrics\\_classification.py:1565: UndefinedMetricWarning: F-score is ill-defined and being set to 0.0 in labels with no true nor predicted samples. Use `zero_division` parameter to control this behavior.\n",
      "  _warn_prf(average, modifier, f\"{metric.capitalize()} is\", len(result))\n",
      "                                                  \n",
      " 52%|█████▏    | 651/1260 [09:45<05:19,  1.91it/s]"
     ]
    },
    {
     "name": "stdout",
     "output_type": "stream",
     "text": [
      "{'eval_loss': 0.1765577346086502, 'eval_accuracy': 0.3333333333333333, 'eval_f1': 0.6592772762554893, 'eval_precision': 0.7241901561296646, 'eval_recall': 0.6260869565217392, 'eval_runtime': 0.778, 'eval_samples_per_second': 73.264, 'eval_steps_per_second': 5.141, 'epoch': 31.0}\n"
     ]
    },
    {
     "name": "stderr",
     "output_type": "stream",
     "text": [
      " 53%|█████▎    | 672/1260 [10:00<05:07,  1.91it/s]c:\\Users\\ymasr\\OneDrive\\Desktop\\projects\\BERT_GMU_Classiifcation\\.venv\\Lib\\site-packages\\sklearn\\metrics\\_classification.py:1565: UndefinedMetricWarning: Precision is ill-defined and being set to 0.0 in labels with no predicted samples. Use `zero_division` parameter to control this behavior.\n",
      "  _warn_prf(average, modifier, f\"{metric.capitalize()} is\", len(result))\n",
      "c:\\Users\\ymasr\\OneDrive\\Desktop\\projects\\BERT_GMU_Classiifcation\\.venv\\Lib\\site-packages\\sklearn\\metrics\\_classification.py:1565: UndefinedMetricWarning: Recall is ill-defined and being set to 0.0 in labels with no true samples. Use `zero_division` parameter to control this behavior.\n",
      "  _warn_prf(average, modifier, f\"{metric.capitalize()} is\", len(result))\n",
      "c:\\Users\\ymasr\\OneDrive\\Desktop\\projects\\BERT_GMU_Classiifcation\\.venv\\Lib\\site-packages\\sklearn\\metrics\\_classification.py:1565: UndefinedMetricWarning: F-score is ill-defined and being set to 0.0 in labels with no true nor predicted samples. Use `zero_division` parameter to control this behavior.\n",
      "  _warn_prf(average, modifier, f\"{metric.capitalize()} is\", len(result))\n",
      "                                                  \n",
      " 53%|█████▎    | 672/1260 [10:01<05:07,  1.91it/s]"
     ]
    },
    {
     "name": "stdout",
     "output_type": "stream",
     "text": [
      "{'eval_loss': 0.1772458553314209, 'eval_accuracy': 0.2982456140350877, 'eval_f1': 0.64028326236655, 'eval_precision': 0.7163456656764785, 'eval_recall': 0.6086956521739131, 'eval_runtime': 0.769, 'eval_samples_per_second': 74.123, 'eval_steps_per_second': 5.202, 'epoch': 32.0}\n"
     ]
    },
    {
     "name": "stderr",
     "output_type": "stream",
     "text": [
      " 55%|█████▌    | 693/1260 [10:21<05:04,  1.86it/s]c:\\Users\\ymasr\\OneDrive\\Desktop\\projects\\BERT_GMU_Classiifcation\\.venv\\Lib\\site-packages\\sklearn\\metrics\\_classification.py:1565: UndefinedMetricWarning: Precision is ill-defined and being set to 0.0 in labels with no predicted samples. Use `zero_division` parameter to control this behavior.\n",
      "  _warn_prf(average, modifier, f\"{metric.capitalize()} is\", len(result))\n",
      "c:\\Users\\ymasr\\OneDrive\\Desktop\\projects\\BERT_GMU_Classiifcation\\.venv\\Lib\\site-packages\\sklearn\\metrics\\_classification.py:1565: UndefinedMetricWarning: Recall is ill-defined and being set to 0.0 in labels with no true samples. Use `zero_division` parameter to control this behavior.\n",
      "  _warn_prf(average, modifier, f\"{metric.capitalize()} is\", len(result))\n",
      "c:\\Users\\ymasr\\OneDrive\\Desktop\\projects\\BERT_GMU_Classiifcation\\.venv\\Lib\\site-packages\\sklearn\\metrics\\_classification.py:1565: UndefinedMetricWarning: F-score is ill-defined and being set to 0.0 in labels with no true nor predicted samples. Use `zero_division` parameter to control this behavior.\n",
      "  _warn_prf(average, modifier, f\"{metric.capitalize()} is\", len(result))\n",
      "                                                  \n",
      " 55%|█████▌    | 693/1260 [10:23<05:04,  1.86it/s]"
     ]
    },
    {
     "name": "stdout",
     "output_type": "stream",
     "text": [
      "{'eval_loss': 0.17465616762638092, 'eval_accuracy': 0.2982456140350877, 'eval_f1': 0.64028326236655, 'eval_precision': 0.7163456656764785, 'eval_recall': 0.6086956521739131, 'eval_runtime': 0.7988, 'eval_samples_per_second': 71.354, 'eval_steps_per_second': 5.007, 'epoch': 33.0}\n"
     ]
    },
    {
     "name": "stderr",
     "output_type": "stream",
     "text": [
      " 57%|█████▋    | 714/1260 [10:53<05:06,  1.78it/s]c:\\Users\\ymasr\\OneDrive\\Desktop\\projects\\BERT_GMU_Classiifcation\\.venv\\Lib\\site-packages\\sklearn\\metrics\\_classification.py:1565: UndefinedMetricWarning: Precision is ill-defined and being set to 0.0 in labels with no predicted samples. Use `zero_division` parameter to control this behavior.\n",
      "  _warn_prf(average, modifier, f\"{metric.capitalize()} is\", len(result))\n",
      "c:\\Users\\ymasr\\OneDrive\\Desktop\\projects\\BERT_GMU_Classiifcation\\.venv\\Lib\\site-packages\\sklearn\\metrics\\_classification.py:1565: UndefinedMetricWarning: Recall is ill-defined and being set to 0.0 in labels with no true samples. Use `zero_division` parameter to control this behavior.\n",
      "  _warn_prf(average, modifier, f\"{metric.capitalize()} is\", len(result))\n",
      "c:\\Users\\ymasr\\OneDrive\\Desktop\\projects\\BERT_GMU_Classiifcation\\.venv\\Lib\\site-packages\\sklearn\\metrics\\_classification.py:1565: UndefinedMetricWarning: F-score is ill-defined and being set to 0.0 in labels with no true nor predicted samples. Use `zero_division` parameter to control this behavior.\n",
      "  _warn_prf(average, modifier, f\"{metric.capitalize()} is\", len(result))\n",
      "                                                  \n",
      " 57%|█████▋    | 714/1260 [10:54<05:06,  1.78it/s]"
     ]
    },
    {
     "name": "stdout",
     "output_type": "stream",
     "text": [
      "{'eval_loss': 0.17605800926685333, 'eval_accuracy': 0.2982456140350877, 'eval_f1': 0.6344539736210922, 'eval_precision': 0.714206259189246, 'eval_recall': 0.6, 'eval_runtime': 0.8211, 'eval_samples_per_second': 69.416, 'eval_steps_per_second': 4.871, 'epoch': 34.0}\n"
     ]
    },
    {
     "name": "stderr",
     "output_type": "stream",
     "text": [
      " 58%|█████▊    | 735/1260 [11:21<04:37,  1.89it/s]c:\\Users\\ymasr\\OneDrive\\Desktop\\projects\\BERT_GMU_Classiifcation\\.venv\\Lib\\site-packages\\sklearn\\metrics\\_classification.py:1565: UndefinedMetricWarning: Precision is ill-defined and being set to 0.0 in labels with no predicted samples. Use `zero_division` parameter to control this behavior.\n",
      "  _warn_prf(average, modifier, f\"{metric.capitalize()} is\", len(result))\n",
      "c:\\Users\\ymasr\\OneDrive\\Desktop\\projects\\BERT_GMU_Classiifcation\\.venv\\Lib\\site-packages\\sklearn\\metrics\\_classification.py:1565: UndefinedMetricWarning: Recall is ill-defined and being set to 0.0 in labels with no true samples. Use `zero_division` parameter to control this behavior.\n",
      "  _warn_prf(average, modifier, f\"{metric.capitalize()} is\", len(result))\n",
      "c:\\Users\\ymasr\\OneDrive\\Desktop\\projects\\BERT_GMU_Classiifcation\\.venv\\Lib\\site-packages\\sklearn\\metrics\\_classification.py:1565: UndefinedMetricWarning: F-score is ill-defined and being set to 0.0 in labels with no true nor predicted samples. Use `zero_division` parameter to control this behavior.\n",
      "  _warn_prf(average, modifier, f\"{metric.capitalize()} is\", len(result))\n",
      "                                                  \n",
      " 58%|█████▊    | 735/1260 [11:22<04:37,  1.89it/s]"
     ]
    },
    {
     "name": "stdout",
     "output_type": "stream",
     "text": [
      "{'eval_loss': 0.1750870794057846, 'eval_accuracy': 0.2982456140350877, 'eval_f1': 0.643261599883149, 'eval_precision': 0.7048788716009888, 'eval_recall': 0.6086956521739131, 'eval_runtime': 0.7632, 'eval_samples_per_second': 74.69, 'eval_steps_per_second': 5.241, 'epoch': 35.0}\n"
     ]
    },
    {
     "name": "stderr",
     "output_type": "stream",
     "text": [
      " 60%|██████    | 756/1260 [11:37<04:25,  1.90it/s]c:\\Users\\ymasr\\OneDrive\\Desktop\\projects\\BERT_GMU_Classiifcation\\.venv\\Lib\\site-packages\\sklearn\\metrics\\_classification.py:1565: UndefinedMetricWarning: Precision is ill-defined and being set to 0.0 in labels with no predicted samples. Use `zero_division` parameter to control this behavior.\n",
      "  _warn_prf(average, modifier, f\"{metric.capitalize()} is\", len(result))\n",
      "c:\\Users\\ymasr\\OneDrive\\Desktop\\projects\\BERT_GMU_Classiifcation\\.venv\\Lib\\site-packages\\sklearn\\metrics\\_classification.py:1565: UndefinedMetricWarning: Recall is ill-defined and being set to 0.0 in labels with no true samples. Use `zero_division` parameter to control this behavior.\n",
      "  _warn_prf(average, modifier, f\"{metric.capitalize()} is\", len(result))\n",
      "c:\\Users\\ymasr\\OneDrive\\Desktop\\projects\\BERT_GMU_Classiifcation\\.venv\\Lib\\site-packages\\sklearn\\metrics\\_classification.py:1565: UndefinedMetricWarning: F-score is ill-defined and being set to 0.0 in labels with no true nor predicted samples. Use `zero_division` parameter to control this behavior.\n",
      "  _warn_prf(average, modifier, f\"{metric.capitalize()} is\", len(result))\n",
      "                                                  \n",
      " 60%|██████    | 756/1260 [11:38<04:25,  1.90it/s]"
     ]
    },
    {
     "name": "stdout",
     "output_type": "stream",
     "text": [
      "{'eval_loss': 0.1772109717130661, 'eval_accuracy': 0.3157894736842105, 'eval_f1': 0.6461601506077868, 'eval_precision': 0.7222701759488149, 'eval_recall': 0.6086956521739131, 'eval_runtime': 0.7656, 'eval_samples_per_second': 74.454, 'eval_steps_per_second': 5.225, 'epoch': 36.0}\n"
     ]
    },
    {
     "name": "stderr",
     "output_type": "stream",
     "text": [
      " 62%|██████▏   | 777/1260 [11:53<03:58,  2.03it/s]c:\\Users\\ymasr\\OneDrive\\Desktop\\projects\\BERT_GMU_Classiifcation\\.venv\\Lib\\site-packages\\sklearn\\metrics\\_classification.py:1565: UndefinedMetricWarning: Precision is ill-defined and being set to 0.0 in labels with no predicted samples. Use `zero_division` parameter to control this behavior.\n",
      "  _warn_prf(average, modifier, f\"{metric.capitalize()} is\", len(result))\n",
      "c:\\Users\\ymasr\\OneDrive\\Desktop\\projects\\BERT_GMU_Classiifcation\\.venv\\Lib\\site-packages\\sklearn\\metrics\\_classification.py:1565: UndefinedMetricWarning: Recall is ill-defined and being set to 0.0 in labels with no true samples. Use `zero_division` parameter to control this behavior.\n",
      "  _warn_prf(average, modifier, f\"{metric.capitalize()} is\", len(result))\n",
      "c:\\Users\\ymasr\\OneDrive\\Desktop\\projects\\BERT_GMU_Classiifcation\\.venv\\Lib\\site-packages\\sklearn\\metrics\\_classification.py:1565: UndefinedMetricWarning: F-score is ill-defined and being set to 0.0 in labels with no true nor predicted samples. Use `zero_division` parameter to control this behavior.\n",
      "  _warn_prf(average, modifier, f\"{metric.capitalize()} is\", len(result))\n",
      "                                                  \n",
      " 62%|██████▏   | 777/1260 [11:54<03:58,  2.03it/s]"
     ]
    },
    {
     "name": "stdout",
     "output_type": "stream",
     "text": [
      "{'eval_loss': 0.1762123703956604, 'eval_accuracy': 0.2982456140350877, 'eval_f1': 0.637878577108822, 'eval_precision': 0.7222701759488149, 'eval_recall': 0.6, 'eval_runtime': 0.7095, 'eval_samples_per_second': 80.343, 'eval_steps_per_second': 5.638, 'epoch': 37.0}\n"
     ]
    },
    {
     "name": "stderr",
     "output_type": "stream",
     "text": [
      " 63%|██████▎   | 798/1260 [12:08<04:01,  1.91it/s]c:\\Users\\ymasr\\OneDrive\\Desktop\\projects\\BERT_GMU_Classiifcation\\.venv\\Lib\\site-packages\\sklearn\\metrics\\_classification.py:1565: UndefinedMetricWarning: Precision is ill-defined and being set to 0.0 in labels with no predicted samples. Use `zero_division` parameter to control this behavior.\n",
      "  _warn_prf(average, modifier, f\"{metric.capitalize()} is\", len(result))\n",
      "c:\\Users\\ymasr\\OneDrive\\Desktop\\projects\\BERT_GMU_Classiifcation\\.venv\\Lib\\site-packages\\sklearn\\metrics\\_classification.py:1565: UndefinedMetricWarning: Recall is ill-defined and being set to 0.0 in labels with no true samples. Use `zero_division` parameter to control this behavior.\n",
      "  _warn_prf(average, modifier, f\"{metric.capitalize()} is\", len(result))\n",
      "c:\\Users\\ymasr\\OneDrive\\Desktop\\projects\\BERT_GMU_Classiifcation\\.venv\\Lib\\site-packages\\sklearn\\metrics\\_classification.py:1565: UndefinedMetricWarning: F-score is ill-defined and being set to 0.0 in labels with no true nor predicted samples. Use `zero_division` parameter to control this behavior.\n",
      "  _warn_prf(average, modifier, f\"{metric.capitalize()} is\", len(result))\n",
      "                                                  \n",
      " 63%|██████▎   | 798/1260 [12:09<04:01,  1.91it/s]"
     ]
    },
    {
     "name": "stdout",
     "output_type": "stream",
     "text": [
      "{'eval_loss': 0.17762839794158936, 'eval_accuracy': 0.2982456140350877, 'eval_f1': 0.637878577108822, 'eval_precision': 0.7222701759488149, 'eval_recall': 0.6, 'eval_runtime': 0.7276, 'eval_samples_per_second': 78.341, 'eval_steps_per_second': 5.498, 'epoch': 38.0}\n"
     ]
    },
    {
     "name": "stderr",
     "output_type": "stream",
     "text": [
      " 65%|██████▌   | 819/1260 [12:23<03:39,  2.01it/s]c:\\Users\\ymasr\\OneDrive\\Desktop\\projects\\BERT_GMU_Classiifcation\\.venv\\Lib\\site-packages\\sklearn\\metrics\\_classification.py:1565: UndefinedMetricWarning: Precision is ill-defined and being set to 0.0 in labels with no predicted samples. Use `zero_division` parameter to control this behavior.\n",
      "  _warn_prf(average, modifier, f\"{metric.capitalize()} is\", len(result))\n",
      "c:\\Users\\ymasr\\OneDrive\\Desktop\\projects\\BERT_GMU_Classiifcation\\.venv\\Lib\\site-packages\\sklearn\\metrics\\_classification.py:1565: UndefinedMetricWarning: Recall is ill-defined and being set to 0.0 in labels with no true samples. Use `zero_division` parameter to control this behavior.\n",
      "  _warn_prf(average, modifier, f\"{metric.capitalize()} is\", len(result))\n",
      "c:\\Users\\ymasr\\OneDrive\\Desktop\\projects\\BERT_GMU_Classiifcation\\.venv\\Lib\\site-packages\\sklearn\\metrics\\_classification.py:1565: UndefinedMetricWarning: F-score is ill-defined and being set to 0.0 in labels with no true nor predicted samples. Use `zero_division` parameter to control this behavior.\n",
      "  _warn_prf(average, modifier, f\"{metric.capitalize()} is\", len(result))\n",
      "                                                  \n",
      " 65%|██████▌   | 819/1260 [12:29<03:39,  2.01it/s]"
     ]
    },
    {
     "name": "stdout",
     "output_type": "stream",
     "text": [
      "{'eval_loss': 0.1763109713792801, 'eval_accuracy': 0.2982456140350877, 'eval_f1': 0.637878577108822, 'eval_precision': 0.7222701759488149, 'eval_recall': 0.6, 'eval_runtime': 0.717, 'eval_samples_per_second': 79.493, 'eval_steps_per_second': 5.578, 'epoch': 39.0}\n"
     ]
    },
    {
     "name": "stderr",
     "output_type": "stream",
     "text": [
      " 67%|██████▋   | 840/1260 [13:00<03:35,  1.95it/s]c:\\Users\\ymasr\\OneDrive\\Desktop\\projects\\BERT_GMU_Classiifcation\\.venv\\Lib\\site-packages\\sklearn\\metrics\\_classification.py:1565: UndefinedMetricWarning: Precision is ill-defined and being set to 0.0 in labels with no predicted samples. Use `zero_division` parameter to control this behavior.\n",
      "  _warn_prf(average, modifier, f\"{metric.capitalize()} is\", len(result))\n",
      "c:\\Users\\ymasr\\OneDrive\\Desktop\\projects\\BERT_GMU_Classiifcation\\.venv\\Lib\\site-packages\\sklearn\\metrics\\_classification.py:1565: UndefinedMetricWarning: Recall is ill-defined and being set to 0.0 in labels with no true samples. Use `zero_division` parameter to control this behavior.\n",
      "  _warn_prf(average, modifier, f\"{metric.capitalize()} is\", len(result))\n",
      "c:\\Users\\ymasr\\OneDrive\\Desktop\\projects\\BERT_GMU_Classiifcation\\.venv\\Lib\\site-packages\\sklearn\\metrics\\_classification.py:1565: UndefinedMetricWarning: F-score is ill-defined and being set to 0.0 in labels with no true nor predicted samples. Use `zero_division` parameter to control this behavior.\n",
      "  _warn_prf(average, modifier, f\"{metric.capitalize()} is\", len(result))\n",
      "                                                  \n",
      " 67%|██████▋   | 840/1260 [13:00<03:35,  1.95it/s]"
     ]
    },
    {
     "name": "stdout",
     "output_type": "stream",
     "text": [
      "{'eval_loss': 0.17506076395511627, 'eval_accuracy': 0.2982456140350877, 'eval_f1': 0.6437493259449303, 'eval_precision': 0.7241901561296646, 'eval_recall': 0.6086956521739131, 'eval_runtime': 0.8378, 'eval_samples_per_second': 68.038, 'eval_steps_per_second': 4.775, 'epoch': 40.0}\n"
     ]
    },
    {
     "name": "stderr",
     "output_type": "stream",
     "text": [
      " 68%|██████▊   | 861/1260 [13:17<03:47,  1.75it/s]c:\\Users\\ymasr\\OneDrive\\Desktop\\projects\\BERT_GMU_Classiifcation\\.venv\\Lib\\site-packages\\sklearn\\metrics\\_classification.py:1565: UndefinedMetricWarning: Precision is ill-defined and being set to 0.0 in labels with no predicted samples. Use `zero_division` parameter to control this behavior.\n",
      "  _warn_prf(average, modifier, f\"{metric.capitalize()} is\", len(result))\n",
      "c:\\Users\\ymasr\\OneDrive\\Desktop\\projects\\BERT_GMU_Classiifcation\\.venv\\Lib\\site-packages\\sklearn\\metrics\\_classification.py:1565: UndefinedMetricWarning: Recall is ill-defined and being set to 0.0 in labels with no true samples. Use `zero_division` parameter to control this behavior.\n",
      "  _warn_prf(average, modifier, f\"{metric.capitalize()} is\", len(result))\n",
      "c:\\Users\\ymasr\\OneDrive\\Desktop\\projects\\BERT_GMU_Classiifcation\\.venv\\Lib\\site-packages\\sklearn\\metrics\\_classification.py:1565: UndefinedMetricWarning: F-score is ill-defined and being set to 0.0 in labels with no true nor predicted samples. Use `zero_division` parameter to control this behavior.\n",
      "  _warn_prf(average, modifier, f\"{metric.capitalize()} is\", len(result))\n",
      "                                                  \n",
      " 68%|██████▊   | 861/1260 [13:18<03:47,  1.75it/s]"
     ]
    },
    {
     "name": "stdout",
     "output_type": "stream",
     "text": [
      "{'eval_loss': 0.17628300189971924, 'eval_accuracy': 0.2982456140350877, 'eval_f1': 0.6437493259449303, 'eval_precision': 0.7241901561296646, 'eval_recall': 0.6086956521739131, 'eval_runtime': 0.836, 'eval_samples_per_second': 68.181, 'eval_steps_per_second': 4.785, 'epoch': 41.0}\n"
     ]
    },
    {
     "name": "stderr",
     "output_type": "stream",
     "text": [
      " 70%|███████   | 882/1260 [13:35<03:35,  1.75it/s]c:\\Users\\ymasr\\OneDrive\\Desktop\\projects\\BERT_GMU_Classiifcation\\.venv\\Lib\\site-packages\\sklearn\\metrics\\_classification.py:1565: UndefinedMetricWarning: Precision is ill-defined and being set to 0.0 in labels with no predicted samples. Use `zero_division` parameter to control this behavior.\n",
      "  _warn_prf(average, modifier, f\"{metric.capitalize()} is\", len(result))\n",
      "c:\\Users\\ymasr\\OneDrive\\Desktop\\projects\\BERT_GMU_Classiifcation\\.venv\\Lib\\site-packages\\sklearn\\metrics\\_classification.py:1565: UndefinedMetricWarning: Recall is ill-defined and being set to 0.0 in labels with no true samples. Use `zero_division` parameter to control this behavior.\n",
      "  _warn_prf(average, modifier, f\"{metric.capitalize()} is\", len(result))\n",
      "c:\\Users\\ymasr\\OneDrive\\Desktop\\projects\\BERT_GMU_Classiifcation\\.venv\\Lib\\site-packages\\sklearn\\metrics\\_classification.py:1565: UndefinedMetricWarning: F-score is ill-defined and being set to 0.0 in labels with no true nor predicted samples. Use `zero_division` parameter to control this behavior.\n",
      "  _warn_prf(average, modifier, f\"{metric.capitalize()} is\", len(result))\n",
      "                                                  \n",
      " 70%|███████   | 882/1260 [13:36<03:35,  1.75it/s]"
     ]
    },
    {
     "name": "stdout",
     "output_type": "stream",
     "text": [
      "{'eval_loss': 0.17723269760608673, 'eval_accuracy': 0.2982456140350877, 'eval_f1': 0.6437493259449303, 'eval_precision': 0.7241901561296646, 'eval_recall': 0.6086956521739131, 'eval_runtime': 0.8548, 'eval_samples_per_second': 66.681, 'eval_steps_per_second': 4.679, 'epoch': 42.0}\n"
     ]
    },
    {
     "name": "stderr",
     "output_type": "stream",
     "text": [
      " 72%|███████▏  | 903/1260 [14:12<03:16,  1.81it/s]c:\\Users\\ymasr\\OneDrive\\Desktop\\projects\\BERT_GMU_Classiifcation\\.venv\\Lib\\site-packages\\sklearn\\metrics\\_classification.py:1565: UndefinedMetricWarning: Precision is ill-defined and being set to 0.0 in labels with no predicted samples. Use `zero_division` parameter to control this behavior.\n",
      "  _warn_prf(average, modifier, f\"{metric.capitalize()} is\", len(result))\n",
      "c:\\Users\\ymasr\\OneDrive\\Desktop\\projects\\BERT_GMU_Classiifcation\\.venv\\Lib\\site-packages\\sklearn\\metrics\\_classification.py:1565: UndefinedMetricWarning: Recall is ill-defined and being set to 0.0 in labels with no true samples. Use `zero_division` parameter to control this behavior.\n",
      "  _warn_prf(average, modifier, f\"{metric.capitalize()} is\", len(result))\n",
      "c:\\Users\\ymasr\\OneDrive\\Desktop\\projects\\BERT_GMU_Classiifcation\\.venv\\Lib\\site-packages\\sklearn\\metrics\\_classification.py:1565: UndefinedMetricWarning: F-score is ill-defined and being set to 0.0 in labels with no true nor predicted samples. Use `zero_division` parameter to control this behavior.\n",
      "  _warn_prf(average, modifier, f\"{metric.capitalize()} is\", len(result))\n",
      "                                                  \n",
      " 72%|███████▏  | 903/1260 [14:13<03:16,  1.81it/s]"
     ]
    },
    {
     "name": "stdout",
     "output_type": "stream",
     "text": [
      "{'eval_loss': 0.17512091994285583, 'eval_accuracy': 0.2982456140350877, 'eval_f1': 0.6437493259449303, 'eval_precision': 0.7241901561296646, 'eval_recall': 0.6086956521739131, 'eval_runtime': 0.7795, 'eval_samples_per_second': 73.124, 'eval_steps_per_second': 5.132, 'epoch': 43.0}\n"
     ]
    },
    {
     "name": "stderr",
     "output_type": "stream",
     "text": [
      " 73%|███████▎  | 924/1260 [14:27<02:57,  1.90it/s]c:\\Users\\ymasr\\OneDrive\\Desktop\\projects\\BERT_GMU_Classiifcation\\.venv\\Lib\\site-packages\\sklearn\\metrics\\_classification.py:1565: UndefinedMetricWarning: Precision is ill-defined and being set to 0.0 in labels with no predicted samples. Use `zero_division` parameter to control this behavior.\n",
      "  _warn_prf(average, modifier, f\"{metric.capitalize()} is\", len(result))\n",
      "c:\\Users\\ymasr\\OneDrive\\Desktop\\projects\\BERT_GMU_Classiifcation\\.venv\\Lib\\site-packages\\sklearn\\metrics\\_classification.py:1565: UndefinedMetricWarning: Recall is ill-defined and being set to 0.0 in labels with no true samples. Use `zero_division` parameter to control this behavior.\n",
      "  _warn_prf(average, modifier, f\"{metric.capitalize()} is\", len(result))\n",
      "c:\\Users\\ymasr\\OneDrive\\Desktop\\projects\\BERT_GMU_Classiifcation\\.venv\\Lib\\site-packages\\sklearn\\metrics\\_classification.py:1565: UndefinedMetricWarning: F-score is ill-defined and being set to 0.0 in labels with no true nor predicted samples. Use `zero_division` parameter to control this behavior.\n",
      "  _warn_prf(average, modifier, f\"{metric.capitalize()} is\", len(result))\n",
      "                                                  \n",
      " 73%|███████▎  | 924/1260 [14:28<02:57,  1.90it/s]"
     ]
    },
    {
     "name": "stdout",
     "output_type": "stream",
     "text": [
      "{'eval_loss': 0.17502492666244507, 'eval_accuracy': 0.2982456140350877, 'eval_f1': 0.6437493259449303, 'eval_precision': 0.7241901561296646, 'eval_recall': 0.6086956521739131, 'eval_runtime': 0.7704, 'eval_samples_per_second': 73.989, 'eval_steps_per_second': 5.192, 'epoch': 44.0}\n"
     ]
    },
    {
     "name": "stderr",
     "output_type": "stream",
     "text": [
      " 75%|███████▌  | 945/1260 [14:43<02:46,  1.90it/s]c:\\Users\\ymasr\\OneDrive\\Desktop\\projects\\BERT_GMU_Classiifcation\\.venv\\Lib\\site-packages\\sklearn\\metrics\\_classification.py:1565: UndefinedMetricWarning: Precision is ill-defined and being set to 0.0 in labels with no predicted samples. Use `zero_division` parameter to control this behavior.\n",
      "  _warn_prf(average, modifier, f\"{metric.capitalize()} is\", len(result))\n",
      "c:\\Users\\ymasr\\OneDrive\\Desktop\\projects\\BERT_GMU_Classiifcation\\.venv\\Lib\\site-packages\\sklearn\\metrics\\_classification.py:1565: UndefinedMetricWarning: Recall is ill-defined and being set to 0.0 in labels with no true samples. Use `zero_division` parameter to control this behavior.\n",
      "  _warn_prf(average, modifier, f\"{metric.capitalize()} is\", len(result))\n",
      "c:\\Users\\ymasr\\OneDrive\\Desktop\\projects\\BERT_GMU_Classiifcation\\.venv\\Lib\\site-packages\\sklearn\\metrics\\_classification.py:1565: UndefinedMetricWarning: F-score is ill-defined and being set to 0.0 in labels with no true nor predicted samples. Use `zero_division` parameter to control this behavior.\n",
      "  _warn_prf(average, modifier, f\"{metric.capitalize()} is\", len(result))\n",
      "                                                  \n",
      " 75%|███████▌  | 945/1260 [14:44<02:46,  1.90it/s]"
     ]
    },
    {
     "name": "stdout",
     "output_type": "stream",
     "text": [
      "{'eval_loss': 0.17551009356975555, 'eval_accuracy': 0.2982456140350877, 'eval_f1': 0.6437493259449303, 'eval_precision': 0.7241901561296646, 'eval_recall': 0.6086956521739131, 'eval_runtime': 0.7639, 'eval_samples_per_second': 74.617, 'eval_steps_per_second': 5.236, 'epoch': 45.0}\n"
     ]
    },
    {
     "name": "stderr",
     "output_type": "stream",
     "text": [
      " 77%|███████▋  | 966/1260 [14:59<02:34,  1.90it/s]c:\\Users\\ymasr\\OneDrive\\Desktop\\projects\\BERT_GMU_Classiifcation\\.venv\\Lib\\site-packages\\sklearn\\metrics\\_classification.py:1565: UndefinedMetricWarning: Precision is ill-defined and being set to 0.0 in labels with no predicted samples. Use `zero_division` parameter to control this behavior.\n",
      "  _warn_prf(average, modifier, f\"{metric.capitalize()} is\", len(result))\n",
      "c:\\Users\\ymasr\\OneDrive\\Desktop\\projects\\BERT_GMU_Classiifcation\\.venv\\Lib\\site-packages\\sklearn\\metrics\\_classification.py:1565: UndefinedMetricWarning: Recall is ill-defined and being set to 0.0 in labels with no true samples. Use `zero_division` parameter to control this behavior.\n",
      "  _warn_prf(average, modifier, f\"{metric.capitalize()} is\", len(result))\n",
      "c:\\Users\\ymasr\\OneDrive\\Desktop\\projects\\BERT_GMU_Classiifcation\\.venv\\Lib\\site-packages\\sklearn\\metrics\\_classification.py:1565: UndefinedMetricWarning: F-score is ill-defined and being set to 0.0 in labels with no true nor predicted samples. Use `zero_division` parameter to control this behavior.\n",
      "  _warn_prf(average, modifier, f\"{metric.capitalize()} is\", len(result))\n",
      "                                                  \n",
      " 77%|███████▋  | 966/1260 [14:59<02:34,  1.90it/s]"
     ]
    },
    {
     "name": "stdout",
     "output_type": "stream",
     "text": [
      "{'eval_loss': 0.1758652925491333, 'eval_accuracy': 0.2982456140350877, 'eval_f1': 0.637878577108822, 'eval_precision': 0.7222701759488149, 'eval_recall': 0.6, 'eval_runtime': 0.7647, 'eval_samples_per_second': 74.538, 'eval_steps_per_second': 5.231, 'epoch': 46.0}\n"
     ]
    },
    {
     "name": "stderr",
     "output_type": "stream",
     "text": [
      " 78%|███████▊  | 987/1260 [15:32<02:23,  1.90it/s]c:\\Users\\ymasr\\OneDrive\\Desktop\\projects\\BERT_GMU_Classiifcation\\.venv\\Lib\\site-packages\\sklearn\\metrics\\_classification.py:1565: UndefinedMetricWarning: Precision is ill-defined and being set to 0.0 in labels with no predicted samples. Use `zero_division` parameter to control this behavior.\n",
      "  _warn_prf(average, modifier, f\"{metric.capitalize()} is\", len(result))\n",
      "c:\\Users\\ymasr\\OneDrive\\Desktop\\projects\\BERT_GMU_Classiifcation\\.venv\\Lib\\site-packages\\sklearn\\metrics\\_classification.py:1565: UndefinedMetricWarning: Recall is ill-defined and being set to 0.0 in labels with no true samples. Use `zero_division` parameter to control this behavior.\n",
      "  _warn_prf(average, modifier, f\"{metric.capitalize()} is\", len(result))\n",
      "c:\\Users\\ymasr\\OneDrive\\Desktop\\projects\\BERT_GMU_Classiifcation\\.venv\\Lib\\site-packages\\sklearn\\metrics\\_classification.py:1565: UndefinedMetricWarning: F-score is ill-defined and being set to 0.0 in labels with no true nor predicted samples. Use `zero_division` parameter to control this behavior.\n",
      "  _warn_prf(average, modifier, f\"{metric.capitalize()} is\", len(result))\n",
      "                                                  \n",
      " 78%|███████▊  | 987/1260 [15:33<02:23,  1.90it/s]"
     ]
    },
    {
     "name": "stdout",
     "output_type": "stream",
     "text": [
      "{'eval_loss': 0.1764882504940033, 'eval_accuracy': 0.2982456140350877, 'eval_f1': 0.637878577108822, 'eval_precision': 0.7222701759488149, 'eval_recall': 0.6, 'eval_runtime': 0.7634, 'eval_samples_per_second': 74.667, 'eval_steps_per_second': 5.24, 'epoch': 47.0}\n"
     ]
    },
    {
     "name": "stderr",
     "output_type": "stream",
     "text": [
      " 79%|███████▉  | 1000/1260 [15:43<02:56,  1.47it/s]"
     ]
    },
    {
     "name": "stdout",
     "output_type": "stream",
     "text": [
      "{'loss': 0.0745, 'grad_norm': 0.21877256035804749, 'learning_rate': 4.126984126984127e-06, 'epoch': 47.62}\n"
     ]
    },
    {
     "name": "stderr",
     "output_type": "stream",
     "text": [
      " 80%|████████  | 1008/1260 [15:47<02:11,  1.92it/s]c:\\Users\\ymasr\\OneDrive\\Desktop\\projects\\BERT_GMU_Classiifcation\\.venv\\Lib\\site-packages\\sklearn\\metrics\\_classification.py:1565: UndefinedMetricWarning: Precision is ill-defined and being set to 0.0 in labels with no predicted samples. Use `zero_division` parameter to control this behavior.\n",
      "  _warn_prf(average, modifier, f\"{metric.capitalize()} is\", len(result))\n",
      "c:\\Users\\ymasr\\OneDrive\\Desktop\\projects\\BERT_GMU_Classiifcation\\.venv\\Lib\\site-packages\\sklearn\\metrics\\_classification.py:1565: UndefinedMetricWarning: Recall is ill-defined and being set to 0.0 in labels with no true samples. Use `zero_division` parameter to control this behavior.\n",
      "  _warn_prf(average, modifier, f\"{metric.capitalize()} is\", len(result))\n",
      "c:\\Users\\ymasr\\OneDrive\\Desktop\\projects\\BERT_GMU_Classiifcation\\.venv\\Lib\\site-packages\\sklearn\\metrics\\_classification.py:1565: UndefinedMetricWarning: F-score is ill-defined and being set to 0.0 in labels with no true nor predicted samples. Use `zero_division` parameter to control this behavior.\n",
      "  _warn_prf(average, modifier, f\"{metric.capitalize()} is\", len(result))\n",
      "                                                   \n",
      " 80%|████████  | 1008/1260 [15:48<02:11,  1.92it/s]"
     ]
    },
    {
     "name": "stdout",
     "output_type": "stream",
     "text": [
      "{'eval_loss': 0.17622601985931396, 'eval_accuracy': 0.2982456140350877, 'eval_f1': 0.637878577108822, 'eval_precision': 0.7222701759488149, 'eval_recall': 0.6, 'eval_runtime': 0.7537, 'eval_samples_per_second': 75.626, 'eval_steps_per_second': 5.307, 'epoch': 48.0}\n"
     ]
    },
    {
     "name": "stderr",
     "output_type": "stream",
     "text": [
      " 82%|████████▏ | 1029/1260 [16:03<02:01,  1.91it/s]c:\\Users\\ymasr\\OneDrive\\Desktop\\projects\\BERT_GMU_Classiifcation\\.venv\\Lib\\site-packages\\sklearn\\metrics\\_classification.py:1565: UndefinedMetricWarning: Precision is ill-defined and being set to 0.0 in labels with no predicted samples. Use `zero_division` parameter to control this behavior.\n",
      "  _warn_prf(average, modifier, f\"{metric.capitalize()} is\", len(result))\n",
      "c:\\Users\\ymasr\\OneDrive\\Desktop\\projects\\BERT_GMU_Classiifcation\\.venv\\Lib\\site-packages\\sklearn\\metrics\\_classification.py:1565: UndefinedMetricWarning: Recall is ill-defined and being set to 0.0 in labels with no true samples. Use `zero_division` parameter to control this behavior.\n",
      "  _warn_prf(average, modifier, f\"{metric.capitalize()} is\", len(result))\n",
      "c:\\Users\\ymasr\\OneDrive\\Desktop\\projects\\BERT_GMU_Classiifcation\\.venv\\Lib\\site-packages\\sklearn\\metrics\\_classification.py:1565: UndefinedMetricWarning: F-score is ill-defined and being set to 0.0 in labels with no true nor predicted samples. Use `zero_division` parameter to control this behavior.\n",
      "  _warn_prf(average, modifier, f\"{metric.capitalize()} is\", len(result))\n",
      "                                                   \n",
      " 82%|████████▏ | 1029/1260 [16:04<02:01,  1.91it/s]"
     ]
    },
    {
     "name": "stdout",
     "output_type": "stream",
     "text": [
      "{'eval_loss': 0.17526519298553467, 'eval_accuracy': 0.2982456140350877, 'eval_f1': 0.637878577108822, 'eval_precision': 0.7222701759488149, 'eval_recall': 0.6, 'eval_runtime': 0.7677, 'eval_samples_per_second': 74.245, 'eval_steps_per_second': 5.21, 'epoch': 49.0}\n"
     ]
    },
    {
     "name": "stderr",
     "output_type": "stream",
     "text": [
      " 83%|████████▎ | 1050/1260 [16:35<01:51,  1.89it/s]c:\\Users\\ymasr\\OneDrive\\Desktop\\projects\\BERT_GMU_Classiifcation\\.venv\\Lib\\site-packages\\sklearn\\metrics\\_classification.py:1565: UndefinedMetricWarning: Precision is ill-defined and being set to 0.0 in labels with no predicted samples. Use `zero_division` parameter to control this behavior.\n",
      "  _warn_prf(average, modifier, f\"{metric.capitalize()} is\", len(result))\n",
      "c:\\Users\\ymasr\\OneDrive\\Desktop\\projects\\BERT_GMU_Classiifcation\\.venv\\Lib\\site-packages\\sklearn\\metrics\\_classification.py:1565: UndefinedMetricWarning: Recall is ill-defined and being set to 0.0 in labels with no true samples. Use `zero_division` parameter to control this behavior.\n",
      "  _warn_prf(average, modifier, f\"{metric.capitalize()} is\", len(result))\n",
      "c:\\Users\\ymasr\\OneDrive\\Desktop\\projects\\BERT_GMU_Classiifcation\\.venv\\Lib\\site-packages\\sklearn\\metrics\\_classification.py:1565: UndefinedMetricWarning: F-score is ill-defined and being set to 0.0 in labels with no true nor predicted samples. Use `zero_division` parameter to control this behavior.\n",
      "  _warn_prf(average, modifier, f\"{metric.capitalize()} is\", len(result))\n",
      "                                                   \n",
      " 83%|████████▎ | 1050/1260 [16:36<01:51,  1.89it/s]"
     ]
    },
    {
     "name": "stdout",
     "output_type": "stream",
     "text": [
      "{'eval_loss': 0.17657418549060822, 'eval_accuracy': 0.2982456140350877, 'eval_f1': 0.637878577108822, 'eval_precision': 0.7222701759488149, 'eval_recall': 0.6, 'eval_runtime': 0.7549, 'eval_samples_per_second': 75.502, 'eval_steps_per_second': 5.298, 'epoch': 50.0}\n"
     ]
    },
    {
     "name": "stderr",
     "output_type": "stream",
     "text": [
      " 85%|████████▌ | 1071/1260 [17:04<01:40,  1.89it/s]c:\\Users\\ymasr\\OneDrive\\Desktop\\projects\\BERT_GMU_Classiifcation\\.venv\\Lib\\site-packages\\sklearn\\metrics\\_classification.py:1565: UndefinedMetricWarning: Precision is ill-defined and being set to 0.0 in labels with no predicted samples. Use `zero_division` parameter to control this behavior.\n",
      "  _warn_prf(average, modifier, f\"{metric.capitalize()} is\", len(result))\n",
      "c:\\Users\\ymasr\\OneDrive\\Desktop\\projects\\BERT_GMU_Classiifcation\\.venv\\Lib\\site-packages\\sklearn\\metrics\\_classification.py:1565: UndefinedMetricWarning: Recall is ill-defined and being set to 0.0 in labels with no true samples. Use `zero_division` parameter to control this behavior.\n",
      "  _warn_prf(average, modifier, f\"{metric.capitalize()} is\", len(result))\n",
      "c:\\Users\\ymasr\\OneDrive\\Desktop\\projects\\BERT_GMU_Classiifcation\\.venv\\Lib\\site-packages\\sklearn\\metrics\\_classification.py:1565: UndefinedMetricWarning: F-score is ill-defined and being set to 0.0 in labels with no true nor predicted samples. Use `zero_division` parameter to control this behavior.\n",
      "  _warn_prf(average, modifier, f\"{metric.capitalize()} is\", len(result))\n",
      "                                                   \n",
      " 85%|████████▌ | 1071/1260 [17:05<01:40,  1.89it/s]"
     ]
    },
    {
     "name": "stdout",
     "output_type": "stream",
     "text": [
      "{'eval_loss': 0.17651699483394623, 'eval_accuracy': 0.2982456140350877, 'eval_f1': 0.637878577108822, 'eval_precision': 0.7222701759488149, 'eval_recall': 0.6, 'eval_runtime': 0.7676, 'eval_samples_per_second': 74.26, 'eval_steps_per_second': 5.211, 'epoch': 51.0}\n"
     ]
    },
    {
     "name": "stderr",
     "output_type": "stream",
     "text": [
      " 87%|████████▋ | 1092/1260 [17:25<01:28,  1.91it/s]c:\\Users\\ymasr\\OneDrive\\Desktop\\projects\\BERT_GMU_Classiifcation\\.venv\\Lib\\site-packages\\sklearn\\metrics\\_classification.py:1565: UndefinedMetricWarning: Precision is ill-defined and being set to 0.0 in labels with no predicted samples. Use `zero_division` parameter to control this behavior.\n",
      "  _warn_prf(average, modifier, f\"{metric.capitalize()} is\", len(result))\n",
      "c:\\Users\\ymasr\\OneDrive\\Desktop\\projects\\BERT_GMU_Classiifcation\\.venv\\Lib\\site-packages\\sklearn\\metrics\\_classification.py:1565: UndefinedMetricWarning: Recall is ill-defined and being set to 0.0 in labels with no true samples. Use `zero_division` parameter to control this behavior.\n",
      "  _warn_prf(average, modifier, f\"{metric.capitalize()} is\", len(result))\n",
      "c:\\Users\\ymasr\\OneDrive\\Desktop\\projects\\BERT_GMU_Classiifcation\\.venv\\Lib\\site-packages\\sklearn\\metrics\\_classification.py:1565: UndefinedMetricWarning: F-score is ill-defined and being set to 0.0 in labels with no true nor predicted samples. Use `zero_division` parameter to control this behavior.\n",
      "  _warn_prf(average, modifier, f\"{metric.capitalize()} is\", len(result))\n",
      "                                                   \n",
      " 87%|████████▋ | 1092/1260 [17:26<01:28,  1.91it/s]"
     ]
    },
    {
     "name": "stdout",
     "output_type": "stream",
     "text": [
      "{'eval_loss': 0.17665186524391174, 'eval_accuracy': 0.2982456140350877, 'eval_f1': 0.6266984528852195, 'eval_precision': 0.7222701759488149, 'eval_recall': 0.591304347826087, 'eval_runtime': 0.7522, 'eval_samples_per_second': 75.775, 'eval_steps_per_second': 5.318, 'epoch': 52.0}\n"
     ]
    },
    {
     "name": "stderr",
     "output_type": "stream",
     "text": [
      " 88%|████████▊ | 1113/1260 [17:41<01:17,  1.90it/s]c:\\Users\\ymasr\\OneDrive\\Desktop\\projects\\BERT_GMU_Classiifcation\\.venv\\Lib\\site-packages\\sklearn\\metrics\\_classification.py:1565: UndefinedMetricWarning: Precision is ill-defined and being set to 0.0 in labels with no predicted samples. Use `zero_division` parameter to control this behavior.\n",
      "  _warn_prf(average, modifier, f\"{metric.capitalize()} is\", len(result))\n",
      "c:\\Users\\ymasr\\OneDrive\\Desktop\\projects\\BERT_GMU_Classiifcation\\.venv\\Lib\\site-packages\\sklearn\\metrics\\_classification.py:1565: UndefinedMetricWarning: Recall is ill-defined and being set to 0.0 in labels with no true samples. Use `zero_division` parameter to control this behavior.\n",
      "  _warn_prf(average, modifier, f\"{metric.capitalize()} is\", len(result))\n",
      "c:\\Users\\ymasr\\OneDrive\\Desktop\\projects\\BERT_GMU_Classiifcation\\.venv\\Lib\\site-packages\\sklearn\\metrics\\_classification.py:1565: UndefinedMetricWarning: F-score is ill-defined and being set to 0.0 in labels with no true nor predicted samples. Use `zero_division` parameter to control this behavior.\n",
      "  _warn_prf(average, modifier, f\"{metric.capitalize()} is\", len(result))\n",
      "                                                   \n",
      " 88%|████████▊ | 1113/1260 [17:41<01:17,  1.90it/s]"
     ]
    },
    {
     "name": "stdout",
     "output_type": "stream",
     "text": [
      "{'eval_loss': 0.17677801847457886, 'eval_accuracy': 0.2982456140350877, 'eval_f1': 0.637878577108822, 'eval_precision': 0.7222701759488149, 'eval_recall': 0.6, 'eval_runtime': 0.7582, 'eval_samples_per_second': 75.179, 'eval_steps_per_second': 5.276, 'epoch': 53.0}\n"
     ]
    },
    {
     "name": "stderr",
     "output_type": "stream",
     "text": [
      " 90%|█████████ | 1134/1260 [17:56<01:01,  2.04it/s]c:\\Users\\ymasr\\OneDrive\\Desktop\\projects\\BERT_GMU_Classiifcation\\.venv\\Lib\\site-packages\\sklearn\\metrics\\_classification.py:1565: UndefinedMetricWarning: Precision is ill-defined and being set to 0.0 in labels with no predicted samples. Use `zero_division` parameter to control this behavior.\n",
      "  _warn_prf(average, modifier, f\"{metric.capitalize()} is\", len(result))\n",
      "c:\\Users\\ymasr\\OneDrive\\Desktop\\projects\\BERT_GMU_Classiifcation\\.venv\\Lib\\site-packages\\sklearn\\metrics\\_classification.py:1565: UndefinedMetricWarning: Recall is ill-defined and being set to 0.0 in labels with no true samples. Use `zero_division` parameter to control this behavior.\n",
      "  _warn_prf(average, modifier, f\"{metric.capitalize()} is\", len(result))\n",
      "c:\\Users\\ymasr\\OneDrive\\Desktop\\projects\\BERT_GMU_Classiifcation\\.venv\\Lib\\site-packages\\sklearn\\metrics\\_classification.py:1565: UndefinedMetricWarning: F-score is ill-defined and being set to 0.0 in labels with no true nor predicted samples. Use `zero_division` parameter to control this behavior.\n",
      "  _warn_prf(average, modifier, f\"{metric.capitalize()} is\", len(result))\n",
      "                                                   \n",
      " 90%|█████████ | 1134/1260 [17:56<01:01,  2.04it/s]"
     ]
    },
    {
     "name": "stdout",
     "output_type": "stream",
     "text": [
      "{'eval_loss': 0.17554762959480286, 'eval_accuracy': 0.2982456140350877, 'eval_f1': 0.637878577108822, 'eval_precision': 0.7222701759488149, 'eval_recall': 0.6, 'eval_runtime': 0.7089, 'eval_samples_per_second': 80.401, 'eval_steps_per_second': 5.642, 'epoch': 54.0}\n"
     ]
    },
    {
     "name": "stderr",
     "output_type": "stream",
     "text": [
      " 92%|█████████▏| 1155/1260 [18:11<00:56,  1.85it/s]c:\\Users\\ymasr\\OneDrive\\Desktop\\projects\\BERT_GMU_Classiifcation\\.venv\\Lib\\site-packages\\sklearn\\metrics\\_classification.py:1565: UndefinedMetricWarning: Precision is ill-defined and being set to 0.0 in labels with no predicted samples. Use `zero_division` parameter to control this behavior.\n",
      "  _warn_prf(average, modifier, f\"{metric.capitalize()} is\", len(result))\n",
      "c:\\Users\\ymasr\\OneDrive\\Desktop\\projects\\BERT_GMU_Classiifcation\\.venv\\Lib\\site-packages\\sklearn\\metrics\\_classification.py:1565: UndefinedMetricWarning: Recall is ill-defined and being set to 0.0 in labels with no true samples. Use `zero_division` parameter to control this behavior.\n",
      "  _warn_prf(average, modifier, f\"{metric.capitalize()} is\", len(result))\n",
      "c:\\Users\\ymasr\\OneDrive\\Desktop\\projects\\BERT_GMU_Classiifcation\\.venv\\Lib\\site-packages\\sklearn\\metrics\\_classification.py:1565: UndefinedMetricWarning: F-score is ill-defined and being set to 0.0 in labels with no true nor predicted samples. Use `zero_division` parameter to control this behavior.\n",
      "  _warn_prf(average, modifier, f\"{metric.capitalize()} is\", len(result))\n",
      "                                                   \n",
      " 92%|█████████▏| 1155/1260 [18:11<00:56,  1.85it/s]"
     ]
    },
    {
     "name": "stdout",
     "output_type": "stream",
     "text": [
      "{'eval_loss': 0.17584124207496643, 'eval_accuracy': 0.2982456140350877, 'eval_f1': 0.637878577108822, 'eval_precision': 0.7222701759488149, 'eval_recall': 0.6, 'eval_runtime': 0.7772, 'eval_samples_per_second': 73.339, 'eval_steps_per_second': 5.147, 'epoch': 55.0}\n"
     ]
    },
    {
     "name": "stderr",
     "output_type": "stream",
     "text": [
      " 93%|█████████▎| 1176/1260 [18:42<00:47,  1.76it/s]c:\\Users\\ymasr\\OneDrive\\Desktop\\projects\\BERT_GMU_Classiifcation\\.venv\\Lib\\site-packages\\sklearn\\metrics\\_classification.py:1565: UndefinedMetricWarning: Precision is ill-defined and being set to 0.0 in labels with no predicted samples. Use `zero_division` parameter to control this behavior.\n",
      "  _warn_prf(average, modifier, f\"{metric.capitalize()} is\", len(result))\n",
      "c:\\Users\\ymasr\\OneDrive\\Desktop\\projects\\BERT_GMU_Classiifcation\\.venv\\Lib\\site-packages\\sklearn\\metrics\\_classification.py:1565: UndefinedMetricWarning: Recall is ill-defined and being set to 0.0 in labels with no true samples. Use `zero_division` parameter to control this behavior.\n",
      "  _warn_prf(average, modifier, f\"{metric.capitalize()} is\", len(result))\n",
      "c:\\Users\\ymasr\\OneDrive\\Desktop\\projects\\BERT_GMU_Classiifcation\\.venv\\Lib\\site-packages\\sklearn\\metrics\\_classification.py:1565: UndefinedMetricWarning: F-score is ill-defined and being set to 0.0 in labels with no true nor predicted samples. Use `zero_division` parameter to control this behavior.\n",
      "  _warn_prf(average, modifier, f\"{metric.capitalize()} is\", len(result))\n",
      "                                                   \n",
      " 93%|█████████▎| 1176/1260 [18:43<00:47,  1.76it/s]"
     ]
    },
    {
     "name": "stdout",
     "output_type": "stream",
     "text": [
      "{'eval_loss': 0.17556345462799072, 'eval_accuracy': 0.2982456140350877, 'eval_f1': 0.6437493259449303, 'eval_precision': 0.7241901561296646, 'eval_recall': 0.6086956521739131, 'eval_runtime': 0.8136, 'eval_samples_per_second': 70.06, 'eval_steps_per_second': 4.916, 'epoch': 56.0}\n"
     ]
    },
    {
     "name": "stderr",
     "output_type": "stream",
     "text": [
      " 95%|█████████▌| 1197/1260 [18:59<00:35,  1.77it/s]c:\\Users\\ymasr\\OneDrive\\Desktop\\projects\\BERT_GMU_Classiifcation\\.venv\\Lib\\site-packages\\sklearn\\metrics\\_classification.py:1565: UndefinedMetricWarning: Precision is ill-defined and being set to 0.0 in labels with no predicted samples. Use `zero_division` parameter to control this behavior.\n",
      "  _warn_prf(average, modifier, f\"{metric.capitalize()} is\", len(result))\n",
      "c:\\Users\\ymasr\\OneDrive\\Desktop\\projects\\BERT_GMU_Classiifcation\\.venv\\Lib\\site-packages\\sklearn\\metrics\\_classification.py:1565: UndefinedMetricWarning: Recall is ill-defined and being set to 0.0 in labels with no true samples. Use `zero_division` parameter to control this behavior.\n",
      "  _warn_prf(average, modifier, f\"{metric.capitalize()} is\", len(result))\n",
      "c:\\Users\\ymasr\\OneDrive\\Desktop\\projects\\BERT_GMU_Classiifcation\\.venv\\Lib\\site-packages\\sklearn\\metrics\\_classification.py:1565: UndefinedMetricWarning: F-score is ill-defined and being set to 0.0 in labels with no true nor predicted samples. Use `zero_division` parameter to control this behavior.\n",
      "  _warn_prf(average, modifier, f\"{metric.capitalize()} is\", len(result))\n",
      "                                                   \n",
      " 95%|█████████▌| 1197/1260 [19:00<00:35,  1.77it/s]"
     ]
    },
    {
     "name": "stdout",
     "output_type": "stream",
     "text": [
      "{'eval_loss': 0.17673492431640625, 'eval_accuracy': 0.2982456140350877, 'eval_f1': 0.637878577108822, 'eval_precision': 0.7222701759488149, 'eval_recall': 0.6, 'eval_runtime': 0.8119, 'eval_samples_per_second': 70.208, 'eval_steps_per_second': 4.927, 'epoch': 57.0}\n"
     ]
    },
    {
     "name": "stderr",
     "output_type": "stream",
     "text": [
      " 97%|█████████▋| 1218/1260 [19:15<00:22,  1.90it/s]c:\\Users\\ymasr\\OneDrive\\Desktop\\projects\\BERT_GMU_Classiifcation\\.venv\\Lib\\site-packages\\sklearn\\metrics\\_classification.py:1565: UndefinedMetricWarning: Precision is ill-defined and being set to 0.0 in labels with no predicted samples. Use `zero_division` parameter to control this behavior.\n",
      "  _warn_prf(average, modifier, f\"{metric.capitalize()} is\", len(result))\n",
      "c:\\Users\\ymasr\\OneDrive\\Desktop\\projects\\BERT_GMU_Classiifcation\\.venv\\Lib\\site-packages\\sklearn\\metrics\\_classification.py:1565: UndefinedMetricWarning: Recall is ill-defined and being set to 0.0 in labels with no true samples. Use `zero_division` parameter to control this behavior.\n",
      "  _warn_prf(average, modifier, f\"{metric.capitalize()} is\", len(result))\n",
      "c:\\Users\\ymasr\\OneDrive\\Desktop\\projects\\BERT_GMU_Classiifcation\\.venv\\Lib\\site-packages\\sklearn\\metrics\\_classification.py:1565: UndefinedMetricWarning: F-score is ill-defined and being set to 0.0 in labels with no true nor predicted samples. Use `zero_division` parameter to control this behavior.\n",
      "  _warn_prf(average, modifier, f\"{metric.capitalize()} is\", len(result))\n",
      "                                                   \n",
      " 97%|█████████▋| 1218/1260 [19:16<00:22,  1.90it/s]"
     ]
    },
    {
     "name": "stdout",
     "output_type": "stream",
     "text": [
      "{'eval_loss': 0.1757735162973404, 'eval_accuracy': 0.2982456140350877, 'eval_f1': 0.6437493259449303, 'eval_precision': 0.7241901561296646, 'eval_recall': 0.6086956521739131, 'eval_runtime': 0.763, 'eval_samples_per_second': 74.703, 'eval_steps_per_second': 5.242, 'epoch': 58.0}\n"
     ]
    },
    {
     "name": "stderr",
     "output_type": "stream",
     "text": [
      " 98%|█████████▊| 1239/1260 [19:49<00:11,  1.90it/s]c:\\Users\\ymasr\\OneDrive\\Desktop\\projects\\BERT_GMU_Classiifcation\\.venv\\Lib\\site-packages\\sklearn\\metrics\\_classification.py:1565: UndefinedMetricWarning: Precision is ill-defined and being set to 0.0 in labels with no predicted samples. Use `zero_division` parameter to control this behavior.\n",
      "  _warn_prf(average, modifier, f\"{metric.capitalize()} is\", len(result))\n",
      "c:\\Users\\ymasr\\OneDrive\\Desktop\\projects\\BERT_GMU_Classiifcation\\.venv\\Lib\\site-packages\\sklearn\\metrics\\_classification.py:1565: UndefinedMetricWarning: Recall is ill-defined and being set to 0.0 in labels with no true samples. Use `zero_division` parameter to control this behavior.\n",
      "  _warn_prf(average, modifier, f\"{metric.capitalize()} is\", len(result))\n",
      "c:\\Users\\ymasr\\OneDrive\\Desktop\\projects\\BERT_GMU_Classiifcation\\.venv\\Lib\\site-packages\\sklearn\\metrics\\_classification.py:1565: UndefinedMetricWarning: F-score is ill-defined and being set to 0.0 in labels with no true nor predicted samples. Use `zero_division` parameter to control this behavior.\n",
      "  _warn_prf(average, modifier, f\"{metric.capitalize()} is\", len(result))\n",
      "                                                   \n",
      " 98%|█████████▊| 1239/1260 [19:49<00:11,  1.90it/s]"
     ]
    },
    {
     "name": "stdout",
     "output_type": "stream",
     "text": [
      "{'eval_loss': 0.1764277070760727, 'eval_accuracy': 0.2982456140350877, 'eval_f1': 0.637878577108822, 'eval_precision': 0.7222701759488149, 'eval_recall': 0.6, 'eval_runtime': 0.775, 'eval_samples_per_second': 73.545, 'eval_steps_per_second': 5.161, 'epoch': 59.0}\n"
     ]
    },
    {
     "name": "stderr",
     "output_type": "stream",
     "text": [
      "100%|██████████| 1260/1260 [20:09<00:00,  1.90it/s]c:\\Users\\ymasr\\OneDrive\\Desktop\\projects\\BERT_GMU_Classiifcation\\.venv\\Lib\\site-packages\\sklearn\\metrics\\_classification.py:1565: UndefinedMetricWarning: Precision is ill-defined and being set to 0.0 in labels with no predicted samples. Use `zero_division` parameter to control this behavior.\n",
      "  _warn_prf(average, modifier, f\"{metric.capitalize()} is\", len(result))\n",
      "c:\\Users\\ymasr\\OneDrive\\Desktop\\projects\\BERT_GMU_Classiifcation\\.venv\\Lib\\site-packages\\sklearn\\metrics\\_classification.py:1565: UndefinedMetricWarning: Recall is ill-defined and being set to 0.0 in labels with no true samples. Use `zero_division` parameter to control this behavior.\n",
      "  _warn_prf(average, modifier, f\"{metric.capitalize()} is\", len(result))\n",
      "c:\\Users\\ymasr\\OneDrive\\Desktop\\projects\\BERT_GMU_Classiifcation\\.venv\\Lib\\site-packages\\sklearn\\metrics\\_classification.py:1565: UndefinedMetricWarning: F-score is ill-defined and being set to 0.0 in labels with no true nor predicted samples. Use `zero_division` parameter to control this behavior.\n",
      "  _warn_prf(average, modifier, f\"{metric.capitalize()} is\", len(result))\n",
      "                                                   \n",
      "100%|██████████| 1260/1260 [20:24<00:00,  1.90it/s]"
     ]
    },
    {
     "name": "stdout",
     "output_type": "stream",
     "text": [
      "{'eval_loss': 0.17636726796627045, 'eval_accuracy': 0.2982456140350877, 'eval_f1': 0.637878577108822, 'eval_precision': 0.7222701759488149, 'eval_recall': 0.6, 'eval_runtime': 0.9695, 'eval_samples_per_second': 58.792, 'eval_steps_per_second': 4.126, 'epoch': 60.0}\n"
     ]
    },
    {
     "name": "stderr",
     "output_type": "stream",
     "text": [
      "100%|██████████| 1260/1260 [20:29<00:00,  1.02it/s]\n"
     ]
    },
    {
     "name": "stdout",
     "output_type": "stream",
     "text": [
      "{'train_runtime': 1229.3785, 'train_samples_per_second': 15.764, 'train_steps_per_second': 1.025, 'train_loss': 0.1206161135718936, 'epoch': 60.0}\n"
     ]
    }
   ],
   "source": [
    "# Note: num_labels = number of category columns for multi-label classification\n",
    "model = BertForSequenceClassification.from_pretrained(\n",
    "    \"bert-base-uncased\", \n",
    "    num_labels=len(category_columns)\n",
    ")\n",
    "\n",
    "# Define compute_metrics for multi-label classification\n",
    "def compute_metrics(p):\n",
    "    # p.predictions are logits; p.label_ids are the ground truth\n",
    "    preds = torch.sigmoid(torch.tensor(p.predictions))  # Convert logits to probabilities\n",
    "    preds = (preds > 0.5).int().cpu().numpy() \n",
    "    labels = torch.tensor(p.label_ids).cpu().numpy()\n",
    "    \n",
    "    precision, recall, f1, _ = precision_recall_fscore_support(\n",
    "        labels,\n",
    "        preds,\n",
    "        average='weighted'\n",
    "    )\n",
    "    acc = accuracy_score(labels, preds)\n",
    "    return {\n",
    "        'accuracy': acc,\n",
    "        'f1': f1,\n",
    "        'precision': precision,\n",
    "        'recall': recall\n",
    "    }\n",
    "\n",
    "# Define training arguments\n",
    "training_args = TrainingArguments(\n",
    "    output_dir='./results',          # Output directory\n",
    "    eval_strategy=\"epoch\",           # Evaluate at the end of each epoch\n",
    "    save_strategy=\"epoch\",           # Save model at the end of each epoch\n",
    "    learning_rate=2e-5,              # Learning rate\n",
    "    per_device_train_batch_size=16,\n",
    "    per_device_eval_batch_size=16,\n",
    "    num_train_epochs=30,\n",
    "    weight_decay=0.01,\n",
    "    load_best_model_at_end=True,\n",
    "    metric_for_best_model=\"f1\",      # Use F1 score for best model\n",
    "    logging_dir='./logs'\n",
    ")\n",
    "\n",
    "# Initialize Trainer with training and validation sets\n",
    "trainer = Trainer(\n",
    "    model=model,\n",
    "    args=training_args,\n",
    "    train_dataset=train_dataset,\n",
    "    eval_dataset=val_dataset,\n",
    "    compute_metrics=compute_metrics\n",
    ")\n",
    "\n",
    "# Train the model\n",
    "trainer.train()\n",
    "\n",
    "# Save the model\n",
    "trainer.save_model(\"./bert-multiclass-model\")\n"
   ]
  },
  {
   "cell_type": "code",
   "execution_count": 12,
   "metadata": {},
   "outputs": [
    {
     "name": "stdout",
     "output_type": "stream",
     "text": [
      "Final Test Set Evaluation Results: {'accuracy': 0.3023255813953488, 'f1': 0.6284655723680114, 'precision': 0.7117797017797018, 'recall': 0.5777777777777777}\n"
     ]
    },
    {
     "name": "stderr",
     "output_type": "stream",
     "text": [
      "c:\\Users\\ymasr\\OneDrive\\Desktop\\projects\\BERT_GMU_Classiifcation\\.venv\\Lib\\site-packages\\sklearn\\metrics\\_classification.py:1565: UndefinedMetricWarning: Precision is ill-defined and being set to 0.0 in labels with no predicted samples. Use `zero_division` parameter to control this behavior.\n",
      "  _warn_prf(average, modifier, f\"{metric.capitalize()} is\", len(result))\n",
      "c:\\Users\\ymasr\\OneDrive\\Desktop\\projects\\BERT_GMU_Classiifcation\\.venv\\Lib\\site-packages\\sklearn\\metrics\\_classification.py:1565: UndefinedMetricWarning: Recall is ill-defined and being set to 0.0 in labels with no true samples. Use `zero_division` parameter to control this behavior.\n",
      "  _warn_prf(average, modifier, f\"{metric.capitalize()} is\", len(result))\n",
      "c:\\Users\\ymasr\\OneDrive\\Desktop\\projects\\BERT_GMU_Classiifcation\\.venv\\Lib\\site-packages\\sklearn\\metrics\\_classification.py:1565: UndefinedMetricWarning: F-score is ill-defined and being set to 0.0 in labels with no true nor predicted samples. Use `zero_division` parameter to control this behavior.\n",
      "  _warn_prf(average, modifier, f\"{metric.capitalize()} is\", len(result))\n"
     ]
    }
   ],
   "source": [
    "def evaluate_model(dataset, threshold=0.5):\n",
    "    loader = DataLoader(dataset, batch_size=16)\n",
    "    model.eval()  # Set model to eval mode\n",
    "    \n",
    "    preds_list = []\n",
    "    labels_list = []\n",
    "    \n",
    "    with torch.no_grad():\n",
    "        for batch in loader:\n",
    "            inputs = {\n",
    "                key: val.to(model.device) for key, val in batch.items() if key != 'labels'\n",
    "            }\n",
    "            outputs = model(**inputs)\n",
    "            logits = outputs.logits\n",
    "            # Convert logits to probabilities\n",
    "            probs = torch.sigmoid(logits).cpu().numpy()\n",
    "            # Apply threshold\n",
    "            preds = (probs > threshold).astype(int)\n",
    "            \n",
    "            preds_list.extend(preds)\n",
    "            labels_list.extend(batch['labels'].cpu().numpy())\n",
    "    \n",
    "    preds_array = np.array(preds_list)\n",
    "    labels_array = np.array(labels_list)\n",
    "    \n",
    "    precision, recall, f1, _ = precision_recall_fscore_support(labels_array, preds_array, average='weighted')\n",
    "    acc = accuracy_score(labels_array, preds_array)\n",
    "    \n",
    "    return {\n",
    "        'accuracy': acc,\n",
    "        'f1': f1,\n",
    "        'precision': precision,\n",
    "        'recall': recall\n",
    "    }\n",
    "\n",
    "# Run evaluation on the test dataset\n",
    "test_results = evaluate_model(test_dataset)\n",
    "print(\"Final Test Set Evaluation Results:\", test_results)\n"
   ]
  }
 ],
 "metadata": {
  "kernelspec": {
   "display_name": ".venv",
   "language": "python",
   "name": "python3"
  },
  "language_info": {
   "codemirror_mode": {
    "name": "ipython",
    "version": 3
   },
   "file_extension": ".py",
   "mimetype": "text/x-python",
   "name": "python",
   "nbconvert_exporter": "python",
   "pygments_lexer": "ipython3",
   "version": "3.11.9"
  }
 },
 "nbformat": 4,
 "nbformat_minor": 2
}
